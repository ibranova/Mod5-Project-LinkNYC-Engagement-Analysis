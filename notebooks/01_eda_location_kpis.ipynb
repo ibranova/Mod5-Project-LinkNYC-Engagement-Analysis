{
 "cells": [
  {
   "cell_type": "markdown",
   "id": "ed7363c9",
   "metadata": {},
   "source": [
    "Look at the number of kiosks by borough and other important information.\n",
    "Brief note on wi-fi geographic density (you can show this on a map) or gaps (for stakeholder context as markdown).\n"
   ]
  },
  {
   "cell_type": "code",
   "execution_count": 1,
   "id": "a25f3afe",
   "metadata": {},
   "outputs": [],
   "source": [
    "import pandas as pd"
   ]
  },
  {
   "cell_type": "code",
   "execution_count": 2,
   "id": "52e25358",
   "metadata": {},
   "outputs": [],
   "source": [
    "df = pd.read_csv('/Users/ayemaq/Desktop/Mod5-Project-LinkNYC-Engagement-Analysis/data/raw/LinkNYC_Kiosk_Locations_20251008.csv')"
   ]
  },
  {
   "cell_type": "code",
   "execution_count": 3,
   "id": "03e86011",
   "metadata": {},
   "outputs": [
    {
     "data": {
      "text/html": [
       "<div>\n",
       "<style scoped>\n",
       "    .dataframe tbody tr th:only-of-type {\n",
       "        vertical-align: middle;\n",
       "    }\n",
       "\n",
       "    .dataframe tbody tr th {\n",
       "        vertical-align: top;\n",
       "    }\n",
       "\n",
       "    .dataframe thead th {\n",
       "        text-align: right;\n",
       "    }\n",
       "</style>\n",
       "<table border=\"1\" class=\"dataframe\">\n",
       "  <thead>\n",
       "    <tr style=\"text-align: right;\">\n",
       "      <th></th>\n",
       "      <th>Site ID</th>\n",
       "      <th>Planned Kiosk Type</th>\n",
       "      <th>Installation Status</th>\n",
       "      <th>PPT ID</th>\n",
       "      <th>Legacy ID</th>\n",
       "      <th>Borough</th>\n",
       "      <th>Council District</th>\n",
       "      <th>Community Board</th>\n",
       "      <th>Street Address</th>\n",
       "      <th>Cross Street 1</th>\n",
       "      <th>...</th>\n",
       "      <th>Zoning</th>\n",
       "      <th>Latitude</th>\n",
       "      <th>Longitude</th>\n",
       "      <th>Installation Complete</th>\n",
       "      <th>Activation Complete</th>\n",
       "      <th>Neighborhood Tabulation Area (NTA)</th>\n",
       "      <th>Building Identification Number (BIN)</th>\n",
       "      <th>Borough-Block-Lot (BBL)</th>\n",
       "      <th>Census Tract (CT)</th>\n",
       "      <th>Location</th>\n",
       "    </tr>\n",
       "  </thead>\n",
       "  <tbody>\n",
       "    <tr>\n",
       "      <th>0</th>\n",
       "      <td>qu-01-125088</td>\n",
       "      <td>Link1.0</td>\n",
       "      <td>Live</td>\n",
       "      <td>125088</td>\n",
       "      <td>qu-01-125088</td>\n",
       "      <td>Queens</td>\n",
       "      <td>22</td>\n",
       "      <td>401</td>\n",
       "      <td>34-02 BROADWAY</td>\n",
       "      <td>34 STREET</td>\n",
       "      <td>...</td>\n",
       "      <td>C4-2A</td>\n",
       "      <td>40.760713</td>\n",
       "      <td>-73.922879</td>\n",
       "      <td>04/22/2017</td>\n",
       "      <td>06/08/2017</td>\n",
       "      <td>Astoria</td>\n",
       "      <td>4008830.0</td>\n",
       "      <td>4.006220e+09</td>\n",
       "      <td>4005900.0</td>\n",
       "      <td>(40.760713, -73.922879)</td>\n",
       "    </tr>\n",
       "    <tr>\n",
       "      <th>1</th>\n",
       "      <td>bk-01-160081</td>\n",
       "      <td>Link5G_Ad</td>\n",
       "      <td>Live</td>\n",
       "      <td>NaN</td>\n",
       "      <td>NaN</td>\n",
       "      <td>Brooklyn</td>\n",
       "      <td>34</td>\n",
       "      <td>301</td>\n",
       "      <td>161 VARICK AVENUE</td>\n",
       "      <td>SCHOLES STREET</td>\n",
       "      <td>...</td>\n",
       "      <td>M3-1</td>\n",
       "      <td>40.711080</td>\n",
       "      <td>-73.928620</td>\n",
       "      <td>10/09/2024</td>\n",
       "      <td>03/14/2025</td>\n",
       "      <td>NaN</td>\n",
       "      <td>NaN</td>\n",
       "      <td>3.029620e+09</td>\n",
       "      <td>44900.0</td>\n",
       "      <td>(40.71108, -73.92862)</td>\n",
       "    </tr>\n",
       "    <tr>\n",
       "      <th>2</th>\n",
       "      <td>qu-13-160016</td>\n",
       "      <td>Link5G_Ad</td>\n",
       "      <td>Live</td>\n",
       "      <td>NaN</td>\n",
       "      <td>NaN</td>\n",
       "      <td>Queens</td>\n",
       "      <td>23</td>\n",
       "      <td>413</td>\n",
       "      <td>264-21 UNION TURNPIKE</td>\n",
       "      <td>265th ST</td>\n",
       "      <td>...</td>\n",
       "      <td>R2A / C1-2</td>\n",
       "      <td>40.749170</td>\n",
       "      <td>-73.708140</td>\n",
       "      <td>02/29/2024</td>\n",
       "      <td>04/02/2025</td>\n",
       "      <td>Glen Oaks-Floral Park-New Hyde Park</td>\n",
       "      <td>4174076.0</td>\n",
       "      <td>4.085400e+09</td>\n",
       "      <td>NaN</td>\n",
       "      <td>(40.74917, -73.70814)</td>\n",
       "    </tr>\n",
       "    <tr>\n",
       "      <th>3</th>\n",
       "      <td>mn-04-122598</td>\n",
       "      <td>Link1.0</td>\n",
       "      <td>Live</td>\n",
       "      <td>122598</td>\n",
       "      <td>mn-04-122598</td>\n",
       "      <td>Manhattan</td>\n",
       "      <td>3</td>\n",
       "      <td>104</td>\n",
       "      <td>815 8 AVENUE</td>\n",
       "      <td>WEST 49 STREET</td>\n",
       "      <td>...</td>\n",
       "      <td>C6-4</td>\n",
       "      <td>40.761816</td>\n",
       "      <td>-73.986606</td>\n",
       "      <td>03/18/2016</td>\n",
       "      <td>04/27/2016</td>\n",
       "      <td>Clinton</td>\n",
       "      <td>1076203.0</td>\n",
       "      <td>1.010400e+09</td>\n",
       "      <td>1012700.0</td>\n",
       "      <td>(40.761816, -73.986606)</td>\n",
       "    </tr>\n",
       "    <tr>\n",
       "      <th>4</th>\n",
       "      <td>mn-05-137210</td>\n",
       "      <td>Link1.0</td>\n",
       "      <td>Live</td>\n",
       "      <td>137210</td>\n",
       "      <td>mn-05-137210</td>\n",
       "      <td>Manhattan</td>\n",
       "      <td>4</td>\n",
       "      <td>105</td>\n",
       "      <td>410 MADISON AVENUE</td>\n",
       "      <td>EAST 48 STREET</td>\n",
       "      <td>...</td>\n",
       "      <td>C5-3</td>\n",
       "      <td>40.756742</td>\n",
       "      <td>-73.976530</td>\n",
       "      <td>04/30/2017</td>\n",
       "      <td>05/26/2017</td>\n",
       "      <td>Midtown-Midtown South</td>\n",
       "      <td>1035437.0</td>\n",
       "      <td>1.012840e+09</td>\n",
       "      <td>1009400.0</td>\n",
       "      <td>(40.756742, -73.97653)</td>\n",
       "    </tr>\n",
       "  </tbody>\n",
       "</table>\n",
       "<p>5 rows × 23 columns</p>\n",
       "</div>"
      ],
      "text/plain": [
       "        Site ID Planned Kiosk Type Installation Status  PPT ID     Legacy ID  \\\n",
       "0  qu-01-125088            Link1.0                Live  125088  qu-01-125088   \n",
       "1  bk-01-160081          Link5G_Ad                Live     NaN           NaN   \n",
       "2  qu-13-160016          Link5G_Ad                Live     NaN           NaN   \n",
       "3  mn-04-122598            Link1.0                Live  122598  mn-04-122598   \n",
       "4  mn-05-137210            Link1.0                Live  137210  mn-05-137210   \n",
       "\n",
       "     Borough  Council District  Community Board         Street Address  \\\n",
       "0     Queens                22              401         34-02 BROADWAY   \n",
       "1   Brooklyn                34              301      161 VARICK AVENUE   \n",
       "2     Queens                23              413  264-21 UNION TURNPIKE   \n",
       "3  Manhattan                 3              104           815 8 AVENUE   \n",
       "4  Manhattan                 4              105     410 MADISON AVENUE   \n",
       "\n",
       "   Cross Street 1  ...      Zoning   Latitude  Longitude  \\\n",
       "0       34 STREET  ...       C4-2A  40.760713 -73.922879   \n",
       "1  SCHOLES STREET  ...        M3-1  40.711080 -73.928620   \n",
       "2        265th ST  ...  R2A / C1-2  40.749170 -73.708140   \n",
       "3  WEST 49 STREET  ...        C6-4  40.761816 -73.986606   \n",
       "4  EAST 48 STREET  ...        C5-3  40.756742 -73.976530   \n",
       "\n",
       "  Installation Complete  Activation Complete  \\\n",
       "0            04/22/2017           06/08/2017   \n",
       "1            10/09/2024           03/14/2025   \n",
       "2            02/29/2024           04/02/2025   \n",
       "3            03/18/2016           04/27/2016   \n",
       "4            04/30/2017           05/26/2017   \n",
       "\n",
       "    Neighborhood Tabulation Area (NTA) Building Identification Number (BIN)  \\\n",
       "0                              Astoria                            4008830.0   \n",
       "1                                  NaN                                  NaN   \n",
       "2  Glen Oaks-Floral Park-New Hyde Park                            4174076.0   \n",
       "3                              Clinton                            1076203.0   \n",
       "4                Midtown-Midtown South                            1035437.0   \n",
       "\n",
       "  Borough-Block-Lot (BBL) Census Tract (CT)                 Location  \n",
       "0            4.006220e+09         4005900.0  (40.760713, -73.922879)  \n",
       "1            3.029620e+09           44900.0    (40.71108, -73.92862)  \n",
       "2            4.085400e+09               NaN    (40.74917, -73.70814)  \n",
       "3            1.010400e+09         1012700.0  (40.761816, -73.986606)  \n",
       "4            1.012840e+09         1009400.0   (40.756742, -73.97653)  \n",
       "\n",
       "[5 rows x 23 columns]"
      ]
     },
     "execution_count": 3,
     "metadata": {},
     "output_type": "execute_result"
    }
   ],
   "source": [
    "df.head()"
   ]
  },
  {
   "cell_type": "code",
   "execution_count": 4,
   "id": "2ac80ea5",
   "metadata": {},
   "outputs": [
    {
     "name": "stdout",
     "output_type": "stream",
     "text": [
      "<class 'pandas.core.frame.DataFrame'>\n",
      "RangeIndex: 2250 entries, 0 to 2249\n",
      "Data columns (total 23 columns):\n",
      " #   Column                                Non-Null Count  Dtype  \n",
      "---  ------                                --------------  -----  \n",
      " 0   Site ID                               2250 non-null   object \n",
      " 1   Planned Kiosk Type                    2250 non-null   object \n",
      " 2   Installation Status                   2250 non-null   object \n",
      " 3   PPT ID                                2102 non-null   object \n",
      " 4   Legacy ID                             2055 non-null   object \n",
      " 5   Borough                               2250 non-null   object \n",
      " 6   Council District                      2250 non-null   int64  \n",
      " 7   Community Board                       2250 non-null   int64  \n",
      " 8   Street Address                        2250 non-null   object \n",
      " 9   Cross Street 1                        2246 non-null   object \n",
      " 10  Cross Street 2                        2246 non-null   object \n",
      " 11  IxN Corner                            2199 non-null   object \n",
      " 12  Postcode                              2250 non-null   int64  \n",
      " 13  Zoning                                2246 non-null   object \n",
      " 14  Latitude                              2250 non-null   float64\n",
      " 15  Longitude                             2250 non-null   float64\n",
      " 16  Installation Complete                 2250 non-null   object \n",
      " 17  Activation Complete                   2250 non-null   object \n",
      " 18  Neighborhood Tabulation Area (NTA)    2240 non-null   object \n",
      " 19  Building Identification Number (BIN)  2177 non-null   float64\n",
      " 20  Borough-Block-Lot (BBL)               2236 non-null   float64\n",
      " 21  Census Tract (CT)                     2089 non-null   float64\n",
      " 22  Location                              2250 non-null   object \n",
      "dtypes: float64(5), int64(3), object(15)\n",
      "memory usage: 404.4+ KB\n"
     ]
    }
   ],
   "source": [
    "df.info()"
   ]
  },
  {
   "cell_type": "markdown",
   "id": "20103886",
   "metadata": {},
   "source": [
    "# Clean data first"
   ]
  },
  {
   "cell_type": "code",
   "execution_count": 5,
   "id": "d7529902",
   "metadata": {},
   "outputs": [],
   "source": [
    "# rename columns to remove spaces and make consistent\n",
    "column_names = [\n",
    "    'site_id', 'planned_kiosk_type', 'installation_status', 'ppt_id', 'legacy_id',\n",
    "    'borough', 'council_district', 'community_board', 'street_address',\n",
    "    'cross_street_1', 'cross_street_2', 'ixn_corner', 'postcode', 'zoning',\n",
    "    'latitude', 'longitude', 'installation_complete', 'activation_complete',\n",
    "    'nta', 'bin', 'bbl', 'census_tract', 'location'\n",
    "]\n",
    "\n",
    "df.columns = column_names\n"
   ]
  },
  {
   "cell_type": "code",
   "execution_count": 6,
   "id": "9a1c9239",
   "metadata": {},
   "outputs": [
    {
     "data": {
      "text/plain": [
       "Index(['site_id', 'planned_kiosk_type', 'installation_status', 'ppt_id',\n",
       "       'legacy_id', 'borough', 'council_district', 'community_board',\n",
       "       'street_address', 'cross_street_1', 'cross_street_2', 'ixn_corner',\n",
       "       'postcode', 'zoning', 'latitude', 'longitude', 'installation_complete',\n",
       "       'activation_complete', 'nta', 'bin', 'bbl', 'census_tract', 'location'],\n",
       "      dtype='object')"
      ]
     },
     "execution_count": 6,
     "metadata": {},
     "output_type": "execute_result"
    }
   ],
   "source": [
    "df.keys()"
   ]
  },
  {
   "cell_type": "code",
   "execution_count": 7,
   "id": "07847317",
   "metadata": {},
   "outputs": [],
   "source": [
    "# convert datetimes\n",
    "df['installation_complete'] = pd.to_datetime(df['installation_complete'])\n",
    "df['activation_complete'] = pd.to_datetime(df['activation_complete'])"
   ]
  },
  {
   "cell_type": "code",
   "execution_count": 8,
   "id": "f0dbf6ab",
   "metadata": {},
   "outputs": [
    {
     "data": {
      "text/plain": [
       "site_id                    0\n",
       "planned_kiosk_type         0\n",
       "installation_status        0\n",
       "ppt_id                   148\n",
       "legacy_id                195\n",
       "borough                    0\n",
       "council_district           0\n",
       "community_board            0\n",
       "street_address             0\n",
       "cross_street_1             4\n",
       "cross_street_2             4\n",
       "ixn_corner                51\n",
       "postcode                   0\n",
       "zoning                     4\n",
       "latitude                   0\n",
       "longitude                  0\n",
       "installation_complete      0\n",
       "activation_complete        0\n",
       "nta                       10\n",
       "bin                       73\n",
       "bbl                       14\n",
       "census_tract             161\n",
       "location                   0\n",
       "dtype: int64"
      ]
     },
     "execution_count": 8,
     "metadata": {},
     "output_type": "execute_result"
    }
   ],
   "source": [
    "# check for missing values\n",
    "df.isnull().sum()"
   ]
  },
  {
   "cell_type": "markdown",
   "id": "7de0e405",
   "metadata": {},
   "source": [
    "### Column meanings (for ones I'm unaware of)\n",
    "- **PPT ID**: Public Pay Telephone ID; it’s a unique identifier from when LinkNYC kiosks replaced old NYC payphones\n",
    "    - Many LinkNYC kiosks were installed on the same physical sites where public pay telephones used to be, so this ID ties back to the city’s payphone inventory.\n",
    "    - This is mostly historical - I don’t need it for analysis unless I;m comparing “old vs new” installations. For now skip it \n",
    "\n",
    "- **IxN Corner**:  “Intersection Name Corner.”\n",
    "    - This usually describes the exact corner or cross-street placement of the kiosk — like “NW Corner” (northwest corner of an intersection).\n",
    "    - \n",
    "\n",
    "- **Legacy ID** : The kiosk’s original internal tracking ID from an earlier version of the dataset.\n",
    "    - It often duplicates what’s in Site ID but may differ for older records (before the dataset schema was standardized)."
   ]
  },
  {
   "cell_type": "code",
   "execution_count": 9,
   "id": "b69d6d64",
   "metadata": {},
   "outputs": [
    {
     "data": {
      "text/plain": [
       "(2250, 23)"
      ]
     },
     "execution_count": 9,
     "metadata": {},
     "output_type": "execute_result"
    }
   ],
   "source": [
    "# count rows\n",
    "df.shape"
   ]
  },
  {
   "cell_type": "code",
   "execution_count": 10,
   "id": "528c5373",
   "metadata": {},
   "outputs": [
    {
     "data": {
      "text/plain": [
       "np.int64(664)"
      ]
     },
     "execution_count": 10,
     "metadata": {},
     "output_type": "execute_result"
    }
   ],
   "source": [
    "df.isnull().sum().sum()\n"
   ]
  },
  {
   "cell_type": "code",
   "execution_count": 11,
   "id": "06eeabeb",
   "metadata": {},
   "outputs": [
    {
     "data": {
      "text/plain": [
       "np.float64(1.2830917874396137)"
      ]
     },
     "execution_count": 11,
     "metadata": {},
     "output_type": "execute_result"
    }
   ],
   "source": [
    "# percent missing values\n",
    "total_cells = df.size\n",
    "total_missing = df.isnull().sum().sum() / total_cells * 100\n",
    "total_missing\n",
    "\n",
    "# The overall percentage of missing data is well below the 5% threshold\n",
    "# The missing values are randomly distributed and do not affect key analytical variables\n"
   ]
  },
  {
   "cell_type": "markdown",
   "id": "5a40c21f",
   "metadata": {},
   "source": [
    "### Missing Data Summary & Decision\n",
    "\n",
    "The dataset contains **2,250 total records** and **664 missing values** across various columns. After inspecting the missingness by column, most null values appear in **administrative or non-essential fields** such as:\n",
    "\n",
    "- `ppt_id` -> Historical payphone ID (no longer relevant for current LinkNYC kiosks)\n",
    "- `legacy_id` -> Internal tracking code from older dataset versions\n",
    "- `ixn_corner`, `cross_street_1`, `cross_street_2` -> Minor address descriptors, not critical for geographic or analytical accuracy\n",
    "- `bin`, `bbl`, and `census_tract` ->  Technical geographic identifiers not needed for borough-level analysis\n",
    "\n",
    "**Key columns required for analysis** : `borough`, `latitude`, `longitude`, `installation_complete`, `activation_complete`, and `planned_kiosk_type` are **fully complete**.  \n",
    "\n",
    "**Decision:**  \n",
    "- No imputation or row removal was necessary as missingness is minimal and not concentrated in key variables\n",
    "\n",
    "- No rows or columns were dropped. The missing fields were retained as-is to preserve the dataset’s structure and ensure alignment with future NYC Open Data updates.  \n",
    "\n",
    "- If deeper spatial granularity (e.g., census-tract level) becomes necessary later, missing geographic identifiers can be filled through spatial joins using latitude/longitude coordinates.\n"
   ]
  },
  {
   "cell_type": "code",
   "execution_count": 12,
   "id": "99421934",
   "metadata": {},
   "outputs": [
    {
     "data": {
      "text/plain": [
       "np.int64(0)"
      ]
     },
     "execution_count": 12,
     "metadata": {},
     "output_type": "execute_result"
    }
   ],
   "source": [
    "# check for duplicates\n",
    "df.duplicated().sum()"
   ]
  },
  {
   "cell_type": "code",
   "execution_count": 13,
   "id": "32d51905",
   "metadata": {},
   "outputs": [
    {
     "data": {
      "text/html": [
       "<div>\n",
       "<style scoped>\n",
       "    .dataframe tbody tr th:only-of-type {\n",
       "        vertical-align: middle;\n",
       "    }\n",
       "\n",
       "    .dataframe tbody tr th {\n",
       "        vertical-align: top;\n",
       "    }\n",
       "\n",
       "    .dataframe thead th {\n",
       "        text-align: right;\n",
       "    }\n",
       "</style>\n",
       "<table border=\"1\" class=\"dataframe\">\n",
       "  <thead>\n",
       "    <tr style=\"text-align: right;\">\n",
       "      <th></th>\n",
       "      <th>site_id</th>\n",
       "      <th>planned_kiosk_type</th>\n",
       "      <th>installation_status</th>\n",
       "      <th>ppt_id</th>\n",
       "      <th>legacy_id</th>\n",
       "      <th>borough</th>\n",
       "      <th>council_district</th>\n",
       "      <th>community_board</th>\n",
       "      <th>street_address</th>\n",
       "      <th>cross_street_1</th>\n",
       "      <th>...</th>\n",
       "      <th>zoning</th>\n",
       "      <th>latitude</th>\n",
       "      <th>longitude</th>\n",
       "      <th>installation_complete</th>\n",
       "      <th>activation_complete</th>\n",
       "      <th>nta</th>\n",
       "      <th>bin</th>\n",
       "      <th>bbl</th>\n",
       "      <th>census_tract</th>\n",
       "      <th>location</th>\n",
       "    </tr>\n",
       "  </thead>\n",
       "  <tbody>\n",
       "  </tbody>\n",
       "</table>\n",
       "<p>0 rows × 23 columns</p>\n",
       "</div>"
      ],
      "text/plain": [
       "Empty DataFrame\n",
       "Columns: [site_id, planned_kiosk_type, installation_status, ppt_id, legacy_id, borough, council_district, community_board, street_address, cross_street_1, cross_street_2, ixn_corner, postcode, zoning, latitude, longitude, installation_complete, activation_complete, nta, bin, bbl, census_tract, location]\n",
       "Index: []\n",
       "\n",
       "[0 rows x 23 columns]"
      ]
     },
     "execution_count": 13,
     "metadata": {},
     "output_type": "execute_result"
    }
   ],
   "source": [
    "# check for duplicate rows\n",
    "df[df.duplicated()]\n"
   ]
  },
  {
   "cell_type": "code",
   "execution_count": 14,
   "id": "57ee01ab",
   "metadata": {},
   "outputs": [
    {
     "data": {
      "text/html": [
       "<div>\n",
       "<style scoped>\n",
       "    .dataframe tbody tr th:only-of-type {\n",
       "        vertical-align: middle;\n",
       "    }\n",
       "\n",
       "    .dataframe tbody tr th {\n",
       "        vertical-align: top;\n",
       "    }\n",
       "\n",
       "    .dataframe thead th {\n",
       "        text-align: right;\n",
       "    }\n",
       "</style>\n",
       "<table border=\"1\" class=\"dataframe\">\n",
       "  <thead>\n",
       "    <tr style=\"text-align: right;\">\n",
       "      <th></th>\n",
       "      <th>site_id</th>\n",
       "      <th>planned_kiosk_type</th>\n",
       "      <th>installation_status</th>\n",
       "      <th>ppt_id</th>\n",
       "      <th>legacy_id</th>\n",
       "      <th>borough</th>\n",
       "      <th>council_district</th>\n",
       "      <th>community_board</th>\n",
       "      <th>street_address</th>\n",
       "      <th>cross_street_1</th>\n",
       "      <th>...</th>\n",
       "      <th>zoning</th>\n",
       "      <th>latitude</th>\n",
       "      <th>longitude</th>\n",
       "      <th>installation_complete</th>\n",
       "      <th>activation_complete</th>\n",
       "      <th>nta</th>\n",
       "      <th>bin</th>\n",
       "      <th>bbl</th>\n",
       "      <th>census_tract</th>\n",
       "      <th>location</th>\n",
       "    </tr>\n",
       "  </thead>\n",
       "  <tbody>\n",
       "    <tr>\n",
       "      <th>185</th>\n",
       "      <td>mn-08-120988</td>\n",
       "      <td>Link1.0</td>\n",
       "      <td>Live</td>\n",
       "      <td>120988</td>\n",
       "      <td>mn-08-120988</td>\n",
       "      <td>Manhattan</td>\n",
       "      <td>4</td>\n",
       "      <td>108</td>\n",
       "      <td>1175 3 AVENUE</td>\n",
       "      <td>EAST 68 STREET</td>\n",
       "      <td>...</td>\n",
       "      <td>C1-9</td>\n",
       "      <td>40.767234</td>\n",
       "      <td>-73.962290</td>\n",
       "      <td>2016-02-27</td>\n",
       "      <td>2016-03-30</td>\n",
       "      <td>Lenox Hill-Roosevelt Island</td>\n",
       "      <td>1043902.0</td>\n",
       "      <td>1.014238e+09</td>\n",
       "      <td>1011800.0</td>\n",
       "      <td>(40.767234, -73.96229)</td>\n",
       "    </tr>\n",
       "    <tr>\n",
       "      <th>216</th>\n",
       "      <td>mn-05-138006</td>\n",
       "      <td>Link1.0</td>\n",
       "      <td>Live</td>\n",
       "      <td>138006</td>\n",
       "      <td>mn-05-138006</td>\n",
       "      <td>Manhattan</td>\n",
       "      <td>3</td>\n",
       "      <td>105</td>\n",
       "      <td>750 6 AVENUE</td>\n",
       "      <td>WEST 25 STREET</td>\n",
       "      <td>...</td>\n",
       "      <td>C6-4X</td>\n",
       "      <td>40.743706</td>\n",
       "      <td>-73.992084</td>\n",
       "      <td>2017-09-24</td>\n",
       "      <td>2017-12-04</td>\n",
       "      <td>Hudson Yards-Chelsea-Flatiron-Union Square</td>\n",
       "      <td>1085951.0</td>\n",
       "      <td>1.008260e+09</td>\n",
       "      <td>1005800.0</td>\n",
       "      <td>(40.743706, -73.992084)</td>\n",
       "    </tr>\n",
       "    <tr>\n",
       "      <th>234</th>\n",
       "      <td>mn-05-133354</td>\n",
       "      <td>Link1.0</td>\n",
       "      <td>Live</td>\n",
       "      <td>133354</td>\n",
       "      <td>mn-05-133354</td>\n",
       "      <td>Manhattan</td>\n",
       "      <td>3</td>\n",
       "      <td>105</td>\n",
       "      <td>1515 BROADWAY</td>\n",
       "      <td>WEST 45 STREET</td>\n",
       "      <td>...</td>\n",
       "      <td>C6-7T</td>\n",
       "      <td>40.757666</td>\n",
       "      <td>-73.985878</td>\n",
       "      <td>2016-12-18</td>\n",
       "      <td>2018-03-05</td>\n",
       "      <td>Midtown-Midtown South</td>\n",
       "      <td>1024714.0</td>\n",
       "      <td>1.010160e+09</td>\n",
       "      <td>1011900.0</td>\n",
       "      <td>(40.757666, -73.985878)</td>\n",
       "    </tr>\n",
       "    <tr>\n",
       "      <th>329</th>\n",
       "      <td>bk-07-145901</td>\n",
       "      <td>Link1.0</td>\n",
       "      <td>Live</td>\n",
       "      <td>145901</td>\n",
       "      <td>LINK-021526</td>\n",
       "      <td>Brooklyn</td>\n",
       "      <td>38</td>\n",
       "      <td>307</td>\n",
       "      <td>875 4 AVENUE</td>\n",
       "      <td>32 STREET</td>\n",
       "      <td>...</td>\n",
       "      <td>C2-4</td>\n",
       "      <td>40.656384</td>\n",
       "      <td>-74.002053</td>\n",
       "      <td>2017-07-31</td>\n",
       "      <td>2017-09-05</td>\n",
       "      <td>Sunset Park West</td>\n",
       "      <td>3010094.0</td>\n",
       "      <td>3.006810e+09</td>\n",
       "      <td>3010100.0</td>\n",
       "      <td>(40.656384, -74.002053)</td>\n",
       "    </tr>\n",
       "    <tr>\n",
       "      <th>518</th>\n",
       "      <td>mn-06-121836</td>\n",
       "      <td>Link1.0</td>\n",
       "      <td>Live</td>\n",
       "      <td>121836</td>\n",
       "      <td>mn-06-121836</td>\n",
       "      <td>Manhattan</td>\n",
       "      <td>4</td>\n",
       "      <td>106</td>\n",
       "      <td>909 3 AVENUE</td>\n",
       "      <td>EAST 54 STREET</td>\n",
       "      <td>...</td>\n",
       "      <td>C6-6</td>\n",
       "      <td>40.758377</td>\n",
       "      <td>-73.968759</td>\n",
       "      <td>2016-02-28</td>\n",
       "      <td>2016-03-18</td>\n",
       "      <td>Turtle Bay-East Midtown</td>\n",
       "      <td>1038570.0</td>\n",
       "      <td>1.013280e+09</td>\n",
       "      <td>1010800.0</td>\n",
       "      <td>(40.758377, -73.968759)</td>\n",
       "    </tr>\n",
       "    <tr>\n",
       "      <th>629</th>\n",
       "      <td>mn-06-133477</td>\n",
       "      <td>Link1.0</td>\n",
       "      <td>Live</td>\n",
       "      <td>133477</td>\n",
       "      <td>mn-06-133477</td>\n",
       "      <td>Manhattan</td>\n",
       "      <td>4</td>\n",
       "      <td>106</td>\n",
       "      <td>845 3 AVENUE</td>\n",
       "      <td>EAST 52 STREET</td>\n",
       "      <td>...</td>\n",
       "      <td>C6-6</td>\n",
       "      <td>40.756911</td>\n",
       "      <td>-73.969816</td>\n",
       "      <td>2016-03-18</td>\n",
       "      <td>2016-03-28</td>\n",
       "      <td>Turtle Bay-East Midtown</td>\n",
       "      <td>1038464.0</td>\n",
       "      <td>1.013250e+09</td>\n",
       "      <td>1009800.0</td>\n",
       "      <td>(40.756911, -73.969816)</td>\n",
       "    </tr>\n",
       "    <tr>\n",
       "      <th>694</th>\n",
       "      <td>mn-06-133890</td>\n",
       "      <td>Link1.0</td>\n",
       "      <td>Live</td>\n",
       "      <td>133890</td>\n",
       "      <td>mn-06-133890</td>\n",
       "      <td>Manhattan</td>\n",
       "      <td>2</td>\n",
       "      <td>106</td>\n",
       "      <td>205 3 AVENUE</td>\n",
       "      <td>EAST 18 STREET</td>\n",
       "      <td>...</td>\n",
       "      <td>C1-9A</td>\n",
       "      <td>40.735839</td>\n",
       "      <td>-73.985171</td>\n",
       "      <td>2016-01-29</td>\n",
       "      <td>2016-02-28</td>\n",
       "      <td>Gramercy</td>\n",
       "      <td>1019580.0</td>\n",
       "      <td>1.008990e+09</td>\n",
       "      <td>1004800.0</td>\n",
       "      <td>(40.735839, -73.985171)</td>\n",
       "    </tr>\n",
       "    <tr>\n",
       "      <th>705</th>\n",
       "      <td>mn-05-135892</td>\n",
       "      <td>Link1.0</td>\n",
       "      <td>Live</td>\n",
       "      <td>135892</td>\n",
       "      <td>mn-05-135892</td>\n",
       "      <td>Manhattan</td>\n",
       "      <td>4</td>\n",
       "      <td>105</td>\n",
       "      <td>300 MADISON AVENUE</td>\n",
       "      <td>EAST 42 STREET</td>\n",
       "      <td>...</td>\n",
       "      <td>C5-3</td>\n",
       "      <td>40.752545</td>\n",
       "      <td>-73.979585</td>\n",
       "      <td>2017-04-30</td>\n",
       "      <td>2017-07-19</td>\n",
       "      <td>Murray Hill-Kips Bay</td>\n",
       "      <td>1085972.0</td>\n",
       "      <td>1.012760e+09</td>\n",
       "      <td>1008200.0</td>\n",
       "      <td>(40.752545, -73.979585)</td>\n",
       "    </tr>\n",
       "    <tr>\n",
       "      <th>913</th>\n",
       "      <td>mn-08-120983</td>\n",
       "      <td>Link1.0</td>\n",
       "      <td>Live</td>\n",
       "      <td>120983</td>\n",
       "      <td>mn-08-120983</td>\n",
       "      <td>Manhattan</td>\n",
       "      <td>4</td>\n",
       "      <td>108</td>\n",
       "      <td>1175 3 AVENUE</td>\n",
       "      <td>EAST 69 STREET</td>\n",
       "      <td>...</td>\n",
       "      <td>C1-9</td>\n",
       "      <td>40.767655</td>\n",
       "      <td>-73.961971</td>\n",
       "      <td>2016-02-27</td>\n",
       "      <td>2016-03-29</td>\n",
       "      <td>Lenox Hill-Roosevelt Island</td>\n",
       "      <td>1043902.0</td>\n",
       "      <td>1.014238e+09</td>\n",
       "      <td>1011800.0</td>\n",
       "      <td>(40.767655, -73.961971)</td>\n",
       "    </tr>\n",
       "    <tr>\n",
       "      <th>1013</th>\n",
       "      <td>mn-06-121377</td>\n",
       "      <td>Link1.0</td>\n",
       "      <td>Live</td>\n",
       "      <td>121377</td>\n",
       "      <td>mn-06-121377</td>\n",
       "      <td>Manhattan</td>\n",
       "      <td>4</td>\n",
       "      <td>106</td>\n",
       "      <td>133 EAST 40 STREET</td>\n",
       "      <td>LEXINGTON AVENUE</td>\n",
       "      <td>...</td>\n",
       "      <td>C5-3</td>\n",
       "      <td>40.750133</td>\n",
       "      <td>-73.976794</td>\n",
       "      <td>2017-04-15</td>\n",
       "      <td>2017-06-21</td>\n",
       "      <td>Murray Hill-Kips Bay</td>\n",
       "      <td>1036147.0</td>\n",
       "      <td>1.012950e+09</td>\n",
       "      <td>1008000.0</td>\n",
       "      <td>(40.750133, -73.976794)</td>\n",
       "    </tr>\n",
       "    <tr>\n",
       "      <th>1197</th>\n",
       "      <td>mn-07-134708</td>\n",
       "      <td>Link1.0</td>\n",
       "      <td>Live</td>\n",
       "      <td>134708</td>\n",
       "      <td>mn-07-134708</td>\n",
       "      <td>Manhattan</td>\n",
       "      <td>6</td>\n",
       "      <td>107</td>\n",
       "      <td>730 COLUMBUS AVENUE</td>\n",
       "      <td>WEST 95 STREET</td>\n",
       "      <td>...</td>\n",
       "      <td>C1-9</td>\n",
       "      <td>40.792379</td>\n",
       "      <td>-73.968010</td>\n",
       "      <td>2018-01-26</td>\n",
       "      <td>2018-05-31</td>\n",
       "      <td>Upper West Side</td>\n",
       "      <td>1082743.0</td>\n",
       "      <td>1.012260e+09</td>\n",
       "      <td>1018100.0</td>\n",
       "      <td>(40.792379, -73.96801)</td>\n",
       "    </tr>\n",
       "    <tr>\n",
       "      <th>1204</th>\n",
       "      <td>qu-04-145788</td>\n",
       "      <td>Link1.0</td>\n",
       "      <td>Live</td>\n",
       "      <td>145788</td>\n",
       "      <td>LINK-018037</td>\n",
       "      <td>Queens</td>\n",
       "      <td>25</td>\n",
       "      <td>404</td>\n",
       "      <td>90-20 QUEENS BOULEVARD</td>\n",
       "      <td>WOODHAVEN BOULEVARD</td>\n",
       "      <td>...</td>\n",
       "      <td>C1-2</td>\n",
       "      <td>40.733342</td>\n",
       "      <td>-73.870838</td>\n",
       "      <td>2017-03-11</td>\n",
       "      <td>2017-04-10</td>\n",
       "      <td>Elmhurst</td>\n",
       "      <td>4457337.0</td>\n",
       "      <td>4.028570e+09</td>\n",
       "      <td>4047500.0</td>\n",
       "      <td>(40.733342, -73.870838)</td>\n",
       "    </tr>\n",
       "    <tr>\n",
       "      <th>1211</th>\n",
       "      <td>si-02-125467</td>\n",
       "      <td>Link1.0</td>\n",
       "      <td>Live</td>\n",
       "      <td>125467</td>\n",
       "      <td>si-02-125467</td>\n",
       "      <td>Staten Island</td>\n",
       "      <td>50</td>\n",
       "      <td>502</td>\n",
       "      <td>2154 HYLAN BOULEVARD</td>\n",
       "      <td>MIDLAND AVENUE</td>\n",
       "      <td>...</td>\n",
       "      <td>C2-1</td>\n",
       "      <td>40.577771</td>\n",
       "      <td>-74.102310</td>\n",
       "      <td>2017-01-31</td>\n",
       "      <td>2017-02-22</td>\n",
       "      <td>New Dorp-Midland Beach</td>\n",
       "      <td>5053558.0</td>\n",
       "      <td>5.036910e+09</td>\n",
       "      <td>5011202.0</td>\n",
       "      <td>(40.577771, -74.10231)</td>\n",
       "    </tr>\n",
       "    <tr>\n",
       "      <th>1365</th>\n",
       "      <td>mn-05-133538</td>\n",
       "      <td>Link1.0</td>\n",
       "      <td>Live</td>\n",
       "      <td>133538</td>\n",
       "      <td>mn-05-133538</td>\n",
       "      <td>Manhattan</td>\n",
       "      <td>4</td>\n",
       "      <td>105</td>\n",
       "      <td>300 MADISON AVENUE</td>\n",
       "      <td>EAST 41 STREET</td>\n",
       "      <td>...</td>\n",
       "      <td>C5-3</td>\n",
       "      <td>40.752335</td>\n",
       "      <td>-73.979738</td>\n",
       "      <td>2017-02-11</td>\n",
       "      <td>2017-05-04</td>\n",
       "      <td>Murray Hill-Kips Bay</td>\n",
       "      <td>1085972.0</td>\n",
       "      <td>1.012760e+09</td>\n",
       "      <td>1008200.0</td>\n",
       "      <td>(40.752335, -73.979738)</td>\n",
       "    </tr>\n",
       "    <tr>\n",
       "      <th>1492</th>\n",
       "      <td>mn-01-123002</td>\n",
       "      <td>Link1.0</td>\n",
       "      <td>Live</td>\n",
       "      <td>123002</td>\n",
       "      <td>mn-01-123002</td>\n",
       "      <td>Manhattan</td>\n",
       "      <td>1</td>\n",
       "      <td>101</td>\n",
       "      <td>55 WATER STREET</td>\n",
       "      <td>COENTIES SLIP</td>\n",
       "      <td>...</td>\n",
       "      <td>C6-9</td>\n",
       "      <td>40.703311</td>\n",
       "      <td>-74.009985</td>\n",
       "      <td>2017-11-11</td>\n",
       "      <td>2018-02-27</td>\n",
       "      <td>Battery Park City-Lower Manhattan</td>\n",
       "      <td>1083346.0</td>\n",
       "      <td>1.000328e+09</td>\n",
       "      <td>1000900.0</td>\n",
       "      <td>(40.703311, -74.009985)</td>\n",
       "    </tr>\n",
       "    <tr>\n",
       "      <th>1560</th>\n",
       "      <td>mn-05-122096</td>\n",
       "      <td>Link1.0</td>\n",
       "      <td>Live</td>\n",
       "      <td>122096</td>\n",
       "      <td>mn-05-122096</td>\n",
       "      <td>Manhattan</td>\n",
       "      <td>3</td>\n",
       "      <td>105</td>\n",
       "      <td>1515 BROADWAY</td>\n",
       "      <td>WEST 45 STREET</td>\n",
       "      <td>...</td>\n",
       "      <td>C6-7T</td>\n",
       "      <td>40.757869</td>\n",
       "      <td>-73.985703</td>\n",
       "      <td>2016-12-18</td>\n",
       "      <td>2018-04-16</td>\n",
       "      <td>Midtown-Midtown South</td>\n",
       "      <td>1024714.0</td>\n",
       "      <td>1.010160e+09</td>\n",
       "      <td>1011900.0</td>\n",
       "      <td>(40.757869, -73.985703)</td>\n",
       "    </tr>\n",
       "    <tr>\n",
       "      <th>1567</th>\n",
       "      <td>mn-06-121854</td>\n",
       "      <td>Link1.0</td>\n",
       "      <td>Live</td>\n",
       "      <td>121854</td>\n",
       "      <td>mn-06-121854</td>\n",
       "      <td>Manhattan</td>\n",
       "      <td>4</td>\n",
       "      <td>106</td>\n",
       "      <td>909 3 AVENUE</td>\n",
       "      <td>EAST 55 STREET</td>\n",
       "      <td>...</td>\n",
       "      <td>C6-6</td>\n",
       "      <td>40.758820</td>\n",
       "      <td>-73.968417</td>\n",
       "      <td>2016-02-28</td>\n",
       "      <td>2016-03-15</td>\n",
       "      <td>Turtle Bay-East Midtown</td>\n",
       "      <td>1038570.0</td>\n",
       "      <td>1.013280e+09</td>\n",
       "      <td>1010800.0</td>\n",
       "      <td>(40.75882, -73.968417)</td>\n",
       "    </tr>\n",
       "    <tr>\n",
       "      <th>1577</th>\n",
       "      <td>mn-06-133527</td>\n",
       "      <td>Link1.0</td>\n",
       "      <td>Live</td>\n",
       "      <td>133527</td>\n",
       "      <td>mn-06-133527</td>\n",
       "      <td>Manhattan</td>\n",
       "      <td>2</td>\n",
       "      <td>106</td>\n",
       "      <td>205 3 AVENUE</td>\n",
       "      <td>EAST 19 STREET</td>\n",
       "      <td>...</td>\n",
       "      <td>C1-9A</td>\n",
       "      <td>40.736214</td>\n",
       "      <td>-73.984900</td>\n",
       "      <td>2016-05-21</td>\n",
       "      <td>2016-07-14</td>\n",
       "      <td>Gramercy</td>\n",
       "      <td>1019580.0</td>\n",
       "      <td>1.008990e+09</td>\n",
       "      <td>1004800.0</td>\n",
       "      <td>(40.736214, -73.9849)</td>\n",
       "    </tr>\n",
       "    <tr>\n",
       "      <th>1585</th>\n",
       "      <td>mn-07-120603</td>\n",
       "      <td>Link1.0</td>\n",
       "      <td>Live</td>\n",
       "      <td>120603</td>\n",
       "      <td>mn-07-120603</td>\n",
       "      <td>Manhattan</td>\n",
       "      <td>6</td>\n",
       "      <td>107</td>\n",
       "      <td>730 COLUMBUS AVENUE</td>\n",
       "      <td>WEST 95 STREET</td>\n",
       "      <td>...</td>\n",
       "      <td>C1-9</td>\n",
       "      <td>40.792804</td>\n",
       "      <td>-73.967704</td>\n",
       "      <td>2018-01-26</td>\n",
       "      <td>2018-05-31</td>\n",
       "      <td>Upper West Side</td>\n",
       "      <td>1082743.0</td>\n",
       "      <td>1.012260e+09</td>\n",
       "      <td>1018100.0</td>\n",
       "      <td>(40.792804, -73.967704)</td>\n",
       "    </tr>\n",
       "    <tr>\n",
       "      <th>1747</th>\n",
       "      <td>mn-01-136177</td>\n",
       "      <td>Link1.0</td>\n",
       "      <td>Live</td>\n",
       "      <td>136177</td>\n",
       "      <td>mn-01-136177</td>\n",
       "      <td>Manhattan</td>\n",
       "      <td>1</td>\n",
       "      <td>101</td>\n",
       "      <td>55 WATER STREET</td>\n",
       "      <td>HANOVER SQUARE</td>\n",
       "      <td>...</td>\n",
       "      <td>C6-9</td>\n",
       "      <td>40.703910</td>\n",
       "      <td>-74.009082</td>\n",
       "      <td>2017-11-11</td>\n",
       "      <td>2018-02-23</td>\n",
       "      <td>Battery Park City-Lower Manhattan</td>\n",
       "      <td>1083346.0</td>\n",
       "      <td>1.000328e+09</td>\n",
       "      <td>1000900.0</td>\n",
       "      <td>(40.70391, -74.009082)</td>\n",
       "    </tr>\n",
       "    <tr>\n",
       "      <th>1769</th>\n",
       "      <td>mn-09-134416</td>\n",
       "      <td>Link1.0</td>\n",
       "      <td>Live</td>\n",
       "      <td>134416</td>\n",
       "      <td>mn-09-134416</td>\n",
       "      <td>Manhattan</td>\n",
       "      <td>7</td>\n",
       "      <td>109</td>\n",
       "      <td>1626 AMSTERDAM AVENUE</td>\n",
       "      <td>WEST 141 STREET</td>\n",
       "      <td>...</td>\n",
       "      <td>C1-4</td>\n",
       "      <td>40.822633</td>\n",
       "      <td>-73.949640</td>\n",
       "      <td>2017-08-13</td>\n",
       "      <td>2018-05-04</td>\n",
       "      <td>Hamilton Heights</td>\n",
       "      <td>1061769.0</td>\n",
       "      <td>1.020720e+09</td>\n",
       "      <td>1022500.0</td>\n",
       "      <td>(40.822633, -73.94964)</td>\n",
       "    </tr>\n",
       "    <tr>\n",
       "      <th>1873</th>\n",
       "      <td>si-02-146099</td>\n",
       "      <td>Link1.0</td>\n",
       "      <td>Live</td>\n",
       "      <td>146099</td>\n",
       "      <td>LINK-005418</td>\n",
       "      <td>Staten Island</td>\n",
       "      <td>50</td>\n",
       "      <td>502</td>\n",
       "      <td>2154 HYLAN BOULEVARD</td>\n",
       "      <td>ZWICKY AVENUE</td>\n",
       "      <td>...</td>\n",
       "      <td>C2-1</td>\n",
       "      <td>40.577391</td>\n",
       "      <td>-74.102671</td>\n",
       "      <td>2018-06-29</td>\n",
       "      <td>2018-07-19</td>\n",
       "      <td>New Dorp-Midland Beach</td>\n",
       "      <td>5053558.0</td>\n",
       "      <td>5.036910e+09</td>\n",
       "      <td>5011202.0</td>\n",
       "      <td>(40.577391, -74.102671)</td>\n",
       "    </tr>\n",
       "    <tr>\n",
       "      <th>2011</th>\n",
       "      <td>bk-07-125841</td>\n",
       "      <td>Link1.0</td>\n",
       "      <td>Live</td>\n",
       "      <td>125841</td>\n",
       "      <td>bk-07-125841</td>\n",
       "      <td>Brooklyn</td>\n",
       "      <td>38</td>\n",
       "      <td>307</td>\n",
       "      <td>875 4 AVENUE</td>\n",
       "      <td>33 STREET</td>\n",
       "      <td>...</td>\n",
       "      <td>C2-4</td>\n",
       "      <td>40.656011</td>\n",
       "      <td>-74.002446</td>\n",
       "      <td>2017-02-24</td>\n",
       "      <td>2017-04-13</td>\n",
       "      <td>Sunset Park West</td>\n",
       "      <td>3010083.0</td>\n",
       "      <td>3.006800e+09</td>\n",
       "      <td>3010100.0</td>\n",
       "      <td>(40.656011, -74.002446)</td>\n",
       "    </tr>\n",
       "    <tr>\n",
       "      <th>2019</th>\n",
       "      <td>mn-05-134490</td>\n",
       "      <td>Link1.0</td>\n",
       "      <td>Live</td>\n",
       "      <td>134490</td>\n",
       "      <td>mn-05-134490</td>\n",
       "      <td>Manhattan</td>\n",
       "      <td>3</td>\n",
       "      <td>105</td>\n",
       "      <td>750 6 AVENUE</td>\n",
       "      <td>WEST 24 STREET</td>\n",
       "      <td>...</td>\n",
       "      <td>C6-4X</td>\n",
       "      <td>40.743971</td>\n",
       "      <td>-73.991883</td>\n",
       "      <td>2017-10-28</td>\n",
       "      <td>2018-04-05</td>\n",
       "      <td>Hudson Yards-Chelsea-Flatiron-Union Square</td>\n",
       "      <td>1085951.0</td>\n",
       "      <td>1.008260e+09</td>\n",
       "      <td>1005800.0</td>\n",
       "      <td>(40.743971, -73.991883)</td>\n",
       "    </tr>\n",
       "    <tr>\n",
       "      <th>2030</th>\n",
       "      <td>qu-04-145768</td>\n",
       "      <td>Link1.0</td>\n",
       "      <td>Live</td>\n",
       "      <td>145768</td>\n",
       "      <td>LINK-018137</td>\n",
       "      <td>Queens</td>\n",
       "      <td>25</td>\n",
       "      <td>404</td>\n",
       "      <td>90-20 QUEENS BOULEVARD</td>\n",
       "      <td>57 AVENUE</td>\n",
       "      <td>...</td>\n",
       "      <td>C1-2</td>\n",
       "      <td>40.733579</td>\n",
       "      <td>-73.871648</td>\n",
       "      <td>2017-03-04</td>\n",
       "      <td>2017-04-14</td>\n",
       "      <td>Elmhurst</td>\n",
       "      <td>4457337.0</td>\n",
       "      <td>4.028570e+09</td>\n",
       "      <td>4047500.0</td>\n",
       "      <td>(40.733579, -73.871648)</td>\n",
       "    </tr>\n",
       "    <tr>\n",
       "      <th>2065</th>\n",
       "      <td>mn-09-111918</td>\n",
       "      <td>Link1.0</td>\n",
       "      <td>Live</td>\n",
       "      <td>111918</td>\n",
       "      <td>mn-09-111918</td>\n",
       "      <td>Manhattan</td>\n",
       "      <td>7</td>\n",
       "      <td>109</td>\n",
       "      <td>1626 AMSTERDAM AVENUE</td>\n",
       "      <td>WEST 140 STREET</td>\n",
       "      <td>...</td>\n",
       "      <td>C1-4</td>\n",
       "      <td>40.822268</td>\n",
       "      <td>-73.949906</td>\n",
       "      <td>2017-02-04</td>\n",
       "      <td>2017-03-08</td>\n",
       "      <td>Hamilton Heights</td>\n",
       "      <td>1061768.0</td>\n",
       "      <td>1.020720e+09</td>\n",
       "      <td>1022500.0</td>\n",
       "      <td>(40.822268, -73.949906)</td>\n",
       "    </tr>\n",
       "    <tr>\n",
       "      <th>2131</th>\n",
       "      <td>mn-06-133472</td>\n",
       "      <td>Link1.0</td>\n",
       "      <td>Live</td>\n",
       "      <td>133472</td>\n",
       "      <td>mn-06-133472</td>\n",
       "      <td>Manhattan</td>\n",
       "      <td>4</td>\n",
       "      <td>106</td>\n",
       "      <td>845 3 AVENUE</td>\n",
       "      <td>EAST 51 STREET</td>\n",
       "      <td>...</td>\n",
       "      <td>C6-6</td>\n",
       "      <td>40.756505</td>\n",
       "      <td>-73.970111</td>\n",
       "      <td>2016-02-08</td>\n",
       "      <td>2016-03-08</td>\n",
       "      <td>Turtle Bay-East Midtown</td>\n",
       "      <td>1038464.0</td>\n",
       "      <td>1.013250e+09</td>\n",
       "      <td>1009800.0</td>\n",
       "      <td>(40.756505, -73.970111)</td>\n",
       "    </tr>\n",
       "    <tr>\n",
       "      <th>2226</th>\n",
       "      <td>mn-06-137950</td>\n",
       "      <td>Link1.0</td>\n",
       "      <td>Live</td>\n",
       "      <td>137950</td>\n",
       "      <td>mn-06-137950</td>\n",
       "      <td>Manhattan</td>\n",
       "      <td>4</td>\n",
       "      <td>106</td>\n",
       "      <td>133 EAST 40 STREET</td>\n",
       "      <td>LEXINGTON AVENUE</td>\n",
       "      <td>...</td>\n",
       "      <td>C5-3</td>\n",
       "      <td>40.750014</td>\n",
       "      <td>-73.976519</td>\n",
       "      <td>2017-06-17</td>\n",
       "      <td>2017-07-05</td>\n",
       "      <td>Murray Hill-Kips Bay</td>\n",
       "      <td>1036147.0</td>\n",
       "      <td>1.012950e+09</td>\n",
       "      <td>1008000.0</td>\n",
       "      <td>(40.750014, -73.976519)</td>\n",
       "    </tr>\n",
       "  </tbody>\n",
       "</table>\n",
       "<p>28 rows × 23 columns</p>\n",
       "</div>"
      ],
      "text/plain": [
       "           site_id planned_kiosk_type installation_status  ppt_id  \\\n",
       "185   mn-08-120988            Link1.0                Live  120988   \n",
       "216   mn-05-138006            Link1.0                Live  138006   \n",
       "234   mn-05-133354            Link1.0                Live  133354   \n",
       "329   bk-07-145901            Link1.0                Live  145901   \n",
       "518   mn-06-121836            Link1.0                Live  121836   \n",
       "629   mn-06-133477            Link1.0                Live  133477   \n",
       "694   mn-06-133890            Link1.0                Live  133890   \n",
       "705   mn-05-135892            Link1.0                Live  135892   \n",
       "913   mn-08-120983            Link1.0                Live  120983   \n",
       "1013  mn-06-121377            Link1.0                Live  121377   \n",
       "1197  mn-07-134708            Link1.0                Live  134708   \n",
       "1204  qu-04-145788            Link1.0                Live  145788   \n",
       "1211  si-02-125467            Link1.0                Live  125467   \n",
       "1365  mn-05-133538            Link1.0                Live  133538   \n",
       "1492  mn-01-123002            Link1.0                Live  123002   \n",
       "1560  mn-05-122096            Link1.0                Live  122096   \n",
       "1567  mn-06-121854            Link1.0                Live  121854   \n",
       "1577  mn-06-133527            Link1.0                Live  133527   \n",
       "1585  mn-07-120603            Link1.0                Live  120603   \n",
       "1747  mn-01-136177            Link1.0                Live  136177   \n",
       "1769  mn-09-134416            Link1.0                Live  134416   \n",
       "1873  si-02-146099            Link1.0                Live  146099   \n",
       "2011  bk-07-125841            Link1.0                Live  125841   \n",
       "2019  mn-05-134490            Link1.0                Live  134490   \n",
       "2030  qu-04-145768            Link1.0                Live  145768   \n",
       "2065  mn-09-111918            Link1.0                Live  111918   \n",
       "2131  mn-06-133472            Link1.0                Live  133472   \n",
       "2226  mn-06-137950            Link1.0                Live  137950   \n",
       "\n",
       "         legacy_id        borough  council_district  community_board  \\\n",
       "185   mn-08-120988      Manhattan                 4              108   \n",
       "216   mn-05-138006      Manhattan                 3              105   \n",
       "234   mn-05-133354      Manhattan                 3              105   \n",
       "329    LINK-021526       Brooklyn                38              307   \n",
       "518   mn-06-121836      Manhattan                 4              106   \n",
       "629   mn-06-133477      Manhattan                 4              106   \n",
       "694   mn-06-133890      Manhattan                 2              106   \n",
       "705   mn-05-135892      Manhattan                 4              105   \n",
       "913   mn-08-120983      Manhattan                 4              108   \n",
       "1013  mn-06-121377      Manhattan                 4              106   \n",
       "1197  mn-07-134708      Manhattan                 6              107   \n",
       "1204   LINK-018037         Queens                25              404   \n",
       "1211  si-02-125467  Staten Island                50              502   \n",
       "1365  mn-05-133538      Manhattan                 4              105   \n",
       "1492  mn-01-123002      Manhattan                 1              101   \n",
       "1560  mn-05-122096      Manhattan                 3              105   \n",
       "1567  mn-06-121854      Manhattan                 4              106   \n",
       "1577  mn-06-133527      Manhattan                 2              106   \n",
       "1585  mn-07-120603      Manhattan                 6              107   \n",
       "1747  mn-01-136177      Manhattan                 1              101   \n",
       "1769  mn-09-134416      Manhattan                 7              109   \n",
       "1873   LINK-005418  Staten Island                50              502   \n",
       "2011  bk-07-125841       Brooklyn                38              307   \n",
       "2019  mn-05-134490      Manhattan                 3              105   \n",
       "2030   LINK-018137         Queens                25              404   \n",
       "2065  mn-09-111918      Manhattan                 7              109   \n",
       "2131  mn-06-133472      Manhattan                 4              106   \n",
       "2226  mn-06-137950      Manhattan                 4              106   \n",
       "\n",
       "              street_address       cross_street_1  ... zoning   latitude  \\\n",
       "185            1175 3 AVENUE       EAST 68 STREET  ...   C1-9  40.767234   \n",
       "216             750 6 AVENUE       WEST 25 STREET  ...  C6-4X  40.743706   \n",
       "234            1515 BROADWAY       WEST 45 STREET  ...  C6-7T  40.757666   \n",
       "329             875 4 AVENUE            32 STREET  ...   C2-4  40.656384   \n",
       "518             909 3 AVENUE       EAST 54 STREET  ...   C6-6  40.758377   \n",
       "629             845 3 AVENUE       EAST 52 STREET  ...   C6-6  40.756911   \n",
       "694             205 3 AVENUE       EAST 18 STREET  ...  C1-9A  40.735839   \n",
       "705       300 MADISON AVENUE       EAST 42 STREET  ...   C5-3  40.752545   \n",
       "913            1175 3 AVENUE       EAST 69 STREET  ...   C1-9  40.767655   \n",
       "1013      133 EAST 40 STREET     LEXINGTON AVENUE  ...   C5-3  40.750133   \n",
       "1197     730 COLUMBUS AVENUE       WEST 95 STREET  ...   C1-9  40.792379   \n",
       "1204  90-20 QUEENS BOULEVARD  WOODHAVEN BOULEVARD  ...   C1-2  40.733342   \n",
       "1211    2154 HYLAN BOULEVARD       MIDLAND AVENUE  ...   C2-1  40.577771   \n",
       "1365      300 MADISON AVENUE       EAST 41 STREET  ...   C5-3  40.752335   \n",
       "1492         55 WATER STREET        COENTIES SLIP  ...   C6-9  40.703311   \n",
       "1560           1515 BROADWAY       WEST 45 STREET  ...  C6-7T  40.757869   \n",
       "1567            909 3 AVENUE       EAST 55 STREET  ...   C6-6  40.758820   \n",
       "1577            205 3 AVENUE       EAST 19 STREET  ...  C1-9A  40.736214   \n",
       "1585     730 COLUMBUS AVENUE       WEST 95 STREET  ...   C1-9  40.792804   \n",
       "1747         55 WATER STREET       HANOVER SQUARE  ...   C6-9  40.703910   \n",
       "1769   1626 AMSTERDAM AVENUE      WEST 141 STREET  ...   C1-4  40.822633   \n",
       "1873    2154 HYLAN BOULEVARD        ZWICKY AVENUE  ...   C2-1  40.577391   \n",
       "2011            875 4 AVENUE            33 STREET  ...   C2-4  40.656011   \n",
       "2019            750 6 AVENUE       WEST 24 STREET  ...  C6-4X  40.743971   \n",
       "2030  90-20 QUEENS BOULEVARD            57 AVENUE  ...   C1-2  40.733579   \n",
       "2065   1626 AMSTERDAM AVENUE      WEST 140 STREET  ...   C1-4  40.822268   \n",
       "2131            845 3 AVENUE       EAST 51 STREET  ...   C6-6  40.756505   \n",
       "2226      133 EAST 40 STREET     LEXINGTON AVENUE  ...   C5-3  40.750014   \n",
       "\n",
       "      longitude installation_complete  activation_complete  \\\n",
       "185  -73.962290            2016-02-27           2016-03-30   \n",
       "216  -73.992084            2017-09-24           2017-12-04   \n",
       "234  -73.985878            2016-12-18           2018-03-05   \n",
       "329  -74.002053            2017-07-31           2017-09-05   \n",
       "518  -73.968759            2016-02-28           2016-03-18   \n",
       "629  -73.969816            2016-03-18           2016-03-28   \n",
       "694  -73.985171            2016-01-29           2016-02-28   \n",
       "705  -73.979585            2017-04-30           2017-07-19   \n",
       "913  -73.961971            2016-02-27           2016-03-29   \n",
       "1013 -73.976794            2017-04-15           2017-06-21   \n",
       "1197 -73.968010            2018-01-26           2018-05-31   \n",
       "1204 -73.870838            2017-03-11           2017-04-10   \n",
       "1211 -74.102310            2017-01-31           2017-02-22   \n",
       "1365 -73.979738            2017-02-11           2017-05-04   \n",
       "1492 -74.009985            2017-11-11           2018-02-27   \n",
       "1560 -73.985703            2016-12-18           2018-04-16   \n",
       "1567 -73.968417            2016-02-28           2016-03-15   \n",
       "1577 -73.984900            2016-05-21           2016-07-14   \n",
       "1585 -73.967704            2018-01-26           2018-05-31   \n",
       "1747 -74.009082            2017-11-11           2018-02-23   \n",
       "1769 -73.949640            2017-08-13           2018-05-04   \n",
       "1873 -74.102671            2018-06-29           2018-07-19   \n",
       "2011 -74.002446            2017-02-24           2017-04-13   \n",
       "2019 -73.991883            2017-10-28           2018-04-05   \n",
       "2030 -73.871648            2017-03-04           2017-04-14   \n",
       "2065 -73.949906            2017-02-04           2017-03-08   \n",
       "2131 -73.970111            2016-02-08           2016-03-08   \n",
       "2226 -73.976519            2017-06-17           2017-07-05   \n",
       "\n",
       "                                             nta        bin           bbl  \\\n",
       "185                  Lenox Hill-Roosevelt Island  1043902.0  1.014238e+09   \n",
       "216   Hudson Yards-Chelsea-Flatiron-Union Square  1085951.0  1.008260e+09   \n",
       "234                        Midtown-Midtown South  1024714.0  1.010160e+09   \n",
       "329                             Sunset Park West  3010094.0  3.006810e+09   \n",
       "518                      Turtle Bay-East Midtown  1038570.0  1.013280e+09   \n",
       "629                      Turtle Bay-East Midtown  1038464.0  1.013250e+09   \n",
       "694                                     Gramercy  1019580.0  1.008990e+09   \n",
       "705                         Murray Hill-Kips Bay  1085972.0  1.012760e+09   \n",
       "913                  Lenox Hill-Roosevelt Island  1043902.0  1.014238e+09   \n",
       "1013                        Murray Hill-Kips Bay  1036147.0  1.012950e+09   \n",
       "1197                             Upper West Side  1082743.0  1.012260e+09   \n",
       "1204                                    Elmhurst  4457337.0  4.028570e+09   \n",
       "1211                      New Dorp-Midland Beach  5053558.0  5.036910e+09   \n",
       "1365                        Murray Hill-Kips Bay  1085972.0  1.012760e+09   \n",
       "1492           Battery Park City-Lower Manhattan  1083346.0  1.000328e+09   \n",
       "1560                       Midtown-Midtown South  1024714.0  1.010160e+09   \n",
       "1567                     Turtle Bay-East Midtown  1038570.0  1.013280e+09   \n",
       "1577                                    Gramercy  1019580.0  1.008990e+09   \n",
       "1585                             Upper West Side  1082743.0  1.012260e+09   \n",
       "1747           Battery Park City-Lower Manhattan  1083346.0  1.000328e+09   \n",
       "1769                            Hamilton Heights  1061769.0  1.020720e+09   \n",
       "1873                      New Dorp-Midland Beach  5053558.0  5.036910e+09   \n",
       "2011                            Sunset Park West  3010083.0  3.006800e+09   \n",
       "2019  Hudson Yards-Chelsea-Flatiron-Union Square  1085951.0  1.008260e+09   \n",
       "2030                                    Elmhurst  4457337.0  4.028570e+09   \n",
       "2065                            Hamilton Heights  1061768.0  1.020720e+09   \n",
       "2131                     Turtle Bay-East Midtown  1038464.0  1.013250e+09   \n",
       "2226                        Murray Hill-Kips Bay  1036147.0  1.012950e+09   \n",
       "\n",
       "     census_tract                 location  \n",
       "185     1011800.0   (40.767234, -73.96229)  \n",
       "216     1005800.0  (40.743706, -73.992084)  \n",
       "234     1011900.0  (40.757666, -73.985878)  \n",
       "329     3010100.0  (40.656384, -74.002053)  \n",
       "518     1010800.0  (40.758377, -73.968759)  \n",
       "629     1009800.0  (40.756911, -73.969816)  \n",
       "694     1004800.0  (40.735839, -73.985171)  \n",
       "705     1008200.0  (40.752545, -73.979585)  \n",
       "913     1011800.0  (40.767655, -73.961971)  \n",
       "1013    1008000.0  (40.750133, -73.976794)  \n",
       "1197    1018100.0   (40.792379, -73.96801)  \n",
       "1204    4047500.0  (40.733342, -73.870838)  \n",
       "1211    5011202.0   (40.577771, -74.10231)  \n",
       "1365    1008200.0  (40.752335, -73.979738)  \n",
       "1492    1000900.0  (40.703311, -74.009985)  \n",
       "1560    1011900.0  (40.757869, -73.985703)  \n",
       "1567    1010800.0   (40.75882, -73.968417)  \n",
       "1577    1004800.0    (40.736214, -73.9849)  \n",
       "1585    1018100.0  (40.792804, -73.967704)  \n",
       "1747    1000900.0   (40.70391, -74.009082)  \n",
       "1769    1022500.0   (40.822633, -73.94964)  \n",
       "1873    5011202.0  (40.577391, -74.102671)  \n",
       "2011    3010100.0  (40.656011, -74.002446)  \n",
       "2019    1005800.0  (40.743971, -73.991883)  \n",
       "2030    4047500.0  (40.733579, -73.871648)  \n",
       "2065    1022500.0  (40.822268, -73.949906)  \n",
       "2131    1009800.0  (40.756505, -73.970111)  \n",
       "2226    1008000.0  (40.750014, -73.976519)  \n",
       "\n",
       "[28 rows x 23 columns]"
      ]
     },
     "execution_count": 14,
     "metadata": {},
     "output_type": "execute_result"
    }
   ],
   "source": [
    "df[df.duplicated(subset=['borough', 'street_address'], keep=False)]"
   ]
  },
  {
   "cell_type": "code",
   "execution_count": 15,
   "id": "1e7202f2",
   "metadata": {},
   "outputs": [
    {
     "data": {
      "text/plain": [
       "np.int64(0)"
      ]
     },
     "execution_count": 15,
     "metadata": {},
     "output_type": "execute_result"
    }
   ],
   "source": [
    "df['site_id'].duplicated().sum()\n"
   ]
  },
  {
   "cell_type": "code",
   "execution_count": 16,
   "id": "16b63a57",
   "metadata": {},
   "outputs": [
    {
     "data": {
      "text/html": [
       "<div>\n",
       "<style scoped>\n",
       "    .dataframe tbody tr th:only-of-type {\n",
       "        vertical-align: middle;\n",
       "    }\n",
       "\n",
       "    .dataframe tbody tr th {\n",
       "        vertical-align: top;\n",
       "    }\n",
       "\n",
       "    .dataframe thead th {\n",
       "        text-align: right;\n",
       "    }\n",
       "</style>\n",
       "<table border=\"1\" class=\"dataframe\">\n",
       "  <thead>\n",
       "    <tr style=\"text-align: right;\">\n",
       "      <th></th>\n",
       "      <th>site_id</th>\n",
       "      <th>borough</th>\n",
       "      <th>street_address</th>\n",
       "      <th>latitude</th>\n",
       "      <th>longitude</th>\n",
       "    </tr>\n",
       "  </thead>\n",
       "  <tbody>\n",
       "    <tr>\n",
       "      <th>185</th>\n",
       "      <td>mn-08-120988</td>\n",
       "      <td>Manhattan</td>\n",
       "      <td>1175 3 AVENUE</td>\n",
       "      <td>40.767234</td>\n",
       "      <td>-73.962290</td>\n",
       "    </tr>\n",
       "    <tr>\n",
       "      <th>216</th>\n",
       "      <td>mn-05-138006</td>\n",
       "      <td>Manhattan</td>\n",
       "      <td>750 6 AVENUE</td>\n",
       "      <td>40.743706</td>\n",
       "      <td>-73.992084</td>\n",
       "    </tr>\n",
       "    <tr>\n",
       "      <th>234</th>\n",
       "      <td>mn-05-133354</td>\n",
       "      <td>Manhattan</td>\n",
       "      <td>1515 BROADWAY</td>\n",
       "      <td>40.757666</td>\n",
       "      <td>-73.985878</td>\n",
       "    </tr>\n",
       "    <tr>\n",
       "      <th>329</th>\n",
       "      <td>bk-07-145901</td>\n",
       "      <td>Brooklyn</td>\n",
       "      <td>875 4 AVENUE</td>\n",
       "      <td>40.656384</td>\n",
       "      <td>-74.002053</td>\n",
       "    </tr>\n",
       "    <tr>\n",
       "      <th>518</th>\n",
       "      <td>mn-06-121836</td>\n",
       "      <td>Manhattan</td>\n",
       "      <td>909 3 AVENUE</td>\n",
       "      <td>40.758377</td>\n",
       "      <td>-73.968759</td>\n",
       "    </tr>\n",
       "    <tr>\n",
       "      <th>629</th>\n",
       "      <td>mn-06-133477</td>\n",
       "      <td>Manhattan</td>\n",
       "      <td>845 3 AVENUE</td>\n",
       "      <td>40.756911</td>\n",
       "      <td>-73.969816</td>\n",
       "    </tr>\n",
       "    <tr>\n",
       "      <th>694</th>\n",
       "      <td>mn-06-133890</td>\n",
       "      <td>Manhattan</td>\n",
       "      <td>205 3 AVENUE</td>\n",
       "      <td>40.735839</td>\n",
       "      <td>-73.985171</td>\n",
       "    </tr>\n",
       "    <tr>\n",
       "      <th>705</th>\n",
       "      <td>mn-05-135892</td>\n",
       "      <td>Manhattan</td>\n",
       "      <td>300 MADISON AVENUE</td>\n",
       "      <td>40.752545</td>\n",
       "      <td>-73.979585</td>\n",
       "    </tr>\n",
       "    <tr>\n",
       "      <th>913</th>\n",
       "      <td>mn-08-120983</td>\n",
       "      <td>Manhattan</td>\n",
       "      <td>1175 3 AVENUE</td>\n",
       "      <td>40.767655</td>\n",
       "      <td>-73.961971</td>\n",
       "    </tr>\n",
       "    <tr>\n",
       "      <th>1013</th>\n",
       "      <td>mn-06-121377</td>\n",
       "      <td>Manhattan</td>\n",
       "      <td>133 EAST 40 STREET</td>\n",
       "      <td>40.750133</td>\n",
       "      <td>-73.976794</td>\n",
       "    </tr>\n",
       "    <tr>\n",
       "      <th>1197</th>\n",
       "      <td>mn-07-134708</td>\n",
       "      <td>Manhattan</td>\n",
       "      <td>730 COLUMBUS AVENUE</td>\n",
       "      <td>40.792379</td>\n",
       "      <td>-73.968010</td>\n",
       "    </tr>\n",
       "    <tr>\n",
       "      <th>1204</th>\n",
       "      <td>qu-04-145788</td>\n",
       "      <td>Queens</td>\n",
       "      <td>90-20 QUEENS BOULEVARD</td>\n",
       "      <td>40.733342</td>\n",
       "      <td>-73.870838</td>\n",
       "    </tr>\n",
       "    <tr>\n",
       "      <th>1211</th>\n",
       "      <td>si-02-125467</td>\n",
       "      <td>Staten Island</td>\n",
       "      <td>2154 HYLAN BOULEVARD</td>\n",
       "      <td>40.577771</td>\n",
       "      <td>-74.102310</td>\n",
       "    </tr>\n",
       "    <tr>\n",
       "      <th>1365</th>\n",
       "      <td>mn-05-133538</td>\n",
       "      <td>Manhattan</td>\n",
       "      <td>300 MADISON AVENUE</td>\n",
       "      <td>40.752335</td>\n",
       "      <td>-73.979738</td>\n",
       "    </tr>\n",
       "    <tr>\n",
       "      <th>1492</th>\n",
       "      <td>mn-01-123002</td>\n",
       "      <td>Manhattan</td>\n",
       "      <td>55 WATER STREET</td>\n",
       "      <td>40.703311</td>\n",
       "      <td>-74.009985</td>\n",
       "    </tr>\n",
       "    <tr>\n",
       "      <th>1560</th>\n",
       "      <td>mn-05-122096</td>\n",
       "      <td>Manhattan</td>\n",
       "      <td>1515 BROADWAY</td>\n",
       "      <td>40.757869</td>\n",
       "      <td>-73.985703</td>\n",
       "    </tr>\n",
       "    <tr>\n",
       "      <th>1567</th>\n",
       "      <td>mn-06-121854</td>\n",
       "      <td>Manhattan</td>\n",
       "      <td>909 3 AVENUE</td>\n",
       "      <td>40.758820</td>\n",
       "      <td>-73.968417</td>\n",
       "    </tr>\n",
       "    <tr>\n",
       "      <th>1577</th>\n",
       "      <td>mn-06-133527</td>\n",
       "      <td>Manhattan</td>\n",
       "      <td>205 3 AVENUE</td>\n",
       "      <td>40.736214</td>\n",
       "      <td>-73.984900</td>\n",
       "    </tr>\n",
       "    <tr>\n",
       "      <th>1585</th>\n",
       "      <td>mn-07-120603</td>\n",
       "      <td>Manhattan</td>\n",
       "      <td>730 COLUMBUS AVENUE</td>\n",
       "      <td>40.792804</td>\n",
       "      <td>-73.967704</td>\n",
       "    </tr>\n",
       "    <tr>\n",
       "      <th>1747</th>\n",
       "      <td>mn-01-136177</td>\n",
       "      <td>Manhattan</td>\n",
       "      <td>55 WATER STREET</td>\n",
       "      <td>40.703910</td>\n",
       "      <td>-74.009082</td>\n",
       "    </tr>\n",
       "    <tr>\n",
       "      <th>1769</th>\n",
       "      <td>mn-09-134416</td>\n",
       "      <td>Manhattan</td>\n",
       "      <td>1626 AMSTERDAM AVENUE</td>\n",
       "      <td>40.822633</td>\n",
       "      <td>-73.949640</td>\n",
       "    </tr>\n",
       "    <tr>\n",
       "      <th>1873</th>\n",
       "      <td>si-02-146099</td>\n",
       "      <td>Staten Island</td>\n",
       "      <td>2154 HYLAN BOULEVARD</td>\n",
       "      <td>40.577391</td>\n",
       "      <td>-74.102671</td>\n",
       "    </tr>\n",
       "    <tr>\n",
       "      <th>2011</th>\n",
       "      <td>bk-07-125841</td>\n",
       "      <td>Brooklyn</td>\n",
       "      <td>875 4 AVENUE</td>\n",
       "      <td>40.656011</td>\n",
       "      <td>-74.002446</td>\n",
       "    </tr>\n",
       "    <tr>\n",
       "      <th>2019</th>\n",
       "      <td>mn-05-134490</td>\n",
       "      <td>Manhattan</td>\n",
       "      <td>750 6 AVENUE</td>\n",
       "      <td>40.743971</td>\n",
       "      <td>-73.991883</td>\n",
       "    </tr>\n",
       "    <tr>\n",
       "      <th>2030</th>\n",
       "      <td>qu-04-145768</td>\n",
       "      <td>Queens</td>\n",
       "      <td>90-20 QUEENS BOULEVARD</td>\n",
       "      <td>40.733579</td>\n",
       "      <td>-73.871648</td>\n",
       "    </tr>\n",
       "    <tr>\n",
       "      <th>2065</th>\n",
       "      <td>mn-09-111918</td>\n",
       "      <td>Manhattan</td>\n",
       "      <td>1626 AMSTERDAM AVENUE</td>\n",
       "      <td>40.822268</td>\n",
       "      <td>-73.949906</td>\n",
       "    </tr>\n",
       "    <tr>\n",
       "      <th>2131</th>\n",
       "      <td>mn-06-133472</td>\n",
       "      <td>Manhattan</td>\n",
       "      <td>845 3 AVENUE</td>\n",
       "      <td>40.756505</td>\n",
       "      <td>-73.970111</td>\n",
       "    </tr>\n",
       "    <tr>\n",
       "      <th>2226</th>\n",
       "      <td>mn-06-137950</td>\n",
       "      <td>Manhattan</td>\n",
       "      <td>133 EAST 40 STREET</td>\n",
       "      <td>40.750014</td>\n",
       "      <td>-73.976519</td>\n",
       "    </tr>\n",
       "  </tbody>\n",
       "</table>\n",
       "</div>"
      ],
      "text/plain": [
       "           site_id        borough          street_address   latitude  \\\n",
       "185   mn-08-120988      Manhattan           1175 3 AVENUE  40.767234   \n",
       "216   mn-05-138006      Manhattan            750 6 AVENUE  40.743706   \n",
       "234   mn-05-133354      Manhattan           1515 BROADWAY  40.757666   \n",
       "329   bk-07-145901       Brooklyn            875 4 AVENUE  40.656384   \n",
       "518   mn-06-121836      Manhattan            909 3 AVENUE  40.758377   \n",
       "629   mn-06-133477      Manhattan            845 3 AVENUE  40.756911   \n",
       "694   mn-06-133890      Manhattan            205 3 AVENUE  40.735839   \n",
       "705   mn-05-135892      Manhattan      300 MADISON AVENUE  40.752545   \n",
       "913   mn-08-120983      Manhattan           1175 3 AVENUE  40.767655   \n",
       "1013  mn-06-121377      Manhattan      133 EAST 40 STREET  40.750133   \n",
       "1197  mn-07-134708      Manhattan     730 COLUMBUS AVENUE  40.792379   \n",
       "1204  qu-04-145788         Queens  90-20 QUEENS BOULEVARD  40.733342   \n",
       "1211  si-02-125467  Staten Island    2154 HYLAN BOULEVARD  40.577771   \n",
       "1365  mn-05-133538      Manhattan      300 MADISON AVENUE  40.752335   \n",
       "1492  mn-01-123002      Manhattan         55 WATER STREET  40.703311   \n",
       "1560  mn-05-122096      Manhattan           1515 BROADWAY  40.757869   \n",
       "1567  mn-06-121854      Manhattan            909 3 AVENUE  40.758820   \n",
       "1577  mn-06-133527      Manhattan            205 3 AVENUE  40.736214   \n",
       "1585  mn-07-120603      Manhattan     730 COLUMBUS AVENUE  40.792804   \n",
       "1747  mn-01-136177      Manhattan         55 WATER STREET  40.703910   \n",
       "1769  mn-09-134416      Manhattan   1626 AMSTERDAM AVENUE  40.822633   \n",
       "1873  si-02-146099  Staten Island    2154 HYLAN BOULEVARD  40.577391   \n",
       "2011  bk-07-125841       Brooklyn            875 4 AVENUE  40.656011   \n",
       "2019  mn-05-134490      Manhattan            750 6 AVENUE  40.743971   \n",
       "2030  qu-04-145768         Queens  90-20 QUEENS BOULEVARD  40.733579   \n",
       "2065  mn-09-111918      Manhattan   1626 AMSTERDAM AVENUE  40.822268   \n",
       "2131  mn-06-133472      Manhattan            845 3 AVENUE  40.756505   \n",
       "2226  mn-06-137950      Manhattan      133 EAST 40 STREET  40.750014   \n",
       "\n",
       "      longitude  \n",
       "185  -73.962290  \n",
       "216  -73.992084  \n",
       "234  -73.985878  \n",
       "329  -74.002053  \n",
       "518  -73.968759  \n",
       "629  -73.969816  \n",
       "694  -73.985171  \n",
       "705  -73.979585  \n",
       "913  -73.961971  \n",
       "1013 -73.976794  \n",
       "1197 -73.968010  \n",
       "1204 -73.870838  \n",
       "1211 -74.102310  \n",
       "1365 -73.979738  \n",
       "1492 -74.009985  \n",
       "1560 -73.985703  \n",
       "1567 -73.968417  \n",
       "1577 -73.984900  \n",
       "1585 -73.967704  \n",
       "1747 -74.009082  \n",
       "1769 -73.949640  \n",
       "1873 -74.102671  \n",
       "2011 -74.002446  \n",
       "2019 -73.991883  \n",
       "2030 -73.871648  \n",
       "2065 -73.949906  \n",
       "2131 -73.970111  \n",
       "2226 -73.976519  "
      ]
     },
     "execution_count": 16,
     "metadata": {},
     "output_type": "execute_result"
    }
   ],
   "source": [
    "dupes = df[df.duplicated(subset=['borough', 'street_address'], keep=False)]\n",
    "dupes[['site_id', 'borough', 'street_address', 'latitude', 'longitude']]\n"
   ]
  },
  {
   "cell_type": "markdown",
   "id": "41ecae7d",
   "metadata": {},
   "source": [
    "### Duplicate Check Summary\n",
    "- No full duplicate rows or duplicate `site_id`s found.  \n",
    "- Some kiosks share the same `street_address` within boroughs (e.g., multiple kiosks along 3rd Avenue or Madison Avenue).  \n",
    "- Their latitude/longitude values differ slightly, confirming these are unique physical kiosks.  \n",
    "- This clustering pattern likely reflects high-traffic commercial corridors with strong advertising potential, especially in Manhattan.\n"
   ]
  },
  {
   "cell_type": "markdown",
   "id": "74f02888",
   "metadata": {},
   "source": [
    "# EDA"
   ]
  },
  {
   "cell_type": "code",
   "execution_count": 17,
   "id": "cd768aed",
   "metadata": {},
   "outputs": [
    {
     "data": {
      "text/plain": [
       "borough\n",
       "Manhattan        1230\n",
       "Queens            398\n",
       "Brooklyn          356\n",
       "Bronx             216\n",
       "Staten Island      50\n",
       "Name: count, dtype: int64"
      ]
     },
     "execution_count": 17,
     "metadata": {},
     "output_type": "execute_result"
    }
   ],
   "source": [
    "# Let's begin EDA\n",
    "df['borough'].value_counts()"
   ]
  },
  {
   "cell_type": "code",
   "execution_count": 18,
   "id": "4261e614",
   "metadata": {},
   "outputs": [
    {
     "data": {
      "image/png": "[encoded data removed]",
      "text/plain": [
       "<Figure size 800x500 with 1 Axes>"
      ]
     },
     "metadata": {},
     "output_type": "display_data"
    }
   ],
   "source": [
    "# creat a bar chart\n",
    "import matplotlib.pyplot as plt\n",
    "plt.figure(figsize=(8, 5))\n",
    "df['borough'].value_counts().plot(kind='bar')\n",
    "plt.title('Number of Kiosks by Borough')\n",
    "plt.xlabel('Borough')\n",
    "plt.ylabel('Number of Kiosks')\n",
    "plt.xticks(rotation=45)\n",
    "plt.show()"
   ]
  },
  {
   "cell_type": "markdown",
   "id": "324ef104",
   "metadata": {},
   "source": [
    "Manhattan hosts the majority of kiosks - over 50%, which aligns with its high commercial density and advertising visibility potential. Staten Island has the fewest kiosks, reflecting limited ad reach in that borough (check usage)"
   ]
  },
  {
   "cell_type": "code",
   "execution_count": 19,
   "id": "79ca76eb",
   "metadata": {},
   "outputs": [
    {
     "data": {
      "text/plain": [
       "borough\n",
       "Manhattan        54.67\n",
       "Queens           17.69\n",
       "Brooklyn         15.82\n",
       "Bronx             9.60\n",
       "Staten Island     2.22\n",
       "Name: proportion, dtype: float64"
      ]
     },
     "execution_count": 19,
     "metadata": {},
     "output_type": "execute_result"
    }
   ],
   "source": [
    "borough_density = (df['borough'].value_counts(normalize=True) * 100).round(2)\n",
    "borough_density\n"
   ]
  },
  {
   "cell_type": "code",
   "execution_count": 20,
   "id": "a78dd5d9",
   "metadata": {},
   "outputs": [
    {
     "name": "stderr",
     "output_type": "stream",
     "text": [
      "/var/folders/v2/9k8drrwj5h39kpr935vvx6j80000gn/T/ipykernel_4040/3039204536.py:3: DeprecationWarning: *scatter_mapbox* is deprecated! Use *scatter_map* instead. Learn more at: https://plotly.com/python/mapbox-to-maplibre/\n",
      "  px.scatter_mapbox(\n"
     ]
    },
    {
     "data": {
      "application/vnd.plotly.v1+json": {
       "config": {
        "plotlyServerURL": "https://plot.ly"
       },
       "data": [
        {
         "hovertemplate": "borough=Queens<br>latitude=%{lat}<br>longitude=%{lon}<extra></extra>",
         "lat": {
          "bdata": "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",
          "dtype": "f8"
         },
         "legendgroup": "Queens",
         "lon": {
          "bdata": "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",
          "dtype": "f8"
         },
         "marker": {
          "color": "#636efa"
         },
         "mode": "markers",
         "name": "Queens",
         "showlegend": true,
         "subplot": "mapbox",
         "type": "scattermapbox"
        },
        {
         "hovertemplate": "borough=Brooklyn<br>latitude=%{lat}<br>longitude=%{lon}<extra></extra>",
         "lat": {
          "bdata": "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",
          "dtype": "f8"
         },
         "legendgroup": "Brooklyn",
         "lon": {
          "bdata": "VpqUgm57UsCqDU5Ev35SwGaGjbJ+eVLAHVpkO997UsBZ3lUPmHxSwIXv/Q3afFLAkzmWd9V8UsDrNqj91n5SwPhsHRzsflLA+n3/5sV8UsDb39kevX1SwCi2gqYle1LAzaylgLR6UsDTM73EWHxSwDLMCdrke1LAcvkP6bd/UsB6GjBI+nlSwAvsMZHSfFLAihwibk58UsD1SIPb2npSwC8X8Z2YfVLAaAOwARF+UsBPPdLgtndSwIEFMGXggFLAvk1/9iN7UsCxTpXvGX9SwFA4u7VMf1LAWYrkK4F/UsD+fcaFA4FSwCxhbYydfVLAn3O366V8UsBosKnzqHtSwHrE6LmFfVLAliL5SiB9UsB2+6wyU31SwFPpJ5zdfFLA3e16aYp8UsAOEMzR43pSwLaCpiVWgFLAmnyzzY18UsD+uP3yyXtSwMVW0LTEgFLA9fbnoiGAUsBjQWFQpn9SwJ8hHLPsf1LAN9+I7ll8UsCA1ZEjnXtSwPEuF/GdfVLA1ub/VUd/UsAK9fQR+HpSwNLijGFOf1LAWfymsFJ9UsDqswOuK3xSwB1WuOUjfVLAa9JtiVx/UsAa3UHsTH1SwHe8yW/RfFLA+YctPZp9UsAkC5jArX1SwLHfE+tUflLA9tGpK59+UsDURJ+PMn5SwP8G7dXHfFLAmIbhI2J9UsAvNq0UAnxSwICaWrbWfFLA0csollt7UsBoklhS7n1SwLwi+N9KflLA9utOd55/UsAQzqeOVXpSwDrKwWwCe1LADCHn/X9/UsDEX5M16oBSwJ3VAntMfVLA5lyKq8p8UsD6XkNwXHpSwB3pDIy8fVLAJ9vAHah3UsDggQGED3xSwBugNNQofFLAwcjLmlh8UsBZorPMInpSwKMFaFvNflLAi6n0E858UsD3kzE+zHxSwO244XfTfFLAIVor2hx9UsBV2uIan31SwKJinL8Jf1LA1jibjgB6UsC2uTE9YXpSwL4wmSoYflLAylLr/UZ9UsDJxoMtdn1SwFEyObUzfVLAaqUQyCV9UsAfEr73N3pSwACOPXsufVLAEAUzpmB8UsBAFMyYgn1SwCKmRBK9flLAezNqvkp8UsAUQgddwn5SwOId4EkLgFLACD2bVZ95UsBmSYCaWnxSwO4KfbCMeVLA68n8o29/UsBd4PJYM39SwHY25J8ZfVLANPj7xWx/UsAQAvIlVH1SwHGS5o9pfVLATwZHyat9UsC2R2+4j39SwIbj+QyoelLA3dJqSNx7UsBPWOIBZXlSwEuwOJz5eVLAmn0eozx9UsD3sBcK2H5SwET4F0FjfVLAXMr5Yu9/UsDp7c9FQ31SwMA8ZMqHflLAqoJRSZ13UsC/Y3jsZ3xSwKPJxRhYfVLAFw6EZAF7UsCutmJ/2XxSwCi37XvUflLApFAWvr5/UsASg8DKoXtSwNfAVgkWeVLAgzRj0XR6UsDjjGFO0HxSwM3oR8Mpe1LAERjrG5h+UsDmV3OAYHxSwGxe1VktfFLAevzepj99UsCTxJJy93xSwI20VN6Od1LAFk890uB+UsDecYqO5HtSwBYyVwbVfFLABKkUOxp8UsDOHJJaKHxSwD5anDHMfFLAy2d5Htx5UsAGY0Si0HxSwHnKarqeelLAjxmojH99UsD2J/G5E4FSwJFI2/gTf1LAf4XMlUF/UsDOVIhH4nxSwNvbLckBfVLAlnfVA+Z+UsA9mX/0TXpSwAzNdRppfVLAvr7WpUZ+UsC4kbJF0nlSwMAg6dMqf1LAKJ1IMNV/UsAqkNlZ9HxSwIs2x7lNfVLASZ9W0R9/UsBwlScQdn9SwC7+tidIgFLAAFeyYyN9UsATDOcaZnxSwGdjJeZZfVLABrr2BfSAUsA1RYDTu3pSwIWX4NQHfVLAdNL7xtd+UsBXBtUGJ3pSwD9SRIZVelLAnnx6bMt8UsCbOSS1UH1SwF73ViQmfVLAb7iP3Jp+UsDc2sLzUnxSwIf+CS5WelLAYRxcOuZ8UsCjW6/pQX1SwNEhcCTQd1LAOQt72uF8UsC45LhTOn5SwNCX3v5cfVLAlDR/TGuAUsDikA2ki31SwO/KLhhcflLAnRIQk3B/UsBsQlpj0H5SwEg17PfEfFLAvALRkzJ9UsCismFNZXpSwA1TW+ogf1LAxooaTMN8UsChR4yeW31SwDZzSGqhf1LAyO4CJQV9UsBMT1jiAX1SwMFu2LYofVLAF9NM9zp7UsBeL00R4HlSwNmUK7zLfFLAqvQTzm56UsDM1CR4Q3lSwIuH9xxYeVLAG7luSnl8UsCjdOlfkndSwOPjE7LzfVLAWJBmLJp/UsDwbI/ecH9SwI85z9iXe1LAiV3b2y19UsCAKQMHtH5SwN8Vwf9WflLAAiocQSp9UsCjkGRW73pSwMZNDTSfe1LASPsfYK16UsBq2zAKgnpSwIyDS8ecfVLAl1XYDHB5UsCZDp2ed31SwIaTNH9MfFLAf4XMlUF6UsALXYlA9XtSwCOimLwBf1LA76mc9pR/UsA7VFOSdX1SwCrIz0auf1LAYvay7bR/UsBRweEFEX1SwPQ2NjtSfVLAQ1VMpZ99UsDL2NDN/npSwG3+X3XkelLAjdMQVfh/UsBdp5GWynlSwIAQyZBjfVLAca5hhsZ+UsBd+SzPg3xSwJeRek/lfFLAy4KJP4p6UsDTpX9JKn9SwIOG/gkuelLAV3xD4bN9UsD4i9mSVXtSwCI3ww34eVLALSEf9Gx9UsDo+Ghxxn5SwHTsoBLXfFLAFeKReHl/UsAIA8+9h4BSwPerAN9tfFLAY15HHLJ6UsCG/3QDBXtSwGeZRSi2fVLAyeaqeY5+UsDf+NozS3xSwNJwytx8flLAU+dR8X9/UsBlx0YgXn1SwN2YnrDEd1LARpc3h2t9UsD+X3XkSH1SwNcVM8LbfFLAQ5CDEmZ6UsBKQiJt43xSwM0eaAWGf1LA203wTdN8UsBkXdxGA3pSwK5nCMcsfVLADhXj/E18UsBp44i1+IBSwCKq8Gd4fVLAgxjo2hd9UsBGQ8ajVH1SwDV5ymq6f1LAtp+M8WF/UsANcayL231SwNfbZirEfFLAmx2pvvN+UsAz+zxGeXdSwKZHUz2ZfFLAySHi5lR8UsDcoPZbO39SwEkPQ6uTfFLA7l2DvvR6UsAaxAd2/H1SwDBHj9/bfFLASWWKOQh9UsBSYWwhyHpSwJnzjH3JfFLAz2vsEtV5UsCC/61kx4BSwPpGdM+6eVLAiUFg5dB6UsDir8ka9X5SwHdoWIy6fVLABdzz/Gl8UsCgiEUMO39SwPvpP2t+fVLAhNbDl4l/UsB2weCaO3pSwAzmr5C5eVLAXeFdLuJ9UsAah/pd2HxSwC6QoPgxgFLAY4BEEyiAUsACgc6kTXxSwBIWFXE6fVLAx549l6l6UsAOvFruzHxSwMLZrWUyfVLA+cCO/wJ9UsCC/de5aX1SwG7A54cRfVLAXALwT6l8UsDj4T0HlnpSwDoDIy9reVLAZRniWBeBUsCDTDJyFnpSwNXrFoGxfVLA26LMBpl/UsCk/KTap3pSwCqRRC+jelLAvko+dhd8UsAAHHv2XHpSwD9wlScQe1LAfCk8aHZ9UsC+9WG9UXxSwHjuPVxyflLA+G7zxkl+UsC7fyxEh35SwLK+gcmNf1LAJo3ROqp/UsCxTpXvGXpSwMdmR6rvfVLAXi13ZoJ7UsBI+Um1T31SwC0Kuyh6fVLAryE4LuN6UsAyzAna5H1SwHyakxeZelLAj8L1KFx+UsCazHhb6YBSwJ29M9qqfVLAJhsPtth8UsCRRC+jWH1SwA==",
          "dtype": "f8"
         },
         "marker": {
          "color": "#EF553B"
         },
         "mode": "markers",
         "name": "Brooklyn",
         "showlegend": true,
         "subplot": "mapbox",
         "type": "scattermapbox"
        },
        {
         "hovertemplate": "borough=Manhattan<br>latitude=%{lat}<br>longitude=%{lon}<extra></extra>",
         "lat": {
          "bdata": "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",
          "dtype": "f8"
         },
         "legendgroup": "Manhattan",
         "lon": {
          "bdata": "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",
          "dtype": "f8"
         },
         "marker": {
          "color": "#00cc96"
         },
         "mode": "markers",
         "name": "Manhattan",
         "showlegend": true,
         "subplot": "mapbox",
         "type": "scattermapbox"
        },
        {
         "hovertemplate": "borough=Bronx<br>latitude=%{lat}<br>longitude=%{lon}<extra></extra>",
         "lat": {
          "bdata": "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",
          "dtype": "f8"
         },
         "legendgroup": "Bronx",
         "lon": {
          "bdata": "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",
          "dtype": "f8"
         },
         "marker": {
          "color": "#ab63fa"
         },
         "mode": "markers",
         "name": "Bronx",
         "showlegend": true,
         "subplot": "mapbox",
         "type": "scattermapbox"
        },
        {
         "hovertemplate": "borough=Staten Island<br>latitude=%{lat}<br>longitude=%{lon}<extra></extra>",
         "lat": {
          "bdata": "GELO+/9IREAZr3lVZ0lEQC81Qj9TSURAhq+vdalRREDu6lVkdEpEQFqEYitoSkRAd0zdlV1OREDvjLYqiVJEQAvT9xqCS0RAgjgPJzBJRECcacL2k0tEQAFuFi8WSkRAI4PcRZhMREC+wRcmU0lEQPm+uFSlS0RA/RGGAUtIRECq1sIstEtEQMRCrWneUURAUwWjkjpJREBKlpNQ+k5EQM3mcRjMSURAfhr35jdMREDuJvim6U9EQKeufJbnR0RAAfkSKjhKREDiyW5m9ElEQDaxwFd0S0RACyjU00dQREAno8ow7k5EQBQmjGZlS0RADYrmASxIRED35cx2hVJEQKd4XFSLTERAFkuRfCVSREAN4C2QoFBEQCjTaHIxSkRA+3lTkQpJREBn1HyVfE5EQIyEtpxLSURAmwDD8udJREARqtTsgUxEQDC8kuS5UkRArg6AuKtJREAnMJ3WbUhEQI18XvHUSURAFCNL5lhORECalIJuL0tEQLhc/dgkSURAmrUUkPZPREDFOlW+Z05EQA==",
          "dtype": "f8"
         },
         "legendgroup": "Staten Island",
         "lon": {
          "bdata": "wjHLngSHUsC7mGa614ZSwIV5jzNNh1LASl8IOe+EUsA3GsBbIIdSwMy0/Ssrh1LA/5YA/FOIUsA/jXvzG4ZSwEcCDTZ1hlLA0XgiiPOGUsCaXIyBdYZSwBeBsb6BhlLAnz2XqUmFUsDaAkLr4YZSwEhqoWRyhlLA+Ki/XmGHUsAw2uOFdIZSwNtN8E3ThFLAAkcCDTaHUsCTGW8rvYRSwKg0YmafhlLApKXydoSFUsAhdTv7yohSwL+4VKUth1LASU27mGaGUsBxAz4/jIZSwCBCXDl7hlLAbw9CQL6EUsCSQINNnYZSwLKhm/2BhlLAhjjWxW2HUsC+EkiJXYZSwLN78rBQhVLAYwys4/iEUsDeq1Ym/IZSwLoRFhVxhlLAeM+B5QiHUsB+ObNdoYdSwAg7xapBh1LA2c9iKZKGUsBNnx1wXYVSwAAeUaG6hVLAPgYrTrWGUsDFGi5yT4dSwKgAGM+ghlLAE30+yoiEUsBZFeEmo4ZSwLZmKy/5hlLAFHXmHhKJUsCEukihLIhSwA==",
          "dtype": "f8"
         },
         "marker": {
          "color": "#FFA15A"
         },
         "mode": "markers",
         "name": "Staten Island",
         "showlegend": true,
         "subplot": "mapbox",
         "type": "scattermapbox"
        }
       ],
       "layout": {
        "legend": {
         "title": {
          "text": "borough"
         },
         "tracegroupgap": 0
        },
        "mapbox": {
         "center": {
          "lat": 40.75201034222223,
          "lon": -73.94554292044444
         },
         "domain": {
          "x": [
           0,
           1
          ],
          "y": [
           0,
           1
          ]
         },
         "style": "carto-positron",
         "zoom": 9
        },
        "template": {
         "data": {
          "bar": [
           {
            "error_x": {
             "color": "#2a3f5f"
            },
            "error_y": {
             "color": "#2a3f5f"
            },
            "marker": {
             "line": {
              "color": "#E5ECF6",
              "width": 0.5
             },
             "pattern": {
              "fillmode": "overlay",
              "size": 10,
              "solidity": 0.2
             }
            },
            "type": "bar"
           }
          ],
          "barpolar": [
           {
            "marker": {
             "line": {
              "color": "#E5ECF6",
              "width": 0.5
             },
             "pattern": {
              "fillmode": "overlay",
              "size": 10,
              "solidity": 0.2
             }
            },
            "type": "barpolar"
           }
          ],
          "carpet": [
           {
            "aaxis": {
             "endlinecolor": "#2a3f5f",
             "gridcolor": "white",
             "linecolor": "white",
             "minorgridcolor": "white",
             "startlinecolor": "#2a3f5f"
            },
            "baxis": {
             "endlinecolor": "#2a3f5f",
             "gridcolor": "white",
             "linecolor": "white",
             "minorgridcolor": "white",
             "startlinecolor": "#2a3f5f"
            },
            "type": "carpet"
           }
          ],
          "choropleth": [
           {
            "colorbar": {
             "outlinewidth": 0,
             "ticks": ""
            },
            "type": "choropleth"
           }
          ],
          "contour": [
           {
            "colorbar": {
             "outlinewidth": 0,
             "ticks": ""
            },
            "colorscale": [
             [
              0,
              "#0d0887"
             ],
             [
              0.1111111111111111,
              "#46039f"
             ],
             [
              0.2222222222222222,
              "#7201a8"
             ],
             [
              0.3333333333333333,
              "#9c179e"
             ],
             [
              0.4444444444444444,
              "#bd3786"
             ],
             [
              0.5555555555555556,
              "#d8576b"
             ],
             [
              0.6666666666666666,
              "#ed7953"
             ],
             [
              0.7777777777777778,
              "#fb9f3a"
             ],
             [
              0.8888888888888888,
              "#fdca26"
             ],
             [
              1,
              "#f0f921"
             ]
            ],
            "type": "contour"
           }
          ],
          "contourcarpet": [
           {
            "colorbar": {
             "outlinewidth": 0,
             "ticks": ""
            },
            "type": "contourcarpet"
           }
          ],
          "heatmap": [
           {
            "colorbar": {
             "outlinewidth": 0,
             "ticks": ""
            },
            "colorscale": [
             [
              0,
              "#0d0887"
             ],
             [
              0.1111111111111111,
              "#46039f"
             ],
             [
              0.2222222222222222,
              "#7201a8"
             ],
             [
              0.3333333333333333,
              "#9c179e"
             ],
             [
              0.4444444444444444,
              "#bd3786"
             ],
             [
              0.5555555555555556,
              "#d8576b"
             ],
             [
              0.6666666666666666,
              "#ed7953"
             ],
             [
              0.7777777777777778,
              "#fb9f3a"
             ],
             [
              0.8888888888888888,
              "#fdca26"
             ],
             [
              1,
              "#f0f921"
             ]
            ],
            "type": "heatmap"
           }
          ],
          "histogram": [
           {
            "marker": {
             "pattern": {
              "fillmode": "overlay",
              "size": 10,
              "solidity": 0.2
             }
            },
            "type": "histogram"
           }
          ],
          "histogram2d": [
           {
            "colorbar": {
             "outlinewidth": 0,
             "ticks": ""
            },
            "colorscale": [
             [
              0,
              "#0d0887"
             ],
             [
              0.1111111111111111,
              "#46039f"
             ],
             [
              0.2222222222222222,
              "#7201a8"
             ],
             [
              0.3333333333333333,
              "#9c179e"
             ],
             [
              0.4444444444444444,
              "#bd3786"
             ],
             [
              0.5555555555555556,
              "#d8576b"
             ],
             [
              0.6666666666666666,
              "#ed7953"
             ],
             [
              0.7777777777777778,
              "#fb9f3a"
             ],
             [
              0.8888888888888888,
              "#fdca26"
             ],
             [
              1,
              "#f0f921"
             ]
            ],
            "type": "histogram2d"
           }
          ],
          "histogram2dcontour": [
           {
            "colorbar": {
             "outlinewidth": 0,
             "ticks": ""
            },
            "colorscale": [
             [
              0,
              "#0d0887"
             ],
             [
              0.1111111111111111,
              "#46039f"
             ],
             [
              0.2222222222222222,
              "#7201a8"
             ],
             [
              0.3333333333333333,
              "#9c179e"
             ],
             [
              0.4444444444444444,
              "#bd3786"
             ],
             [
              0.5555555555555556,
              "#d8576b"
             ],
             [
              0.6666666666666666,
              "#ed7953"
             ],
             [
              0.7777777777777778,
              "#fb9f3a"
             ],
             [
              0.8888888888888888,
              "#fdca26"
             ],
             [
              1,
              "#f0f921"
             ]
            ],
            "type": "histogram2dcontour"
           }
          ],
          "mesh3d": [
           {
            "colorbar": {
             "outlinewidth": 0,
             "ticks": ""
            },
            "type": "mesh3d"
           }
          ],
          "parcoords": [
           {
            "line": {
             "colorbar": {
              "outlinewidth": 0,
              "ticks": ""
             }
            },
            "type": "parcoords"
           }
          ],
          "pie": [
           {
            "automargin": true,
            "type": "pie"
           }
          ],
          "scatter": [
           {
            "fillpattern": {
             "fillmode": "overlay",
             "size": 10,
             "solidity": 0.2
            },
            "type": "scatter"
           }
          ],
          "scatter3d": [
           {
            "line": {
             "colorbar": {
              "outlinewidth": 0,
              "ticks": ""
             }
            },
            "marker": {
             "colorbar": {
              "outlinewidth": 0,
              "ticks": ""
             }
            },
            "type": "scatter3d"
           }
          ],
          "scattercarpet": [
           {
            "marker": {
             "colorbar": {
              "outlinewidth": 0,
              "ticks": ""
             }
            },
            "type": "scattercarpet"
           }
          ],
          "scattergeo": [
           {
            "marker": {
             "colorbar": {
              "outlinewidth": 0,
              "ticks": ""
             }
            },
            "type": "scattergeo"
           }
          ],
          "scattergl": [
           {
            "marker": {
             "colorbar": {
              "outlinewidth": 0,
              "ticks": ""
             }
            },
            "type": "scattergl"
           }
          ],
          "scattermap": [
           {
            "marker": {
             "colorbar": {
              "outlinewidth": 0,
              "ticks": ""
             }
            },
            "type": "scattermap"
           }
          ],
          "scattermapbox": [
           {
            "marker": {
             "colorbar": {
              "outlinewidth": 0,
              "ticks": ""
             }
            },
            "type": "scattermapbox"
           }
          ],
          "scatterpolar": [
           {
            "marker": {
             "colorbar": {
              "outlinewidth": 0,
              "ticks": ""
             }
            },
            "type": "scatterpolar"
           }
          ],
          "scatterpolargl": [
           {
            "marker": {
             "colorbar": {
              "outlinewidth": 0,
              "ticks": ""
             }
            },
            "type": "scatterpolargl"
           }
          ],
          "scatterternary": [
           {
            "marker": {
             "colorbar": {
              "outlinewidth": 0,
              "ticks": ""
             }
            },
            "type": "scatterternary"
           }
          ],
          "surface": [
           {
            "colorbar": {
             "outlinewidth": 0,
             "ticks": ""
            },
            "colorscale": [
             [
              0,
              "#0d0887"
             ],
             [
              0.1111111111111111,
              "#46039f"
             ],
             [
              0.2222222222222222,
              "#7201a8"
             ],
             [
              0.3333333333333333,
              "#9c179e"
             ],
             [
              0.4444444444444444,
              "#bd3786"
             ],
             [
              0.5555555555555556,
              "#d8576b"
             ],
             [
              0.6666666666666666,
              "#ed7953"
             ],
             [
              0.7777777777777778,
              "#fb9f3a"
             ],
             [
              0.8888888888888888,
              "#fdca26"
             ],
             [
              1,
              "#f0f921"
             ]
            ],
            "type": "surface"
           }
          ],
          "table": [
           {
            "cells": {
             "fill": {
              "color": "#EBF0F8"
             },
             "line": {
              "color": "white"
             }
            },
            "header": {
             "fill": {
              "color": "#C8D4E3"
             },
             "line": {
              "color": "white"
             }
            },
            "type": "table"
           }
          ]
         },
         "layout": {
          "annotationdefaults": {
           "arrowcolor": "#2a3f5f",
           "arrowhead": 0,
           "arrowwidth": 1
          },
          "autotypenumbers": "strict",
          "coloraxis": {
           "colorbar": {
            "outlinewidth": 0,
            "ticks": ""
           }
          },
          "colorscale": {
           "diverging": [
            [
             0,
             "#8e0152"
            ],
            [
             0.1,
             "#c51b7d"
            ],
            [
             0.2,
             "#de77ae"
            ],
            [
             0.3,
             "#f1b6da"
            ],
            [
             0.4,
             "#fde0ef"
            ],
            [
             0.5,
             "#f7f7f7"
            ],
            [
             0.6,
             "#e6f5d0"
            ],
            [
             0.7,
             "#b8e186"
            ],
            [
             0.8,
             "#7fbc41"
            ],
            [
             0.9,
             "#4d9221"
            ],
            [
             1,
             "#276419"
            ]
           ],
           "sequential": [
            [
             0,
             "#0d0887"
            ],
            [
             0.1111111111111111,
             "#46039f"
            ],
            [
             0.2222222222222222,
             "#7201a8"
            ],
            [
             0.3333333333333333,
             "#9c179e"
            ],
            [
             0.4444444444444444,
             "#bd3786"
            ],
            [
             0.5555555555555556,
             "#d8576b"
            ],
            [
             0.6666666666666666,
             "#ed7953"
            ],
            [
             0.7777777777777778,
             "#fb9f3a"
            ],
            [
             0.8888888888888888,
             "#fdca26"
            ],
            [
             1,
             "#f0f921"
            ]
           ],
           "sequentialminus": [
            [
             0,
             "#0d0887"
            ],
            [
             0.1111111111111111,
             "#46039f"
            ],
            [
             0.2222222222222222,
             "#7201a8"
            ],
            [
             0.3333333333333333,
             "#9c179e"
            ],
            [
             0.4444444444444444,
             "#bd3786"
            ],
            [
             0.5555555555555556,
             "#d8576b"
            ],
            [
             0.6666666666666666,
             "#ed7953"
            ],
            [
             0.7777777777777778,
             "#fb9f3a"
            ],
            [
             0.8888888888888888,
             "#fdca26"
            ],
            [
             1,
             "#f0f921"
            ]
           ]
          },
          "colorway": [
           "#636efa",
           "#EF553B",
           "#00cc96",
           "#ab63fa",
           "#FFA15A",
           "#19d3f3",
           "#FF6692",
           "#B6E880",
           "#FF97FF",
           "#FECB52"
          ],
          "font": {
           "color": "#2a3f5f"
          },
          "geo": {
           "bgcolor": "white",
           "lakecolor": "white",
           "landcolor": "#E5ECF6",
           "showlakes": true,
           "showland": true,
           "subunitcolor": "white"
          },
          "hoverlabel": {
           "align": "left"
          },
          "hovermode": "closest",
          "mapbox": {
           "style": "light"
          },
          "paper_bgcolor": "white",
          "plot_bgcolor": "#E5ECF6",
          "polar": {
           "angularaxis": {
            "gridcolor": "white",
            "linecolor": "white",
            "ticks": ""
           },
           "bgcolor": "#E5ECF6",
           "radialaxis": {
            "gridcolor": "white",
            "linecolor": "white",
            "ticks": ""
           }
          },
          "scene": {
           "xaxis": {
            "backgroundcolor": "#E5ECF6",
            "gridcolor": "white",
            "gridwidth": 2,
            "linecolor": "white",
            "showbackground": true,
            "ticks": "",
            "zerolinecolor": "white"
           },
           "yaxis": {
            "backgroundcolor": "#E5ECF6",
            "gridcolor": "white",
            "gridwidth": 2,
            "linecolor": "white",
            "showbackground": true,
            "ticks": "",
            "zerolinecolor": "white"
           },
           "zaxis": {
            "backgroundcolor": "#E5ECF6",
            "gridcolor": "white",
            "gridwidth": 2,
            "linecolor": "white",
            "showbackground": true,
            "ticks": "",
            "zerolinecolor": "white"
           }
          },
          "shapedefaults": {
           "line": {
            "color": "#2a3f5f"
           }
          },
          "ternary": {
           "aaxis": {
            "gridcolor": "white",
            "linecolor": "white",
            "ticks": ""
           },
           "baxis": {
            "gridcolor": "white",
            "linecolor": "white",
            "ticks": ""
           },
           "bgcolor": "#E5ECF6",
           "caxis": {
            "gridcolor": "white",
            "linecolor": "white",
            "ticks": ""
           }
          },
          "title": {
           "x": 0.05
          },
          "xaxis": {
           "automargin": true,
           "gridcolor": "white",
           "linecolor": "white",
           "ticks": "",
           "title": {
            "standoff": 15
           },
           "zerolinecolor": "white",
           "zerolinewidth": 2
          },
          "yaxis": {
           "automargin": true,
           "gridcolor": "white",
           "linecolor": "white",
           "ticks": "",
           "title": {
            "standoff": 15
           },
           "zerolinecolor": "white",
           "zerolinewidth": 2
          }
         }
        },
        "title": {
         "text": "LinkNYC Kiosk Distribution Across NYC"
        }
       }
      }
     },
     "metadata": {},
     "output_type": "display_data"
    }
   ],
   "source": [
    "import plotly.express as px\n",
    "\n",
    "px.scatter_mapbox(\n",
    "    df,\n",
    "    lat='latitude',\n",
    "    lon='longitude',\n",
    "    color='borough',\n",
    "    zoom=9,\n",
    "    mapbox_style='carto-positron',\n",
    "    title='LinkNYC Kiosk Distribution Across NYC'\n",
    ")\n"
   ]
  },
  {
   "cell_type": "markdown",
   "id": "56133f16",
   "metadata": {},
   "source": [
    "### Wi-Fi Geographic Density & Gaps\n",
    "\n",
    "The geographic distribution of LinkNYC kiosks shows **high density in Manhattan**, especially along commercial corridors like Midtown and Downtown, where foot traffic and ad visibility are strongest.  \n",
    "\n",
    "In contrast, **outer boroughs** - particularly the **Bronx** and **Staten Island** - have noticeably fewer kiosks, highlighting **uneven Wi-Fi access** across the city.\n",
    "\n",
    "For stakeholders, this pattern suggests that while LinkNYC effectively captures the city’s commercial core, there is **growth potential in underserved neighborhoods**.  \n",
    "\n",
    "Future expansions, especially under the **Link5G rollout**, can help close these geographic gaps while opening new opportunities for community access and localized advertising.\n"
   ]
  },
  {
   "cell_type": "markdown",
   "id": "f05ebfd5",
   "metadata": {},
   "source": [
    "### Geographic Distribution Insights\n",
    "\n",
    "This map shows the geographic spread of LinkNYC kiosks across the five boroughs.  Each dot represents a kiosk, colored by borough.\n",
    "\n",
    "- **Manhattan** has the highest kiosk concentration, especially in Midtown and Downtown - aligning with its dense foot traffic and advertising opportunities.\n",
    "- **Queens** and **Brooklyn** have moderate coverage, mostly clustered along  corridors and commercial hubs.  \n",
    "- **The Bronx** shows fewer kiosks, primarily near transit or shopping zones.  \n",
    "- **Staten Island** has minimal representation, highlighting a gap in both digital access and advertising reach.  \n",
    "\n",
    "These spatial patterns confirm that LinkNYC’s infrastructure  and by extension, ad visibility is heavily centered in Manhattan’s commercial zones, leaving outer boroughs with significant growth potential."
   ]
  },
  {
   "cell_type": "markdown",
   "id": "03cd2c80",
   "metadata": {},
   "source": [
    "Context terms to know of: \n",
    "- **Commercial Hubs:** These are busy areas where people shop, work, eat, or travel basically places that attract a lot of foot traffic.\n",
    "    - Examples in NYC: Times Square, Midtown Manhattan (6th Ave, 5th Ave), Downtown Brooklyn, Queens Center Mall area\n",
    "- These areas are prime ad zones, more people walking by means more impressions for digital ads on LinkNYC kiosks!\n",
    "\n",
    "- **Commercial Corridors:** a major street/avenue lined up with businesses, stores, offices, transit stops, basically like a main artery of activities throughout a neighborhood\n",
    "    - Examples: 125th Street in Harlem, Flatbush Avenue in Brooklyn, Queens Boulevard in Queens, Fordham Road in the Bronx\n",
    "- Kiosks placed along these corridors capture consistent, predictable exposure because commuters, pedestrians, and shoppers pass them daily."
   ]
  },
  {
   "cell_type": "code",
   "execution_count": 21,
   "id": "3ba5cbd8",
   "metadata": {},
   "outputs": [
    {
     "data": {
      "text/plain": [
       "zone_type\n",
       "C    2011\n",
       "M     175\n",
       "R      56\n",
       "P       4\n",
       "Name: count, dtype: int64"
      ]
     },
     "execution_count": 21,
     "metadata": {},
     "output_type": "execute_result"
    }
   ],
   "source": [
    "df['zone_type'] = df['zoning'].str[0]\n",
    "df['zone_type'].value_counts()"
   ]
  },
  {
   "cell_type": "code",
   "execution_count": 22,
   "id": "53100cae",
   "metadata": {},
   "outputs": [
    {
     "data": {
      "text/plain": [
       "zone_type\n",
       "C    89.54\n",
       "M     7.79\n",
       "R     2.49\n",
       "P     0.18\n",
       "Name: proportion, dtype: float64"
      ]
     },
     "execution_count": 22,
     "metadata": {},
     "output_type": "execute_result"
    }
   ],
   "source": [
    "zone_type_density = (df['zone_type'].value_counts(normalize=True) * 100).round(2)\n",
    "zone_type_density"
   ]
  },
  {
   "cell_type": "code",
   "execution_count": 23,
   "id": "ec0f2002",
   "metadata": {},
   "outputs": [
    {
     "data": {
      "image/png": "[encoded data removed]",
      "text/plain": [
       "<Figure size 640x480 with 1 Axes>"
      ]
     },
     "metadata": {},
     "output_type": "display_data"
    }
   ],
   "source": [
    "df['zone_type'].value_counts().plot(kind='bar', color=['#6d597a','#b56576','#eaac8b'])\n",
    "plt.title('Distribution of Kiosks by Zoning Type')\n",
    "plt.xlabel('Zone Type')\n",
    "plt.ylabel('Number of Kiosks')\n",
    "plt.show()\n"
   ]
  },
  {
   "cell_type": "markdown",
   "id": "e053e3b8",
   "metadata": {},
   "source": [
    "| Letter | Zone Type                 | Meaning / Where You’d See It                                                              | Why it matters for our stakeholders                                       |\n",
    "| ------ | ------------------------- | ----------------------------------------------------------------------------------------- | ------------------------------------------------------------ |\n",
    "| **C**  | **Commercial**            | Busy business areas — stores, offices, main streets like 5th Ave, Madison, Flatbush, etc. | **Most ads here!** High visibility and foot traffic.      |\n",
    "| **R**  | **Residential**           | Neighborhoods, apartment zones, quieter areas                                             | Less ad reach, more about public access (Wi-Fi benefit). |\n",
    "| **M**  | **Manufacturing**         | Industrial or warehouse zones (e.g., parts of Brooklyn or Queens)                         | Lower ad exposure, not ideal for partnerships.            |\n",
    "| **P**  | **Parks / Public** (rare) | Parks or public use land (you might see a few)                                            | Special cases, usually limited ad usage.                  |\n"
   ]
  },
  {
   "cell_type": "markdown",
   "id": "7d31951e",
   "metadata": {},
   "source": [
    "The majority of LinkNYC kiosks are located in commercial zones, which aligns with ad visibility and partnership goals — they’re placed right where people shop, commute, and work."
   ]
  },
  {
   "cell_type": "markdown",
   "id": "49311d3a",
   "metadata": {},
   "source": [
    "### Notes\n",
    "- How It Relates to Stakeholders (City Advertising & Partnerships):\n",
    "    - The zoning data gives insight into where ads are currently reaching people and where they aren’t.\n",
    "- Here’s the business logic:\n",
    "    - The City Advertising team can use this to understand which neighborhoods already have strong ad exposure (C zones) and which could be targeted for expansion.\n",
    "    - It highlights an opportunity gap: areas under “R” zones (like the Bronx or Staten Island) might need more kiosks to ensure equitable access and expand the advertising footprint.\n",
    "    - The Partnerships team can pitch localized sponsorships, e.g., “Community Wi-Fi + ad space expansion in underrepresented zones.”"
   ]
  },
  {
   "cell_type": "markdown",
   "id": "e75cacaa",
   "metadata": {},
   "source": [
    "### Zoning Insights for Stakeholders\n",
    "\n",
    "The zoning breakdown reveals that **most LinkNYC kiosks are located in commercial (C) zones**, aligning with high-traffic business districts where advertising visibility is highest.  \n",
    "\n",
    "This concentration supports the City Advertising and Partnerships team's current strategy to maximize ad impressions in dense, commercial areas.  \n",
    "\n",
    "However, the smaller presence in **residential (R)** and **manufacturing (M)** zones indicates potential **growth opportunities**:\n",
    "- Expanding kiosks in residential areas can increase equity and digital access.  \n",
    "- Targeted installations in underrepresented areas could broaden the advertising network’s reach and community impact.\n",
    "\n",
    "In summary, the zoning data confirms that LinkNYC’s network is optimized for commercial engagement while also highlighting untapped potential for community-focused expansion.\n"
   ]
  },
  {
   "cell_type": "markdown",
   "id": "50e534de",
   "metadata": {},
   "source": [
    "### How come P zones have such little to no kiosks?\n",
    "\n",
    "Well they are uncommon because “P” zones are usually city-owned parkland or open public spaces (like Central Park, Prospect Park, Flushing Meadows, etc.)\n",
    "- Any kind of commercial installation especially something that shows ads - has to go through strict approval processes by NYC Parks and the Public Design Commission\n",
    "- Limited foot traffic patterns: Even though parks have visitors, the city doesn’t treat them like commercial areas.\n",
    "    - People go there to relax - not to shop or commute - so advertisers aren’t as interested in paying for ad space there.\n",
    "    - Plus, there aren’t as many power or internet hookups, which are needed for kiosks.\n",
    "- Public policy & perception:\n",
    "    - There’s also a public sentiment factor - NYC avoids over-commercializing parks to maintain their purpose as community and green spaces.\n",
    "    - Too many digital kiosks or ads could make parks feel cluttered or commercial, which goes against city planning goals.\n",
    "\n",
    "Summary:\n",
    "\n",
    "There are very few kiosks located in \"P\" zones, which represent parkland or open public spaces.   Due to strict city regulations and limited commercial activity, these areas are not prioritized for LinkNYC kiosk installations. This explains why kiosks and consequently, ad placements are concentrated in commercial (C) zones rather than parks or recreational areas.\n"
   ]
  },
  {
   "cell_type": "code",
   "execution_count": 24,
   "id": "f56b33ad",
   "metadata": {},
   "outputs": [
    {
     "data": {
      "image/png": "[encoded data removed]",
      "text/plain": [
       "<Figure size 640x480 with 1 Axes>"
      ]
     },
     "metadata": {},
     "output_type": "display_data"
    }
   ],
   "source": [
    "df['installation_complete'].dt.year.value_counts().sort_index().plot(kind='bar')\n",
    "plt.title('Number of Kiosks Installed per Year')\n",
    "plt.xlabel('Year')\n",
    "plt.ylabel('Count')\n",
    "plt.show()\n"
   ]
  },
  {
   "cell_type": "code",
   "execution_count": 25,
   "id": "949a641e",
   "metadata": {},
   "outputs": [
    {
     "data": {
      "text/html": [
       "<div>\n",
       "<style scoped>\n",
       "    .dataframe tbody tr th:only-of-type {\n",
       "        vertical-align: middle;\n",
       "    }\n",
       "\n",
       "    .dataframe tbody tr th {\n",
       "        vertical-align: top;\n",
       "    }\n",
       "\n",
       "    .dataframe thead th {\n",
       "        text-align: right;\n",
       "    }\n",
       "</style>\n",
       "<table border=\"1\" class=\"dataframe\">\n",
       "  <thead>\n",
       "    <tr style=\"text-align: right;\">\n",
       "      <th></th>\n",
       "      <th>site_id</th>\n",
       "      <th>planned_kiosk_type</th>\n",
       "      <th>installation_status</th>\n",
       "      <th>ppt_id</th>\n",
       "      <th>legacy_id</th>\n",
       "      <th>borough</th>\n",
       "      <th>council_district</th>\n",
       "      <th>community_board</th>\n",
       "      <th>street_address</th>\n",
       "      <th>cross_street_1</th>\n",
       "      <th>...</th>\n",
       "      <th>latitude</th>\n",
       "      <th>longitude</th>\n",
       "      <th>installation_complete</th>\n",
       "      <th>activation_complete</th>\n",
       "      <th>nta</th>\n",
       "      <th>bin</th>\n",
       "      <th>bbl</th>\n",
       "      <th>census_tract</th>\n",
       "      <th>location</th>\n",
       "      <th>zone_type</th>\n",
       "    </tr>\n",
       "  </thead>\n",
       "  <tbody>\n",
       "    <tr>\n",
       "      <th>435</th>\n",
       "      <td>mn-07-121406</td>\n",
       "      <td>Public Payphones</td>\n",
       "      <td>Live</td>\n",
       "      <td>121406</td>\n",
       "      <td>SC90265</td>\n",
       "      <td>Manhattan</td>\n",
       "      <td>6</td>\n",
       "      <td>107</td>\n",
       "      <td>621 WEST END AVENUE</td>\n",
       "      <td>NaN</td>\n",
       "      <td>...</td>\n",
       "      <td>40.791576</td>\n",
       "      <td>-73.976024</td>\n",
       "      <td>1971-12-01</td>\n",
       "      <td>1971-12-01</td>\n",
       "      <td>Upper West Side</td>\n",
       "      <td>1034081.0</td>\n",
       "      <td>1.012510e+09</td>\n",
       "      <td>1017900.0</td>\n",
       "      <td>(40.791576, -73.976024)</td>\n",
       "      <td>R</td>\n",
       "    </tr>\n",
       "    <tr>\n",
       "      <th>1054</th>\n",
       "      <td>mn-07-121379</td>\n",
       "      <td>Public Payphones</td>\n",
       "      <td>Live</td>\n",
       "      <td>121379</td>\n",
       "      <td>SC90256</td>\n",
       "      <td>Manhattan</td>\n",
       "      <td>6</td>\n",
       "      <td>107</td>\n",
       "      <td>139 WEST END AVENUE</td>\n",
       "      <td>NaN</td>\n",
       "      <td>...</td>\n",
       "      <td>40.776177</td>\n",
       "      <td>-73.987283</td>\n",
       "      <td>1971-12-01</td>\n",
       "      <td>1971-12-01</td>\n",
       "      <td>Lincoln Square</td>\n",
       "      <td>1030923.0</td>\n",
       "      <td>1.011790e+09</td>\n",
       "      <td>1015500.0</td>\n",
       "      <td>(40.776177, -73.987283)</td>\n",
       "      <td>R</td>\n",
       "    </tr>\n",
       "    <tr>\n",
       "      <th>1524</th>\n",
       "      <td>mn-07-120509</td>\n",
       "      <td>Public Payphones</td>\n",
       "      <td>Live</td>\n",
       "      <td>120509</td>\n",
       "      <td>SC90271</td>\n",
       "      <td>Manhattan</td>\n",
       "      <td>6</td>\n",
       "      <td>107</td>\n",
       "      <td>841 WEST END AVENUE</td>\n",
       "      <td>NaN</td>\n",
       "      <td>...</td>\n",
       "      <td>40.798583</td>\n",
       "      <td>-73.970917</td>\n",
       "      <td>1971-12-01</td>\n",
       "      <td>1971-12-01</td>\n",
       "      <td>Upper West Side</td>\n",
       "      <td>1057155.0</td>\n",
       "      <td>1.018898e+09</td>\n",
       "      <td>1018700.0</td>\n",
       "      <td>(40.798583, -73.970917)</td>\n",
       "      <td>R</td>\n",
       "    </tr>\n",
       "  </tbody>\n",
       "</table>\n",
       "<p>3 rows × 24 columns</p>\n",
       "</div>"
      ],
      "text/plain": [
       "           site_id planned_kiosk_type installation_status  ppt_id legacy_id  \\\n",
       "435   mn-07-121406   Public Payphones                Live  121406   SC90265   \n",
       "1054  mn-07-121379   Public Payphones                Live  121379   SC90256   \n",
       "1524  mn-07-120509   Public Payphones                Live  120509   SC90271   \n",
       "\n",
       "        borough  council_district  community_board       street_address  \\\n",
       "435   Manhattan                 6              107  621 WEST END AVENUE   \n",
       "1054  Manhattan                 6              107  139 WEST END AVENUE   \n",
       "1524  Manhattan                 6              107  841 WEST END AVENUE   \n",
       "\n",
       "     cross_street_1  ...   latitude  longitude  installation_complete  \\\n",
       "435             NaN  ...  40.791576 -73.976024             1971-12-01   \n",
       "1054            NaN  ...  40.776177 -73.987283             1971-12-01   \n",
       "1524            NaN  ...  40.798583 -73.970917             1971-12-01   \n",
       "\n",
       "     activation_complete              nta        bin           bbl  \\\n",
       "435           1971-12-01  Upper West Side  1034081.0  1.012510e+09   \n",
       "1054          1971-12-01   Lincoln Square  1030923.0  1.011790e+09   \n",
       "1524          1971-12-01  Upper West Side  1057155.0  1.018898e+09   \n",
       "\n",
       "     census_tract                 location  zone_type  \n",
       "435     1017900.0  (40.791576, -73.976024)          R  \n",
       "1054    1015500.0  (40.776177, -73.987283)          R  \n",
       "1524    1018700.0  (40.798583, -73.970917)          R  \n",
       "\n",
       "[3 rows x 24 columns]"
      ]
     },
     "execution_count": 25,
     "metadata": {},
     "output_type": "execute_result"
    }
   ],
   "source": [
    "# bruh 1971 entry is 100% an error - no LinkNYC kiosk existed back when disco was popping 💃\n",
    "df[df['installation_complete'].dt.year == 1971]\n"
   ]
  },
  {
   "cell_type": "markdown",
   "id": "20b4b39d",
   "metadata": {},
   "source": [
    "### Historical Context: When Were Kiosks Installed? (More info in doc)\n",
    "\n",
    "The first LinkNYC kiosks were installed in December of **2015**, following the city’s 2014 initiative to replace payphones with public Wi-Fi hubs. Installations peaked in **2017**, marking the program’s largest expansion phase. After 2018, growth slowed as the city shifted toward upgrading existing infrastructure and introducing the newer **Link5G** models beginning in 2021 and also rollout paused during COVID-19\n",
    "\n",
    "\n",
    "This timeline explains the spike around 2017 in the dataset and the smaller uptick after 2021, aligning with NYC’s ongoing 5G modernization efforts.\n"
   ]
  },
  {
   "cell_type": "code",
   "execution_count": 26,
   "id": "67d461d9",
   "metadata": {},
   "outputs": [],
   "source": [
    "df = df[df['installation_complete'].dt.year.between(2015, 2025)]"
   ]
  },
  {
   "cell_type": "code",
   "execution_count": 27,
   "id": "c51f2423",
   "metadata": {},
   "outputs": [
    {
     "data": {
      "image/png": "[encoded data removed]",
      "text/plain": [
       "<Figure size 640x480 with 1 Axes>"
      ]
     },
     "metadata": {},
     "output_type": "display_data"
    }
   ],
   "source": [
    "df['installation_complete'].dt.year.value_counts().sort_index().plot(kind='bar')\n",
    "plt.title('Number of Kiosks Installed per Year')\n",
    "plt.xlabel('Year')\n",
    "plt.ylabel('Count')\n",
    "plt.show()"
   ]
  },
  {
   "cell_type": "markdown",
   "id": "a8f6bcd3",
   "metadata": {},
   "source": [
    "### 5G switch in 2021-2025\n",
    "The city realized: Original LinkNYC kiosks were clustered in Manhattan (advertiser-friendly areas).\n",
    "- Many outer boroughs lacked equitable Wi-Fi access.\n",
    "- The city wanted to modernize the system while improving coverage.\n",
    "\n",
    "So the Link5G expansion aims to:\n",
    "\n",
    "- Bring 5G coverage to underserved areas.\n",
    "- Maintain ad revenue through the same screen-based sponsorship model.\n",
    "- Continue offering free Wi-Fi and calls."
   ]
  },
  {
   "cell_type": "markdown",
   "id": "1ffe310f",
   "metadata": {},
   "source": [
    "### Installation Trends & LinkNYC Timeline Insights\n",
    "\n",
    "The installation data reveals three clear phases in LinkNYC’s development - each aligning with the city’s broader technology goals.\n",
    "\n",
    "**Phase 1: Pilot & Initial Rollout (2015–2016)**  \n",
    "- LinkNYC’s first kiosks were installed in 2016 as part of the city’s plan to replace outdated payphones with free public Wi-Fi hubs.  \n",
    "- Installations during this phase focused primarily on **Manhattan**, especially in high-traffic commercial areas such as Midtown and Downtown.  \n",
    "- These early kiosks introduced free Wi-Fi, calling, charging, and city navigation tools, marking a major step toward digital equity and modernization.\n",
    "\n",
    "**Phase 2: Rapid Expansion Peak (2017–2018)**  \n",
    "- The data shows the highest spike in installations in **2017**, with nearly 900 new kiosks added citywide.  \n",
    "- This was the **main rollout phase**, where the city scaled installations across Manhattan, Brooklyn, and Queens.  \n",
    "- The focus was to maximize **advertising visibility** and **public adoption**. By the end of 2018, most central commercial corridors were equipped with LinkNYC kiosks, making the network a key piece of New York’s public tech infrastructure.\n",
    "\n",
    "\n",
    "**Phase 3: Slowdown & Maintenance (2019–2021)**  \n",
    "- After 2018, installations slowed significantly. The city shifted toward **maintaining existing kiosks**, addressing privacy concerns, and improving service reliability rather than expanding the network.  \n",
    "- This reflects the program’s transition from growth to **stabilization**.\n",
    "\n",
    "**Phase 4: Link5G Modernization (2022–2025)**  \n",
    "- The small resurgence of new installations in **2022 and beyond** corresponds to the **Link5G expansion**, which introduced taller, more advanced kiosks equipped with **5G antennas**.  \n",
    "- This upgrade aims to:\n",
    "    - Extend coverage to **outer boroughs** that lacked equitable Wi-Fi access.\n",
    "    - Continue generating ad revenue through the same dual-screen model.\n",
    "    - Provide infrastructure for **future-ready mobile networks**.\n",
    "\n",
    "**Overall Takeaway:**  \n",
    "The installation trend mirrors the city’s evolving priorities from rapid growth and visibility (2016–2018), to stabilization and regulation (2019–2021), and finally to modernization and equity (2022–2025).  \n",
    "\n",
    "For the City Advertising and Partnerships team, this timeline helps identify **where ad opportunities are most mature (Manhattan, Brooklyn)** and **where new visibility potential lies (Bronx, Queens, Staten Island)** as 5G kiosks roll out.\n"
   ]
  },
  {
   "cell_type": "code",
   "execution_count": 28,
   "id": "0e57e8d2",
   "metadata": {},
   "outputs": [
    {
     "name": "stderr",
     "output_type": "stream",
     "text": [
      "/var/folders/v2/9k8drrwj5h39kpr935vvx6j80000gn/T/ipykernel_4040/137839997.py:1: DeprecationWarning:\n",
      "\n",
      "*scatter_mapbox* is deprecated! Use *scatter_map* instead. Learn more at: https://plotly.com/python/mapbox-to-maplibre/\n",
      "\n"
     ]
    },
    {
     "data": {
      "application/vnd.plotly.v1+json": {
       "config": {
        "plotlyServerURL": "https://plot.ly"
       },
       "data": [
        {
         "hovertemplate": "zone_type=C<br>latitude=%{lat}<br>longitude=%{lon}<extra></extra>",
         "lat": {
          "bdata": "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",
          "dtype": "f8"
         },
         "legendgroup": "C",
         "lon": {
          "bdata": "ksoUcxB7UsBkAn6NJH9SwAZkr3d/flLAqg1ORL9+UsAMPWL03HlSwNL+B1irfVLA6zu/KEF7UsC6opQQrH5SwNqSVRFufFLA11HVBFF8UsDF5A0w835SwM8wtaUOdlLAnG1uTE99UsAurBvvjntSwHfWbrvQflLA0vvG1558UsCC597DJYBSwGXiVkEMf1LA9pfdk4d8UsAiOC7jpn1SwGaGjbJ+eVLAfLYODvZ3UsChoupXOn5SwOnSvySVflLABFq6gm1+UsAdWmQ733tSwLQ9esN9c1LA19mQf2Z8UsBhMlUwKnxSwKnaboJvelLAwjHLngSHUsDnU8cqpXlSwCCcTx2rfFLARUjdzr5+UsCs4LchxnpSwBh9BWnGelLAwavlzkx+UsCQwB9+/n5SwMAhVKnZflLA6/zbZb9/UsBZ3lUPmHxSwLGH9rGCdFLAVFbT9UR/UsDrp/+s+X1SwDOK5ZZWgFLASkbOwp54UsBE2zF1V35SwONUa2EWflLA3uUivhN5UsCF7/0N2nxSwI9srprnflLAkzmWd9V8UsBL6C6Js35SwLX+lgD8flLAMgQAx55/UsCyn8VSJIBSwDfHuU24d1LA88ZJYd5+UsBMUMO3sHNSwLpnXaPlclLA6zao/dZ+UsDT+lsC8HxSwBuciH5tfFLATiuFQC5+UsCpvYi2Y3pSwBcs1QW8eVLAibMiaqJ6UsCdhT3t8HhSwN4+q8yUflLAe4ZwzLJ5UsBF2VvK+XpSwICZ7+AneVLAat0Gtd99UsD4bB0c7H5SwM43onvWflLAQPz89+B/UsBwfO2ZJX5SwA2oN6PmflLAHa1qSUd+UsC+9sySAHVSwP8lqUwxf1LAptB5jV12UsCt+8dCdHxSwLq+DwcJfVLA+n3/5sV8UsAdlDDT9n1SwDPeVnptf1LAllzF4jd/UsC28pL/yX5SwFsLs9DOdVLAKLaCpiV7UsBMGw5LA35SwPZFQlvOfFLAzaylgLR6UsChFK3cC31SwEQV/gxveFLARkCFI0h8UsDVWwNbJX5SwIV7Zd6qfVLAk+UklL58UsDCFVCop3pSwDyfAfVmfFLAJNQMqaJ2UsCBBTBl4HZSwJT43An2flLAgUOoUrN9UsDtuOF303xSwLuYZrrXhlLA0zO9xFh8UsB56/zbZX9SwPHz34PXflLA0ENtG0Z4UsAyzAna5HtSwF0z+Wabf1LAcvkP6bd/UsCho1Ut6XtSwGFVvfxOeFLAUwYOaOl9UsBFRgckYXlSwNTWiGAcflLAuoEC7+R+UsDOxkrMs3hSwJV+wtmtf1LAp0BmZ9F/UsAi4uZUMnNSwFYPmIdMeVLA+rSK/tB8UsAFbAcj9n9SwMcpOpLLf1LAdy0hH/R8UsAL7DGR0nxSwOSByCJNf1LAc2n8wit9UsCaCvFIvH5SwCaPp+UHf1LALbKd76d+UsDJAiZw63xSwFvOpbiqfFLAihwibk58UsD1SIPb2npSwBQIO8WqelLA81oJ3SV+UsA42nHD73xSwODZHr3he1LAglX18jt8UsC+UMB2MHtSwAGloUYhe1LALxfxnZh9UsAleEMaFXxSwBR4J58eflLA1EUKZeF8UsCymxn9aIBSwGgDsAERflLAHjaRmQt/UsBPPdLgtndSwLzoK0gzeFLALQjlfRyAUsC4QILix35SwIV5jzNNh1LAIEQy5Nh+UsApeXWOAX9SwL9H/fUKflLA/RAbLJxwUsDmHhK+93hSwLTMIhRbeVLABHRfzmx+UsCkHMwmwH5SwCTRyyiWfVLAacai6ex9UsB2jZYDPX9SwL4SSIlddVLAYjB/hcx6UsA8bCIzF31SwGHB/YAHf1LAkx0bgXh+UsDNIamFkntSwHeiJCTSflLAjpWYZyV/UsC8lSU6y3JSwCcwndZtelLAchdhinJ9UsCxTpXvGX9SwMEeEynNcFLAyaze4XZ8UsDirfNvl35SwKorn+V5flLAYk1lUdh9UsAe+u5Wln5SwFA4u7VMf1LAjBU1mIZ+UsA/GePD7HlSwLJHqBlSflLA41Eq4Ql7UsCiuONNfn9SwFmK5CuBf1LAi6iJPh95UsDMCdrk8H1SwLw9CAH5dlLAvCAiNe19UsByNh0B3H5SwBmuDoC4eVLALGFtjJ19UsBAhSNIpX1SwD2CGylbfFLALnHkgch8UsDLDvEPW39SwDcawFsgh1LAI/YJoBh/UsBUNqypLHpSwORp+YGrfVLAvfxOkxl/UsBoBBvXv35SwGiwqfOoe1LA04VY/RF8UsDMtP0rK4dSwHqKHCJudVLAbTgsDfx7UsDJAiZw63pSwMuD9BQ5dVLADycwndZ9UsAdBB2tanxSwDGx+bg2fVLAoBuastN6UsBCz2bV53pSwKJGIcmsfFLAQswlVdt6UsD/lgD8U4hSwIro19ZPf1LAYtaLoZx9UsCGAraDEXlSwIlccAZ/fFLAkq6ZfLNyUsCM22gAb3lSwBmrzf+reFLACf8iaMxwUsB4Xio25nRSwOl942vPfFLAhj3t8Nd+UsAwKqkT0HpSwDOMu0G0flLAAwZJn1Z8UsB7hJohVX1SwJYi+UogfVLAyeU/pN9+UsDB/uvctHZSwFLVBFH3flLAdvusMlN9UsCaJQFqantSwHFV2XdFfFLAU+knnN18UsB+/+bFiX5SwEaWzLG8fFLAIm3jT1SAUsBf0hito31SwN3temmKfFLAdovAWN96UsAOEqJ8QX9SwEqzeRwGfVLAZkrrbwlxUsBUHXIz3HpSwBTObi2Te1LAs+pztRV+UsCT407pYH9SwFA0D2CReVLAvOfAcoSAUsCze/KwUHhSwJp8s82NfFLAIZOMnIV1UsAJNxlVhn1SwOJ4PgPqd1LAhSNIpdh+UsCqukc2V39SwLt/LESHfVLAX3zRHi9/UsBywK4mT39SwOqRBre1fFLAGhpPBHF+UsDBGmfTEYBSwHwqpz0lf1LAmnrdIjB/UsD+uP3yyXtSwOiHEcKjelLAjln2JLB4UsA4hZUKKn1SwK7wLhfxfVLAo3kAi/x7UsAk0csolnxSwAuYwK27eFLARPesa7R+UsC1GhL3WHlSwIZzDTM0flLAUYcVbvl0UsD19ueiIYBSwJ0ui4nNfVLAmbwBZr5+UsDtKTkn9n1SwIXMlUG1flLA3NYWnpd4UsBjQWFQpn9SwEHvjSEAfFLA81gzMsh0UsCkp8gh4n5SwCrkSj0Lf1LAUFYMVwd/UsDWGd8Xl3pSwGQ9tfrqflLAcayL22h/UsBkPiDQmXZSwGoX00z3fFLAxmzJqgh0UsB/LhoyHn5SwA3BcRk3fVLAN9+I7ll8UsAa4e1BCH5SwCxEh8CRflLAgNWRI517UsCfVzz1SH1SwATLETKQelLA/te5aTN6UsBAUG7b935SwBb8NsR4dVLAn3JMFvd8UsB5c7hWe3tSwPRSsTGvfVLA1ub/VUd/UsDaPA6D+X5SwPG5E+y/fVLAstXllIB8UsDHL7yS5H1SwAr19BH4elLAY9S19j5/UsAOTG4UWXpSwDP8pxsoflLA0hvuI7d/UsDSrGwf8nlSwALzkCkfflLAgBDJkGN6UsBzf/W4b3ZSwNLijGFOf1LA+fiE7Lx8UsBZ/KawUn1SwPruVpbocFLARwINNnWGUsDNctnonHtSwOqzA64rfFLAQde+gF55UsB9sIwN3XhSwAgGED6UfFLAHVa45SN9UsCunSgJiXpSwMzPDU3ZfVLAGmmpvB1zUsBr0m2JXH9SwM44DVGFdVLAQbYsX5d5UsDJ6IAk7H1SwBrdQexMfVLAuD8XDRl+UsAZraOqCXlSwHe8yW/RfFLA0XgiiPOGUsCAmlq21m9SwCQLmMCtfVLANL+aAwR9UsCx3xPrVH5SwMr5Yu/FfFLABaInZVJ5UsCvCWmNQX5SwLvvGB77cVLA/5YA/FOAUsD20akrn35SwBXhJqPKfFLAw552+Gt9UsCDp5Ar9X5SwK/OMSB7e1LAmlyMgXWGUsD9M4P4wH9SwJUqUfaWd1LA1ESfjzJ+UsBfQC/cuXxSwDgT04VYf1LASnzuBPt8UsBS1m8mpnlSwI47pYP1dVLAFF/tKM5+UsBorz4e+n1SwJur5jkifFLAPzc0Zad6UsDSVbq7znxSwPeTMT7Mf1LAGvonuFh9UsD/Bu3Vx3xSwJtattYXf1LAmIbhI2J9UsD4F0FjJntSwNOh0/NugFLAmYHK+Pd9UsCQEOULWn9SwASsVbsmeFLAixh2GJN4UsAvNq0UAnxSwICaWrbWfFLATiuFQC55UsBxOPOrOXNSwNHLKJZbe1LAgctjzch/UsAwZHWr531SwL9FJ0utflLAI6RuZ199UsDRdHYyOH5SwBmRKLSselLAdopVgzB/UsBBR6ta0npSwGiSWFLufVLAAn/4+e9yUsCWsaGb/X5SwLwi+N9KflLA3nNgOUJ8UsD6tIr+0HpSwJMcsKvJfVLAI4YdxqR+UsDx1vm3y35SwKbVkLjHeVLA0GIpkq9+UsAMXB5rRn9SwBeBsb6BhlLAC9C2mnV5UsCWCFT/IH9SwA8KStHKfVLA9utOd55/UsCmmIOgo3hSwBDOp45VelLAnprLDYZ+UsBffTz03XpSwEfLgR5qf1LAgbT/AdZ1UsCuSiL7IH1SwDrKwWwCe1LArcPRVbp+UsAMIef9f39SwH3LnC6Lf1LA+BxYjpB3UsD8NO7Nb39SwFN6ppcYgFLAndUCe0x9UsAWbCOe7HxSwOZciqvKfFLAtYgoJm9+UsDww0FClH9SwK2HLxNFdVLA+rSK/tB6UsDmlICYhH5SwL9IaMu5eVLA5eyd0VZ+UsD6XkNwXHpSwDSAt0CCfFLARdWvdD5/UsB+GvfmN31SwGNi83FtelLAEhPU8C18UsCcps8OuHBSwB3pDIy8fVLA73IR34l9UsAn28AdqHdSwN1dZ0P+f1LAnz2XqUmFUsAqrb8lAH5SwPlqR3GOflLA3bbvUX95UsCZ8iGoGn1SwFjmrboOflLA6UZYVMR9UsDggQGED3xSwBb7y+7Jf1LAG6A01Ch8UsBivyfWqXxSwP3dO2pMclLAeei7W1l5UsA1lrA2xn5SwMHIy5pYfFLA9KRMamh8UsAtliL5Sn5SwLdELjiDelLAR1UTRN1+UsBZorPMInpSwFFLcyuEflLAbyu9NhtyUsDjT1Q2rHxSwFvPEI5ZgFLArhIsDmd7UsCjBWhbzX5SwJ2gTQ6felLAi6n0E858UsCZSGk2j3xSwGjLuRRXeFLAWRXhJqN6UsA98gcDz3tSwKLtmLorf1LANlZinpV7UsDaAkLr4YZSwPeTMT7MfFLA325JDth+UsDtuOF303xSwAJk6NhBeFLAIVor2hx9UsAoCvSJPH5SwFXa4hqffVLAomKcvwl/UsBzSGqhZHlSwCjS/ZyCgFLArmLxm8J+UsDMCG8PQnpSwAlx5eydflLA8rOR66Z/UsC2uTE9YXpSwFrwoq8ge1LA+3YSEf58UsBeS8gHPYBSwBCtFW2Of1LA98jmqnl/UsCfd2NBYX5SwL4wmSoYflLAGa2jqgl9UsDKUuv9Rn1SwFFrmnecflLACg+aXfd9UsCrXKj8a35SwCyDaoMTd1LABmaFIt1+UsAIVWr2QH1SwAZkr3d/elLAycaDLXZ9UsBVouwt5XxSwEnW4egqd1LAmmA41zB7UsDJx+4CJX9SwL0ZNV8le1LAUTI5tTN9UsB41JgQc3lSwLMo7KLofFLAOQ1RhT+AUsDO4sXCEHlSwM0C7Q4pf1LAzlMdcjN/UsAh5Lz/j3hSwB8Svvc3elLASGqhZHKGUsBosKnzqHtSwHb7rDJTflLAQ41Ckll6UsBBZJEm3n5SwMaH2cu2flLAeAq5Us9+UsCxNPCjGn5SwFn5ZTBGfVLArvAuF/F1UsCf5A6byHpSwHoAi/z6fVLA4Cwly0l+UsD+JhQi4H5SwA3BcRk3f1LAC2MLQQ5/UsC8dmnDYX5SwNL/ci1aflLAv5gtWRV9UsBxOPOrOXBSwM3IIHcRflLAuHaiJCR/UsDay7bT1n5SwO2CwTV3flLAozzzcth8UsBCP1OvW31SwAlwehfve1LAXfsCeuF+UsCAK9mxEXtSwACOPXsufVLAfo0kQbh+UsDIt3cN+n5SwNDx0eKMelLAQfSkTGp8UsBtUzwuqn5SwBAFM6ZgfFLAcTjzqzl7UsBAFMyYgn1SwFOvWwTGflLAHeT1YFJ/UsD9SufDs3BSwCKmRBK9flLAYYkHlE18UsBPXfksz3pSwBubHam+f1LAvTRFgNN+UsD2zmirkntSwHOgh9o2e1LAqS9LOzV9UsB7M2q+SnxSwBRCB13CflLAQS5x5IF5UsDiHeBJC4BSwPdZZaa0elLAJjlgV5N/UsA58dWO4n9SwHL9uz5zeFLAG9mVlpF/UsBmSYCaWnxSwLsLlBRYfFLA07zjFB1yUsDqeTcWFH5SwOvJ/KNvf1LAXeDyWDN/UsAZy/RLxH5SwLdfPlkxclLAjlcgelJ/UsD4GoLjMn5SwPiov15hh1LAaVch5Sd3UsBOtoE7UHxSwDT4+8Vsf1LADMwKRbp8UsAAAtaqXX5SwHmsGRnkeVLAlkIglzh1UsAQAvIlVH1SwGvWGd8Xf1LAp3aGqS1/UsD1oQvqW4BSwO19qgoNf1LAcZLmj2l9UsCeKXReY3hSwG+9pgcFfFLATwZHyat9UsDLZDiez3hSwEd2pWWkfVLAtkdvuI9/UsAb8s8M4nZSwFLxf0dUc1LAvalIhbF+UsAexqS/l3xSwFioNc07elLAhuP5DKh6UsBV3SObq35SwHZtb7ckc1LAdQMF3sl2UsBhiJy+nn5SwMNIL2r3f1LAXi9NEeB6UsB9yjFZ3H1SwNQMqaJ4eVLAvJAOD2F4UsBMi/okd3xSwNTWiGAcf1LASddMvtl3UsBKfVnaqX9SwF4T0hqDf1LAp8mMt5V/UsDd0mpI3HtSwE5fz9csflLAZYuk3eh4UsDHoX4XtndSwF2G/3QDfVLA9fI7TWaAUsATmbnA5X5SwDDYDdsWfFLA1H5rJ0p+UsBjmBO0yX5SwADJdOj0flLANJwyN99/UsAVdHtJY35SwPJbdLLUfFLA9FDbhlF/UsBzuFZ72H5SwFbXoZqSflLANbbXgt57UsAYzcr2IX5SwJccd0oHeVLAOdVamIV9UsAhrweT4n9SwFBSYAFMeFLArhBWYwl7UsBQqn06HnZSwBKFlnX/flLAw0SDFDx6UsCGWP0RhnxSwMOayqKwfVLAWmWmtP59UsCafR6jPH1SwCrkSj0LflLAPl5Ih4d9UsBtjnObcH1SwEut9xvtfVLAHozYJ4B9UsDRIXAk0HZSwPjDz38PgFLApmCNs+l7UsDsh9hg4X5SwOijjLgAf1LAhe0nY3x/UsDTUKOQZH5SwHdM3ZVdflLAKXef46N8UsAqN1FLc3BSwCPYuP5df1LAmPvkKEBwUsD5hsJn631SwInqrYGteFLA36gVpu98UsByFCAKZn9SwOpYpfRMflLAKNGSx9N4UsCCjevf9XpSwAUyO4vefVLAxCPx8nR6UsD1gk9z8n5SwDmX4qqyflLAgq0SLA58UsDFHAQdrX5SwJW6ZBwjc1LANJ4I4jx4UsD3sBcK2H5SwCveyDzyf1LAm3YxzXR9UsDwGYnQCH1SwFDkSdI1flLAhGQBE7h+UsCBejNqvn1SwOemzTgNflLAP28qUmF4UsCGjh1U4n5SwONV1jbFfVLA00z3Oql5UsCscwzIXnxSwET4F0FjfVLAW8064/t7UsAyIeaSqnxSwIaNsn4zflLAIGEYsOR7UsD4/gbt1XxSwNKpK5/lflLAiljEsMN6UsD+Ddqrj3ZSwOntz0VDfVLAFOrpI/B9UsCa0vpbAntSwB8Svvc3eVLAwDxkyod+UsAcQpWaPX9SwKqCUUmdd1LAxJeJIqR/UsDOcW4T7n5SwFcE/1vJelLAOUNxx5t+UsAm++dpwHlSwNXpQNZTflLA/8u1aAF+UsDk3CbcK39SwDKSPULNfVLAv2N47Gd8UsCl3H2Oj3xSwA4RN6eSeVLAo8nFGFh9UsDoZ+p1i3xSwHBcxk0Ne1LAlbn5RnR/UsDxoNl1b31SwNuF5jqNfVLAZktWRbh+UsAuVz82yX1SwDDa44V0hlLAfbH34ot9UsByUpj3OHNSwG3H1F3ZcFLArrZif9l8UsDVyoRf6ntSwE2fHXBdelLA+DjThO1+UsAB++jUlX5SwCi37XvUflLAmbuWkA9/UsCw479AEH9SwC8012mkflLApFAWvr5/UsCGONbFbXxSwE6Zm29EgFLANZvHYTB+UsDZeRubHYBSwO888ZwtflLA2qm53GB5UsCkMzDysnxSwL2NzY5UeVLAR1fp7jp/UsBmogip23xSwBKDwMqhe1LAHNKowMl+UsBgHccPlXhSwJxtbkxPf1LAP1OvWwR8UsCe8BKc+npSwAGh9fBlgFLAqWdBKO90UsANjLysiXhSwDArFOl+fFLA203wTdOEUsCxFTQtsX5SwIM0Y9F0elLAsACmDBx9UsAbL90kBn9SwOxQTUnWflLADr+bbtl/UsDHLlG9NXhSwEYIjzaOdVLAOzWXGwx8UsBqh78ma3tSwK5ITFDDf1LAIjfDDfh+UsAUWWsotX1SwKVmD7QCflLA/ilVoux+UsCoxeBh2npSwOOMYU7QfFLA9dvXgXN/UsDN6EfDKXtSwOeNk8K8fVLAh1ClZg+AUsCcxCCwcn9SwBkcJa/OeFLA1CzQ7pB9UsAsEaj+QXtSwAtET8qkfVLA6dfWT/9+UsC1b+6vHnlSwI7nM6DeflLAX1yq0hZ+UsB64jlbQHRSwEjDKXPze1LA5kAPtW1+UsBkPbX66n1SwJpC5zV2f1LAfqt14nJ/UsCrsu+K4H1SwGYzh6QWfVLAD0dX6e59UsCzeofboX5SwMEb0qjAfFLAKuCe509/UsBkPEolPH1SwCkkmdU7fFLABkmfVtF9UsAIOlrVkn1SwHDOiNLeflLAr3d/vFdzUsAEcLN4sXhSwBAgQ8cOflLA6j2V055+UsAUP8bctX9SwET67evAe1LARdjw9Ep8UsCsV5HRAX9SwMNhaeBHflLAKuPfZ1x3UsDuCRLb3X5SwFH2lnK+flLAw7zHmSZ4UsD6Cz1i9H1SwBEY6xuYflLAbR6Hwfx9UsACRwINNodSwOZXc4BgfFLAF0UPfAxxUsBsXtVZLXxSwF+4c2Gkc1LARidLrfd9UsAqxCPx8ndSwPMBgc6kdVLAxO3QsBh/UsBjfQOTG31SwHr83qY/fVLA4gLQKF18UsByFYvfFH5SwHRhpBe1elLAxxFr8Sl/UsCDvvT2529SwFhUxOkkgFLAptHkYgx/UsAAjGfQ0HpSwF1txf6yfVLA10tTBDh8UsAJwD+lSnxSwI20VN6Od1LAPgRVo1d9UsBfRrHc0n1SwBZPPdLgflLAMj1hiQd4UsDecYqO5HtSwMgMVMa/elLAFjJXBtV8UsAIjzaOWH1SwASpFDsafFLAzhySWih8UsD3WWWmtH5SwD5anDHMfFLAQgkzbf9+UsCH26FhMXlSwBFTIoleflLA8iTpmsl+UsDxoURLHn5SwMtneR7ceVLApnud1Jd/UsANMzSeCHtSwEhvuI/ceFLADf/pBgp/UsAGY0Si0HxSwHnKarqeelLA6e46G/J/UsDvVpboLHpSwKlpF9NMelLAdTv7yoN+UsAm4q3zb39SwBqGj4gpfFLAl1RtN8F/UsCPGaiMf31SwK2E7pI4flLAzv+rjhx5UsADsAER4n5SwKFmSBXFeVLAjh6/t+l+UsB/MzFdiH1SwGQHlbiOelLAYRxcOuZ9UsDFc7aA0HxSwHwNwXEZf1LAjxmojH9+UsAFiIIZU35SwJrPudv1f1LA3jr/dtl7UsC71XPS+3hSwI4Dr5Y7fVLAr5gR3h5/UsAkRzoDI3ZSwM8wtaUOflLAfSO6Z117UsAijQqcbIBSwFVpi2t8flLAWFnbFI9+UsCIga59AX9SwGgFhqxuf1LAcR5OYDp/UsCoNGJmn4ZSwO6vHvetf1LAPzp15bN6UsAIW+z2WX5SwCsv+Z/8dFLAke18PzVyUsD9oC5SKH9SwILK+PcZflLAePLpsS11UsDrxOV4BXtSwMZsyaoIflLAVWe1wB58UsAsRIfAkXlSwKSl8naEhVLAEcZP4959UsCzB1qBIX9SwHCX/brTelLAzEQRUrd8UsBVv9L58H1SwG1Wfa62f1LAaHqJsUx6UsAhdTv7yohSwJaX/E/+fVLAVYhH4uV5UsCCrKdWX3lSwMVx4NVyelLAOuenOA5zUsDQC3cujH5SwJFI2/gTf1LALUMc6+JxUsAgDafMzX5SwFeXUwJiflLAf4XMlUF/UsCgGcQHdnxSwM5UiEfifFLAUHCxogZ+UsCWd9UD5n5SwD2Zf/RNelLA3NWryOh8UsCw52uWy3VSwAzNdRppfVLApIy4ADR/UsC+vtalRn5SwCzzVl2HflLAwCDp0yp/UsC/uFSlLYdSwOjdWFAYfVLALLe0GhJ8UsAZOKClK39SwNZvJqYLgFLAKpDZWfR8UsCLNse5TX1SwLeYnxuaeVLAfnGpSlt9UsBJn1bRH39SwPS/XIsWfFLAKeyi6IF5UsB8mShC6n5SwDxLkBFQf1LAMWDJVSx/UsDOiqiJPn5SwJ9b6EoEf1LA2ubG9IR/UsDyCdl5G39SwBO3CmKgfVLAcJUnEHZ/UsC9jjhkA3lSwDwSL0/neVLAr8xbdR1/UsD9ag4QzH9SwC7+tidIgFLAMxXikXh3UsCNRGgEG3pSwABXsmMjfVLA9S9JZYp2UsATDOcaZnxSwOHra11qe1LAqyUd5WB9UsBnYyXmWX1SwI0kQbgCf1LAynA8nwF+UsB7oBUYsn9SwDVFgNO7elLAiq92FOd6UsAvi4nNx3tSwJS9pZwvdlLASU27mGaGUsB+dOrKZ31SwIV3uYjvflLAq+l6out+UsDAzk2bcX5SwEZB8Pj2flLAXRd+cD6AUsDE6o8wDH9SwIWX4NQHfVLARbsKKT99UsBTP28qUn5SwDI7i96pfFLAdNL7xtd+UsBXBtUGJ3pSwNun4zEDe1LAvqWcL/Z6UsBeFD3wMXNSwNhkjXqIfFLARdREn499UsA/UkSGVXpSwJ58emzLfFLAR+Umaml+UsBLkBFQ4X5SwArXo3A9f1LAB5lk5Cx9UsCbOSS1UH1SwDaTb7a5cFLAYYicvp55UsAQroBCPX9SwCzy64fYfFLAPgXAeAZzUsBvuI/cmn5SwNkG7kCdelLAlWBxOPN9UsA0vi8uVXxSwNzawvNSfFLAmWclrfh8UsAyHM9nQHtSwHAGf7+YeVLAsMdESrN+UsDVsrW+SHpSwGEcXDrmfFLA1bDfE+t+UsCjW6/pQX1SwAmlL4Sce1LAzCcrhqt6UsDdDDfg831SwHwNwXEZflLA1XWopiR9UsA7G/LPDH9SwAHeAgmKf1LA0SFwJNB3UsC5Fi1A239SwE2HTs+7d1LAnrRwWYWAUsCGN2vwvntSwHoX78ftelLAIEQy5Nh+UsDy7zMuHH5SwKhwBKkUflLAcQM+P4yGUsDuk6MAUX1SwDkLe9rhfFLA001iEFh5UsC45LhTOn5SwAubAS7IflLAEMtmDklwUsCfru5YbH5SwNCX3v5cfVLAPudu10t0UsBjCACOPX5SwP0v16IFf1LAV3iXi/h9UsAIyJdQwXxSwIV4JF6eflLA2VpfJLR7UsDfv3lx4n5SwEykNJvHc1LATE9Y4gF+UsDcuMX83HtSwEsgJXZtf1LA4pANpIt9UsDvyi4YXH5SwOPGLebnf1LAtoKmJVZ+UsDLSpNS0H1SwG4UWWsof1LASUp6GFp+UsCfzarP1XpSwJ0SEJNwf1LAsB73rdZ+UsD7XG3F/nRSwGNGeHsQf1LAwY7/AkF6UsBsQlpj0H5SwIekFkomf1LASDXs98R8UsDRdkzdlX9SwCQrvwzGd1LAMX4a9+Z8UsBB9Q8iGX5SwLwC0ZMyfVLAh1ClZg9xUsBcVIuIYnhSwKKyYU1lelLAMpHSbB52UsApsWt7u35SwBL4w89/flLAAI49ey58UsATZtr+lXhSwIBIv30df1LAF2L1Rxh6UsANU1vqIH9SwEjhehSufFLATtAmh09+UsDcSNkiaX9SwMvZO6OtfVLAJCao4Vt/UsCp+wCkNnlSwLx5qkNufFLAnfNTHAd+UsDGihpMw3xSwKXXZmMlflLAxk0NNJ91UsDhXpm36nZSwC/4NCcvfVLAvayJBb57UsChR4yeW31SwMEb0qjAfFLAGEM50a55UsDecYqO5HlSwDZzSGqhf1LAjpWYZyV/UsDI7gIlBX1SwBpNLsbAelLAQL6ECg5+UsBMT1jiAX1SwA9gkV8/d1LA3XpNDwp9UsAB3Zcz235SwLbZWIl5elLA5Lz/jxOAUsDg9gSJ7X5SwMFu2LYofVLAovFEEOd+UsBRpPs5BX9SwAZkr3d/elLAF9NM9zp7UsCBzM6id39SwKabxCCwelLAg6YlVkZ+UsBeL00R4HlSwIxK6gQ0e1LA2ZQrvMt8UsDayeAoeXxSwIKPwYpTf1LA4Zf6eVN9UsDJPPIHA31SwFbSim8oc1LAcEIhAg59UsA+lj50QX5SwJc6yOvBflLAqz3shQJ/UsBWgsXhzHtSwPVpFf2heVLAJLTlXIp+UsCV0jO9xHpSwHk6V5QSdlLAjSRBuAJ9UsDZfFwbKoBSwCBCXDl7hlLA5pMVw9V+UsAFxCRcyH9SwEkvaverflLA4443+S19UsDRrdf0oHpSwBh7L75oflLAu/JZngd5UsCVnX5QF3xSwN1e0hitf1LA/KiG/Z5/UsBTBg5o6X5SwBu5bkp5fFLAnkFD/wR/UsAK20/G+HpSwNLI5xVPfFLAbw9CQL6EUsCnBwWlaHhSwFPPglDeelLAoiqm0k9/UsCjdOlfkndSwDtzDwnfflLAIXam0Hl2UsDj4xOy831SwCP0M/W6flLAURGnk2x/UsCfVWZK639SwFiQZiyaf1LATz+oixR4UsAk1Xd+UYBSwIApAwe0flLAVI7J4v5/UsDwbI/ecH9SwI85z9iXe1LAiV3b2y19UsB0Ka4q+3dSwGba/pWVfVLA3Xu45Lh+UsDWpxyTxX9SwOs56X3jfVLAU+knnN19UsC94T5ya39SwBdhinJpflLASGsMOiF9UsD8i6Axk3xSwEYJ+gs9f1LAjlw3pbx8UsDY9Qt2w35SwHO7l/vkfVLAJXmu78N+UsBavcPt0H9SwIApAwe0flLA3xXB/1Z+UsA6H54lyH5SwLzJb9HJfVLAAiocQSp9UsCzDHGsi3tSwBFUjV4NeVLAdCfYf51+UsBbCHJQwn5SwLvVc9L7clLAet/42jN4UsAkRzoDI35SwCWzeofbelLAfZV87C5+UsDajT7mA4BSwH7ja88sgFLADJHT1/N+UsC6SnfX2X1SwAlU/yCSelLA9zk+Wpx+UsCjkGRW73pSwDUmxFxSeFLAK6ORzyt+UsCyYyMQr3VSwLqFrkSgelLA3rBtUWZ9UsA6OxkcJXxSwJbQXRJnelLAPuqvV1h+UsCSQINNnYZSwBWOIJViflLAFcWrrG1/UsA4oRABh35SwMZNDTSfe1LAoU0On3R/UsDTTPc6qX5SwBlz1xLyf1LAVI7J4v59UsBFSx5Py35SwEj7H2CtelLAgXhdv2B9UsDCw7Rv7nxSwNAPI4RHf1LAzEOmfAh4UsBgx3+BIH9SwO+SOCuie1LA6uv5muVwUsDlKavpenlSwHcRpiiXf1LAatswCoJ6UsCvXdpwWH5SwNanHJPFflLAjINLx5x9UsDUR+APP39SwFNZFHZRe1LAtMcL6fB9UsCXVdgMcHlSwPJbdLLUfVLAf8LZrWV/UsB1d50N+X1SwCTwh5//fVLAbD8Z48N9UsCyoZv9gYZSwGFREaeTelLAfv578Np8UsAabsDnh39SwJkOnZ53fVLAhpM0f0x8UsDyttJrs31SwBVypZ4FflLAyM9Grpt8UsB/hcyVQXpSwAM+P4wQf1LAEATI0LF9UsDcgTrl0XFSwC4e3nNgelLAE0ceiCx5UsALXYlA9XtSwCOimLwBf1LALUFGQIV/UsAVdHtJY3tSwOv+sRAdflLA76mc9pR/UsBslzYclnBSwKvnpPeNeFLAJegv9Ih5UsC1+1WA739SwCf5Eb9ifFLAhjjWxW2HUsBuhhvw+XxSwOtySkBMeFLAOnr83qZ+UsD5aHHGMHxSwCrIz0auf1LARDAOLh1/UsBoklhS7nJSwKTk1TkGflLAkgN2NXl5UsDWHCCYo4BSwPFFe7yQf1LAL9y5MNJ7UsAeiZenc3dSwP5g4Ln3flLAumqeI/J8UsAQBwlRvnVSwONUa2EWeVLAWhKgppZ6UsBIqBlSRX5SwGVR2EXRflLAi+B/K9l+UsA2IEJcOX9SwGL2su20f1LAbarukc1+UsCTisba331SwOPEVzuKf1LA9Wc/UkSAUsC0xwvp8H9SwIqRJXMsdVLAeR7cnbV9UsDTMHxETH5SwFHB4QURfVLAameY2lJ5UsD0NjY7Un1SwPRqgNJQe1LAtCH/zCB+UsBlcf+R6X1SwIbLKmwGf1LAQ1VMpZ99UsDtZdtpa4BSwMvY0M3+elLAFY21v7N+UsBlqmBUUnxSwMWqQZjbfVLAZLFNKhp/UsAQQGoTJ4BSwIHrihnhflLAlQ7W/zl9UsBt/l915HpSwMmwijcyfVLAKLaCpiV+UsAnh086kX5SwOBnXDgQc1LAa9YZ3xd7UsADJJpAEX9SwK1QpPs5f1LAeVioNc19UsDshm2LMnhSwBqLprOTflLAS+SCM/h+UsDvyFht/n5SwCxF8pVAfVLAh99Nt+x+UsCOklfnGHlSwJTBUfLqfFLAbCQJwhV/UsCYUMHhBX1SwEji5elcgFLALh7ec2B/UsBhbCHIQX9SwP34S4v6fVLAVFT9Sud8UsAbnfNTHH9SwGYWodgKf1LAx5v8Fp1/UsAaMh6lEn1SwHGuYYbGflLAtfrqqkB8UsDjGp/J/nJSwCV1ApoIf1LAXfksz4N8UsCXkXpP5XxSwFM9mX/0fVLAUAEwnkGAUsDLgok/inpSwH+IDRZOfFLAVg3C3O59UsCdf7vs135SwNOlf0kqf1LAg4b+CS56UsBksrj/yHpSwKmhDcAGfVLAg0wychaAUsBXfEPhs31SwHkfR3Nkf1LApfPhWYJ5UsCmuKrsu31SwPiL2ZJVe1LAhEnx8Ql8UsCZ8iGoGnNSwLN78rBQhVLA7X4V4Lt7UsB24QfnU3tSwHU+PEuQdlLACp+tg4N+UsB8ZHPVPH5SwGEZG7rZflLALJs5JLV9UsBjDKzj+IRSwIFCPX0EelLA7xzKUBV+UsCtwmaAC3xSwOF6FK5HflLAr5emCHByUsAiN8MN+HlSwOAtkKD4flLAG5yIfm16UsA7w9SWOn5SwLXf2omSflLA0LcFS3V8UsDo+Ghxxn5SwHTsoBLXfFLAHXV0XI1/UsAZqfdUTn9SwIy7QbRWfFLA3qtWJvyGUsAm32xzY3pSwJW6ZBwjfVLAkSbeAZ54UsCCrRIsDn1SwAZn8PeLfFLAo66196l7UsAV4pF4eX9SwNtsrMQ8f1LACAPPvYeAUsBam8b2Wn5SwPcGX5hMflLAJuXuc3x5UsD3qwDfbXxSwNJVurvOflLA7iWN0Tp/UsB4COOncX9SwKbUJeMYgFLAPxnjw+x4UsBr09heC39SwEs6ysFsfFLAfJxpwvZ9UsCq1y0CY35SwM9MMJxreVLAY15HHLJ6UsAn3gGetHFSwO5aQj7od1LAzAwbZf18UsBl4lZBDHtSwKuy74rgdFLAfo/66xV+UsDIe9XKhHlSwHA+daxSf1LAq3tkc9V7UsD7r3PTZnxSwERssHCSflLAtftVgO9+UsCSek/ltHpSwIb/dAMFe1LAuOo6VFN5UsBcVfZdEX5SwIRJ8fEJfFLAJ6H0hZB9UsD3rdaJy35SwCQp6WFofVLAy6Da4ER/UsDwv5Xs2H5SwCUFFsCUf1LAb9dLUwR/UsBnmUUotn1SwPylRX2SfFLA5/7qcd99UsAnaf6Y1nZSwBprf2d7dVLAOIYA4Nh+UsC/7nTniXxSwAQBMnTselLALlT+tbx0UsDbozfcR3hSwBkdkIR9flLARPgXQWN5UsDS4La28H5SwJI81/fhfVLAkuumlNd8UsBGlsyxvH9SwNUgzO1eelLAHTnSGRh/UsDEk93M6HpSwCcwndZtgFLAL6hvmdN+UsDJ5qp5jn5SwO7sKw/SflLA7WXbaWt9UsDuQnOdRn9SwHr+tFGdc1LA/I7hsZ9zUsCw4lRrYXxSwO9zfLQ4cVLAtk3xuKh+UsD+CwQBMnxSwOMXXknyflLAzVZe8j97UsDf+NozS3xSwLNCke7nfFLAC7d8JCV8UsCFBfcDHn9SwNJwytx8flLALnJPV3d8UsBT51Hxf39SwFZjCWtjflLAJhjONcx9UsAIdvwXCH5SwOkLIef9elLAa39ne/R7UsDggQGED39SwDPEsS5uelLAorYNoyB6UsD/69y0GXlSwI6PFmcMf1LAJVtdTgl+UsAkCi3r/n5SwBjMXyFzdlLA5/7qcd9+UsDnGfuSjX9SwN2YnrDEd1LA3j6rzJSAUsCK48Cr5X5SwOYhUz4Ef1LAC+vGuyN+UsAcYOY7+H1SwKPlQA+1e1LA34rEBDV1UsAfTfVk/n5SwBGPxMvTfVLAuhEWFXGGUsD+X3XkSH1SwL+aAwRzeVLA1xUzwtt8UsBLOzWXG3VSwIAQyZBjfVLAxJYeTfV7UsBA/Pz34HlSwLK61XPSfVLAUu3T8Zh4UsBNvtnmxnxSwEOQgxJmelLASkIibeN8UsCUMxR3vH5SwFaCxeHMclLAFHe8yW9/UsAHCVG+oH5SwGJNZVHYf1LAkQ4PYfx7UsDNHmgFhn9SwOSjxRnDc1LAZQETuHWAUsDbTfBN03xSwIf58gLsflLA4umVsgx4UsCM3NPVHX5SwH2utmJ/eVLAUgq6vaR9UsDxoURLHnhSwP8fJ0wYd1LA0/pbAvB9UsB2qnzPSIBSwC4cCMkCf1LAHt5zYDmAUsAPe6GA7X5SwEH0pExqgFLA2nOZmgR8UsAJcHoX73xSwCmTGtoAflLA1ZelnZp8UsD8OQX52X5SwBXkZyPXflLArmcIxyx9UsBbs5WX/H1SwPt2EhH+fFLADhXj/E18UsBzuiwmNn5SwF95kJ4if1LAUBn/PuN9UsBQb0bNV3xSwNOgaB7AflLARrOyfch5UsDJHMu76n5SwFd2weCafFLAuHh4z4F4UsBIMxZNZ3lSwC1BRkCFelLAZOsZwjF4UsDM1CR4Q35SwHjPgeUIh1LAfXiWICN+UsB1jgHZ63tSwIs3Mo/8elLAdqkR+pl9UsCcGf1oOH9SwJQUWABTflLABW7dzVN/UsA6It+l1H5SwNRkxttKfVLAUyP0M/V6UsBkIM8u335SwAvvchHff1LAJA1uawtwUsB+ObNdoYdSwEyo4PCCelLAm1jgK7p9UsD5vOKpR31SwETcnEoGgFLA6Pf9mxd/UsCF6ubib3xSwF35LM+De1LAS3hCrz93UsBv88ZJYXBSwFnEsMOYelLAuYybGmh+UsCDGOjaF31SwOXS+IVXfFLAHk/LD1x9UsCNs+kI4H5SwF5J8lzfflLARkPGo1R9UsA1ecpqun9SwIm2Y+quf1LAZHjsZ7F6UsCQFfw2xHpSwMNhaeBHfFLAtp+M8WF/UsAIO8WqQYdSwJT43An2elLA2c9iKZKGUsDX22YqxHxSwHe/CvDdf1LA9wFIbeJ4UsAT7pV5q3lSwJsdqb7zflLAM/s8Rnl3UsBHj9/b9H1SwFmmXyLed1LAdm9FYoJ8UsD3rGu0HHRSwDYiGAeXf1LAZoS3ByF6UsBO8E3TZ39SwM+hDFUxf1LARE30+Sh+UsCKd4AnLXxSwJrMeFvpcVLATZ8dcF2FUsDJIeLmVHxSwDF72Xbad1LA3KD2Wzt/UsC/1xAcl35SwFq6gm3EfFLAw2Fp4Ed7UsCB7PXuj3lSwGeeXFMgf1LASQ9Dq5N8UsDuXYO+9HpSwB9JSQ9DflLAIEQy5Nh5UsAwR4/f23xSwEllijkIfVLAUmFsIch6UsA/UkSGVXpSwNqNPuYDgFLA76mc9pR6UsCZ84x9yXxSwIOKql/pf1LAVHJO7KF+UsAOn3QiwXxSwLjJqDKMflLAhlRRvMp8UsAKZeHra3pSwAmJtI0/flLA8lt0stR+UsCad5yiI3lSwAX6RJ4kb1LAo6zfTEx+UsDCaixhbXxSwJxTyQBQflLAEHS0qiV6UsCjIk4n2XxSwLk3v2Gif1LAJLn8h/R/UsC3uMZnsn9SwAmnBS/6f1LA6zpUU5J6UsDIBtLFpnZSwIlBYOXQelLAgbT/AdZ8UsB5rYTukn9SwKDf929efVLAw0maP6Z8UsAOvjCZKoBSwD4GK061hlLA4q/JGvV+UsBrKLUX0X5SwDPhl/p5f1LAd2hYjLp9UsCOsRNegn1SwBA8vr1re1LAesa+ZON+UsAF3PP8aXxSwDS8WYP3fVLAy0xp/S11UsDFGi5yT4dSwE7wTdNncFLA/dmPFJFxUsBJERlW8X1SwKCIRQw7f1LA1JrmHad6UsBEwCFUqX1SwIKtEiwOflLAF7zoK0h/UsBp4bIKm3tSwHIXYYpyf1LAHcu76gF/UsCpTZzc73xSwPUTzm4teVLA5q4l5IN6UsCUg9kEGHtSwDcbKzHPflLAA0TBjCl8UsBnmUUotnJSwBTnqKPjelLAlDDT9q9yUsCNR6mEJ3pSwJawNsZOf1LAIlM+BFV6UsBIG0esxX1SwNPB+j+HflLAJLTlXIp+UsCE1sOXiX9SwAQAx549f1LAdsHgmjt6UsAtX5fhP35SwF3hXS7ifVLAUP9Z8+N8UsA02T9PA31SwBqH+l3YfFLAhe0nY3x8UsDnx19a1H5SwOykvizte1LAGa2jqgl9UsBffqfJjHlSwJ3y6EZYdVLAC3va4a9/UsAukKD4MYBSwKgAGM+ghlLAAYqRJXN9UsDN5QZDHXxSwGOARBMogFLAAoHOpE18UsDZXDXPEX5SwEVlw5rKe1LAfsNEgxR6UsDzyYrh6n1SwBIWFXE6fVLAVp3VAnt/UsDHnj2XqXpSwCKKyRtgf1LAtB6+TBR9UsAS2QdZFn9SwEeRtYZSf1LAnu488Zx6UsC8lSU6y31SwOxnsRTJd1LADrxa7sx8UsDYfcfw2HpSwMLZrWUyfVLA+cCO/wJ9UsCC/de5aX1SwG7A54cRfVLAXALwT6l8UsDj4T0HlnpSwOjc7XppflLAvLGgMCh/UsATfT7KiIRSwDoDIy9reVLArUuN0M99UsDKpIY2AH1SwDlegehJeFLAGXEBaJR8UsBqiCr8GXxSwFuxv+yef1LA83FtqBh5UsDV6xaBsX1SwK9BX3r7flLA26LMBpl/UsDIJ2TnbXpSwBzNkZVffVLANPj7xWx7UsD9iF+xhnlSwBFxcyoZfFLAtJCA0eV+UsAmbarukX9SwDfjNEQVelLAjBGJQst8UsC1+uqqQH9SwNXo1QClflLAhIB8CRV6UsBt/l915H9SwBowSPq0flLAChLb3QN7UsCKdhVSfnpSwEkvaverflLAU14robt+UsA3pics8XVSwCKq8Gd4flLAi6iJPh9+UsBLzLOSVn9SwP4nf/eOfFLADM11GmmAUsCOP1HZsH5SwKT8pNqnelLAndUCe0x/UsCGWWjnNH5SwIBEEyhiflLAWRXhJqOGUsD9oC5SKH1SwCqRRC+jelLAQUXVr3R7UsC+Sj52F3xSwCGSIcfWflLAABx79lx6UsD7sN6oFX5SwLjM6bKYelLAJNI2/kR+UsD0NGCQ9HlSwCY0SSwpflLA4zPZP092UsBZNJ2dDHtSwCP3dHXHf1LAwTdNnx1/UsBwXTEjvH5SwHQoQ1VMflLAWAOUhhp+UsBzEkpfCH5SwBgnvtpRdVLAherm4m99UsDuCRLb3XhSwL2mBwWleFLAcjYdAdxwUsCxaaUQyH5SwDLGh9nLd1LAgsR29wB+UsAxem6hK35SwIV80LNZf1LAPrFOle99UsD7JHfYRHlSwFLUmXtIfFLAxy5RvTV+UsCM+E7Men1SwNumeFxUfFLAy6Da4ER/UsD6XkNwXH1SwAlvD0JAfFLAWp9yTBZ+UsD7k/jcCXJSwIXRrGwff1LAXOhKBKp8UsCzCwbX3H1SwF9/Ep87eFLAdxN80/R+UsAb8WQ3M35SwAa5izBFfFLABwd7E0N2UsDswDkjSn9SwD9wlScQe1LAvvVhvVF8UsDdCmE1lnVSwHjuPVxyflLA+G7zxkl+UsD0wwjh0X5SwLt/LESHflLAc9pTck58UsC2+BQA431SwLK+gcmNf1LAgEV+/RB2UsDRr62f/nxSwF/ObFfofVLAJo3ROqp/UsChLedSXH1SwLFOle8ZelLApu7KLhh2UsAdqinJOoBSwECIZMixdVLAlMFR8up+UsChvI+jOXxSwCEeiZenfVLAboeGxah+UsDScTWyK4BSwDF+GvfmflLAGHlZEwtxUsDHZkeq731SwF4td2aCe1LAQWK7e4B9UsBI+Um1T31SwC0Kuyh6fVLAyqgyjLt7UsBg5dAi23pSwOG04EVfgFLA81fIXBl/UsBrZi0FpH1SwB2R71LqelLA9PqT+Nx7UsDNBS6PNXlSwDlDccebcVLAQwQcQpV9UsBIpkOn535SwJM16iEac1LAiZtTyQB7UsAyzAna5H1SwFlPrb66flLAUu+pnPZ+UsDUZMbbSn5SwFuxv+yeelLAltBdEmd+UsDoSgSqf3pSwIP8bOS6elLANUI/U698UsCLjXkdcYBSwD51rFJ6fFLAtmYrL/mGUsB8D5ccd3hSwHyakxeZelLAj8L1KFx+UsCKHY1D/XhSwES/tn76fFLAfF9cqtJ+UsDJx+4CJX9SwKc9JefEflLAYRbaOc18UsBG7BNAMXVSwK9BX3r7flLAE/OspBWAUsAUdeYeEolSwAXCTrFqgFLADDuMSX9+UsDbatYZ335SwMNjP4ulfFLA4qyImuh4UsCdvTPaqn1SwAMHtHQFeFLA39416Et/UsBhpYKKqnxSwKWisfZ3gFLAuhPsv855UsBma32R0H5SwOz7cJAQeVLABYvDmV9/UsAmGw+22HxSwIif/x68dVLAlScQdop/UsCEukihLIhSwJFEL6NYfVLA/ilVoux9UsBMF2L1R31SwEdaKm9HeFLAQIUjSKV9UsA=",
          "dtype": "f8"
         },
         "marker": {
          "color": "#636efa"
         },
         "mode": "markers",
         "name": "C",
         "showlegend": true,
         "subplot": "mapbox",
         "type": "scattermapbox"
        },
        {
         "hovertemplate": "zone_type=M<br>latitude=%{lat}<br>longitude=%{lon}<extra></extra>",
         "lat": {
          "bdata": "e2tgqwRbRECCjla1pGdEQK00KQXdXkRAE/BrJAloREBCsKpefmdEQIy61t6nWkRAkx6GVidXREA0gSIWMWBEQOlg/Z/DVkRAQ41CkllfREDswDkjSl9EQF726053YERAtjF2wktWREBnRGlv8E1EQIavr3WpUURAbeLkfodaRECbyqKwi1xEQC9vDtdqX0RAEVMiiV5WREBQNA9gkV9EQLQ+5ZgsXERAXd4crtVgRECYa9ECtFtEQLA3MSQnX0RAK8B3mzdaRECKBFPNrFNEQEZgrG9gYERAbxEY6xtWREDvjLYqiVJEQDxp4bIKXURAUkgyq3dUREABUTBjClxEQCSBBps6X0RA2jujrUpgRECBBTBl4GpEQOgwX16AZ0RAEDtT6LxiREDsLlBSYF9EQKwBSkONYERAVpxqLcxWREC6S+KsiGBEQLhzYaQXXURAE4HqH0RaREB00vvG11xEQMi3dw36VkRAg2itaHNgREBNEHUfgGBEQPiJA+j3Z0RAzo3pCUtUREAsflNYqVZEQPCjGvZ7XERAkX77OnBgREBbtABtq19EQKd4XFSLaERAFW9kHvlTREDEQxg/jWFEQGfV52orVkRA3gAz38FfREBw6ZjzjFlEQIpZL4ZyVERAmBO0yeFbREA1C7Q7pGhEQHE5XoHoW0RAUU60q5BaREAVHcnlP2BEQAKgihu3XERAwoanV8pcREBxVdl3RWBEQCB/aVGfWkRAKc3mcRhgREC6E+y/zl9EQNUI/Uy9YERAsFbtmpBWREANw0fElFxEQNRH4A8/Z0RASpaTUPpOREDEJced0l9EQCScFrzoX0RAh8Q9lj5gRECGcqJdhVZEQKJFtvP9XkRA7Q4pBkhgREDbvkf99V5EQLwGfentW0RATfkQVI1uREBrRga5i1xEQAKbc/BMYERA6lxRSghWRED678Frl1REQHKjyFpDX0RAhCugUE9fRECl8+FZglZEQKZ/SSpTXkRAsMdESrNnREDLK9fbZmBEQM09JHzvU0RAwLFnz2VgREAIISBfQmlEQMzxCkRPbERA7yB2ptBpREDFHtrHClREQJavy/CfYERAdlQ1QdRhRECSJAhXQF9EQAk02NR5YERAOKEQAYdcREAOvjCZKmBEQDzbozfcW0RAjxoTYi5dREAXRnpRu19EQFGlZg+0YkRA9+XMdoVSREAuck9Xd2BEQFpiZTTyZ0RA7SsP0lNURECbj2tDxVZEQAh1kUJZYERAVp3VAntcREB/Tdaoh2BEQDBl4ICWYERAfZOmQdFoREDvkGKARF9EQIUoX9BCaERA9fI7TWZgREC/SdOgaFxEQHb7rDJTaERAOllqvd9oREAotoKmJWBEQPt2EhH+Z0RAJ6Q1Bp1WREDAlleut19EQMi0No3tW0RAD/EPW3peREAkJT0MrWBEQJCEfTuJYERAotKImX1eREBbttYXCV9EQB4zUBn/VkRAr0D0pExgREBj0XR2MmBEQEhOJm4VXERAc5zbhHtbREBeDrvvGFxEQJrsn6cBW0RA7UYf8wFXREB1OSUgJlVEQDC8kuS5UkRAdAexM4ViRECdgZGXNV9EQJ0Rpb3BW0RArd12oblWREAoC19f61ZEQChHAaJgYERAkJ+NXDdfREDcR25NumdEQH/ZPXlYYERAZJEm3gFoREDmXIqrylZEQIxNK4VAYERAZ+4h4XtfREATDVLwFFpEQCNnYU87aERAIXcRpihdRED4cTRHVlxEQIaQ8/4/YERABaVo5V5sRED67IDrimdEQFLwFHKlWkRAVfgzvFlZREBRbAVNS2BEQNO+ub96YERA2eicn+JcRECasz7lmGBEQDOmYI2zX0RAd7zJb9FTREA=",
          "dtype": "f8"
         },
         "legendgroup": "M",
         "lon": {
          "bdata": "VpqUgm57UsA1XU90XXhSwGDI6lbPe1LABdzz/Gl4UsAXZMvydXtSwE/KpIY2cVLA29/ZHr19UsAWFXE6yXtSwHoaMEj6eVLARii2gqZ8UsBxPQrXo3tSwC+lLhnHelLAgQUwZeCAUsA8ZqAy/m9SwEpfCDnvhFLAvk1/9iN7UsDr46HvboBSwF1qhH6mf1LA/n3GhQOBUsCLGeHtQX9SwJ9zt+ulfFLAMbH5uDZ7UsB6xOi5hX1SwMy1aAHafFLADhDM0eN6UsC2gqYlVoBSwK2HLxNFgFLAxVbQtMSAUsA/jXvzG4ZSwEoJwap6gFLAnyEcs+x/UsDxLhfxnX1SwECJz51ge1LA3Esao3V7UsDqlh3iH3ZSwB+8dmnDeFLAoDcVqTB2UsA74LpiRn9SwPfpeMxAf1LAxF+TNeqAUsB0toDQen9SwNkKmpZYgFLAl/26051xUsAOvcXDe4BSwGqlEMglfVLAMsozL4d6UsDaVN0jm3lSwCb8Uj9ve1LACD2bVZ95UsDuCn2wjHlSwHY25J8ZfVLAogkUsYh/UsCdg2dCk39SwF3Cobd4e1LAT1jiAWV5UsCuLNFZZnlSwEuwOJz5eVLA1PNuLCh8UsDnwkgvanNSwFzK+WLvf1LAe6Lrwg+AUsCW7UPecntSwHWxaaUQgFLAFw6EZAF7UsBkr3d/vHtSwNf34SAhgFLAvt798V6AUsA1DB8RU3xSwO+tSExQcVLAyXISSl+AUsBLPKBsynxSwPesa7Qce1LAHViOkIFwUsCTxJJy93xSwG+70FyneFLAkxlvK72EUsDyKJXwhH9SwLPqc7UVfVLAqmIq/YR7UsD2J/G5E4FSwP+Tv3tHgFLAbR0c7E2AUsDpK0gzFn1SwImbU8kAgFLA/RadLLV6UsDb2y3JAX1SwE8eFmpNe1LAuJGyRdJ5UsAonUgw1X9SwCHOwwlMf1LAMVuyKsJ7UsAGuvYF9IBSwF73ViQmfVLApBr2e2J7UsD2J/G5E3pSwJQ0f0xrgFLAU+qScYx/UsBcxk0NNHpSwAzmr5C5eVLAVObmG9F4UsDM1CR4Q3lSwOer5GN3f1LAs14M5UR5UsDVd35RgntSwLUzTG2pe1LAasGLvoKAUsB5Xb9gN3xSwDtUU5J1fVLA0R+aeXKAUsAfEVMiiX9SwCTW4lMAdlLAvhJIiV2GUsAPDvYmhn9SwD6zJEBNe1LAjdMQVfh/UsBdp5GWynlSwA+aXfdWe1LAgBDJkGN9UsDPoKF/gn9SwOy9+KI9f1LAKIHNOXh7UsDKTj+oi3tSwHehuU4jfVLAezGUE+16UsAtIR/0bH1SwJ8CYDyDe1LAezGUE+14UsDyJyob1ntSwLbz/dR4e1LA3UWYolxwUsDMmII1znxSwEaXN4drfVLAuCBblq94UsD7zFmfcn9SwNl78UV7e1LA176AXrh4UsCxv+yePH1SwGnjiLX4gFLAUBiUaTR/UsCYhuEjYn9SwCKq8Gd4fVLADXGsi9t9UsCmR1M9mXxSwBrEB3b8fVLAgv+tZMeAUsD6RnTPunlSwAAeUaG6hVLA0VeQZix2UsDOjekJS3tSwPvpP2t+fVLADOavkLl5UsB/oUeMnnBSwIqtoGmJf1LA+fNtwVJ7UsBHyhZJu3hSwBk6dlCJf1LAcAfqlEd7UsBlGeJYF4FSwOnWa3pQgFLAtfzAVZ5/UsA/5gMCnXJSwLpL4qyIe1LAIjmZuFWAUsB8KTxodn1SwDaRmQtce1LAETgSaLB5UsD6mA8IdHhSwK8hOC7jelLAi4f3HFhzUsA1e6AVGHxSwDscXaW7elLAKzQQy2aAUsCS6dDpeX9SwDjzqzlAfFLAmsx4W+mAUsA=",
          "dtype": "f8"
         },
         "marker": {
          "color": "#EF553B"
         },
         "mode": "markers",
         "name": "M",
         "showlegend": true,
         "subplot": "mapbox",
         "type": "scattermapbox"
        },
        {
         "hovertemplate": "zone_type=R<br>latitude=%{lat}<br>longitude=%{lon}<extra></extra>",
         "lat": {
          "bdata": "eZJ0zeRfREBaSwFp/19EQBb7y+7JX0RAfQVpxqJhREBzSdV2E15EQF0WE5uPV0RA9s/TgEFcREDmdi/3yWNEQKEt51JcZURADvYmhuRYRECc24R7ZV5EQHgJTn0gV0RA7+GS405tREBslPWbiVtEQBFwCFVqUkRAPfGcLSBWRECSXP5D+lVEQAVvSKMCa0RAsYo3Mo9UREB81cqEX1ZEQKVOQBNhX0RAy5wui4lVREAz/n3GhU9EQLd8JCU9VERATKjg8IJWREC7fsFu2F5EQC2xMhr5aERAi6iJPh9vREAxQ+OJIG5EQAFNhA1Pb0RA5Zgs7j9sREBRFOgTeV5EQNGuQspPXkRAfPKwUGtWREBUqkTZW1ZEQGYQH9jxYURAm5Ksw9FpREBhVFInoFVEQAKEDyVaakRAhBH7BFBWREBCYOXQIl9EQKW9wRcmX0RAbEHvjSFiREAcX3tmSWhEQEdxjjo6bkRA8KKvIM1eRECz6nO1FWtEQF3BNuLJVkRAYrt7gO5dREBha7byklNEQFKBk23gakRAopv9gXJnREA=",
          "dtype": "f8"
         },
         "legendgroup": "R",
         "lon": {
          "bdata": "Uz9vKlJtUsAaahSSzH5SwEfM7PMYeFLAxRuZR/54UsBzEd+JWW1SwN/eNehLc1LA+YctPZp9UsDBHD1+b3xSwD6uDRXje1LA1jibjgB6UsD0NjY7Um1SwPVIg9vacFLAv7fpz355UsC0WmCPiXZSwNfAVgkWeVLAs82N6QlyUsCNnIU97W5SwF/svfiifFLAh/4JLlZ6UsCHokCfyHFSwEgzFk1nbVLAIQclzLRzUsCq9BPObnpSwIuH9xxYeVLAXg8mxcdzUsDesG1RZn1SwPIiE/BrelLAsVJBRdV6UsCsqpffaXtSwG/Ytiizd1LAYmh1coZ6UsDzjlN0JG1SwMh71cqEbVLAPKBsyhVyUsDo2EElrnNSwJViR+NQfVLALev+sRB5UsBkXdxGA3pSwEXxKmubfFLAAdvBiH10UsCaJQFqan1SwPMf0m9fbVLAm1Wfq61+UsCcwHRat3hSwA3fwrrxelLAJ9vAHahtUsA8g4b+CXZSwINMMnIWelLAycfuAiV/UsBAh/nyAm9SwIId/wWCfFLAwRw9fm99UsA=",
          "dtype": "f8"
         },
         "marker": {
          "color": "#00cc96"
         },
         "mode": "markers",
         "name": "R",
         "showlegend": true,
         "subplot": "mapbox",
         "type": "scattermapbox"
        },
        {
         "hovertemplate": "zone_type=P<br>latitude=%{lat}<br>longitude=%{lon}<extra></extra>",
         "lat": {
          "bdata": "6BN5knRVREBevYqMDkxEQN1B7EyhT0RA4X7AAwNgREA=",
          "dtype": "f8"
         },
         "legendgroup": "P",
         "lon": {
          "bdata": "mDRG66hzUsD8GHPXEnBSwM9r7BLVeVLAB9Dv+zd/UsA=",
          "dtype": "f8"
         },
         "marker": {
          "color": "#FFA15A"
         },
         "mode": "markers",
         "name": "P",
         "showlegend": true,
         "subplot": "mapbox",
         "type": "scattermapbox"
        }
       ],
       "layout": {
        "legend": {
         "title": {
          "text": "zone_type"
         },
         "tracegroupgap": 0
        },
        "mapbox": {
         "center": {
          "lat": 40.751940778272484,
          "lon": -73.94548796438112
         },
         "domain": {
          "x": [
           0,
           1
          ],
          "y": [
           0,
           1
          ]
         },
         "style": "carto-positron",
         "zoom": 9
        },
        "template": {
         "data": {
          "bar": [
           {
            "error_x": {
             "color": "#2a3f5f"
            },
            "error_y": {
             "color": "#2a3f5f"
            },
            "marker": {
             "line": {
              "color": "#E5ECF6",
              "width": 0.5
             },
             "pattern": {
              "fillmode": "overlay",
              "size": 10,
              "solidity": 0.2
             }
            },
            "type": "bar"
           }
          ],
          "barpolar": [
           {
            "marker": {
             "line": {
              "color": "#E5ECF6",
              "width": 0.5
             },
             "pattern": {
              "fillmode": "overlay",
              "size": 10,
              "solidity": 0.2
             }
            },
            "type": "barpolar"
           }
          ],
          "carpet": [
           {
            "aaxis": {
             "endlinecolor": "#2a3f5f",
             "gridcolor": "white",
             "linecolor": "white",
             "minorgridcolor": "white",
             "startlinecolor": "#2a3f5f"
            },
            "baxis": {
             "endlinecolor": "#2a3f5f",
             "gridcolor": "white",
             "linecolor": "white",
             "minorgridcolor": "white",
             "startlinecolor": "#2a3f5f"
            },
            "type": "carpet"
           }
          ],
          "choropleth": [
           {
            "colorbar": {
             "outlinewidth": 0,
             "ticks": ""
            },
            "type": "choropleth"
           }
          ],
          "contour": [
           {
            "colorbar": {
             "outlinewidth": 0,
             "ticks": ""
            },
            "colorscale": [
             [
              0,
              "#0d0887"
             ],
             [
              0.1111111111111111,
              "#46039f"
             ],
             [
              0.2222222222222222,
              "#7201a8"
             ],
             [
              0.3333333333333333,
              "#9c179e"
             ],
             [
              0.4444444444444444,
              "#bd3786"
             ],
             [
              0.5555555555555556,
              "#d8576b"
             ],
             [
              0.6666666666666666,
              "#ed7953"
             ],
             [
              0.7777777777777778,
              "#fb9f3a"
             ],
             [
              0.8888888888888888,
              "#fdca26"
             ],
             [
              1,
              "#f0f921"
             ]
            ],
            "type": "contour"
           }
          ],
          "contourcarpet": [
           {
            "colorbar": {
             "outlinewidth": 0,
             "ticks": ""
            },
            "type": "contourcarpet"
           }
          ],
          "heatmap": [
           {
            "colorbar": {
             "outlinewidth": 0,
             "ticks": ""
            },
            "colorscale": [
             [
              0,
              "#0d0887"
             ],
             [
              0.1111111111111111,
              "#46039f"
             ],
             [
              0.2222222222222222,
              "#7201a8"
             ],
             [
              0.3333333333333333,
              "#9c179e"
             ],
             [
              0.4444444444444444,
              "#bd3786"
             ],
             [
              0.5555555555555556,
              "#d8576b"
             ],
             [
              0.6666666666666666,
              "#ed7953"
             ],
             [
              0.7777777777777778,
              "#fb9f3a"
             ],
             [
              0.8888888888888888,
              "#fdca26"
             ],
             [
              1,
              "#f0f921"
             ]
            ],
            "type": "heatmap"
           }
          ],
          "histogram": [
           {
            "marker": {
             "pattern": {
              "fillmode": "overlay",
              "size": 10,
              "solidity": 0.2
             }
            },
            "type": "histogram"
           }
          ],
          "histogram2d": [
           {
            "colorbar": {
             "outlinewidth": 0,
             "ticks": ""
            },
            "colorscale": [
             [
              0,
              "#0d0887"
             ],
             [
              0.1111111111111111,
              "#46039f"
             ],
             [
              0.2222222222222222,
              "#7201a8"
             ],
             [
              0.3333333333333333,
              "#9c179e"
             ],
             [
              0.4444444444444444,
              "#bd3786"
             ],
             [
              0.5555555555555556,
              "#d8576b"
             ],
             [
              0.6666666666666666,
              "#ed7953"
             ],
             [
              0.7777777777777778,
              "#fb9f3a"
             ],
             [
              0.8888888888888888,
              "#fdca26"
             ],
             [
              1,
              "#f0f921"
             ]
            ],
            "type": "histogram2d"
           }
          ],
          "histogram2dcontour": [
           {
            "colorbar": {
             "outlinewidth": 0,
             "ticks": ""
            },
            "colorscale": [
             [
              0,
              "#0d0887"
             ],
             [
              0.1111111111111111,
              "#46039f"
             ],
             [
              0.2222222222222222,
              "#7201a8"
             ],
             [
              0.3333333333333333,
              "#9c179e"
             ],
             [
              0.4444444444444444,
              "#bd3786"
             ],
             [
              0.5555555555555556,
              "#d8576b"
             ],
             [
              0.6666666666666666,
              "#ed7953"
             ],
             [
              0.7777777777777778,
              "#fb9f3a"
             ],
             [
              0.8888888888888888,
              "#fdca26"
             ],
             [
              1,
              "#f0f921"
             ]
            ],
            "type": "histogram2dcontour"
           }
          ],
          "mesh3d": [
           {
            "colorbar": {
             "outlinewidth": 0,
             "ticks": ""
            },
            "type": "mesh3d"
           }
          ],
          "parcoords": [
           {
            "line": {
             "colorbar": {
              "outlinewidth": 0,
              "ticks": ""
             }
            },
            "type": "parcoords"
           }
          ],
          "pie": [
           {
            "automargin": true,
            "type": "pie"
           }
          ],
          "scatter": [
           {
            "fillpattern": {
             "fillmode": "overlay",
             "size": 10,
             "solidity": 0.2
            },
            "type": "scatter"
           }
          ],
          "scatter3d": [
           {
            "line": {
             "colorbar": {
              "outlinewidth": 0,
              "ticks": ""
             }
            },
            "marker": {
             "colorbar": {
              "outlinewidth": 0,
              "ticks": ""
             }
            },
            "type": "scatter3d"
           }
          ],
          "scattercarpet": [
           {
            "marker": {
             "colorbar": {
              "outlinewidth": 0,
              "ticks": ""
             }
            },
            "type": "scattercarpet"
           }
          ],
          "scattergeo": [
           {
            "marker": {
             "colorbar": {
              "outlinewidth": 0,
              "ticks": ""
             }
            },
            "type": "scattergeo"
           }
          ],
          "scattergl": [
           {
            "marker": {
             "colorbar": {
              "outlinewidth": 0,
              "ticks": ""
             }
            },
            "type": "scattergl"
           }
          ],
          "scattermap": [
           {
            "marker": {
             "colorbar": {
              "outlinewidth": 0,
              "ticks": ""
             }
            },
            "type": "scattermap"
           }
          ],
          "scattermapbox": [
           {
            "marker": {
             "colorbar": {
              "outlinewidth": 0,
              "ticks": ""
             }
            },
            "type": "scattermapbox"
           }
          ],
          "scatterpolar": [
           {
            "marker": {
             "colorbar": {
              "outlinewidth": 0,
              "ticks": ""
             }
            },
            "type": "scatterpolar"
           }
          ],
          "scatterpolargl": [
           {
            "marker": {
             "colorbar": {
              "outlinewidth": 0,
              "ticks": ""
             }
            },
            "type": "scatterpolargl"
           }
          ],
          "scatterternary": [
           {
            "marker": {
             "colorbar": {
              "outlinewidth": 0,
              "ticks": ""
             }
            },
            "type": "scatterternary"
           }
          ],
          "surface": [
           {
            "colorbar": {
             "outlinewidth": 0,
             "ticks": ""
            },
            "colorscale": [
             [
              0,
              "#0d0887"
             ],
             [
              0.1111111111111111,
              "#46039f"
             ],
             [
              0.2222222222222222,
              "#7201a8"
             ],
             [
              0.3333333333333333,
              "#9c179e"
             ],
             [
              0.4444444444444444,
              "#bd3786"
             ],
             [
              0.5555555555555556,
              "#d8576b"
             ],
             [
              0.6666666666666666,
              "#ed7953"
             ],
             [
              0.7777777777777778,
              "#fb9f3a"
             ],
             [
              0.8888888888888888,
              "#fdca26"
             ],
             [
              1,
              "#f0f921"
             ]
            ],
            "type": "surface"
           }
          ],
          "table": [
           {
            "cells": {
             "fill": {
              "color": "#EBF0F8"
             },
             "line": {
              "color": "white"
             }
            },
            "header": {
             "fill": {
              "color": "#C8D4E3"
             },
             "line": {
              "color": "white"
             }
            },
            "type": "table"
           }
          ]
         },
         "layout": {
          "annotationdefaults": {
           "arrowcolor": "#2a3f5f",
           "arrowhead": 0,
           "arrowwidth": 1
          },
          "autotypenumbers": "strict",
          "coloraxis": {
           "colorbar": {
            "outlinewidth": 0,
            "ticks": ""
           }
          },
          "colorscale": {
           "diverging": [
            [
             0,
             "#8e0152"
            ],
            [
             0.1,
             "#c51b7d"
            ],
            [
             0.2,
             "#de77ae"
            ],
            [
             0.3,
             "#f1b6da"
            ],
            [
             0.4,
             "#fde0ef"
            ],
            [
             0.5,
             "#f7f7f7"
            ],
            [
             0.6,
             "#e6f5d0"
            ],
            [
             0.7,
             "#b8e186"
            ],
            [
             0.8,
             "#7fbc41"
            ],
            [
             0.9,
             "#4d9221"
            ],
            [
             1,
             "#276419"
            ]
           ],
           "sequential": [
            [
             0,
             "#0d0887"
            ],
            [
             0.1111111111111111,
             "#46039f"
            ],
            [
             0.2222222222222222,
             "#7201a8"
            ],
            [
             0.3333333333333333,
             "#9c179e"
            ],
            [
             0.4444444444444444,
             "#bd3786"
            ],
            [
             0.5555555555555556,
             "#d8576b"
            ],
            [
             0.6666666666666666,
             "#ed7953"
            ],
            [
             0.7777777777777778,
             "#fb9f3a"
            ],
            [
             0.8888888888888888,
             "#fdca26"
            ],
            [
             1,
             "#f0f921"
            ]
           ],
           "sequentialminus": [
            [
             0,
             "#0d0887"
            ],
            [
             0.1111111111111111,
             "#46039f"
            ],
            [
             0.2222222222222222,
             "#7201a8"
            ],
            [
             0.3333333333333333,
             "#9c179e"
            ],
            [
             0.4444444444444444,
             "#bd3786"
            ],
            [
             0.5555555555555556,
             "#d8576b"
            ],
            [
             0.6666666666666666,
             "#ed7953"
            ],
            [
             0.7777777777777778,
             "#fb9f3a"
            ],
            [
             0.8888888888888888,
             "#fdca26"
            ],
            [
             1,
             "#f0f921"
            ]
           ]
          },
          "colorway": [
           "#636efa",
           "#EF553B",
           "#00cc96",
           "#ab63fa",
           "#FFA15A",
           "#19d3f3",
           "#FF6692",
           "#B6E880",
           "#FF97FF",
           "#FECB52"
          ],
          "font": {
           "color": "#2a3f5f"
          },
          "geo": {
           "bgcolor": "white",
           "lakecolor": "white",
           "landcolor": "#E5ECF6",
           "showlakes": true,
           "showland": true,
           "subunitcolor": "white"
          },
          "hoverlabel": {
           "align": "left"
          },
          "hovermode": "closest",
          "mapbox": {
           "style": "light"
          },
          "paper_bgcolor": "white",
          "plot_bgcolor": "#E5ECF6",
          "polar": {
           "angularaxis": {
            "gridcolor": "white",
            "linecolor": "white",
            "ticks": ""
           },
           "bgcolor": "#E5ECF6",
           "radialaxis": {
            "gridcolor": "white",
            "linecolor": "white",
            "ticks": ""
           }
          },
          "scene": {
           "xaxis": {
            "backgroundcolor": "#E5ECF6",
            "gridcolor": "white",
            "gridwidth": 2,
            "linecolor": "white",
            "showbackground": true,
            "ticks": "",
            "zerolinecolor": "white"
           },
           "yaxis": {
            "backgroundcolor": "#E5ECF6",
            "gridcolor": "white",
            "gridwidth": 2,
            "linecolor": "white",
            "showbackground": true,
            "ticks": "",
            "zerolinecolor": "white"
           },
           "zaxis": {
            "backgroundcolor": "#E5ECF6",
            "gridcolor": "white",
            "gridwidth": 2,
            "linecolor": "white",
            "showbackground": true,
            "ticks": "",
            "zerolinecolor": "white"
           }
          },
          "shapedefaults": {
           "line": {
            "color": "#2a3f5f"
           }
          },
          "ternary": {
           "aaxis": {
            "gridcolor": "white",
            "linecolor": "white",
            "ticks": ""
           },
           "baxis": {
            "gridcolor": "white",
            "linecolor": "white",
            "ticks": ""
           },
           "bgcolor": "#E5ECF6",
           "caxis": {
            "gridcolor": "white",
            "linecolor": "white",
            "ticks": ""
           }
          },
          "title": {
           "x": 0.05
          },
          "xaxis": {
           "automargin": true,
           "gridcolor": "white",
           "linecolor": "white",
           "ticks": "",
           "title": {
            "standoff": 15
           },
           "zerolinecolor": "white",
           "zerolinewidth": 2
          },
          "yaxis": {
           "automargin": true,
           "gridcolor": "white",
           "linecolor": "white",
           "ticks": "",
           "title": {
            "standoff": 15
           },
           "zerolinecolor": "white",
           "zerolinewidth": 2
          }
         }
        },
        "title": {
         "text": "Kiosks by Zoning Type (Commercial vs Residential)"
        }
       }
      }
     },
     "metadata": {},
     "output_type": "display_data"
    }
   ],
   "source": [
    "px.scatter_mapbox(\n",
    "    df,\n",
    "    lat='latitude',\n",
    "    lon='longitude',\n",
    "    color='zone_type',\n",
    "    zoom=9,\n",
    "    mapbox_style='carto-positron',\n",
    "    title='Kiosks by Zoning Type (Commercial vs Residential)'\n",
    ")\n",
    "\n"
   ]
  },
  {
   "cell_type": "code",
   "execution_count": 29,
   "id": "3de50383",
   "metadata": {},
   "outputs": [
    {
     "name": "stderr",
     "output_type": "stream",
     "text": [
      "/var/folders/v2/9k8drrwj5h39kpr935vvx6j80000gn/T/ipykernel_4040/3889706002.py:1: DeprecationWarning:\n",
      "\n",
      "*density_mapbox* is deprecated! Use *density_map* instead. Learn more at: https://plotly.com/python/mapbox-to-maplibre/\n",
      "\n"
     ]
    },
    {
     "data": {
      "application/vnd.plotly.v1+json": {
       "config": {
        "plotlyServerURL": "https://plot.ly"
       },
       "data": [
        {
         "coloraxis": "coloraxis",
         "hovertemplate": "latitude=%{lat}<br>longitude=%{lon}<extra></extra>",
         "lat": {
          "bdata": "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",
          "dtype": "f8"
         },
         "lon": {
          "bdata": "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",
          "dtype": "f8"
         },
         "name": "",
         "radius": 10,
         "subplot": "mapbox",
         "type": "densitymapbox"
        }
       ],
       "layout": {
        "coloraxis": {
         "colorscale": [
          [
           0,
           "#0d0887"
          ],
          [
           0.1111111111111111,
           "#46039f"
          ],
          [
           0.2222222222222222,
           "#7201a8"
          ],
          [
           0.3333333333333333,
           "#9c179e"
          ],
          [
           0.4444444444444444,
           "#bd3786"
          ],
          [
           0.5555555555555556,
           "#d8576b"
          ],
          [
           0.6666666666666666,
           "#ed7953"
          ],
          [
           0.7777777777777778,
           "#fb9f3a"
          ],
          [
           0.8888888888888888,
           "#fdca26"
          ],
          [
           1,
           "#f0f921"
          ]
         ]
        },
        "legend": {
         "tracegroupgap": 0
        },
        "mapbox": {
         "center": {
          "lat": 40.751940778272484,
          "lon": -73.94548796438112
         },
         "domain": {
          "x": [
           0,
           1
          ],
          "y": [
           0,
           1
          ]
         },
         "style": "carto-positron",
         "zoom": 9
        },
        "template": {
         "data": {
          "bar": [
           {
            "error_x": {
             "color": "#2a3f5f"
            },
            "error_y": {
             "color": "#2a3f5f"
            },
            "marker": {
             "line": {
              "color": "#E5ECF6",
              "width": 0.5
             },
             "pattern": {
              "fillmode": "overlay",
              "size": 10,
              "solidity": 0.2
             }
            },
            "type": "bar"
           }
          ],
          "barpolar": [
           {
            "marker": {
             "line": {
              "color": "#E5ECF6",
              "width": 0.5
             },
             "pattern": {
              "fillmode": "overlay",
              "size": 10,
              "solidity": 0.2
             }
            },
            "type": "barpolar"
           }
          ],
          "carpet": [
           {
            "aaxis": {
             "endlinecolor": "#2a3f5f",
             "gridcolor": "white",
             "linecolor": "white",
             "minorgridcolor": "white",
             "startlinecolor": "#2a3f5f"
            },
            "baxis": {
             "endlinecolor": "#2a3f5f",
             "gridcolor": "white",
             "linecolor": "white",
             "minorgridcolor": "white",
             "startlinecolor": "#2a3f5f"
            },
            "type": "carpet"
           }
          ],
          "choropleth": [
           {
            "colorbar": {
             "outlinewidth": 0,
             "ticks": ""
            },
            "type": "choropleth"
           }
          ],
          "contour": [
           {
            "colorbar": {
             "outlinewidth": 0,
             "ticks": ""
            },
            "colorscale": [
             [
              0,
              "#0d0887"
             ],
             [
              0.1111111111111111,
              "#46039f"
             ],
             [
              0.2222222222222222,
              "#7201a8"
             ],
             [
              0.3333333333333333,
              "#9c179e"
             ],
             [
              0.4444444444444444,
              "#bd3786"
             ],
             [
              0.5555555555555556,
              "#d8576b"
             ],
             [
              0.6666666666666666,
              "#ed7953"
             ],
             [
              0.7777777777777778,
              "#fb9f3a"
             ],
             [
              0.8888888888888888,
              "#fdca26"
             ],
             [
              1,
              "#f0f921"
             ]
            ],
            "type": "contour"
           }
          ],
          "contourcarpet": [
           {
            "colorbar": {
             "outlinewidth": 0,
             "ticks": ""
            },
            "type": "contourcarpet"
           }
          ],
          "heatmap": [
           {
            "colorbar": {
             "outlinewidth": 0,
             "ticks": ""
            },
            "colorscale": [
             [
              0,
              "#0d0887"
             ],
             [
              0.1111111111111111,
              "#46039f"
             ],
             [
              0.2222222222222222,
              "#7201a8"
             ],
             [
              0.3333333333333333,
              "#9c179e"
             ],
             [
              0.4444444444444444,
              "#bd3786"
             ],
             [
              0.5555555555555556,
              "#d8576b"
             ],
             [
              0.6666666666666666,
              "#ed7953"
             ],
             [
              0.7777777777777778,
              "#fb9f3a"
             ],
             [
              0.8888888888888888,
              "#fdca26"
             ],
             [
              1,
              "#f0f921"
             ]
            ],
            "type": "heatmap"
           }
          ],
          "histogram": [
           {
            "marker": {
             "pattern": {
              "fillmode": "overlay",
              "size": 10,
              "solidity": 0.2
             }
            },
            "type": "histogram"
           }
          ],
          "histogram2d": [
           {
            "colorbar": {
             "outlinewidth": 0,
             "ticks": ""
            },
            "colorscale": [
             [
              0,
              "#0d0887"
             ],
             [
              0.1111111111111111,
              "#46039f"
             ],
             [
              0.2222222222222222,
              "#7201a8"
             ],
             [
              0.3333333333333333,
              "#9c179e"
             ],
             [
              0.4444444444444444,
              "#bd3786"
             ],
             [
              0.5555555555555556,
              "#d8576b"
             ],
             [
              0.6666666666666666,
              "#ed7953"
             ],
             [
              0.7777777777777778,
              "#fb9f3a"
             ],
             [
              0.8888888888888888,
              "#fdca26"
             ],
             [
              1,
              "#f0f921"
             ]
            ],
            "type": "histogram2d"
           }
          ],
          "histogram2dcontour": [
           {
            "colorbar": {
             "outlinewidth": 0,
             "ticks": ""
            },
            "colorscale": [
             [
              0,
              "#0d0887"
             ],
             [
              0.1111111111111111,
              "#46039f"
             ],
             [
              0.2222222222222222,
              "#7201a8"
             ],
             [
              0.3333333333333333,
              "#9c179e"
             ],
             [
              0.4444444444444444,
              "#bd3786"
             ],
             [
              0.5555555555555556,
              "#d8576b"
             ],
             [
              0.6666666666666666,
              "#ed7953"
             ],
             [
              0.7777777777777778,
              "#fb9f3a"
             ],
             [
              0.8888888888888888,
              "#fdca26"
             ],
             [
              1,
              "#f0f921"
             ]
            ],
            "type": "histogram2dcontour"
           }
          ],
          "mesh3d": [
           {
            "colorbar": {
             "outlinewidth": 0,
             "ticks": ""
            },
            "type": "mesh3d"
           }
          ],
          "parcoords": [
           {
            "line": {
             "colorbar": {
              "outlinewidth": 0,
              "ticks": ""
             }
            },
            "type": "parcoords"
           }
          ],
          "pie": [
           {
            "automargin": true,
            "type": "pie"
           }
          ],
          "scatter": [
           {
            "fillpattern": {
             "fillmode": "overlay",
             "size": 10,
             "solidity": 0.2
            },
            "type": "scatter"
           }
          ],
          "scatter3d": [
           {
            "line": {
             "colorbar": {
              "outlinewidth": 0,
              "ticks": ""
             }
            },
            "marker": {
             "colorbar": {
              "outlinewidth": 0,
              "ticks": ""
             }
            },
            "type": "scatter3d"
           }
          ],
          "scattercarpet": [
           {
            "marker": {
             "colorbar": {
              "outlinewidth": 0,
              "ticks": ""
             }
            },
            "type": "scattercarpet"
           }
          ],
          "scattergeo": [
           {
            "marker": {
             "colorbar": {
              "outlinewidth": 0,
              "ticks": ""
             }
            },
            "type": "scattergeo"
           }
          ],
          "scattergl": [
           {
            "marker": {
             "colorbar": {
              "outlinewidth": 0,
              "ticks": ""
             }
            },
            "type": "scattergl"
           }
          ],
          "scattermap": [
           {
            "marker": {
             "colorbar": {
              "outlinewidth": 0,
              "ticks": ""
             }
            },
            "type": "scattermap"
           }
          ],
          "scattermapbox": [
           {
            "marker": {
             "colorbar": {
              "outlinewidth": 0,
              "ticks": ""
             }
            },
            "type": "scattermapbox"
           }
          ],
          "scatterpolar": [
           {
            "marker": {
             "colorbar": {
              "outlinewidth": 0,
              "ticks": ""
             }
            },
            "type": "scatterpolar"
           }
          ],
          "scatterpolargl": [
           {
            "marker": {
             "colorbar": {
              "outlinewidth": 0,
              "ticks": ""
             }
            },
            "type": "scatterpolargl"
           }
          ],
          "scatterternary": [
           {
            "marker": {
             "colorbar": {
              "outlinewidth": 0,
              "ticks": ""
             }
            },
            "type": "scatterternary"
           }
          ],
          "surface": [
           {
            "colorbar": {
             "outlinewidth": 0,
             "ticks": ""
            },
            "colorscale": [
             [
              0,
              "#0d0887"
             ],
             [
              0.1111111111111111,
              "#46039f"
             ],
             [
              0.2222222222222222,
              "#7201a8"
             ],
             [
              0.3333333333333333,
              "#9c179e"
             ],
             [
              0.4444444444444444,
              "#bd3786"
             ],
             [
              0.5555555555555556,
              "#d8576b"
             ],
             [
              0.6666666666666666,
              "#ed7953"
             ],
             [
              0.7777777777777778,
              "#fb9f3a"
             ],
             [
              0.8888888888888888,
              "#fdca26"
             ],
             [
              1,
              "#f0f921"
             ]
            ],
            "type": "surface"
           }
          ],
          "table": [
           {
            "cells": {
             "fill": {
              "color": "#EBF0F8"
             },
             "line": {
              "color": "white"
             }
            },
            "header": {
             "fill": {
              "color": "#C8D4E3"
             },
             "line": {
              "color": "white"
             }
            },
            "type": "table"
           }
          ]
         },
         "layout": {
          "annotationdefaults": {
           "arrowcolor": "#2a3f5f",
           "arrowhead": 0,
           "arrowwidth": 1
          },
          "autotypenumbers": "strict",
          "coloraxis": {
           "colorbar": {
            "outlinewidth": 0,
            "ticks": ""
           }
          },
          "colorscale": {
           "diverging": [
            [
             0,
             "#8e0152"
            ],
            [
             0.1,
             "#c51b7d"
            ],
            [
             0.2,
             "#de77ae"
            ],
            [
             0.3,
             "#f1b6da"
            ],
            [
             0.4,
             "#fde0ef"
            ],
            [
             0.5,
             "#f7f7f7"
            ],
            [
             0.6,
             "#e6f5d0"
            ],
            [
             0.7,
             "#b8e186"
            ],
            [
             0.8,
             "#7fbc41"
            ],
            [
             0.9,
             "#4d9221"
            ],
            [
             1,
             "#276419"
            ]
           ],
           "sequential": [
            [
             0,
             "#0d0887"
            ],
            [
             0.1111111111111111,
             "#46039f"
            ],
            [
             0.2222222222222222,
             "#7201a8"
            ],
            [
             0.3333333333333333,
             "#9c179e"
            ],
            [
             0.4444444444444444,
             "#bd3786"
            ],
            [
             0.5555555555555556,
             "#d8576b"
            ],
            [
             0.6666666666666666,
             "#ed7953"
            ],
            [
             0.7777777777777778,
             "#fb9f3a"
            ],
            [
             0.8888888888888888,
             "#fdca26"
            ],
            [
             1,
             "#f0f921"
            ]
           ],
           "sequentialminus": [
            [
             0,
             "#0d0887"
            ],
            [
             0.1111111111111111,
             "#46039f"
            ],
            [
             0.2222222222222222,
             "#7201a8"
            ],
            [
             0.3333333333333333,
             "#9c179e"
            ],
            [
             0.4444444444444444,
             "#bd3786"
            ],
            [
             0.5555555555555556,
             "#d8576b"
            ],
            [
             0.6666666666666666,
             "#ed7953"
            ],
            [
             0.7777777777777778,
             "#fb9f3a"
            ],
            [
             0.8888888888888888,
             "#fdca26"
            ],
            [
             1,
             "#f0f921"
            ]
           ]
          },
          "colorway": [
           "#636efa",
           "#EF553B",
           "#00cc96",
           "#ab63fa",
           "#FFA15A",
           "#19d3f3",
           "#FF6692",
           "#B6E880",
           "#FF97FF",
           "#FECB52"
          ],
          "font": {
           "color": "#2a3f5f"
          },
          "geo": {
           "bgcolor": "white",
           "lakecolor": "white",
           "landcolor": "#E5ECF6",
           "showlakes": true,
           "showland": true,
           "subunitcolor": "white"
          },
          "hoverlabel": {
           "align": "left"
          },
          "hovermode": "closest",
          "mapbox": {
           "style": "light"
          },
          "paper_bgcolor": "white",
          "plot_bgcolor": "#E5ECF6",
          "polar": {
           "angularaxis": {
            "gridcolor": "white",
            "linecolor": "white",
            "ticks": ""
           },
           "bgcolor": "#E5ECF6",
           "radialaxis": {
            "gridcolor": "white",
            "linecolor": "white",
            "ticks": ""
           }
          },
          "scene": {
           "xaxis": {
            "backgroundcolor": "#E5ECF6",
            "gridcolor": "white",
            "gridwidth": 2,
            "linecolor": "white",
            "showbackground": true,
            "ticks": "",
            "zerolinecolor": "white"
           },
           "yaxis": {
            "backgroundcolor": "#E5ECF6",
            "gridcolor": "white",
            "gridwidth": 2,
            "linecolor": "white",
            "showbackground": true,
            "ticks": "",
            "zerolinecolor": "white"
           },
           "zaxis": {
            "backgroundcolor": "#E5ECF6",
            "gridcolor": "white",
            "gridwidth": 2,
            "linecolor": "white",
            "showbackground": true,
            "ticks": "",
            "zerolinecolor": "white"
           }
          },
          "shapedefaults": {
           "line": {
            "color": "#2a3f5f"
           }
          },
          "ternary": {
           "aaxis": {
            "gridcolor": "white",
            "linecolor": "white",
            "ticks": ""
           },
           "baxis": {
            "gridcolor": "white",
            "linecolor": "white",
            "ticks": ""
           },
           "bgcolor": "#E5ECF6",
           "caxis": {
            "gridcolor": "white",
            "linecolor": "white",
            "ticks": ""
           }
          },
          "title": {
           "x": 0.05
          },
          "xaxis": {
           "automargin": true,
           "gridcolor": "white",
           "linecolor": "white",
           "ticks": "",
           "title": {
            "standoff": 15
           },
           "zerolinecolor": "white",
           "zerolinewidth": 2
          },
          "yaxis": {
           "automargin": true,
           "gridcolor": "white",
           "linecolor": "white",
           "ticks": "",
           "title": {
            "standoff": 15
           },
           "zerolinecolor": "white",
           "zerolinewidth": 2
          }
         }
        },
        "title": {
         "text": "Kiosk Density Heatmap Across NYC"
        }
       }
      }
     },
     "metadata": {},
     "output_type": "display_data"
    }
   ],
   "source": [
    "px.density_mapbox(\n",
    "    df,\n",
    "    lat='latitude',\n",
    "    lon='longitude',\n",
    "    radius=10,\n",
    "    zoom=9,\n",
    "    mapbox_style='carto-positron',\n",
    "    title='Kiosk Density Heatmap Across NYC'\n",
    ")\n"
   ]
  },
  {
   "cell_type": "code",
   "execution_count": 30,
   "id": "b61cc14f",
   "metadata": {},
   "outputs": [],
   "source": [
    "# Tag replacements\n",
    "df['replacement_status'] = df.apply(\n",
    "    lambda x: 'Replaced Original' if (\n",
    "        pd.notnull(x['installation_complete']) and \n",
    "        pd.notnull(x['activation_complete']) and \n",
    "        (x['activation_complete'].year > x['installation_complete'].year + 1)\n",
    "    ) else 'Original/Unchanged',\n",
    "    axis=1\n",
    ")\n",
    "\n"
   ]
  },
  {
   "cell_type": "code",
   "execution_count": 31,
   "id": "c9a49960",
   "metadata": {},
   "outputs": [],
   "source": [
    "def classify_generation(row):\n",
    "# case 1: no activation date means it's still the original LinkNYC kiosk\n",
    "    if pd.isnull(row['activation_complete']):\n",
    "        return 'Original/Unchanged'\n",
    "    # Activation happened during Link5G rollout (2021+)\n",
    "    elif row['activation_complete'].year >= 2021:\n",
    "        if row['installation_complete'].year < 2021:\n",
    "            return 'Replaced Original'   # upgraded site\n",
    "        else:\n",
    "            return 'Link5G (New Install)'  # brand new site\n",
    "    else:\n",
    "        return 'Original/Unchanged'\n",
    "\n",
    "df['replacement_status'] = df.apply(classify_generation, axis=1)\n"
   ]
  },
  {
   "cell_type": "code",
   "execution_count": 32,
   "id": "ef4885b7",
   "metadata": {},
   "outputs": [
    {
     "name": "stderr",
     "output_type": "stream",
     "text": [
      "/var/folders/v2/9k8drrwj5h39kpr935vvx6j80000gn/T/ipykernel_4040/1548540016.py:1: DeprecationWarning:\n",
      "\n",
      "*scatter_mapbox* is deprecated! Use *scatter_map* instead. Learn more at: https://plotly.com/python/mapbox-to-maplibre/\n",
      "\n"
     ]
    },
    {
     "data": {
      "application/vnd.plotly.v1+json": {
       "config": {
        "plotlyServerURL": "https://plot.ly"
       },
       "data": [
        {
         "hovertemplate": "replacement_status=Original/Unchanged<br>latitude=%{lat}<br>longitude=%{lon}<extra></extra>",
         "lat": {
          "bdata": "L1IoC19hREDnyMovg2FEQDzB/uvcYERARRDn4QRYRECLVBhbCGJEQHL8UGnEXkRA7fSDukhlRECdnndjQWlEQCsv+Z/8YURAww34/DBcREAfhIB8CWNEQE5GlWHcYURA+kFdpFBqREDICRNGs15EQMd/gSBAXkRAOUVHcvlpRECO5V31gGFEQEvLSL2nVkRAdSDrqdVfREBAogkUsWREQGkbf6KyY0RAnIh+bf1gRECLUdfa+1ZEQIJYNnNIakRAzqj5KvlqREAYQs77/0hEQCzUmuYdb0RAWWyTisZkREDh8e1dg15EQIQroFBPZ0RAgSVXsfhhREDD1QEQd2VEQEIlrmNcYURAxm00gLdeREBCsKpefmdEQDvCacGLXkRAWksBaf9fREAX1LfM6VBEQO22C811XkRAFvvL7slfRECtpBXfUGJEQNQs0O6QXkRAJAuYwK1fRECPxqF+F2BEQDCDMSJRYERAwjBgyVVuREDnjv6Xa1VEQG4zFeKRXkRA8guvJHlaREAVV5V9V2REQEusjEY+YURAq5Se6SVcREBrnbgcr15EQESF6ubiX0RAlZwTe2hjRECTOZZ31VlEQLCvdakRWERAI0xRLo1nREAZPEz75mhEQBf1Se6wZURAQL/v37xgREDhDP5+MW9EQPJEEOfhaERAqpz2lJxfREClhGBVvWREQGk1JO6xYkRAqkNuhhtuRECxNsZOeGFEQF7acFgaVkRAiA6BI4FiRECj6exkcF5EQH3LnC6LZURAX5uNlZhdRECnO088Z2FEQPiMRGgEW0RAbkxPWOJdREBI4uXpXGVEQJHwvb9BaURA0/caguNWREB56SYxCGJEQEzg1t08YURAybCKNzJjRECTHoZWJ1dEQB050hkYYURAY7fPKjNnREAErcCQ1WdEQAkWhzO/YERAOGbZk8BgREALYwtBDmJEQGSuDKoNakRAPSr+74hoRECCN6RRgWVEQH1Z2qm5WERA/yWpTDFdREDG+DB72V5EQKNzforjYERA7Z3RViVnREAZr3lVZ0lEQODb9Gc/WkRANIEiFjFgREAz/KcbKGBEQHvBpzl5Y0RACOi+nNlmREARjINLx2ZEQD2ARX79ZERAigW+oltfRECXVG03wWtEQP5IERlWX0RAERlW8UZeRECjy5vDtV5EQHr83qY/Z0RASNxj6UNfREDpYP2fw1ZEQJ5eKcsQX0RAGqchqvBjRECMFMrC11VEQOmcn+I4XERAE0VI3c5oREBFZFjFG19EQGAhc2VQYURAHAjJAiZkREDX3qeq0GhEQKSpnsw/aERAaFvNOuNZREBKQEzChWJEQOaSqu0mYERAQ41CkllfREAkgJvFi2lEQGZmZmZmbERA/+xHishqREDV52or9mlEQHmvWpnwaURAF7fRAN5aREC4WbxYGGxEQIKN69/1ZURA7MA5I0pfREDbNSGtMWREQMN95NakXURABK+WOzNdREAKvJNPj1dEQF726053YERAcXFUbqJeREDYLJeNzltEQM4z9iUbY0RALzVCP1NJRECjAbwFEmJEQPfnoiHjYURAt0PDYtRlREDjp3Fvfl9EQLhWe9gLZURAzlSIR+JhRECMMEW5NGJEQLfSa7OxZkRAWYrkK4FiREBTliGOdVlEQGXfFcH/XkRAPrK5ap5jREAsgZTYtV9EQHB6F+/HX0RAwr8IGjNtREDiWBe30V5EQHoAi/z6XURAZ33KMVlaREAsRfKVQGhEQJvKorCLXERA6KT3ja9jREAGD9O+uVVEQMzriEM2aERAdy6M9KJkREADmDJwQF9EQLH34ov2ZkRAL28O12pfREDs3orEBGFEQJrOTgZHVURARRFSt7NfREBBSYEFMG1EQNaLoZxoZURARrOyfchhREBk6xnCMV9EQGxc/67PVERAYWu28pJfREBffxKfO2FEQMXL07miWERAmSmtvyVmREDlt+hkqWNEQBXKwtfXXkRArBvvjoxbREDwplt2iGFEQBqLprOTZURAUDQPYJFfRECae0j43mlEQFm/mZguYkRA7upVZHRKREBEpREz+2BEQEgXm1YKbURAtD7lmCxcREDOqPkq+WBEQHOiXYWUX0RA68cm+RFfREBIMxZNZ1NEQFqEYitoSkRAJUBNLVtZREA+JefEHmxEQGKfAIqRWURAVvSHZp5iREDdJtwr82pEQAjNrnsrYkRANIEiFjFoREBd3hyu1WBEQD5CzZAqakRA0nMLXYloREC+pZwv9lxEQKgd/pqsYURAorJhTWVnREB8JvvnaVpEQKd5xyk6bkRABr6iW69fRECYa9ECtFtEQM14W+m1WURAzJvDtdpnREBruTMTDGNEQIqRJXMsYURAhEVFnE5kREAgCft2EmtEQO6yX3e6Z0RAfnIUIApeREAV/aGZJ2NEQOUK73IRXURAd2SsNv9hREBVLlT+tVJEQBGpaRfTaERAg/krZK5qREBr1hnfF1tEQEGC4seYX0RANnUeFf9pREBW0opvKGBEQC/h0Fs8ZkRAB2Fu93JbREA8g4b+CWJEQPeSxmgdXURAsDcxJCdfREDqJFtdTmlEQIoEU82sU0RAj1VKz/ReREDCS3DqA2VEQEZgrG9gYERAhNOCF31fREDW5ZSAmFxEQLyyCwbXXkRACK2HLxNXREAo84++SVlEQOOkMO9xYkRApPs5BfldREAwgPChRGNEQIHR5c3hXERAQj9Tr1tiREAvbw7XamFEQAGloUYhX0RAxjAnaJNnREAewvhp3F9EQBfUt8zpXkRAQfLOoQxfREA2Wg70UGFEQBN+qZ83Z0RAHLKBdLFfREDKbJBJRmJEQHUCmggbZkRA+dhdoKRmREDoL/SI0WlEQLBYw0XuX0RAJTyh159eREArUIvBw2REQBDPEmQEVERAuw9AahNnREBPPGcLCF9EQH/Bbti2ZkRAenHiqx1fRECygAnculdEQKMgeHx7aURAC5jArbtZRECKyoY1lWFEQKJ9rOC3YURArfcb7bhdREB476gxIWJEQJ+u7lhsX0RAkNrEyf1cRECfVtEfmmNEQKwCtRg8YERAmfOMfclmREBSSDKrd1REQNcUyOwsWkRAtCJqos9lREDjb3uCxGREQCPzyB8MYkRA3zR9dsBhREDC+dSxSm1EQEWBPpEnX0RAPiZSms1bREAHYW73cmlEQAFRMGMKXERA0TyARX5tREC8Azxp4WBEQObMdoU+WERAaMu5FFddREAeqFMe3WJEQBfTTPc6ZURAFhObj2thREDpYz4g0F9EQLucEhCTYERAKes3E9NhREBoW806419EQD+toj80bURAN92yQ/xlREC4XP3YJGlEQDdsW5TZWERAgdB6+DJVREDXTSmvlWREQMf17/rMVURAC9P3GoJLREC/ZOPBFm1EQKDFUiRfU0RAJIEGmzpfREB56LtbWWxEQNXo1QClX0RAYADhQ4loRECvIqMDklpEQHi5iO/EaERAW0BoPXxhREBu3c1THVpEQI+M1eb/V0RAHsL4adxbREDRIXAk0F5EQNSBrKdWYURAdHrejQVTREDAWyBB8WVEQO5brROXX0RA1ouhnGhbRECCOA8nMElEQJCDEmbaVkRAR1m/mZhoREDdQlciUFdEQOun/6z5aURAk40HW+xuREDEk93M6F9EQGmtaHOcW0RAtkyG4/lWREDHEtbG2GlEQD83NGWnYURA6E1FKoxfREBREaeTbG1EQNo7o61KYERAnGnC9pNLREAP8Q9bel5EQPQau0T1YERAWdsUj4tWRECj5qvkY2lEQCgOoN/3XURAgNWRI51jREBPeAlOfWxEQAFO7+L9WERAQWfSpupeREC7fOvDemFEQGt/Z3v0akRAuAIK9fRnREB7MCk+PmlEQAznGmZoXkRA6GZ/oNxiREBgdHlzuFZEQA0XuaerYURA7IUCtoNTREBpVrYPeWFEQOVgNgGGW0RAqMMKt3xmREDhuIybGl5EQML2kzE+XkRARSqMLQRXREBX0LTEylREQN5YUBiUX0RAB0KygAlcREDZzYx+NGZEQKrwZ3izXkRAqKj6lc5hREBuFi8WhmBEQDhJ88e0aERApBzMJsBcREBtADYgQlpEQDSCjevfYURAz4JQ3sdXREDNH9PaNGZEQOqScYxkZ0RAXWqEfqZgREAs1nCRe2REQGX/PA0YZERA0cq9wKxeRECMFMrC119EQAFuFi8WSkRA7C5QUmBfRECiKNAn8m5EQEzChTyCXURAcQFolC5hRECsAUpDjWBEQFWhgVg2V0RAZi5weaxfREAYBcHj22NEQLpnXaPlakRAelG7XwViREAHP3EA/VhEQGUBE7h1Y0RA4sgDkUVkREAQXOUJhFlEQOSghJm2YURAVijS/ZxeRECXkXpP5V5EQLpL4qyIYERAx4Ds9e5VRECb5h2n6GhEQHxjCACOU0RAhPV/DvNfREDpnJ/iOF5EQMoXtJCAW0RAnrZGBONeREAjMNY3MF9EQMB3mzdObkRAU3b6QV1kREBr14S0xmpEQNy3WicuYURAnWfsSzZiRECfW+hKBGxEQJm4VRADaURALNMvEW9XREA91owMcmNEQGWMD7OXV0RABn+/mC1fREAjg9xFmExEQPGEXn8SYURA4pANpItfREArFyr/Wm5EQJHSbB6HY0RApaKx9ndgREBI3GPpQ2dEQMr6zcR0WURAh6dXyjJqRED3PeqvV25EQOohGt1BZERAguUIGchZREBbXyS05WpEQPgyUYTUX0RA+MQ6Vb5hREBSuYlammNEQFyN7ErLVkRA+OC1SxtgREC/uipQi2dEQAX8GkmCXkRAuHNhpBddRECTAgtgymhEQJDdBUoKWERAoBuastNhRECL/PohNlZEQAwh5/1/ZkRAzt4ZbVVeREBBnIcTmGhEQJSl1vuNbERAvqJbr+ldREAUlQ1rKm1EQL7BFyZTSURAFjWYhuFTREA1Q6ooXmNEQLGiBtMwVERAdnEbDeBdREAwvf25aGBEQIZWJ2coUkRADECjdOlXRECTGARWDl9EQJp4B3jSbERAr2Ab8WRfREDWql0T0lZEQHTS+8bXXERATg00n3NhREDQDyOER2lEQLyxoDAoX0RAX3zRHi9cRECjWdk+5F9EQEpDjUKSX0RAN8E3TZ9XREAvi4nNx2NEQIiE7/0NVkRA9zx/2qhkRECci7/tCWZEQExV2uIaYURAqRWm7zViREAs1JrmHWNEQJi9bDttaURAO+KQDaRpREDFru3tllhEQIqQup19YURAfuNrzyxfREApmDEFa1ZEQNOiPskdZERA1/hM9s9dREDIt3cN+lZEQN50yw7xXURAg2itaHNgREBNEHUfgGBEQBnG3SBaYURAAcKHEi1fRED5vrhUpUtEQExPWOIBbURA0hito6pfREDrOlRTkmFEQMx+3enOYURA2GK3zypfREAmqUwxB2NEQNMvEW+dZURA+IkD6PdnRECOWItPAWJEQIQsCyb+WERA3c6+8iBhRECFlQoqqmBEQNSbUfNVYERAD52ed2NjREBLI2b2eV5EQB8xem6hX0RAaeVeYFZgRED3ItqOqWFEQE6YMJqVY0RAyH2rdeJgREDAPGTKh2BEQN6QRgVOXkRAzM8NTdlfREA3NdB8zmdEQGK7e4DuY0RAn8coz7xmREAOpItNK2NEQNb8+EuLaERAMSO8PQhTREBf8GlOXmREQCUjZ2FPYURAF9NM9zppREAF3PP8aWVEQEmCcAUUZERASHAjZYtaREBZh6OrdFtEQMajVMITZERAkiVzLO9cREAr3PKRlFZEQOyjU1c+aURAwhIPKJtiRECF0hdCzl9EQNWuCWmNXURA6ZleYixtREAfEynN5mlEQBowSPq0aERASBYwgVtTRECQaAJFLFhEQCEdHsL4bURAZTkJpS9UREAfSN45lGFEQAywj05dYURA5llJK75fREDS/ZyC/F5EQBtIF5tWWkRAZ++MtiprREAaMh6lEmJEQCx+U1ipVkRA0nDK3HxVRECWQ4ts52FEQPmjqDP3YERA8KMa9ntcREBR3PEmv2VEQP0RhgFLSERAhh3GpL9lREA6It+l1FdEQEQWaeIdakRAVU0QdR9gREBVGFsIcm5EQNOE7SdjWkRAutkfKLdVREAC02ndBmFEQP27PnPWXURAlL4Qct5bRECID+z4L15EQLtHNlfNU0RAknajj/leREAPfuIA+mtEQFtgj4mUVkRADHVY4ZZhREBe8dQjDVhEQG5t4XmpWERAkX77OnBgREDF5A0w81lEQFjiAWVTYERAX0GasWhmRECbG9MTlmxEQFmmXyLeVkRAp3hcVItoRECRmQtcHl1EQP4nf/eOZERANdHno4xeREDM0eP3NmFEQOnxe5v+ZkRAgGCOHr9fREAoY3yYvWpEQP6eWKfKXURAixnh7UFeREDmkT8YeF5EQJC/tKhPXkRAdji6SndlRECCUx9I3l9EQHufqkIDX0RA5IdKI2ZaREB72uGvyWJEQBDNPLmmYERAGqiMf59fRECJsyJqol9EQHJNgczOXkRASIszhjllREC9xi5RvWlEQAc/cQD9XERAOq+xS1RjREBxcVRuomREQMEZ/P1ibERAYfw07s1hREBRgv5Cj2ZEQHHl7J3RXkRAf6SIDKtgREACgjl6/FhEQEd0z7pGYURAnrEv2XhoREDk3CbcK2VEQNWw3xPrYERAcalKW1xhREBBnfLoRlZEQNYe9kIBYURA0QK0rWZhRED1Y5P8iGFEQDONJhdjYkRAMZbpl4hjRECH/Z5Yp1hEQMprJXSXXkRABORLqOBmREAicCTQYF9EQLSSVnxDXURATN4AM99hRECm0eRiDGBEQBqjdVQ1ZURAvviiPV5oREC9HHbfMWBEQLqilBCsZkRA3ElE+BdfREA3NjtSfWVEQNwNorWiX0RAp1mg3SFfREDSw9Dq5GZEQI9srprnaERAKbAApgxiRED67evAOV9EQBDoTNpUaURA3gAz38FfREDAIypUN19EQLJoOjsZWkRAIxEawcZfREAJqdvZV1ZEQPyPTIdOX0RAVIzzN6FiREB3Mc10r2NEQDNslPWbZURAxcvTuaJeREBYkGYsmmZEQEbPLXQlZkRAHjUmxFxeREB4KXXJOGJEQEPlX8srYURA0NbBwd5sREAEWOTXD2lEQIkHlE25WkRAyjfb3JhmREAl7NtJRGpEQMOC+wEPYERAilkvhnJUREBNhXgkXmxEQGIVb2QeZ0RAKqvpeqJdREDEQxg/jWtEQNYBEHf1XERAHGDmO/hbREBFZi5weWZEQNk+5C1XYURAzoqoiT5XRECFe2Xeql1EQBKDwMqhV0RApaFGIcleREAgJXZtb11EQCnni70XX0RAeGFrtvJgREBu+rMfKW5EQNB+pIgMZURAmBO0yeFbREDeVQ+Yh2BEQOBIoMGmXkRAqFFIMqthREAM5US7CldEQDULtDukaERAelT83xFlRECcwkoFFW9EQM45eCY0U0RA4/viUpVoRECCb5o+O2JEQAhb7PZZX0RA5YBdTZ5iREA5uHTMeWZEQJGYoIZvX0RANLqD2JlgRECq1sIstEtEQHE5XoHoW0RA4Zf6eVNhREDUmXtI+FREQNdLUwQ4aURARl1r71NjREBZ/RGGAV9EQPm9TX/2V0RAzhySWihdRECU+rK0U19EQPDd5o2TZERAFR3J5T9gRECuYvGbwlREQLu04bA0akRAAqCKG7dcREDiBKbTul9EQKERbFz/YERAS1ZFuMleREDNzqJ3KmBEQNMx5xn7bkRA8l1KXTJqRECbApmdRWFEQA5LAz+qaURAfIDuy5lfREDChqdXylxEQEetMH2vX0RAbAa4IFtiREBO0ZFc/mVEQNO/JJUpYkRADR07qMRbREBrt11orllEQOJzJ9h/X0RArmNccXFkREDOqs/VVmhEQEn2CDVDXkRAntLB+j9jREB3TrNAu1tEQAfr/xzmW0RAxk0NNJ9tREAjSRCugF5EQFlQGJRpXkRAMpI9Qs1gREA8EcR5OGVEQGgibHh6XURAsI14spthRECFl+DUB1ZEQGIQWDm0YERAZaVJKehWRECHGK95VWdEQJ91jZYDX0RAWTDxR1FfRECoUUgyq19EQDHO34RCYkRApN5TOe1pRECrCDcZVWZEQMpQFVPpYURAF/IIbqReREDL9EvEW2NEQKiOVUrPYERAKGN8mL1mRECjA5Kwb19EQPqXpDLFYERAJjj1geRhREAiUP2DSGZEQCtoWmJlaERAqKym64lmREAfDhKifGNEQItQbAVNaURAE7ngDP5gREA1RYDTu2ZEQGZOl8XEaERAeM+B5QhnREC4Wicux2FEQD6zJEBNY0RAGqchqvBfREDhz/BmDWZEQNDU6xaBY0RA1c4wtaVeRECzfchbrmhEQLqGGRpPXkRA8fRKWYZkREAAxF29ilhEQNy6m6c6XkRAWRmNfF5fREAYQznRrmBEQLrb9dIUV0RAcAnAP6VgREBTBaOSOklEQCnN5nEYYERAuhPsv85fREActcL0vVpEQHfbheY6YURAfXkB9tFfRECLa3wm+1tEQEYiNIKNXURA+N10yw5pREBL58OzBGtEQN8ZbVUSZURA1Qj9TL1gRECPUglP6GFEQA3DR8SUXERAzAcEOpNgREDh0Fs8vFtEQFkYIqevXURAoN0hxQBfREBn8zgM5mFEQBMoYhHDakRAXRlUG5xoRECz7Elgc1hEQN5aJsPxYkRAjNZR1QRnREBh+8kYH1hEQAMK9fQRXkRAUBiUaTRnRED+R6ZDp1VEQBzsTQzJYURA/7EQHQJXREAJF/IIbmREQMQlx53SX0RA/kXQmElaREAxzXSvk2BEQOc24V6ZX0RAq1/pfHheRECY32ky42VEQJxpwvaTYURAuFz92CRfREDmWUkrvmFEQAJnKVlOVkRAprT+lgBeREAfuwuUFGhEQNmyfF2GYURAP1OvWwRgREAYC0Pk9F1EQMhcGVQbZkRA0T3rGi1fREBbejTVk2FEQIfEPZY+YERAG/M64pBfREAX2GMipV1EQHMuxVVlY0RAGohlM4dmREB1sWmlEGxEQFuYhXZOYURAMC3qk9xpREDpnnWNll1EQM+CUN7HX0RAx4LCoExlREAzUu+pnF5EQHkiiPNwbERAsK2f/rNmREB8CoDxDF5EQJEKYwtBXERA8uzyrQ9lREA50hkYeV1EQPHwngPLX0RANq0UArlkRECVfy2vXGFEQC0FpP0PYERAwjI2dLNdREDN5nEYzElEQO0OKQZIYERAVfZdEfxfRED5Eb9iDWFEQJ9zt+ulX0RAT1jiAWVhREDmBG1y+GREQAKAY8+eWURAJLTlXIpnREB/TkF+NmZEQHMrhNVYbkRAfhr35jdMRECa0Y+GU2BEQHNjesISX0RAOWItPgViREBM32sIjmdEQJF++zpwZkRAM1TFVPpfREDbvkf99V5EQHY0DvW7bERAvAZ96e1bRECvQV96+2VEQGh1cobiXkRALxUb8zpuRECLbOf7qWFEQPSo+L8jWkRA5J8ZxAdgREDmsPuO4WNEQI4fKo2YYURAGEFjJlFVREDBVDNrKWpEQJDaxMn9WkRAa0YGuYtcREDjqNxELWVEQD1fs1w2VkRAAptz8ExgREAujspN1FZEQITZBBiWZ0RA/n3GhQNZREDDmzV4X1tEQBrAWyBBX0RAjpCBPLtWREAT8GskCWBEQLe3W5IDWERAp658ludHRECzCTAsf2JEQInUtItpZkRADrxa7sxcRED678Frl1REQFYQA137XkRAAWvVrglTREBkBirj31tEQJshVRSvbERAvOZVndViREC5N79holVEQAcLJ2n+XkRAED//PXhdREBuiPGaV11EQEHTEiujZURAdSLBVDNhREB9XYb/dFtEQI7O+SmOYURAE9bG2AlhRECwql5+p1dEQFmjHqLRXURA4GQbuANfREAAHlGhulNEQNxoAG+BWERARkCFI0htREByo8haQ19EQG0bRkHwXERAqu/8ogRbRECEK6BQT19EQPXXKyy4YURAsOO/QBBcREAEOpM2VWFEQPgb7bjhZURAKxIT1PBfREC8PnPWp2JEQMX/HVGhbERAOpM2VfdYREAB+RIqOEpEQPVk/tE3X0RA7fSDukhfREDPMotQbGFEQDVDqiheXURAMlncf2RgRECad5yiI11EQFJEhlW8UURACfmgZ7NmREBkBb8NMWBEQJhO6zaoaURAATRKl/5XRECtwJDVrV5EQKXXZmMlYkRAYI+JlGZnREAGR8mrc2ZEQKUWSianVkRA6udNRSpkREC5F5gVimJEQA8pBkg0XURAqknwhjRoREB0QBL27VJEQKZ/SSpTXkRANPW6RWBuREAnol9bP2FEQIMZU7DGaURAa5+OxwxYREA25QrvcmtEQENznUZaZkRAIEPHDippREB2/1iIDl9EQJM3wMx3bERAamluhbBeREBYq3ZNSGlEQHwMVpxqW0RANeuM74tdRECLGkzD8GFEQNJzC12JaERAwoTRrGxlRECiJY+n5WFEQGGMSBRaYkRAGcv0S8RhREBWfhmMEV9EQFVP5h99V0RAmKYIcHpfREBBZJEm3l1EQBCTcCGPXERAMLyS5LlsREBvgm+aPmFEQIz0ona/XkRA8fPfg9dgREBoA7ABEWZEQOLJbmb0SURAT85Q3PFiREBBt5c0RltEQMTSwI9qXkRAsMdESrNnREDLK9fbZmBEQM43onvWX0RAJ1DEIoZVREBViEfi5V9EQC0j9Z7KYURAzT0kfO9TREAXYYpyaWZEQMCxZ89lYERAtU/HYwZqRED53An2X19EQK8hOC7jbERA7u4Bui9jREBaEMr7OGJEQAghIF9CaURAqfdUTntsREDkZU0s8F1EQGWqYFRSV0RABwsnaf5WREBNnx1wXV9EQHswKT4+YURAf/rPmh9hRECkiuJV1lxEQMNkqmBUZERAYqHWNO9URECR71LqkmNEQPW7sDVbbURAIT8buW5WREAdr0D0pF5EQLCPTl35VkRAcsEZ/P1eREDRWPs7219EQK1POSaLaURAr3jqkQZlREC/t+nPflZEQE7QJodPXERAMILGTKJgREBfl+E/3WREQFgAUwYOZkRA00uMZfpfREDDZRU2A15EQA/xD1t6WERA6x1uh4ZnREC0Oc5twl9EQNyCpbqAX0RAoWgewCJjRED4xaUqbWVEQJkuxOqPYERAE+6VeatgREByGMxfIVlEQNFa0eY4XURAn82qz9VmRED5LxAEyGxEQEvIBz2bVURAqwfMQ6ZmREAhXAGFem5EQCjXFMjsWERAsU0qGmtdREC2EU92M11EQB0FiIIZYURAAYV6+ghmREC/0vnwLF9EQNukorH2YURAc7uX++RoREAMryR5rl1EQHhgAOFDX0RAYf4KmStbRED7HvXXK2JEQG1Zvi7DXURAzPEKRE9sREBXJ2co7lZEQAnDgCVXX0RARMGMKVhnREDm5bD7jmVEQL+ZmC7EVkRA0/VE14VhREBVwD3Pn1ZEQOMz2T9PZURArKsCtRhcREDbbRea62JEQDL/6Js0aURAJXhDGhVaRECuK2aEt2NEQKpFRDF5YURAJhqk4ClkREDcZb/udF9EQJTZIJOMbkRA9S7ej9thREABNbVsrWlEQFqbxvZaXERA/7ClR1NpRECr7Sb4pltEQDaxwFd0S0RAKji8ICJfRECQFmcMc15EQBtl/WZiYERA+dwJ9l9jRECJ7IMsC2hEQFESEmkbYURA3XniOVtmREB5knTN5FtEQFoSoKaWXURAqKlla31hREAt6/6xEFdEQBxF1hpKXURAhjqscMtnREAlAtU/iGpEQJ+tg4O9X0RAPl5Ih4dgREAsDfyohl1EQL7ArFCkV0RAXRWoxeBhREAo0ZLH01hEQI6s/DIYV0RAwtzu5T5jRED9TpMZb19EQBfZzvdTX0RA5rD7juFXRECoc0UpIV5EQBpPBHEeXERAblFmg0xgRECWr8vwn2BEQEPnNXaJXkRAX9TuVwFSREBcOBCSBV5EQPiImBJJYkRANEksKXdfREDowd1Zu19EQHam0HmNZURAnSy13m9gREAJ4jycwGBEQKZG6GfqX0RAtdyZCYZjREBlG7gDdWZEQFvuzATDX0RAHk/LD1xpRECYM9sV+l5EQAbzV8hcYURAyecVTz1kREAsZK4Mql9EQMmOjUC8VkRAPrSPFfxWREBTCU/o9WNEQOYffZOmYURA2ZYBZylXREA1mIbhI2hEQKX4+ITsXkRA6gPJO4deREBLdQEvM1pEQFgepKfIX0RAqUvGMZJlRED1E85uLWFEQHTv4ZLjYERAqgzjbhBfREA8TWa8rV5EQD84nzpWY0RAwhcmUwVhREDF4jeFlWREQMODZte9X0RAc0pATMJhREA97lutE1lEQOrL0k7Na0RA2LYos0FoREBXQKGePmZEQERv8fCeYURAVAJiEi5gRECojep0IGVEQOUqFr8pYERA1/oioS1hREDEsMOY9GFEQDiDv1/MXkRAUZ/kDpteREAJ+gs9Yl5EQLd++s+aZ0RArrZif9lnREA/NsmP+F1EQCwtI/WeYERAB1xXzAhtREApJJnVO15EQDc0ZacfYERAUg/R6A5kRECGOUGbHFZEQNXOMLWlXERAYDlCBvJoREDyCkRPymBEQC2xMhr5aERA3BDjNa9WRECZKELqdmZEQASQ2sTJW0RAkiQIV0BfREATgeofRGZEQEtywK4mYURADwwgfChnREAUJoxmZUtEQChGlsyxaERAfqmfNxVpREDC/BUyV1REQJ5i1SDMWURACTTY1HlgREC3YKku4GFEQKd5xyk6ZkRAML39uWhoRED/PXjt0lZEQOViDKzjXkRA3gN0X85gREA4oRABh1xEQD/G3LWEbERAqFZfXRVuREBJgQUwZVhEQN4f71UrX0RA78nDQq1hREDxL4LGTGBEQE87/DVZV0RAPNujN9xbRECponiVtV9EQKsF9phIX0RAPx767lZmREANiuYBLEhEQFZ/hGHAaERAIv32deBeREDpmsk322pEQHE6yVaXYURA7C+7Jw9hRECduByvQG5EQGL1RxgGWkRA6NoX0AtfREDq7GRwlGZEQDY+k/3zYERA6lxRSghkREDxngPLEVxEQIB/SpUoZURA1bMglPdjREDBOo4fKmNEQCHlJ9U+XURAAaQ2cXJXRECPGhNiLl1EQI7nM6DeXkRAoMa9+Q1nREAXRnpRu19EQLtgcM0dX0RAcy8wKxRfREBu3jgpzFtEQDJzgctjW0RA4Gky421nRECNQpJZvV9EQACt+fGXUkRAqAAYz6BhREDpgCTs22VEQOENaVTgZkRAh4vc09VhREDWyRmKO1ZEQKZFfZI7XERAKT+p9ulWRECq8j0jEWJEQJavy/CfaERAmzdOCvNgREAI51PHKl9EQIBEEyhiXURA9zx/2qheREAwEtpyLmNEQFpiZTTyZ0RAb2JITiZoREAj3c8pyGVEQBBc5QmEX0RAFeP8TShaRED5SiAldmdEQL+7lSU6X0RAw2Fp4EddRECBBps6j2BEQGBXk6esZERAj4r/O6JgREBtc2N6wl5EQLe1heelZkRA7SsP0lNURECbj2tDxVZEQH3NctnoXkRAH0jeOZRfREAQlrGhm2dEQHzT9NkBYURACHWRQllgREAe4bTgRV9EQFad1QJ7XERAm6285H9eREDhuIybGmJEQBQF+kSeXERAfsaFAyFhRECKdD+nIF9EQBx6i4f3XERApU3VPbJfREApP6n26V5EQHCwNzEkZ0RAtVAyObVXREB2NA71u2pEQM+7saAwWkRAvW2mQjxeRED0NjY7UlNEQO9XAb7bXERAS3hCrz9hREAwZeCAlmBEQMKFPIIbX0RAxa7t7ZZqRECpEfqZemVEQAH4p1SJYkRA/KVFfZJVREASFaqbi2FEQJLoZRTLY0RAHqhTHt1eREC8zRsnhV9EQKq3BrZKbkRAUfaWcr5gREDGMv0S8VZEQNnr3R/vZURAp3hcVItMREC6LZELzmxEQH2TpkHRaERAqfbpeMxYRECuK2aEt19EQAgGED6UZERAUS/4NCdfRECm07oNamFEQNbkKavpXkRA75BigERfREDSAUnYt2VEQL9GkiBcaURA6nsNwXFlRECFKF/QQmhEQP8DrFW7XkRAj3IwmwBnREBZvi7Df2BEQPXyO01mYERAv0nToGhcREAOMPMd/F5EQHHl7J3RaERA/gsEATJYRECPxwxUxlVEQMxG5/wUX0RAYVRSJ6BfREDN5JttbmBEQAzIXu/+aERApU3VPbJfREAyVTAqqWNEQBY1mIbhaURA+z+H+fJsREAqyTocXVVEQO0PlNv2X0RAntLB+j9TREB2+6wyU2hEQNWvdD48ZURA6KViY15lREDpEDgSaGxEQDmYTYBhW0RAFCNL5lheREBwzR39L11EQLqe6LrwYURA/bs+c9ZbREDu0LAYdV9EQGYS9YJPX0RAhnXj3ZFfREDQnWD/dWZEQMmTpGsmZURAqu/8ogRvREBmEB/Y8WFEQLWn5JzYX0RAQKa1aWxfREAST3Yzo2dEQEN1c/G3WURALzArFOlgREA0EMtmDm9EQGIRww5jXERAdF34wfloREAiGAeXjl9EQNklqrcGYkRACJRNucJlREDZtFII5GZEQPwdigJ9ZkRAKLaCpiVgREDp7job8mNEQLN9yFuuYkRAFJUNayphREAm4UIewWNEQCfChqdXXERAHLPsSWBfRECwWS4bnVtEQOaw+47haURAeZCeIodiREBhMlUwKl1EQBDoTNpUWURA1qiHaHRfREAVHjS77mdEQA/vObAcX0RA+3YSEf5nREAbZ9MRwF9EQImYEkn0ZERA98lRgChiREBOYDqt22ZEQN2YnrDEZ0RAdT+nID9fREDqlh3iH15EQF4Ou+8YYkRAhe/9DdpfRED1aRX9oWNEQJur5jkiV0RAN4yC4PFjREBCXg8mxWNEQFbxRuaRXURAvMywUdZZREAzpIriVWpEQMI1d/S/XkRAy7vqAfNoREDNXODyWGFEQGU3M/rRYkRA2iCTjJxpREChSWJJuWlEQH9QFymUX0RAUFCKVu5XREChv9AjRmVEQNBCAkaXV0RAGO5cGOlfREDfap24HGFEQBb6YBkbZkRABFq6gm1qREDAlleut19EQC0LJv4oXkRAvjEEAMdgRED7zFmfcmhEQOMZNPRPbERADMwKRbpdREAL0SFwJGJEQMqMt5VeXURARDLk2HpcREBkH2RZMGNEQGZNLPAVYURAtahPcodXREDnqQ65GVpEQMi0No3tW0RASDMWTWdfREBAvRk1X2FEQCqNmNnnZURApn7eVKRgREClvizt1GxEQP7zNGCQWkRAi4o4nWRhREDOM/YlG2dEQCjTaHIxSkRAPzVeuklSREDZP08DBm9EQKG/0CNGVURAD/EPW3peREAkJT0MrWBEQBDLZg5JW0RA+dueILFhREDFjPD2IGxEQOUpq+l6YERAIc7DCUxpREBdjIF1HFdEQMLCSZo/ZERAOxqH+l1aREC9qUiFsVtEQLzmVZ3VXkRAkIR9O4lgREAUQgddwltEQMgoz7wcakRAtrkxPWFZRECe7jzxnFtEQJpBfGDHVURAQ/8EFytiRECtMeiE0F9EQCUi/IugZURAcvikEwliRECPiv87olhEQMHFihpMYURAotKImX1eRED6muWy0WFEQCy3tBoSXURA0F/oEaNdREBp/MIrSVxEQAKEDyVaakRAFRkdkIRnREC4rMJmgGFEQMTsZdtpX0RA4zjwarljRECTV+cYkGFEQGdfeZCeVkRAPrFOle9lREBosKnzqGhEQNwsXiwMV0RAn1kSoKZkREAGoFG69F1EQJASu7a3YURAQ4zXvKplREBgkzXqIWREQEuUvaWcYURAWp2cobhpREBREhJpG19EQJUMAFXcYERAr0D0pExgREDvAbovZ2BEQPt5U5EKSURAOLu1TIZlREBCeLRxxGZEQH4a9+Y3YkRASfPHtDZdREB3nQ35Z2REQLSs+8dCYkRAeqaXGMteREBsQe+NIWJEQCxGXWvvYURAM23/ykphREAc7E0MyV9EQIwwRbk0XkRAVACMZ9BoREASoRFsXGdEQMmqCDcZY0RAY9F0djJgREAqcR3jil9EQB6LbVLRakRAuYlamlttREBITiZuFVxEQLwEpz6QWERAfR8OEqJoRECmlxjL9F9EQDnRrkLKXURAcQM+P4xoREDyttJrs2dEQH1Z2qm5XkRAVn+EYcBeREDpK0gzFlNEQLmJWppbV0RAwck2cAdgREDGM2jon2hEQFmmXyLeakRAa2PshJdqREDgZBu4A1VEQIyEtpxLSURABYpYxLBhREBznNuEe1tEQJsAw/LnSURAQlpj0AlXREDXwiy0c15EQFuXGqGfX0RAUfnX8sptRECyf54GDFZEQOY8Y1+yV0RA94+F6BBmREB+/nvw2l9EQFevIqMDaERAlPWbieleREB1kUJZ+GxEQH8WS5F8X0RAr3rAPGRgREBeDrvvGFxEQC9rYoGvYERAVU0QdR9mREARqtTsgUxEQIzZklURWkRAc/IiE/BdREAraFpiZVhEQK8K1GLwXkRA93KfHAVoREBNMJxrmGFEQOZ3msx4XURAEOhM2lRTRECa7J+nAVtEQAPso1NXYERAvY44ZANVREAqkUQvo2xEQH7hlSTPXURAR+NQvwtfREAw9l580VZEQB0EHa1qX0RAbZG0G31kREBuaTUk7mlEQIdT5uYbX0RAzbBR1m9kREABvtu8cWJEQCeHTzqRZERADtlAutheREBRpWYPtG5EQEsGgCpuZERAOKClK9hqRECK6NfWT2FEQHwpPGh2aURACRueXilnRECaX80Bgl9EQLNg4o+iXkRAv+/fvDhfRECBBwYQPmhEQFeVfVcEXURAhShf0EJkRED+f5wwYVxEQMvz4O6sZ0RAsB2M2CdqREAKEAUzpl5EQK4OgLirSURA4NVyZyZYREDZ6Jyf4l5EQJGdt7HZYURAjL/tCRJXRECb54h8l2ZEQIdu9gfKYURAV5QSglVTREDp1mt6UGZEQDGzz2OUWURAJzCd1m1IREALmwEuyGZEQIi6D0BqVURARP0ubM1oREAEdcqjG2NEQIodjUP9YERAchjMXyFhREDmWx/WG21EQA6jIHh8X0RANLkYA+tmRECdgZGXNV9EQBmsONVabERAKej2ksZoREA0LEZda2FEQBuhn6nXY0RAwVQzaylmRECSskXSblpEQIDW/PhLbURAVB9I3jleREAq5iDoaG1EQJ0Rpb3BW0RAHeOKi6NgREAIPZtVn19EQH+g3LbvX0RAXHSy1HpXRECI2cu2015EQK3ddqG5VkRAf2d79IZlREAKFLGIYVtEQAABa9WuZ0RAc0pATMJjREAjFFtB01pEQKmfNxWpakRA2NXkKathREDZtFII5GZEQETAIVSpY0RA2exI9Z1bRECfckwW919EQB9Hc2TlU0RAjXxe8dRJREBoP1JEhmFEQPJ376gxaURAe2gfK/hTREBnCp3X2FlEQKmieJW1ZURAZD4g0JlsREBhiQeUTW1EQDOpoQ3AZkRAKEcBomBgREASFhVxOl9EQJCfjVw3X0RAP8kdNpFfREDVCWgibGhEQD1hiQeUXURAf9k9eVhgRECN0xBV+F1EQMISDyibaERAsU6V7xlnREAlBKvq5V1EQM0eaAWGVkRA7uvAOSNoREAao3VUNVdEQBu8r8qFWkRAKXgKuVJTREAErFW7JmBEQEaXN4drYURA48eYu5ZWREC+huC4jGFEQMEBLV3BYkRAZJEm3gFoRED19BH4w19EQCbl7nN8aERAcNBefTxcREBdwTbiyVZEQCmy1lBqV0RAQx1WuOVhREASonxBC1VEQHocBvNXbERAjxt+N91iRECg4c0avGFEQIf+CS5WZkRAu0ihLHxjRECk+s4vSl5EQPjfSnZsbkRAD0bsE0BpRECl8+FZgmBEQPMf0m9fX0RAPBIvT+deRECSA3Y1eV5EQGK7e4DuXURAd50N+WdkRED2fqMdN2JEQOAT61T5akRA9Pi9TX9kREB7FoTyPlxEQKq6RzZXYURARFA1ejVgREARGVbxRmJEQJ1oVyHlaURAsky/RLxdREACoIobt15EQDlhwmhWYkRAjE0rhUBgREDIJCNnYWVEQPdynxwFYERAmpSCbi9LREAPuoRDb2NEQMh71cqEbURA56vkY3dZRECb4nFRLWJEQOs7vyhBYURANUOqKF5hREB3vMlv0V9EQHaKVYMwbURATfilft5gREB2qKYk61hEQN8bQwBwakRAdcsO8Q9fREBn7iHhe19EQJEpH4KqX0RA8iVUcHhfREC7DtWUZGVEQM0iFFtBYURAWtWSjnJgREBYHqSnyGNEQFRx4xbzX0RAI2dhTztoREBQVgxXB2REQF3hXS7iX0RAshAdAkdmREDzj75J02REQHXlszwPXERAAvOQKR9mRED9Fp0stWhEQAr2X+emYURAE0NyMnFhRECaeXJNgWhEQAte9BWkXURAw/S9huBiREBlijkIOmZEQFch5SfVYERAIXcRpihdREDfwORGkWFEQDjcR25NaERAigESTaBiREA1JsRcUmFEQEM4ZtmTYERA+IvZklVpRECN0M/U61hEQCdLrfcbYURA4X7AAwNgRED4cTRHVlxEQCpTzEHQWURAMGMK1jhZREB4JjRJLFdEQMFvQ4zXVkRARL+2fvpfRECGkPP+P2BEQC/dJAaBV0RA5qxPOSZrREApIsMq3mBEQIEKR5BKWURAMshdhClcREAn+RG/YmlEQE1O7QxTYURAebDFbp9XREBr8SkAxmFEQEku/yH9WERAHqfoSC5fREA4LuOmBlxEQAWlaOVebERAvmvQl95oREBM32sIjmFEQFKBk23gakRAcvp6vmZjREDXZ876lFtEQH7/5sWJXURAvY3NjlRXREALQ+T09VZEQDrP2JdsYkRA2safqGxSRECDv1/MllREQAG9cOfCbERApFLsaBxoREDg88MI4VtEQA7d7A+UYURAxsA6jh9iREBrmQzH82dEQONw5ldzbERA4GbxYmFuREDxn26gwGFEQGiwqfOoXkRAjV4NUBpaREDSNZNvtmdEQINr7uh/V0RAvCGNCpxeREB2/YLdsF1EQMDQI0bPX0RA0765v3pgRECUTE7tDGVEQB7htOBFZ0RAlnZqLjdqRED5E5UNa2ZEQNnonJ/iXERAuFz92CRJREA+7IUCtl9EQN4CCYofV0RA8ppXdVZnRECLNse5TV5EQJd0lIPZYERA7u2W5IBdREDSqSuf5WlEQJqzPuWYYERAM6ZgjbNfREBybhPulVlEQFiNJayNX0RAb4Pab+1eREAiwVQza1tEQGXFcHUAYERAwXRat0FjRECeP21Up2lEQMEffv57VkRAq5Z0lINdREB8YwgAjmlEQNoeveE+WkRAmgtcHmtuREBftMcL6V5EQBizJasiYkRA2bW93ZJUREDv/+OECVlEQFj/5zBfXkRA+daH9UZXREDz5QXYR2FEQOc1donqZ0RA9fdSeNBeREDAkqtY/GBEQA==",
          "dtype": "f8"
         },
         "legendgroup": "Original/Unchanged",
         "lon": {
          "bdata": "ksoUcxB7UsBkAn6NJH9SwAZkr3d/flLAqg1ORL9+UsDS/gdYq31SwLqilBCsflLA2pJVEW58UsDXUdUEUXxSwMXkDTDzflLAzzC1pQ52UsCcbW5MT31SwC6sG++Oe1LA0vvG1558UsCC597DJYBSwGXiVkEMf1LA9pfdk4d8UsAiOC7jpn1SwGaGjbJ+eVLAfLYODvZ3UsChoupXOn5SwOnSvySVflLABFq6gm1+UsAdWmQ733tSwNfZkH9mfFLAYTJVMCp8UsDCMcueBIdSwOdTxyqleVLAIJxPHat8UsBFSN3Ovn5SwKzgtyHGelLAGH0FacZ6UsDBq+XOTH5SwJDAH37+flLAwCFUqdl+UsAXZMvydXtSwOv822W/f1LAGmoUksx+UsBZ3lUPmHxSwFRW0/VEf1LAR8zs8xh4UsDrp/+s+X1SwDOK5ZZWgFLASkbOwp54UsBE2zF1V35SwONUa2EWflLA3uUivhN5UsCF7/0N2nxSwI9srprnflLAkzmWd9V8UsBL6C6Js35SwLX+lgD8flLAMgQAx55/UsCyn8VSJIBSwDfHuU24d1LA88ZJYd5+UsBMUMO3sHNSwOs2qP3WflLA0/pbAvB8UsAbnIh+bXxSwE4rhUAuflLAqb2ItmN6UsAXLNUFvHlSwImzImqielLAnYU97fB4UsDePqvMlH5SwEXZW8r5elLAgJnv4Cd5UsBq3Qa1331SwPhsHRzsflLAzjeie9Z+UsBA/Pz34H9SwHB87ZklflLADag3o+Z+UsAdrWpJR35SwL72zJIAdVLA/yWpTDF/UsCt+8dCdHxSwLq+DwcJfVLA+n3/5sV8UsAz3lZ6bX9SwJZcxeI3f1LAtvKS/8l+UsDb39kevX1SwEwbDksDflLA9kVCW858UsChFK3cC31SwEQV/gxveFLA1VsDWyV+UsCFe2Xeqn1SwJPlJJS+fFLAwhVQqKd6UsA8nwH1ZnxSwCTUDKmidlLAgQUwZeB2UsCU+NwJ9n5SwIFDqFKzfVLA7bjhd9N8UsC7mGa614ZSwNMzvcRYfFLAFhVxOsl7UsB56/zbZX9SwPHz34PXflLAoaNVLel7UsBTBg5o6X1SwNTWiGAcflLAuoEC7+R+UsDOxkrMs3hSwJV+wtmtf1LAp0BmZ9F/UsBWD5iHTHlSwPq0iv7QfFLABWwHI/Z/UsB6GjBI+nlSwMcpOpLLf1LAdy0hH/R8UsAL7DGR0nxSwOSByCJNf1LAc2n8wit9UsCaCvFIvH5SwCaPp+UHf1LALbKd76d+UsDJAiZw63xSwFvOpbiqfFLAihwibk58UsAUCDvFqnpSwPNaCd0lflLARii2gqZ8UsA42nHD73xSwODZHr3he1LAglX18jt8UsC+UMB2MHtSwAGloUYhe1LALxfxnZh9UsAleEMaFXxSwBR4J58eflLAcT0K16N7UsDURQpl4XxSwLKbGf1ogFLAHjaRmQt/UsBPPdLgtndSwC+lLhnHelLAvOgrSDN4UsAtCOV9HIBSwLhAguLHflLAhXmPM02HUsAgRDLk2H5SwCl5dY4Bf1LAv0f99Qp+UsDmHhK+93hSwAR0X85sflLApBzMJsB+UsAk0csoln1SwGnGounsfVLAdo2WAz1/UsC+EkiJXXVSwGIwf4XMelLAPGwiMxd9UsBhwf2AB39SwJMdG4F4flLAzSGphZJ7UsB3oiQk0n5SwI6VmGclf1LAvJUlOstyUsAnMJ3WbXpSwOvjoe9ugFLAchdhinJ9UsCxTpXvGX9SwMms3uF2fFLA4q3zb5d+UsCqK5/leX5SwGJNZVHYfVLAXWqEfqZ/UsAe+u5Wln5SwFA4u7VMf1LAjBU1mIZ+UsA/GePD7HlSwLJHqBlSflLA41Eq4Ql7UsCiuONNfn9SwFmK5CuBf1LAi6iJPh95UsDMCdrk8H1SwLw9CAH5dlLAvCAiNe19UsByNh0B3H5SwBmuDoC4eVLALGFtjJ19UsBAhSNIpX1SwD2CGylbfFLAixnh7UF/UsAuceSByHxSwMsO8Q9bf1LANxrAWyCHUsAj9gmgGH9SwFQ2rKkselLAn3O366V8UsDkafmBq31SwL38TpMZf1LAaAQb179+UsBosKnzqHtSwMy0/Ssrh1LAeoocIm51UsBtOCwN/HtSwMuD9BQ5dVLADycwndZ9UsAdBB2tanxSwDGx+bg2fVLAoBuastN6UsAxsfm4NntSwKJGIcmsfFLAQswlVdt6UsCK6NfWT39SwGLWi6GcfVLAiVxwBn98UsCSrpl8s3JSwIzbaABveVLAGavN/6t4UsB6xOi5hX1SwHheKjbmdFLA6X3ja898UsCGPe3w135SwDAqqRPQelLAM4y7QbR+UsADBkmfVnxSwHuEmiFVfVLAliL5SiB9UsDJ5T+k335SwMH+69y0dlLAUtUEUfd+UsB2+6wyU31SwJolAWpqe1LAcVXZd0V8UsBT6Sec3XxSwH7/5sWJflLARpbMsbx8UsAibeNPVIBSwF/SGK2jfVLA3e16aYp8UsB2i8BY33pSwA4SonxBf1LAzLVoAdp8UsBKs3kcBn1SwLaCpiVWgFLAVB1yM9x6UsCz6nO1FX5SwK2HLxNFgFLAk+NO6WB/UsC858ByhIBSwLN78rBQeFLAmnyzzY18UsAhk4ychXVSwAk3GVWGfVLA4ng+A+p3UsCFI0il2H5SwKq6RzZXf1LAu38sRId9UsBffNEeL39SwHLAriZPf1LA6pEGt7V8UsAaGk8EcX5SwMEaZ9MRgFLAfCqnPSV/UsCaet0iMH9SwOiHEcKjelLAjln2JLB4UsA4hZUKKn1SwK7wLhfxfVLAo3kAi/x7UsAk0csolnxSwAuYwK27eFLARPesa7R+UsCGcw0zNH5SwPX256IhgFLAnS6Lic19UsCZvAFmvn5SwO0pOSf2fVLAhcyVQbV+UsBjQWFQpn9SwEHvjSEAfFLA81gzMsh0UsCkp8gh4n5SwCrkSj0Lf1LAUFYMVwd/UsBkPbX66n5SwHGsi9tof1LAZD4g0Jl2UsBqF9NM93xSwH8uGjIeflLADcFxGTd9UsCfIRyz7H9SwDffiO5ZfFLAGuHtQQh+UsAsRIfAkX5SwJ9XPPVIfVLABMsRMpB6UsD+17lpM3pSwEBQbtv3flLAFvw2xHh1UsCfckwW93xSwPEuF/GdfVLAeXO4Vnt7UsD0UrExr31SwNbm/1VHf1LA2jwOg/l+UsDxuRPsv31SwLLV5ZSAfFLAxy+8kuR9UsBj1LX2Pn9SwA5MbhRZelLAM/ynGyh+UsDSG+4jt39SwNKsbB/yeVLAAvOQKR9+UsCAEMmQY3pSwHN/9bhvdlLA0uKMYU5/UsD5+ITsvHxSwFn8prBSfVLARwINNnWGUsDNctnonHtSwOqzA64rfFLAQInPnWB7UsBB176AXnlSwH2wjA3deFLACAYQPpR8UsAdVrjlI31SwK6dKAmJelLAzM8NTdl9UsAaaam8HXNSwGvSbYlcf1LAzjgNUYV1UsBBtixfl3lSwMnogCTsfVLAGt1B7Ex9UsC4PxcNGX5SwBmto6oJeVLAd7zJb9F8UsDReCKI84ZSwCQLmMCtfVLANL+aAwR9UsCx3xPrVH5SwMr5Yu/FfFLABaInZVJ5UsCvCWmNQX5SwP+WAPxTgFLA9tGpK59+UsAV4SajynxSwMOedvhrfVLAg6eQK/V+UsCvzjEge3tSwNxLGqN1e1LAmlyMgXWGUsD9M4P4wH9SwJUqUfaWd1LA1ESfjzJ+UsBfQC/cuXxSwDgT04VYf1LASnzuBPt8UsBS1m8mpnlSwI47pYP1dVLAFF/tKM5+UsBorz4e+n1SwJur5jkifFLAPzc0Zad6UsDSVbq7znxSwPeTMT7Mf1LAGvonuFh9UsD/Bu3Vx3xSwJtattYXf1LAmIbhI2J9UsD4F0FjJntSwNOh0/NugFLAmYHK+Pd9UsCQEOULWn9SwASsVbsmeFLALzatFAJ8UsCAmlq21nxSwE4rhUAueVLAgctjzch/UsAwZHWr531SwL9FJ0utflLAI6RuZ199UsDRdHYyOH5SwBmRKLSselLAdopVgzB/UsACf/j573JSwJaxoZv9flLAvCL430p+UsDec2A5QnxSwPq0iv7QelLAkxywq8l9UsAjhh3GpH5SwPHW+bfLflLA0GIpkq9+UsAMXB5rRn9SwBeBsb6BhlLAO+C6YkZ/UsAL0LaadXlSwJYIVP8gf1LADwpK0cp9UsD36XjMQH9SwPbrTneef1LAppiDoKN4UsCemssNhn5SwF99PPTdelLAR8uBHmp/UsCBtP8B1nVSwK5KIvsgfVLArcPRVbp+UsAMIef9f39SwH3LnC6Lf1LA/DTuzW9/UsBTeqaXGIBSwHS2gNB6f1LAndUCe0x9UsAWbCOe7HxSwOZciqvKfFLAtYgoJm9+UsDww0FClH9SwK2HLxNFdVLA+rSK/tB6UsDmlICYhH5SwL9IaMu5eVLA5eyd0VZ+UsA0gLdAgnxSwEXVr3Q+f1LAfhr35jd9UsBjYvNxbXpSwBIT1PAtfFLAHekMjLx9UsDvchHfiX1SwCfbwB2od1LA3V1nQ/5/UsCfPZepSYVSwCqtvyUAflLA+WpHcY5+UsDdtu9Rf3lSwJnyIagafVLAWOatug5+UsDpRlhUxH1SwOCBAYQPfFLAYr8n1ql8UsB56LtbWXlSwDWWsDbGflLAwcjLmlh8UsD0pExqaHxSwC2WIvlKflLAt0QuOIN6UsBHVRNE3X5SwFmis8wielLAUUtzK4R+UsDjT1Q2rHxSwFvPEI5ZgFLA2QqalliAUsCuEiwOZ3tSwKMFaFvNflLAnaBNDp96UsCLqfQTznxSwJlIaTaPfFLAaMu5FFd4UsBZFeEmo3pSwD3yBwPPe1LAou2Yuit/UsA2VmKelXtSwNoCQuvhhlLA95MxPsx8UsDfbkkO2H5SwO244XfTfFLAIVor2hx9UsAoCvSJPH5SwFXa4hqffVLAomKcvwl/UsCuYvGbwn5SwMwIbw9CelLA8rOR66Z/UsC2uTE9YXpSwA69xcN7gFLAWvCiryB7UsD7dhIR/nxSwF5LyAc9gFLAEK0VbY5/UsD3yOaqeX9SwJ93Y0FhflLAvjCZKhh+UsAZraOqCX1SwMpS6/1GfVLAUWuad5x+UsAKD5pd931SwKtcqPxrflLABmaFIt1+UsAIVWr2QH1SwAZkr3d/elLAVaLsLeV8UsBJ1uHoKndSwJpgONcwe1LAvRk1XyV7UsBRMjm1M31SwLMo7KLofFLAOQ1RhT+AUsBqpRDIJX1SwM0C7Q4pf1LAMsozL4d6UsDaVN0jm3lSwM5THXIzf1LAIeS8/494UsBIaqFkcoZSwGiwqfOoe1LAdvusMlN+UsBDjUKSWXpSwEFkkSbeflLAxofZy7Z+UsB4CrlSz35SwLE08KMaflLAJvxSP297UsBZ+WUwRn1SwK7wLhfxdVLAn+QOm8h6UsB6AIv8+n1SwOAsJctJflLA/iYUIuB+UsANwXEZN39SwAtjC0EOf1LAvHZpw2F+UsDS/3ItWn5SwL+YLVkVfVLAzcggdxF+UsC4dqIkJH9SwNrLttPWflLA7YLBNXd+UsCjPPNy2HxSwEI/U69bfVLACXB6F+97UsBd+wJ64X5SwIAr2bERe1LAAI49ey59UsB+jSRBuH5SwMi3dw36flLA0PHR4ox6UsBB9KRManxSwG1TPC6qflLAEAUzpmB8UsBAFMyYgn1SwFOvWwTGflLAHeT1YFJ/UsAipkQSvX5SwGGJB5RNfFLAT135LM96UsAbmx2pvn9SwL00RYDTflLA9s5oq5J7UsBzoIfaNntSwKkvSzs1fVLAezNqvkp8UsAUQgddwn5SwEEuceSBeVLA4h3gSQuAUsAmOWBXk39SwDnx1Y7if1LAcv27PnN4UsAb2ZWWkX9SwGZJgJpafFLAuwuUFFh8UsDqeTcWFH5SwO4KfbCMeVLAXeDyWDN/UsAZy/RLxH5SwI5XIHpSf1LAdjbknxl9UsD4GoLjMn5SwPiov15hh1LATraBO1B8UsA0+PvFbH9SwAzMCkW6fFLAAALWql1+UsB5rBkZ5HlSwJZCIJc4dVLAEALyJVR9UsBr1hnfF39SwKd2hqktf1LA9aEL6luAUsDtfaoKDX9SwHGS5o9pfVLAnil0XmN4UsBvvaYHBXxSwE8GR8mrfVLAR3alZaR9UsC2R2+4j39SwBvyzwzidlLAogkUsYh/UsBS8X9HVHNSwL2pSIWxflLAHsakv5d8UsBYqDXNO3pSwIbj+QyoelLAXcKht3h7UsB1AwXeyXZSwGGInL6eflLAw0gvavd/UsBeL00R4HpSwH3KMVncfVLAvJAOD2F4UsBMi/okd3xSwNTWiGAcf1LASn1Z2ql/UsBeE9Iag39SwKfJjLeVf1LATl/P1yx+UsDHoX4XtndSwF2G/3QDfVLA9fI7TWaAUsATmbnA5X5SwNR+aydKflLAY5gTtMl+UsAAyXTo9H5SwDScMjfff1LAFXR7SWN+UsDyW3Sy1HxSwPRQ24ZRf1LAc7hWe9h+UsBW16Gakn5SwDW214Lee1LAGM3K9iF+UsA51VqYhX1SwCGvB5Pif1LArhBWYwl7UsBQqn06HnZSwBKFlnX/flLAw0SDFDx6UsCGWP0RhnxSwMOayqKwfVLAWmWmtP59UsCafR6jPH1SwCrkSj0LflLAPl5Ih4d9UsBtjnObcH1SwEut9xvtfVLAHozYJ4B9UsDRIXAk0HZSwPjDz38PgFLApmCNs+l7UsDsh9hg4X5SwOijjLgAf1LAhe0nY3x/UsDTUKOQZH5SwHdM3ZVdflLAKXef46N8UsAj2Lj+XX9SwPmGwmfrfVLA36gVpu98UsDqWKX0TH5SwCjRksfTeFLAgo3r3/V6UsAFMjuL3n1SwMQj8fJ0elLA9YJPc/J+UsA5l+Kqsn5SwIKtEiwOfFLA1PNuLCh8UsDFHAQdrX5SwJW6ZBwjc1LANJ4I4jx4UsD3sBcK2H5SwCveyDzyf1LAm3YxzXR9UsDwGYnQCH1SwFDkSdI1flLAhGQBE7h+UsCBejNqvn1SwOemzTgNflLAP28qUmF4UsCGjh1U4n5SwONV1jbFfVLA00z3Oql5UsCscwzIXnxSwET4F0FjfVLAW8064/t7UsAyIeaSqnxSwIaNsn4zflLAXMr5Yu9/UsAgYRiw5HtSwPj+Bu3VfFLA0qkrn+V+UsCKWMSww3pSwP4N2quPdlLA6e3PRUN9UsAU6ukj8H1SwJrS+lsCe1LAwDxkyod+UsAcQpWaPX9SwKqCUUmdd1LAxJeJIqR/UsDOcW4T7n5SwFcE/1vJelLAOUNxx5t+UsAm++dpwHlSwNXpQNZTflLAe6Lrwg+AUsD/y7VoAX5SwOTcJtwrf1LAMpI9Qs19UsC/Y3jsZ3xSwJbtQ95ye1LApdx9jo98UsAOETenknlSwKPJxRhYfVLA6GfqdYt8UsBwXMZNDXtSwJW5+UZ0f1LA8aDZdW99UsDbheY6jX1SwGZLVkW4flLALlc/Nsl9UsAw2uOFdIZSwHWxaaUQgFLAfbH34ot9UsCutmJ/2XxSwE2fHXBdelLA+DjThO1+UsAB++jUlX5SwCi37XvUflLAmbuWkA9/UsCw479AEH9SwC8012mkflLAZK93f7x7UsCkUBa+vn9SwIY41sVtfFLA1/fhICGAUsBOmZtvRIBSwDWbx2EwflLA2Xkbmx2AUsDvPPGcLX5SwNqpudxgeVLApDMw8rJ8UsBHV+nuOn9SwGaiCKnbfFLAHNKowMl+UsC+3v3xXoBSwGAdxw+VeFLAnG1uTE9/UsA/U69bBHxSwJ7wEpz6elLAAaH18GWAUsCpZ0Eo73RSwDArFOl+fFLAsRU0LbF+UsCwAKYMHH1SwBsv3SQGf1LA7FBNSdZ+UsAOv5tu2X9SwEYIjzaOdVLAaoe/Jmt7UsCuSExQw39SwCI3ww34flLAFFlrKLV9UsClZg+0An5SwP4pVaLsflLAqMXgYdp6UsDjjGFO0HxSwPXb14Fzf1LAzehHwyl7UsDnjZPCvH1SwIdQpWYPgFLAnMQgsHJ/UsAZHCWvznhSwNQs0O6QfVLALBGo/kF7UsALRE/KpH1SwOnX1k//flLAtW/urx55UsCO5zOg3n5SwF9cqtIWflLASMMpc/N7UsDmQA+1bX5SwGQ9tfrqfVLAmkLnNXZ/UsCrsu+K4H1SwGYzh6QWfVLAD0dX6e59UsCzeofboX5SwMEb0qjAfFLAKuCe509/UsBkPEolPH1SwCkkmdU7fFLABkmfVtF9UsAIOlrVkn1SwHDOiNLeflLABHCzeLF4UsAQIEPHDn5SwOo9ldOeflLAFD/G3LV/UsBF2PD0SnxSwKxXkdEBf1LAw2Fp4Ed+UsAq499nXHdSwO4JEtvdflLAUfaWcr5+UsD6Cz1i9H1SwBEY6xuYflLAbR6Hwfx9UsACRwINNodSwMlyEkpfgFLASzygbMp8UsDmV3OAYHxSwEYnS633fVLAKsQj8fJ3UsDzAYHOpHVSwMTt0LAYf1LAY30Dkxt9UsDiAtAoXXxSwHIVi98UflLA96xrtBx7UsB0YaQXtXpSwJPEknL3fFLAxxFr8Sl/UsBYVMTpJIBSwKbR5GIMf1LAAIxn0NB6UsBdbcX+sn1SwNdLUwQ4fFLACcA/pUp8UsCNtFTejndSwD4EVaNXfVLAX0ax3NJ9UsAWTz3S4H5SwDI9YYkHeFLAyAxUxr96UsAWMlcG1XxSwAiPNo5YfVLABKkUOxp8UsD3WWWmtH5SwPIolfCEf1LAPlqcMcx8UsCH26FhMXlSwBFTIoleflLA8iTpmsl+UsDxoURLHn5SwKZ7ndSXf1LADTM0ngh7UsAN/+kGCn9SwAZjRKLQfFLA6e46G/J/UsDvVpboLHpSwKlpF9NMelLAdTv7yoN+UsAm4q3zb39SwBqGj4gpfFLAl1RtN8F/UsCthO6SOH5SwKpiKv2Ee1LAzv+rjhx5UsADsAER4n5SwI4ev7fpflLAfzMxXYh9UsBkB5W4jnpSwGEcXDrmfVLAxXO2gNB8UsB8DcFxGX9SwI8ZqIx/flLABYiCGVN+UsCaz7nb9X9SwN46/3bZe1LAjgOvljt9UsCvmBHeHn9SwCRHOgMjdlLAzzC1pQ5+UsAijQqcbIBSwFVpi2t8flLAWFnbFI9+UsCIga59AX9SwGgFhqxuf1LAcR5OYDp/UsCoNGJmn4ZSwG0dHOxNgFLA7q8e961/UsA/OnXls3pSwAhb7PZZflLA/aAuUih/UsCCyvj3GX5SwHjy6bEtdVLA68TleAV7UsDGbMmqCH5SwCxEh8CReVLApKXydoSFUsARxk/j3n1SwLMHWoEhf1LAcJf9utN6UsDMRBFSt3xSwFW/0vnwfVLAbVZ9rrZ/UsDpK0gzFn1SwGh6ibFMelLAiZtTyQCAUsCWl/xP/n1SwFWIR+LleVLAgqynVl95UsDFceDVcnpSwDrnpzgOc1LA0At3Lox+UsAgDafMzX5SwFeXUwJiflLAf4XMlUF/UsCgGcQHdnxSwM5UiEfifFLA29styQF9UsBQcLGiBn5SwJZ31QPmflLATx4Wak17UsA9mX/0TXpSwNzVq8jofFLAsOdrlst1UsAMzXUaaX1SwKSMuAA0f1LAvr7WpUZ+UsAs81Zdh35SwMAg6dMqf1LAv7hUpS2HUsDo3VhQGH1SwCy3tBoSfFLAGTigpSt/UsAonUgw1X9SwNZvJqYLgFLAKpDZWfR8UsCLNse5TX1SwLeYnxuaeVLAfnGpSlt9UsBJn1bRH39SwHyZKELqflLAPEuQEVB/UsAxYMlVLH9SwM6KqIk+flLAn1voSgR/UsDa5sb0hH9SwPIJ2Xkbf1LAE7cKYqB9UsBwlScQdn9SwK/MW3Udf1LA/WoOEMx/UsAu/rYnSIBSwDMV4pF4d1LAjURoBBt6UsAhzsMJTH9SwPUvSWWKdlLAEwznGmZ8UsAxW7IqwntSwKslHeVgfVLAZ2Ml5ll9UsCNJEG4An9SwMpwPJ8BflLAe6AVGLJ/UsCKr3YU53pSwC+Lic3He1LAlL2lnC92UsBJTbuYZoZSwIV3uYjvflLAq+l6out+UsDAzk2bcX5SwEZB8Pj2flLAXRd+cD6AUsDE6o8wDH9SwIWX4NQHfVLARbsKKT99UsBTP28qUn5SwDI7i96pfFLAdNL7xtd+UsDbp+MxA3tSwL6lnC/2elLA2GSNeoh8UsBF1ESfj31SwJ58emzLfFLAR+Umaml+UsBLkBFQ4X5SwArXo3A9f1LAB5lk5Cx9UsCbOSS1UH1SwF73ViQmfVLAYYicvp55UsAQroBCPX9SwCzy64fYfFLAb7iP3Jp+UsDZBu5AnXpSwJVgcTjzfVLANL4vLlV8UsCZZyWt+HxSwHAGf7+YeVLAsMdESrN+UsDVsrW+SHpSwGEcXDrmfFLA1bDfE+t+UsAJpS+EnHtSwMwnK4arelLA3Qw34PN9UsB8DcFxGX5SwNV1qKYkfVLAOxvyzwx/UsAB3gIJin9SwNEhcCTQd1LAuRYtQNt/UsBNh07Pu3dSwJ60cFmFgFLAhjdr8L57UsB6F+/H7XpSwCBEMuTYflLA8u8zLhx+UsCocASpFH5SwHEDPj+MhlLA7pOjAFF9UsA5C3va4XxSwAubAS7IflLApBr2e2J7UsD2J/G5E3pSwJ+u7lhsflLA0Jfe/lx9UsBjCACOPX5SwP0v16IFf1LAlDR/TGuAUsBXeJeL+H1SwFPqknGMf1LACMiXUMF8UsCFeCRenn5SwNlaXyS0e1LA3795ceJ+UsBMT1jiAX5SwFzGTQ00elLA3LjF/Nx7UsBLICV2bX9SwOKQDaSLfVLA78ouGFx+UsDjxi3m539SwLaCpiVWflLAy0qTUtB9UsBuFFlrKH9SwElKehhaflLAnRIQk3B/UsCwHvet1n5SwMGO/wJBelLAbEJaY9B+UsCHpBZKJn9SwEg17PfEfFLA0XZM3ZV/UsAkK78MxndSwDF+GvfmfFLAQfUPIhl+UsC8AtGTMn1SwDKR0mwedlLAKbFre7t+UsAS+MPPf35SwACOPXsufFLAE2ba/pV4UsCASL99HX9SwA1TW+ogf1LASOF6FK58UsBO0CaHT35SwNxI2SJpf1LAy9k7o619UsC8eapDbnxSwJ3zUxwHflLApddmYyV+UsDGTQ00n3VSwOFembfqdlLAL/g0Jy99UsC9rIkFvntSwKFHjJ5bfVLAwRvSqMB8UsDecYqO5HlSwDZzSGqhf1LAjpWYZyV/UsDI7gIlBX1SwBpNLsbAelLAQL6ECg5+UsDdek0PCn1SwAHdlzPbflLAttlYiXl6UsDkvP+PE4BSwOD2BIntflLAwW7Ytih9UsCi8UQQ535SwFGk+zkFf1LADOavkLl5UsAX00z3OntSwIHMzqJ3f1LAppvEILB6UsCDpiVWRn5SwF4vTRHgeVLAjErqBDR7UsDZlCu8y3xSwNrJ4Ch5fFLAgo/BilN/UsDhl/p5U31SwMk88gcDfVLAVtKKbyhzUsBwQiECDn1SwD6WPnRBflLAlzrI68F+UsCrPeyFAn9SwPVpFf2heVLAJLTlXIp+UsCV0jO9xHpSwHk6V5QSdlLAjSRBuAJ9UsDZfFwbKoBSwCBCXDl7hlLA5pMVw9V+UsAFxCRcyH9SwEkvaverflLA4443+S19UsDRrdf0oHpSwBh7L75oflLAlZ1+UBd8UsDdXtIYrX9SwPyohv2ef1LAUwYOaOl+UsAbuW5KeXxSwJ5BQ/8Ef1LACttPxvh6UsDSyOcVT3xSwKcHBaVoeFLAU8+CUN56UsCiKqbST39SwKN06V+Sd1LAO3MPCd9+UsAhdqbQeXZSwOPjE7LzfVLAI/Qz9bp+UsBREaeTbH9SwJ9VZkrrf1LAWJBmLJp/UsBPP6iLFHhSwCTVd35RgFLAgCkDB7R+UsDnq+Rjd39SwFSOyeL+f1LAiV3b2y19UsB0Ka4q+3dSwGba/pWVfVLA3Xu45Lh+UsDWpxyTxX9SwOs56X3jfVLAU+knnN19UsC94T5ya39SwBdhinJpflLASGsMOiF9UsD8i6Axk3xSwEYJ+gs9f1LAjlw3pbx8UsDY9Qt2w35SwHO7l/vkfVLAJXmu78N+UsBavcPt0H9SwIApAwe0flLA3xXB/1Z+UsA6H54lyH5SwLzJb9HJfVLAAiocQSp9UsCzDHGsi3tSwHQn2H+dflLAWwhyUMJ+UsC71XPS+3JSwHrf+NozeFLAJEc6AyN+UsAls3qH23pSwH2VfOwuflLA2o0+5gOAUsB+42vPLIBSwAyR09fzflLAukp319l9UsD3OT5anH5SwDUmxFxSeFLAK6ORzyt+UsCyYyMQr3VSwLqFrkSgelLA3rBtUWZ9UsA6OxkcJXxSwJbQXRJnelLAPuqvV1h+UsAVjiCVYn5SwBXFq6xtf1LAOKEQAYd+UsChTQ6fdH9SwNNM9zqpflLAGXPXEvJ/UsBFSx5Py35SwIF4Xb9gfVLAwsO0b+58UsDQDyOER39SwGDHf4Egf1LA75I4K6J7UsB3EaYol39SwK9d2nBYflLA1qcck8V+UsCMg0vHnH1SwNRH4A8/f1LAU1kUdlF7UsC0xwvp8H1SwPIiE/BrelLAl1XYDHB5UsDyW3Sy1H1SwH/C2a1lf1LA1Xd+UYJ7UsB1d50N+X1SwCTwh5//fVLAbD8Z48N9UsCyoZv9gYZSwGFREaeTelLAfv578Np8UsCZDp2ed31SwIaTNH9MfFLAtTNMbal7UsDyttJrs31SwBVypZ4FflLAyM9Grpt8UsB/hcyVQXpSwAM+P4wQf1LAEATI0LF9UsBqwYu+goBSwC4e3nNgelLAE0ceiCx5UsAjopi8AX9SwC1BRkCFf1LAFXR7SWN7UsDr/rEQHX5SwO+pnPaUf1LAO1RTknV9UsCr56T3jXhSwLX7VYDvf1LAJ/kRv2J8UsCGONbFbYdSwG6GG/D5fFLAOnr83qZ+UsD5aHHGMHxSwEQwDi4df1LApOTVOQZ+UsCSA3Y1eXlSwNYcIJijgFLA8UV7vJB/UsAv3Lkw0ntSwB6Jl6dzd1LAumqeI/J8UsAQBwlRvnVSwEioGVJFflLAZVHYRdF+UsCL4H8r2X5SwDYgQlw5f1LAYvay7bR/UsDRH5p5coBSwG2q7pHNflLAk4rG2t99UsAfEVMiiX9SwOPEVzuKf1LA9Wc/UkSAUsC0xwvp8H9SwIqRJXMsdVLAeR7cnbV9UsDTMHxETH5SwPQ2NjtSfVLA9GqA0lB7UsC0If/MIH5SwGVx/5HpfVLAhssqbAZ/UsBDVUyln31SwO1l22lrgFLAy9jQzf56UsAVjbW/s35SwGWqYFRSfFLAxapBmNt9UsBksU0qGn9SwBBAahMngFLAgeuKGeF+UsCVDtb/OX1SwD6zJEBNe1LAybCKNzJ9UsAotoKmJX5SwCeHTzqRflLA4GdcOBBzUsBr1hnfF3tSwAMkmkARf1LArVCk+zl/UsB5WKg1zX1SwBqLprOTflLAS+SCM/h+UsDvyFht/n5SwCxF8pVAfVLAjdMQVfh/UsBdp5GWynlSwIffTbfsflLAjpJX5xh5UsCUwVHy6nxSwGwkCcIVf1LAD5pd91Z7UsCYUMHhBX1SwIAQyZBjfVLASOLl6VyAUsAuHt5zYH9SwGFsIchBf1LA/fhLi/p9UsBUVP1K53xSwBud81Mcf1LAZhah2Ap/UsDHm/wWnX9SwBoyHqUSfVLAca5hhsZ+UsC1+uqqQHxSwOMan8n+clLAJXUCmgh/UsBd+SzPg3xSwJeRek/lfFLAUz2Zf/R9UsDsvfiiPX9SwFABMJ5BgFLAf4gNFk58UsBWDcLc7n1SwJ1/u+zXflLA06V/SSp/UsBksrj/yHpSwKmhDcAGfVLAg0wychaAUsB5H0dzZH9SwKXz4VmCeVLApriq7Lt9UsD4i9mSVXtSwIRJ8fEJfFLAs3vysFCFUsDtfhXgu3tSwCiBzTl4e1LAdT48S5B2UsAKn62Dg35SwHxkc9U8flLAYRkbutl+UsAsmzkktX1SwIFCPX0EelLAyk4/qIt7UsDvHMpQFX5SwK3CZoALfFLA4XoUrkd+UsB3oblOI31SwOAtkKD4flLAG5yIfm16UsA7w9SWOn5SwHsxlBPtelLALSEf9Gx9UsC139qJkn5SwNC3BUt1fFLA6PhoccZ+UsB07KAS13xSwB11dFyNf1LAjLtBtFZ8UsAm32xzY3pSwJW6ZBwjfVLAkSbeAZ54UsCCrRIsDn1SwAZn8PeLfFLAo66196l7UsAV4pF4eX9SwNtsrMQ8f1LACAPPvYeAUsCfAmA8g3tSwFqbxvZaflLA9wZfmEx+UsAm5e5zfHlSwPerAN9tfFLA0lW6u85+UsDuJY3ROn9SwHgI46dxf1LAptQl4xiAUsA/GePD7HhSwGvT2F4Lf1LASzrKwWx8UsB8nGnC9n1SwKrXLQJjflLAz0wwnGt5UsCVYkfjUH1SwO5aQj7od1LAzAwbZf18UsBl4lZBDHtSwKuy74rgdFLAfo/66xV+UsDIe9XKhHlSwHA+daxSf1LA+69z02Z8UsBEbLBwkn5SwLX7VYDvflLAXFX2XRF+UsCESfHxCXxSwCeh9IWQfVLA8icqG9Z7UsD3rdaJy35SwCQp6WFofVLAy6Da4ER/UsDwv5Xs2H5SwCUFFsCUf1LAb9dLUwR/UsBnmUUotn1SwPylRX2SfFLA5/7qcd99UsAnaf6Y1nZSwBprf2d7dVLAOIYA4Nh+UsC/7nTniXxSwAQBMnTselLAtvP91Hh7UsDbozfcR3hSwBkdkIR9flLA0uC2tvB+UsCSPNf34X1SwJLrppTXfFLARpbMsbx/UsAdOdIZGH9SwMST3czoelLAJzCd1m2AUsAvqG+Z035SwMnmqnmOflLA7uwrD9J+UsDtZdtpa31SwO5Cc51Gf1LAev60UZ1zUsCw4lRrYXxSwLZN8bioflLA/gsEATJ8UsDjF15J8n5SwM1WXvI/e1LAs0KR7ud8UsALt3wkJXxSwIUF9wMef1LA0nDK3Hx+UsAuck9Xd3xSwFPnUfF/f1LAVmMJa2N+UsAmGM41zH1SwAh2/BcIflLA6Qsh5/16UsDMmII1znxSwOCBAYQPf1LAM8SxLm56UsCitg2jIHpSwP/r3LQZeVLAjo8WZwx/UsAlW11OCX5SwCQKLev+flLAGMxfIXN2UsDn/upx335SwOcZ+5KNf1LA3ZiesMR3UsDePqvMlIBSwEaXN4drfVLAiuPAq+V+UsDmIVM+BH9SwAvrxrsjflLAHGDmO/h9UsCj5UAPtXtSwN+KxAQ1dVLAH031ZP5+UsARj8TL031SwLoRFhVxhlLA/l915Eh9UsC/mgMEc3lSwNcVM8LbfFLAuCBblq94UsD7zFmfcn9SwEs7NZcbdVLAgBDJkGN9UsDElh5N9XtSwLK61XPSfVLATb7Z5sZ8UsBKQiJt43xSwJQzFHe8flLAVoLF4cxyUsAUd7zJb39SwAcJUb6gflLA2XvxRXt7UsBiTWVR2H9SwJEOD2H8e1LAzR5oBYZ/UsBlARO4dYBSwNtN8E3TfFLAh/nyAux+UsDi6ZWyDHhSwIzc09UdflLAUgq6vaR9UsD/HydMGHdSwNP6WwLwfVLA176AXrh4UsAuHAjJAn9SwB7ec2A5gFLAD3uhgO1+UsBB9KRMaoBSwEXxKmubfFLACXB6F+98UsApkxraAH5SwNWXpZ2afFLA/DkF+dl+UsAV5Gcj135SwK5nCMcsfVLAW7OVl/x9UsD7dhIR/nxSwA4V4/xNfFLAc7osJjZ+UsBfeZCeIn9SwFAZ/z7jfVLAUG9GzVd8UsDToGgewH5SwMkcy7vqflLAV3bB4Jp8UsC4eHjPgXhSwC1BRkCFelLAUBiUaTR/UsDM1CR4Q35SwHjPgeUIh1LAfXiWICN+UsB1jgHZ63tSwHapEfqZfVLAnBn9aDh/UsCUFFgAU35SwAVu3c1Tf1LAOiLfpdR+UsCbVZ+rrX5SwNRkxttKfVLAUyP0M/V6UsBkIM8u335SwAvvchHff1LATKjg8IJ6UsCbWOArun1SwPm84qlHfVLAmIbhI2J/UsDo9/2bF39SwIXq5uJvfFLAXfksz4N7UsAiqvBneH1SwEt4Qq8/d1LAWcSww5h6UsC5jJsaaH5SwIMY6NoXfVLA5dL4hVd8UsAeT8sPXH1SwI2z6QjgflLAXknyXN9+UsBGQ8ajVH1SwDV5ymq6f1LAibZj6q5/UsBkeOxnsXpSwJAV/DbEelLAw2Fp4Ed8UsC2n4zxYX9SwAg7xapBh1LAlPjcCfZ6UsANcayL231SwNnPYimShlLA19tmKsR8UsB3vwrw3X9SwPcBSG3ieFLAE+6Veat5UsCbHam+835SwDP7PEZ5d1LAR4/f2/R9UsBZpl8i3ndSwHZvRWKCfFLANiIYB5d/UsBmhLcHIXpSwE7wTdNnf1LAz6EMVTF/UsCmR1M9mXxSwERN9PkoflLAineAJy18UsBNnx1wXYVSwMkh4uZUfFLAMXvZdtp3UsDcoPZbO39SwL/XEByXflLAWrqCbcR8UsDDYWngR3tSwGeeXFMgf1LASQ9Dq5N8UsAaxAd2/H1SwB9JSQ9DflLAMEeP39t8UsA/UkSGVXpSwNqNPuYDgFLA76mc9pR6UsCZ84x9yXxSwIOKql/pf1LAVHJO7KF+UsAOn3QiwXxSwLjJqDKMflLAhlRRvMp8UsAKZeHra3pSwAmJtI0/flLA8lt0stR+UsCad5yiI3lSwKOs30xMflLAwmosYW18UsCcU8kAUH5SwBB0tKolelLAoyJOJ9l8UsC5N79hon9SwLe4xmeyf1LACacFL/p/UsDrOlRTknpSwMgG0sWmdlLAgbT/AdZ8UsB5rYTukn9SwKDf929efVLAw0maP6Z8UsAOvjCZKoBSwD4GK061hlLA4q/JGvV+UsBrKLUX0X5SwDPhl/p5f1LAd2hYjLp9UsCOsRNegn1SwHrGvmTjflLABdzz/Gl8UsA0vFmD931SwMtMaf0tdVLAxRouck+HUsBJERlW8X1SwKCIRQw7f1LA1JrmHad6UsBEwCFUqX1SwIKtEiwOflLAF7zoK0h/UsBp4bIKm3tSwB3Lu+oBf1LAqU2c3O98UsDOjekJS3tSwPUTzm4teVLA5q4l5IN6UsCUg9kEGHtSwDcbKzHPflLAA0TBjCl8UsBnmUUotnJSwI1HqYQnelLAlrA2xk5/UsAiUz4EVXpSwPvpP2t+fVLASBtHrMV9UsDTwfo/h35SwCS05VyKflLAhNbDl4l/UsAEAMeePX9SwAzmr5C5eVLALV+X4T9+UsBd4V0u4n1SwFD/WfPjfFLANNk/TwN9UsAah/pd2HxSwIXtJ2N8fFLA58dfWtR+UsDspL4s7XtSwBmto6oJfVLAnfLoRlh1UsALe9rhr39SwC6QoPgxgFLAqAAYz6CGUsABipElc31SwM3lBkMdfFLAY4BEEyiAUsACgc6kTXxSwNlcNc8RflLARWXDmsp7UsB+w0SDFHpSwPPJiuHqfVLAiq2gaYl/UsBWndUCe39SwPnzbcFSe1LAIorJG2B/UsC0Hr5MFH1SwBLZB1kWf1LAGTp2UIl/UsBHkbWGUn9SwJ7uPPGcelLAvJUlOst9UsDsZ7EUyXdSwA68Wu7MfFLA2H3H8Nh6UsDC2a1lMn1SwG7A54cRfVLAXALwT6l8UsDo3O16aX5SwLyxoDAof1LAOgMjL2t5UsCtS43Qz31SwMqkhjYAfVLAcAfqlEd7UsA5XoHoSXhSwBlxAWiUfFLAW7G/7J5/UsCDTDJyFnpSwNXrFoGxfVLAr0Ffevt+UsDboswGmX9SwMgnZOdtelLAHM2RlV99UsA0+PvFbHtSwBFxcyoZfFLAtJCA0eV+UsAmbarukX9SwDfjNEQVelLAjBGJQst8UsC1+uqqQH9SwNXo1QClflLAhIB8CRV6UsBt/l915H9SwMnH7gIlf1LAGjBI+rR+UsAKEtvdA3tSwIp2FVJ+elLASS9q96t+UsA3pics8XVSwCKq8Gd4flLAi6iJPh9+UsBLzLOSVn9SwP4nf/eOfFLADM11GmmAUsCOP1HZsH5SwJ3VAntMf1LA6dZrelCAUsCGWWjnNH5SwIBEEyhiflLAWRXhJqOGUsD9oC5SKH1SwEFF1a90e1LAvko+dhd8UsAhkiHH1n5SwPuw3qgVflLAuMzpsph6UsAk0jb+RH5SwPQ0YJD0eVLAJjRJLCl+UsDjM9k/T3ZSwFk0nZ0Me1LAI/d0dcd/UsC1/MBVnn9SwME3TZ8df1LAcF0xI7x+UsB0KENVTH5SwFgDlIYaflLAcxJKXwh+UsCF6ubib31SwL2mBwWleFLAukvirIh7UsCxaaUQyH5SwDLGh9nLd1LAgsR29wB+UsAxem6hK35SwIV80LNZf1LAPrFOle99UsBS1Jl7SHxSwMcuUb01flLAjPhOzHp9UsDbpnhcVHxSwMug2uBEf1LA+l5DcFx9UsAJbw9CQHxSwFqfckwWflLAIjmZuFWAUsCF0axsH39SwFzoSgSqfFLAswsG19x9UsB3E3zT9H5SwBvxZDczflLABrmLMEV8UsAHB3sTQ3ZSwOzAOSNKf1LAB9Dv+zd/UsB8KTxodn1SwL71Yb1RfFLA3QphNZZ1UsB47j1ccn5SwPhu88ZJflLA9MMI4dF+UsA2kZkLXHtSwLt/LESHflLAc9pTck58UsC2+BQA431SwLK+gcmNf1LAgEV+/RB2UsDRr62f/nxSwF/ObFfofVLAJo3ROqp/UsChLedSXH1SwKbuyi4YdlLAHaopyTqAUsBAiGTIsXVSwBE4EmiweVLAobyPozl8UsAhHomXp31SwIId/wWCfFLAboeGxah+UsDScTWyK4BSwDF+GvfmflLAx2ZHqu99UsBeLXdmgntSwEFiu3uAfVLASPlJtU99UsAtCrsoen1SwMqoMoy7e1LAYOXQItt6UsDhtOBFX4BSwPNXyFwZf1LAa2YtBaR9UsAdke9S6npSwPT6k/jce1LAzQUujzV5UsBDBBxClX1SwEimQ6fnflLAkzXqIRpzUsCJm1PJAHtSwDLMCdrkfVLAWU+tvrp+UsBS76mc9n5SwNRkxttKflLAOxxdpbt6UsCW0F0SZ35SwIP8bOS6elLANUI/U698UsA+daxSenxSwCs0EMtmgFLAtmYrL/mGUsB8D5ccd3hSwI/C9ShcflLARL+2fvp8UsB8X1yq0n5SwMnH7gIlf1LApz0l58R+UsBhFto5zXxSwJLp0Ol5f1LAOPOrOUB8UsBG7BNAMXVSwK9BX3r7flLAE/OspBWAUsAFwk6xaoBSwAw7jEl/flLA22rWGd9+UsDDYz+LpXxSwJ29M9qqfVLA39416Et/UsBhpYKKqnxSwKWisfZ3gFLAuhPsv855UsBma32R0H5SwAWLw5lff1LAJhsPtth8UsCIn/8evHVSwJUnEHaKf1LAkUQvo1h9UsD+KVWi7H1SwEwXYvVHfVLAR1oqb0d4UsBAhSNIpX1SwA==",
          "dtype": "f8"
         },
         "marker": {
          "color": "#636efa"
         },
         "mode": "markers",
         "name": "Original/Unchanged",
         "showlegend": true,
         "subplot": "mapbox",
         "type": "scattermapbox"
        },
        {
         "hovertemplate": "replacement_status=Link5G (New Install)<br>latitude=%{lat}<br>longitude=%{lon}<extra></extra>",
         "lat": {
          "bdata": "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",
          "dtype": "f8"
         },
         "legendgroup": "Link5G (New Install)",
         "lon": {
          "bdata": "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",
          "dtype": "f8"
         },
         "marker": {
          "color": "#EF553B"
         },
         "mode": "markers",
         "name": "Link5G (New Install)",
         "showlegend": true,
         "subplot": "mapbox",
         "type": "scattermapbox"
        },
        {
         "hovertemplate": "replacement_status=Replaced Original<br>latitude=%{lat}<br>longitude=%{lon}<extra></extra>",
         "lat": {
          "bdata": "PGnhsgpdREAnvtpRnGFEQPiMRGgEX0RALnJPV3dgREDqdvaVB19EQA==",
          "dtype": "f8"
         },
         "legendgroup": "Replaced Original",
         "lon": {
          "bdata": "SgnBqnqAUsB+dOrKZ31SwGNGeHsQf1LADw72JoZ/UsB2qnzPSIBSwA==",
          "dtype": "f8"
         },
         "marker": {
          "color": "#00cc96"
         },
         "mode": "markers",
         "name": "Replaced Original",
         "showlegend": true,
         "subplot": "mapbox",
         "type": "scattermapbox"
        }
       ],
       "layout": {
        "legend": {
         "title": {
          "text": "replacement_status"
         },
         "tracegroupgap": 0
        },
        "mapbox": {
         "center": {
          "lat": 40.751940778272484,
          "lon": -73.94548796438112
         },
         "domain": {
          "x": [
           0,
           1
          ],
          "y": [
           0,
           1
          ]
         },
         "style": "carto-positron",
         "zoom": 9
        },
        "template": {
         "data": {
          "bar": [
           {
            "error_x": {
             "color": "#2a3f5f"
            },
            "error_y": {
             "color": "#2a3f5f"
            },
            "marker": {
             "line": {
              "color": "#E5ECF6",
              "width": 0.5
             },
             "pattern": {
              "fillmode": "overlay",
              "size": 10,
              "solidity": 0.2
             }
            },
            "type": "bar"
           }
          ],
          "barpolar": [
           {
            "marker": {
             "line": {
              "color": "#E5ECF6",
              "width": 0.5
             },
             "pattern": {
              "fillmode": "overlay",
              "size": 10,
              "solidity": 0.2
             }
            },
            "type": "barpolar"
           }
          ],
          "carpet": [
           {
            "aaxis": {
             "endlinecolor": "#2a3f5f",
             "gridcolor": "white",
             "linecolor": "white",
             "minorgridcolor": "white",
             "startlinecolor": "#2a3f5f"
            },
            "baxis": {
             "endlinecolor": "#2a3f5f",
             "gridcolor": "white",
             "linecolor": "white",
             "minorgridcolor": "white",
             "startlinecolor": "#2a3f5f"
            },
            "type": "carpet"
           }
          ],
          "choropleth": [
           {
            "colorbar": {
             "outlinewidth": 0,
             "ticks": ""
            },
            "type": "choropleth"
           }
          ],
          "contour": [
           {
            "colorbar": {
             "outlinewidth": 0,
             "ticks": ""
            },
            "colorscale": [
             [
              0,
              "#0d0887"
             ],
             [
              0.1111111111111111,
              "#46039f"
             ],
             [
              0.2222222222222222,
              "#7201a8"
             ],
             [
              0.3333333333333333,
              "#9c179e"
             ],
             [
              0.4444444444444444,
              "#bd3786"
             ],
             [
              0.5555555555555556,
              "#d8576b"
             ],
             [
              0.6666666666666666,
              "#ed7953"
             ],
             [
              0.7777777777777778,
              "#fb9f3a"
             ],
             [
              0.8888888888888888,
              "#fdca26"
             ],
             [
              1,
              "#f0f921"
             ]
            ],
            "type": "contour"
           }
          ],
          "contourcarpet": [
           {
            "colorbar": {
             "outlinewidth": 0,
             "ticks": ""
            },
            "type": "contourcarpet"
           }
          ],
          "heatmap": [
           {
            "colorbar": {
             "outlinewidth": 0,
             "ticks": ""
            },
            "colorscale": [
             [
              0,
              "#0d0887"
             ],
             [
              0.1111111111111111,
              "#46039f"
             ],
             [
              0.2222222222222222,
              "#7201a8"
             ],
             [
              0.3333333333333333,
              "#9c179e"
             ],
             [
              0.4444444444444444,
              "#bd3786"
             ],
             [
              0.5555555555555556,
              "#d8576b"
             ],
             [
              0.6666666666666666,
              "#ed7953"
             ],
             [
              0.7777777777777778,
              "#fb9f3a"
             ],
             [
              0.8888888888888888,
              "#fdca26"
             ],
             [
              1,
              "#f0f921"
             ]
            ],
            "type": "heatmap"
           }
          ],
          "histogram": [
           {
            "marker": {
             "pattern": {
              "fillmode": "overlay",
              "size": 10,
              "solidity": 0.2
             }
            },
            "type": "histogram"
           }
          ],
          "histogram2d": [
           {
            "colorbar": {
             "outlinewidth": 0,
             "ticks": ""
            },
            "colorscale": [
             [
              0,
              "#0d0887"
             ],
             [
              0.1111111111111111,
              "#46039f"
             ],
             [
              0.2222222222222222,
              "#7201a8"
             ],
             [
              0.3333333333333333,
              "#9c179e"
             ],
             [
              0.4444444444444444,
              "#bd3786"
             ],
             [
              0.5555555555555556,
              "#d8576b"
             ],
             [
              0.6666666666666666,
              "#ed7953"
             ],
             [
              0.7777777777777778,
              "#fb9f3a"
             ],
             [
              0.8888888888888888,
              "#fdca26"
             ],
             [
              1,
              "#f0f921"
             ]
            ],
            "type": "histogram2d"
           }
          ],
          "histogram2dcontour": [
           {
            "colorbar": {
             "outlinewidth": 0,
             "ticks": ""
            },
            "colorscale": [
             [
              0,
              "#0d0887"
             ],
             [
              0.1111111111111111,
              "#46039f"
             ],
             [
              0.2222222222222222,
              "#7201a8"
             ],
             [
              0.3333333333333333,
              "#9c179e"
             ],
             [
              0.4444444444444444,
              "#bd3786"
             ],
             [
              0.5555555555555556,
              "#d8576b"
             ],
             [
              0.6666666666666666,
              "#ed7953"
             ],
             [
              0.7777777777777778,
              "#fb9f3a"
             ],
             [
              0.8888888888888888,
              "#fdca26"
             ],
             [
              1,
              "#f0f921"
             ]
            ],
            "type": "histogram2dcontour"
           }
          ],
          "mesh3d": [
           {
            "colorbar": {
             "outlinewidth": 0,
             "ticks": ""
            },
            "type": "mesh3d"
           }
          ],
          "parcoords": [
           {
            "line": {
             "colorbar": {
              "outlinewidth": 0,
              "ticks": ""
             }
            },
            "type": "parcoords"
           }
          ],
          "pie": [
           {
            "automargin": true,
            "type": "pie"
           }
          ],
          "scatter": [
           {
            "fillpattern": {
             "fillmode": "overlay",
             "size": 10,
             "solidity": 0.2
            },
            "type": "scatter"
           }
          ],
          "scatter3d": [
           {
            "line": {
             "colorbar": {
              "outlinewidth": 0,
              "ticks": ""
             }
            },
            "marker": {
             "colorbar": {
              "outlinewidth": 0,
              "ticks": ""
             }
            },
            "type": "scatter3d"
           }
          ],
          "scattercarpet": [
           {
            "marker": {
             "colorbar": {
              "outlinewidth": 0,
              "ticks": ""
             }
            },
            "type": "scattercarpet"
           }
          ],
          "scattergeo": [
           {
            "marker": {
             "colorbar": {
              "outlinewidth": 0,
              "ticks": ""
             }
            },
            "type": "scattergeo"
           }
          ],
          "scattergl": [
           {
            "marker": {
             "colorbar": {
              "outlinewidth": 0,
              "ticks": ""
             }
            },
            "type": "scattergl"
           }
          ],
          "scattermap": [
           {
            "marker": {
             "colorbar": {
              "outlinewidth": 0,
              "ticks": ""
             }
            },
            "type": "scattermap"
           }
          ],
          "scattermapbox": [
           {
            "marker": {
             "colorbar": {
              "outlinewidth": 0,
              "ticks": ""
             }
            },
            "type": "scattermapbox"
           }
          ],
          "scatterpolar": [
           {
            "marker": {
             "colorbar": {
              "outlinewidth": 0,
              "ticks": ""
             }
            },
            "type": "scatterpolar"
           }
          ],
          "scatterpolargl": [
           {
            "marker": {
             "colorbar": {
              "outlinewidth": 0,
              "ticks": ""
             }
            },
            "type": "scatterpolargl"
           }
          ],
          "scatterternary": [
           {
            "marker": {
             "colorbar": {
              "outlinewidth": 0,
              "ticks": ""
             }
            },
            "type": "scatterternary"
           }
          ],
          "surface": [
           {
            "colorbar": {
             "outlinewidth": 0,
             "ticks": ""
            },
            "colorscale": [
             [
              0,
              "#0d0887"
             ],
             [
              0.1111111111111111,
              "#46039f"
             ],
             [
              0.2222222222222222,
              "#7201a8"
             ],
             [
              0.3333333333333333,
              "#9c179e"
             ],
             [
              0.4444444444444444,
              "#bd3786"
             ],
             [
              0.5555555555555556,
              "#d8576b"
             ],
             [
              0.6666666666666666,
              "#ed7953"
             ],
             [
              0.7777777777777778,
              "#fb9f3a"
             ],
             [
              0.8888888888888888,
              "#fdca26"
             ],
             [
              1,
              "#f0f921"
             ]
            ],
            "type": "surface"
           }
          ],
          "table": [
           {
            "cells": {
             "fill": {
              "color": "#EBF0F8"
             },
             "line": {
              "color": "white"
             }
            },
            "header": {
             "fill": {
              "color": "#C8D4E3"
             },
             "line": {
              "color": "white"
             }
            },
            "type": "table"
           }
          ]
         },
         "layout": {
          "annotationdefaults": {
           "arrowcolor": "#2a3f5f",
           "arrowhead": 0,
           "arrowwidth": 1
          },
          "autotypenumbers": "strict",
          "coloraxis": {
           "colorbar": {
            "outlinewidth": 0,
            "ticks": ""
           }
          },
          "colorscale": {
           "diverging": [
            [
             0,
             "#8e0152"
            ],
            [
             0.1,
             "#c51b7d"
            ],
            [
             0.2,
             "#de77ae"
            ],
            [
             0.3,
             "#f1b6da"
            ],
            [
             0.4,
             "#fde0ef"
            ],
            [
             0.5,
             "#f7f7f7"
            ],
            [
             0.6,
             "#e6f5d0"
            ],
            [
             0.7,
             "#b8e186"
            ],
            [
             0.8,
             "#7fbc41"
            ],
            [
             0.9,
             "#4d9221"
            ],
            [
             1,
             "#276419"
            ]
           ],
           "sequential": [
            [
             0,
             "#0d0887"
            ],
            [
             0.1111111111111111,
             "#46039f"
            ],
            [
             0.2222222222222222,
             "#7201a8"
            ],
            [
             0.3333333333333333,
             "#9c179e"
            ],
            [
             0.4444444444444444,
             "#bd3786"
            ],
            [
             0.5555555555555556,
             "#d8576b"
            ],
            [
             0.6666666666666666,
             "#ed7953"
            ],
            [
             0.7777777777777778,
             "#fb9f3a"
            ],
            [
             0.8888888888888888,
             "#fdca26"
            ],
            [
             1,
             "#f0f921"
            ]
           ],
           "sequentialminus": [
            [
             0,
             "#0d0887"
            ],
            [
             0.1111111111111111,
             "#46039f"
            ],
            [
             0.2222222222222222,
             "#7201a8"
            ],
            [
             0.3333333333333333,
             "#9c179e"
            ],
            [
             0.4444444444444444,
             "#bd3786"
            ],
            [
             0.5555555555555556,
             "#d8576b"
            ],
            [
             0.6666666666666666,
             "#ed7953"
            ],
            [
             0.7777777777777778,
             "#fb9f3a"
            ],
            [
             0.8888888888888888,
             "#fdca26"
            ],
            [
             1,
             "#f0f921"
            ]
           ]
          },
          "colorway": [
           "#636efa",
           "#EF553B",
           "#00cc96",
           "#ab63fa",
           "#FFA15A",
           "#19d3f3",
           "#FF6692",
           "#B6E880",
           "#FF97FF",
           "#FECB52"
          ],
          "font": {
           "color": "#2a3f5f"
          },
          "geo": {
           "bgcolor": "white",
           "lakecolor": "white",
           "landcolor": "#E5ECF6",
           "showlakes": true,
           "showland": true,
           "subunitcolor": "white"
          },
          "hoverlabel": {
           "align": "left"
          },
          "hovermode": "closest",
          "mapbox": {
           "style": "light"
          },
          "paper_bgcolor": "white",
          "plot_bgcolor": "#E5ECF6",
          "polar": {
           "angularaxis": {
            "gridcolor": "white",
            "linecolor": "white",
            "ticks": ""
           },
           "bgcolor": "#E5ECF6",
           "radialaxis": {
            "gridcolor": "white",
            "linecolor": "white",
            "ticks": ""
           }
          },
          "scene": {
           "xaxis": {
            "backgroundcolor": "#E5ECF6",
            "gridcolor": "white",
            "gridwidth": 2,
            "linecolor": "white",
            "showbackground": true,
            "ticks": "",
            "zerolinecolor": "white"
           },
           "yaxis": {
            "backgroundcolor": "#E5ECF6",
            "gridcolor": "white",
            "gridwidth": 2,
            "linecolor": "white",
            "showbackground": true,
            "ticks": "",
            "zerolinecolor": "white"
           },
           "zaxis": {
            "backgroundcolor": "#E5ECF6",
            "gridcolor": "white",
            "gridwidth": 2,
            "linecolor": "white",
            "showbackground": true,
            "ticks": "",
            "zerolinecolor": "white"
           }
          },
          "shapedefaults": {
           "line": {
            "color": "#2a3f5f"
           }
          },
          "ternary": {
           "aaxis": {
            "gridcolor": "white",
            "linecolor": "white",
            "ticks": ""
           },
           "baxis": {
            "gridcolor": "white",
            "linecolor": "white",
            "ticks": ""
           },
           "bgcolor": "#E5ECF6",
           "caxis": {
            "gridcolor": "white",
            "linecolor": "white",
            "ticks": ""
           }
          },
          "title": {
           "x": 0.05
          },
          "xaxis": {
           "automargin": true,
           "gridcolor": "white",
           "linecolor": "white",
           "ticks": "",
           "title": {
            "standoff": 15
           },
           "zerolinecolor": "white",
           "zerolinewidth": 2
          },
          "yaxis": {
           "automargin": true,
           "gridcolor": "white",
           "linecolor": "white",
           "ticks": "",
           "title": {
            "standoff": 15
           },
           "zerolinecolor": "white",
           "zerolinewidth": 2
          }
         }
        },
        "title": {
         "text": "LinkNYC: Original, Replaced, and Link5G Kiosk Distribution"
        }
       }
      }
     },
     "metadata": {},
     "output_type": "display_data"
    }
   ],
   "source": [
    "px.scatter_mapbox(\n",
    "    df,\n",
    "    lat='latitude',\n",
    "    lon='longitude',\n",
    "    color='replacement_status',\n",
    "    zoom=9,\n",
    "    mapbox_style='carto-positron',\n",
    "    title='LinkNYC: Original, Replaced, and Link5G Kiosk Distribution'\n",
    ")\n"
   ]
  },
  {
   "cell_type": "markdown",
   "id": "1d9f9ad8",
   "metadata": {},
   "source": [
    "### LinkNYC: Original vs Link5G Kiosks\n",
    "\n",
    "This map shows how LinkNYC has changed over time.  \n",
    "- 🟦 **Original kiosks** are from the first rollout (mostly 2016–2018) - these are still the older LinkNYC ones.  \n",
    "- 🔴 **Link5G kiosks** are new installations added after 2021, often in the Bronx, Queens, and Staten Island.  \n",
    "- 🟢 **Replaced kiosks** are older ones that got upgraded to 5G models, mostly around Manhattan and Brooklyn.\n",
    "\n",
    "**What it shows:**\n",
    "- Most upgrades happened in **Manhattan**, where foot traffic and ads bring in the most value.  \n",
    "- The newer 5G kiosks are being added to **outer boroughs**, helping improve access and fill in gaps.  \n",
    "- This mix shows how the city is trying to **upgrade old sites** while also **bringing faster Wi-Fi to more neighborhoods**.\n",
    "\n",
    "**Stakeholder Impact:**  \n",
    "This pattern is important for the City’s Advertising and Partnerships team - it shows where the city already has strong engagement (Manhattan) and where new opportunities are growing (Bronx, Queens, Staten Island).\n"
   ]
  },
  {
   "cell_type": "markdown",
   "id": "a9927c1e",
   "metadata": {},
   "source": [
    "# KPIS"
   ]
  },
  {
   "cell_type": "markdown",
   "id": "434a8c33",
   "metadata": {},
   "source": [
    "Activation: “When does engagement begin?”\n",
    "Definition: A week is considered activated when both the number of unique clients and the number of sessions are above the 75th percentile of weekly activity.\n",
    "- unique_clients ≥ 323,242\n",
    "- number_of_sessions ≥ 5,632,313\n",
    "\n",
    "What it measures: High-visibility weeks where many people are connecting to the network — representing broad audience reach and ad impression potential.\n",
    "Why it matters: The City’s advertising partners value volume and visibility. A large number of active users and sessions translates to more ad exposure opportunities and signals strong kiosk utilization across boroughs.\n",
    "\n",
    "\n",
    "Conversion: “How many interactions become meaningful?”\n",
    "Definition: Measures the share of sessions that qualify as heavy-usage sessions (data-heavy interactions). A session-week is marked as heavy usage if:\n",
    "- GB_per_session ≥ 0.035 GB (75th percentile of weekly GB/session)\n",
    "- Formula: conversion_rate = heavy_usage_sessions / total_sessions\n",
    "What it measures: The depth of engagement-how many sessions are rich, content-heavy interactions rather than quick connections.\n",
    "Why it matters: Heavy-usage sessions indicate users are spending more time on the kiosk, resulting in longer ad visibility and higher-quality interactions. For advertisers, this helps distinguish between reach (activation) and retention of attention (conversion).\n",
    "\n",
    "Retention: “Do users come back?”\n",
    "Definition: Tracks the consistency of weekly activity,  how many “activated” weeks remain active over time.\n",
    " - A week is considered retained if kiosk activity remains strong across multiple weeks (e.g., at least 2 active weeks within any 4-week period).\n",
    "\n",
    "What it measures: The persistence of user engagement over time — how consistently kiosks maintain high activity.\n",
    "Why it matters: Retention reflects sustained audience interest and reliability of engagement, showing whether kiosks continue to attract users after the initial connection surge. It also aligns with the City’s goal of sustained digital inclusion, not just one-time use.\n",
    "\n",
    "Experience / Quality Metric: “How rich is the engagement?”\n",
    "Definition: Measures the intensity and quality of interactions through:\n",
    "- GB per session → Average data used per session (depth of use)\n",
    "- Sessions per user → Frequency of repeat connections (loyalty/intensity)\n",
    "\n",
    "What it measures: The “depth” of engagement — whether sessions are meaningful and repeated, reflecting consistent user value.\n",
    "Why it matters: High-quality experiences mean users find value in the service, leading to stronger trust, repeat usage, and more meaningful exposure for advertisers. For LinkNYC, this bridges technical success (fast 5G connectivity) with human outcomes (continued engagement).\n"
   ]
  },
  {
   "cell_type": "code",
   "execution_count": 37,
   "id": "b25b8b97",
   "metadata": {},
   "outputs": [],
   "source": [
    "df.to_csv('/Users/ayemaq/Desktop/Mod5-Project-LinkNYC-Engagement-Analysis/data/clean/LinkNYC_location_cleaned_20251013.csv', index=False)"
   ]
  },
  {
   "cell_type": "code",
   "execution_count": null,
   "id": "aa304e61",
   "metadata": {},
   "outputs": [],
   "source": []
  }
 ],
 "metadata": {
  "kernelspec": {
   "display_name": "base",
   "language": "python",
   "name": "python3"
  },
  "language_info": {
   "codemirror_mode": {
    "name": "ipython",
    "version": 3
   },
   "file_extension": ".py",
   "mimetype": "text/x-python",
   "name": "python",
   "nbconvert_exporter": "python",
   "pygments_lexer": "ipython3",
   "version": "3.12.9"
  }
 },
 "nbformat": 4,
 "nbformat_minor": 5
}
