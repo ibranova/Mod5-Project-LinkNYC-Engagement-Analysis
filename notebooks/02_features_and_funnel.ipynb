{
 "cells": [
  {
   "cell_type": "code",
   "execution_count": 1,
   "id": "40c2b694",
   "metadata": {},
   "outputs": [],
   "source": [
    "import pandas as pd \n",
    "import plotly.graph_objects as go\n",
    "import matplotlib.pyplot as plt\n",
    "\n"
   ]
  },
  {
   "cell_type": "code",
   "execution_count": 2,
   "id": "1c49fc6c",
   "metadata": {},
   "outputs": [],
   "source": [
    "# get dataset\n",
    "df = pd.read_csv('/Users/ayemaq/Desktop/Mod5-Project-LinkNYC-Engagement-Analysis/data/clean/LinkNYC_Weekly_Usage_cleaned_2022-current.csv')"
   ]
  },
  {
   "cell_type": "code",
   "execution_count": 3,
   "id": "bcc9bd25",
   "metadata": {},
   "outputs": [
    {
     "data": {
      "text/plain": [
       "Index(['report_ending_weekly_starting', 'number_of_sessions',\n",
       "       'average_session_length', 'number_of_unique_clients', 'tb_downloaded',\n",
       "       'tb_uploaded', 'cumulative_bandwidth', 'cumulative_sessions',\n",
       "       'cumulative_subscribers', 'cohort', 'sessions_per_user',\n",
       "       'GB_per_session', 'log_number_of_sessions',\n",
       "       'log_number_of_unique_clients', 'log_tb_downloaded', 'month'],\n",
       "      dtype='object')"
      ]
     },
     "execution_count": 3,
     "metadata": {},
     "output_type": "execute_result"
    }
   ],
   "source": [
    "df.keys()"
   ]
  },
  {
   "cell_type": "code",
   "execution_count": 4,
   "id": "485cb74e",
   "metadata": {},
   "outputs": [
    {
     "data": {
      "text/html": [
       "<div>\n",
       "<style scoped>\n",
       "    .dataframe tbody tr th:only-of-type {\n",
       "        vertical-align: middle;\n",
       "    }\n",
       "\n",
       "    .dataframe tbody tr th {\n",
       "        vertical-align: top;\n",
       "    }\n",
       "\n",
       "    .dataframe thead th {\n",
       "        text-align: right;\n",
       "    }\n",
       "</style>\n",
       "<table border=\"1\" class=\"dataframe\">\n",
       "  <thead>\n",
       "    <tr style=\"text-align: right;\">\n",
       "      <th></th>\n",
       "      <th>report_ending_weekly_starting</th>\n",
       "      <th>number_of_sessions</th>\n",
       "      <th>average_session_length</th>\n",
       "      <th>number_of_unique_clients</th>\n",
       "      <th>tb_downloaded</th>\n",
       "      <th>tb_uploaded</th>\n",
       "      <th>cumulative_bandwidth</th>\n",
       "      <th>cumulative_sessions</th>\n",
       "      <th>cumulative_subscribers</th>\n",
       "      <th>cohort</th>\n",
       "      <th>sessions_per_user</th>\n",
       "      <th>GB_per_session</th>\n",
       "      <th>log_number_of_sessions</th>\n",
       "      <th>log_number_of_unique_clients</th>\n",
       "      <th>log_tb_downloaded</th>\n",
       "      <th>month</th>\n",
       "    </tr>\n",
       "  </thead>\n",
       "  <tbody>\n",
       "    <tr>\n",
       "      <th>0</th>\n",
       "      <td>2022-08-07</td>\n",
       "      <td>3668886</td>\n",
       "      <td>00:23:14</td>\n",
       "      <td>208261</td>\n",
       "      <td>106.21</td>\n",
       "      <td>18.23</td>\n",
       "      <td>27244.46</td>\n",
       "      <td>3095068353</td>\n",
       "      <td>11606145</td>\n",
       "      <td>2022-08</td>\n",
       "      <td>17.616769</td>\n",
       "      <td>0.033918</td>\n",
       "      <td>15.115399</td>\n",
       "      <td>12.246547</td>\n",
       "      <td>4.665418</td>\n",
       "      <td>8</td>\n",
       "    </tr>\n",
       "    <tr>\n",
       "      <th>1</th>\n",
       "      <td>2022-08-14</td>\n",
       "      <td>3752859</td>\n",
       "      <td>00:23:40</td>\n",
       "      <td>214463</td>\n",
       "      <td>112.34</td>\n",
       "      <td>19.64</td>\n",
       "      <td>27368.90</td>\n",
       "      <td>3098737239</td>\n",
       "      <td>11655953</td>\n",
       "      <td>2022-08</td>\n",
       "      <td>17.498865</td>\n",
       "      <td>0.035168</td>\n",
       "      <td>15.138029</td>\n",
       "      <td>12.275893</td>\n",
       "      <td>4.721530</td>\n",
       "      <td>8</td>\n",
       "    </tr>\n",
       "    <tr>\n",
       "      <th>2</th>\n",
       "      <td>2022-08-21</td>\n",
       "      <td>3296456</td>\n",
       "      <td>00:23:14</td>\n",
       "      <td>219238</td>\n",
       "      <td>96.87</td>\n",
       "      <td>15.99</td>\n",
       "      <td>27613.74</td>\n",
       "      <td>3105786554</td>\n",
       "      <td>11763607</td>\n",
       "      <td>2022-08</td>\n",
       "      <td>15.035970</td>\n",
       "      <td>0.034237</td>\n",
       "      <td>15.008359</td>\n",
       "      <td>12.297913</td>\n",
       "      <td>4.573370</td>\n",
       "      <td>8</td>\n",
       "    </tr>\n",
       "    <tr>\n",
       "      <th>3</th>\n",
       "      <td>2022-08-28</td>\n",
       "      <td>4047052</td>\n",
       "      <td>00:23:12</td>\n",
       "      <td>226977</td>\n",
       "      <td>116.79</td>\n",
       "      <td>19.69</td>\n",
       "      <td>27750.22</td>\n",
       "      <td>3109833606</td>\n",
       "      <td>11819266</td>\n",
       "      <td>2022-08</td>\n",
       "      <td>17.830229</td>\n",
       "      <td>0.033723</td>\n",
       "      <td>15.213499</td>\n",
       "      <td>12.332604</td>\n",
       "      <td>4.760377</td>\n",
       "      <td>8</td>\n",
       "    </tr>\n",
       "    <tr>\n",
       "      <th>4</th>\n",
       "      <td>2022-09-04</td>\n",
       "      <td>4055208</td>\n",
       "      <td>00:23:15</td>\n",
       "      <td>231135</td>\n",
       "      <td>119.57</td>\n",
       "      <td>20.07</td>\n",
       "      <td>27889.86</td>\n",
       "      <td>3113888814</td>\n",
       "      <td>11873405</td>\n",
       "      <td>2022-09</td>\n",
       "      <td>17.544760</td>\n",
       "      <td>0.034435</td>\n",
       "      <td>15.215513</td>\n",
       "      <td>12.350757</td>\n",
       "      <td>4.783902</td>\n",
       "      <td>9</td>\n",
       "    </tr>\n",
       "  </tbody>\n",
       "</table>\n",
       "</div>"
      ],
      "text/plain": [
       "  report_ending_weekly_starting  number_of_sessions average_session_length  \\\n",
       "0                    2022-08-07             3668886               00:23:14   \n",
       "1                    2022-08-14             3752859               00:23:40   \n",
       "2                    2022-08-21             3296456               00:23:14   \n",
       "3                    2022-08-28             4047052               00:23:12   \n",
       "4                    2022-09-04             4055208               00:23:15   \n",
       "\n",
       "   number_of_unique_clients  tb_downloaded  tb_uploaded  cumulative_bandwidth  \\\n",
       "0                    208261         106.21        18.23              27244.46   \n",
       "1                    214463         112.34        19.64              27368.90   \n",
       "2                    219238          96.87        15.99              27613.74   \n",
       "3                    226977         116.79        19.69              27750.22   \n",
       "4                    231135         119.57        20.07              27889.86   \n",
       "\n",
       "   cumulative_sessions  cumulative_subscribers   cohort  sessions_per_user  \\\n",
       "0           3095068353                11606145  2022-08          17.616769   \n",
       "1           3098737239                11655953  2022-08          17.498865   \n",
       "2           3105786554                11763607  2022-08          15.035970   \n",
       "3           3109833606                11819266  2022-08          17.830229   \n",
       "4           3113888814                11873405  2022-09          17.544760   \n",
       "\n",
       "   GB_per_session  log_number_of_sessions  log_number_of_unique_clients  \\\n",
       "0        0.033918               15.115399                     12.246547   \n",
       "1        0.035168               15.138029                     12.275893   \n",
       "2        0.034237               15.008359                     12.297913   \n",
       "3        0.033723               15.213499                     12.332604   \n",
       "4        0.034435               15.215513                     12.350757   \n",
       "\n",
       "   log_tb_downloaded  month  \n",
       "0           4.665418      8  \n",
       "1           4.721530      8  \n",
       "2           4.573370      8  \n",
       "3           4.760377      8  \n",
       "4           4.783902      9  "
      ]
     },
     "execution_count": 4,
     "metadata": {},
     "output_type": "execute_result"
    }
   ],
   "source": [
    "df.head()"
   ]
  },
  {
   "cell_type": "code",
   "execution_count": 72,
   "id": "66efdd17",
   "metadata": {},
   "outputs": [
    {
     "name": "stdout",
     "output_type": "stream",
     "text": [
      "Users 75th percentile: 297622.0\n",
      "Sessions 75th percentile: 4978319.0\n",
      "GB_per_session 75th percentile: 0.035\n"
     ]
    }
   ],
   "source": [
    "# recompute fresh 75th percentile thresholds from current data\n",
    "users_p75    = df[\"number_of_unique_clients\"].quantile(0.75)\n",
    "sessions_p75 = df[\"number_of_sessions\"].quantile(0.75)\n",
    "gbps_p    = .035\n",
    "\n",
    "print(\"Users 75th percentile:\", round(users_p75, 0))\n",
    "print(\"Sessions 75th percentile:\", round(sessions_p75, 0))\n",
    "print(\"GB_per_session 75th percentile:\", round(gbps_p75, 5))\n"
   ]
  },
  {
   "cell_type": "markdown",
   "id": "cf1d890c",
   "metadata": {},
   "source": [
    "# Funnel"
   ]
  },
  {
   "cell_type": "code",
   "execution_count": 24,
   "id": "e6a45052",
   "metadata": {},
   "outputs": [
    {
     "data": {
      "text/html": [
       "<div>\n",
       "<style scoped>\n",
       "    .dataframe tbody tr th:only-of-type {\n",
       "        vertical-align: middle;\n",
       "    }\n",
       "\n",
       "    .dataframe tbody tr th {\n",
       "        vertical-align: top;\n",
       "    }\n",
       "\n",
       "    .dataframe thead th {\n",
       "        text-align: right;\n",
       "    }\n",
       "</style>\n",
       "<table border=\"1\" class=\"dataframe\">\n",
       "  <thead>\n",
       "    <tr style=\"text-align: right;\">\n",
       "      <th></th>\n",
       "      <th>Stage</th>\n",
       "      <th>Count</th>\n",
       "      <th>Step → Step Conversion</th>\n",
       "      <th>Overall Conversion (from Stage 1)</th>\n",
       "    </tr>\n",
       "  </thead>\n",
       "  <tbody>\n",
       "    <tr>\n",
       "      <th>0</th>\n",
       "      <td>Stage 1: All Weeks</td>\n",
       "      <td>165</td>\n",
       "      <td>1.000</td>\n",
       "      <td>1.000</td>\n",
       "    </tr>\n",
       "    <tr>\n",
       "      <th>1</th>\n",
       "      <td>Stage 2: Active Weeks</td>\n",
       "      <td>165</td>\n",
       "      <td>1.000</td>\n",
       "      <td>1.000</td>\n",
       "    </tr>\n",
       "    <tr>\n",
       "      <th>2</th>\n",
       "      <td>Stage 3: High-Reach Weeks</td>\n",
       "      <td>83</td>\n",
       "      <td>0.503</td>\n",
       "      <td>0.503</td>\n",
       "    </tr>\n",
       "    <tr>\n",
       "      <th>3</th>\n",
       "      <td>Stage 4: Engaged Weeks</td>\n",
       "      <td>65</td>\n",
       "      <td>0.783</td>\n",
       "      <td>0.394</td>\n",
       "    </tr>\n",
       "    <tr>\n",
       "      <th>4</th>\n",
       "      <td>Stage 5: Retained Weeks</td>\n",
       "      <td>52</td>\n",
       "      <td>0.800</td>\n",
       "      <td>0.315</td>\n",
       "    </tr>\n",
       "  </tbody>\n",
       "</table>\n",
       "</div>"
      ],
      "text/plain": [
       "                       Stage  Count  Step → Step Conversion  \\\n",
       "0         Stage 1: All Weeks    165                   1.000   \n",
       "1      Stage 2: Active Weeks    165                   1.000   \n",
       "2  Stage 3: High-Reach Weeks     83                   0.503   \n",
       "3     Stage 4: Engaged Weeks     65                   0.783   \n",
       "4    Stage 5: Retained Weeks     52                   0.800   \n",
       "\n",
       "   Overall Conversion (from Stage 1)  \n",
       "0                              1.000  \n",
       "1                              1.000  \n",
       "2                              0.503  \n",
       "3                              0.394  \n",
       "4                              0.315  "
      ]
     },
     "execution_count": 24,
     "metadata": {},
     "output_type": "execute_result"
    }
   ],
   "source": [
    "# thresholds\n",
    "users_50 = df[\"number_of_unique_clients\"].quantile(0.50)\n",
    "gbps_p   = 0.035\n",
    "\n",
    "# stage flags\n",
    "df[\"stage1_all\"]      = True\n",
    "df[\"stage2_active\"]   = df[\"number_of_sessions\"] > 0\n",
    "df[\"stage3_highreach\"]= df[\"number_of_unique_clients\"] >= users_50\n",
    "df[\"stage4_engaged\"]  = df[\"GB_per_session\"] >= gbps_p\n",
    "df[\"stage5_retained\"] = (\n",
    "    df[\"stage4_engaged\"].astype(int).rolling(window=2, min_periods=2).sum().shift(-1) >= 2\n",
    ")\n",
    "\n",
    "# counts\n",
    "funnel_counts = [\n",
    "    (\"Stage 1: All Weeks\", df[\"stage1_all\"].sum()),\n",
    "    (\"Stage 2: Active Weeks\", df[\"stage2_active\"].sum()),\n",
    "    (\"Stage 3: High-Reach Weeks\", df[\"stage3_highreach\"].sum()),\n",
    "    (\"Stage 4: Engaged Weeks\", df[\"stage4_engaged\"].sum()),\n",
    "    (\"Stage 5: Retained Weeks\", df[\"stage5_retained\"].sum())\n",
    "]\n",
    "\n",
    "funnel_df = pd.DataFrame(funnel_counts, columns=[\"Stage\",\"Count\"])\n",
    "\n",
    "# step-to-step + overall conversion\n",
    "funnel_df[\"Step → Step Conversion\"] = (funnel_df[\"Count\"] / funnel_df[\"Count\"].shift(1)).round(3)\n",
    "funnel_df.loc[0,\"Step → Step Conversion\"] = 1.0\n",
    "funnel_df[\"Overall Conversion (from Stage 1)\"] = (\n",
    "    funnel_df[\"Count\"] / funnel_df.loc[0,\"Count\"]\n",
    ").round(3)\n",
    "\n",
    "funnel_df\n"
   ]
  },
  {
   "cell_type": "code",
   "execution_count": 25,
   "id": "0e403ce8",
   "metadata": {},
   "outputs": [
    {
     "data": {
      "application/vnd.plotly.v1+json": {
       "config": {
        "plotlyServerURL": "https://plot.ly"
       },
       "data": [
        {
         "marker": {
          "color": [
           "#6DCFF6",
           "#4A90E2",
           "#355070",
           "#6D597A",
           "#B56576"
          ],
          "line": {
           "color": "white",
           "width": 1
          }
         },
         "textinfo": "value+percent previous+percent initial",
         "type": "funnel",
         "x": {
          "bdata": "pQClAFMAQQA0AA==",
          "dtype": "i2"
         },
         "y": [
          "Stage 1: All Weeks",
          "Stage 2: Active Weeks",
          "Stage 3: High-Reach Weeks",
          "Stage 4: Engaged Weeks",
          "Stage 5: Retained Weeks"
         ]
        }
       ],
       "layout": {
        "height": 520,
        "paper_bgcolor": "white",
        "plot_bgcolor": "white",
        "template": {
         "data": {
          "bar": [
           {
            "error_x": {
             "color": "#2a3f5f"
            },
            "error_y": {
             "color": "#2a3f5f"
            },
            "marker": {
             "line": {
              "color": "#E5ECF6",
              "width": 0.5
             },
             "pattern": {
              "fillmode": "overlay",
              "size": 10,
              "solidity": 0.2
             }
            },
            "type": "bar"
           }
          ],
          "barpolar": [
           {
            "marker": {
             "line": {
              "color": "#E5ECF6",
              "width": 0.5
             },
             "pattern": {
              "fillmode": "overlay",
              "size": 10,
              "solidity": 0.2
             }
            },
            "type": "barpolar"
           }
          ],
          "carpet": [
           {
            "aaxis": {
             "endlinecolor": "#2a3f5f",
             "gridcolor": "white",
             "linecolor": "white",
             "minorgridcolor": "white",
             "startlinecolor": "#2a3f5f"
            },
            "baxis": {
             "endlinecolor": "#2a3f5f",
             "gridcolor": "white",
             "linecolor": "white",
             "minorgridcolor": "white",
             "startlinecolor": "#2a3f5f"
            },
            "type": "carpet"
           }
          ],
          "choropleth": [
           {
            "colorbar": {
             "outlinewidth": 0,
             "ticks": ""
            },
            "type": "choropleth"
           }
          ],
          "contour": [
           {
            "colorbar": {
             "outlinewidth": 0,
             "ticks": ""
            },
            "colorscale": [
             [
              0,
              "#0d0887"
             ],
             [
              0.1111111111111111,
              "#46039f"
             ],
             [
              0.2222222222222222,
              "#7201a8"
             ],
             [
              0.3333333333333333,
              "#9c179e"
             ],
             [
              0.4444444444444444,
              "#bd3786"
             ],
             [
              0.5555555555555556,
              "#d8576b"
             ],
             [
              0.6666666666666666,
              "#ed7953"
             ],
             [
              0.7777777777777778,
              "#fb9f3a"
             ],
             [
              0.8888888888888888,
              "#fdca26"
             ],
             [
              1,
              "#f0f921"
             ]
            ],
            "type": "contour"
           }
          ],
          "contourcarpet": [
           {
            "colorbar": {
             "outlinewidth": 0,
             "ticks": ""
            },
            "type": "contourcarpet"
           }
          ],
          "heatmap": [
           {
            "colorbar": {
             "outlinewidth": 0,
             "ticks": ""
            },
            "colorscale": [
             [
              0,
              "#0d0887"
             ],
             [
              0.1111111111111111,
              "#46039f"
             ],
             [
              0.2222222222222222,
              "#7201a8"
             ],
             [
              0.3333333333333333,
              "#9c179e"
             ],
             [
              0.4444444444444444,
              "#bd3786"
             ],
             [
              0.5555555555555556,
              "#d8576b"
             ],
             [
              0.6666666666666666,
              "#ed7953"
             ],
             [
              0.7777777777777778,
              "#fb9f3a"
             ],
             [
              0.8888888888888888,
              "#fdca26"
             ],
             [
              1,
              "#f0f921"
             ]
            ],
            "type": "heatmap"
           }
          ],
          "histogram": [
           {
            "marker": {
             "pattern": {
              "fillmode": "overlay",
              "size": 10,
              "solidity": 0.2
             }
            },
            "type": "histogram"
           }
          ],
          "histogram2d": [
           {
            "colorbar": {
             "outlinewidth": 0,
             "ticks": ""
            },
            "colorscale": [
             [
              0,
              "#0d0887"
             ],
             [
              0.1111111111111111,
              "#46039f"
             ],
             [
              0.2222222222222222,
              "#7201a8"
             ],
             [
              0.3333333333333333,
              "#9c179e"
             ],
             [
              0.4444444444444444,
              "#bd3786"
             ],
             [
              0.5555555555555556,
              "#d8576b"
             ],
             [
              0.6666666666666666,
              "#ed7953"
             ],
             [
              0.7777777777777778,
              "#fb9f3a"
             ],
             [
              0.8888888888888888,
              "#fdca26"
             ],
             [
              1,
              "#f0f921"
             ]
            ],
            "type": "histogram2d"
           }
          ],
          "histogram2dcontour": [
           {
            "colorbar": {
             "outlinewidth": 0,
             "ticks": ""
            },
            "colorscale": [
             [
              0,
              "#0d0887"
             ],
             [
              0.1111111111111111,
              "#46039f"
             ],
             [
              0.2222222222222222,
              "#7201a8"
             ],
             [
              0.3333333333333333,
              "#9c179e"
             ],
             [
              0.4444444444444444,
              "#bd3786"
             ],
             [
              0.5555555555555556,
              "#d8576b"
             ],
             [
              0.6666666666666666,
              "#ed7953"
             ],
             [
              0.7777777777777778,
              "#fb9f3a"
             ],
             [
              0.8888888888888888,
              "#fdca26"
             ],
             [
              1,
              "#f0f921"
             ]
            ],
            "type": "histogram2dcontour"
           }
          ],
          "mesh3d": [
           {
            "colorbar": {
             "outlinewidth": 0,
             "ticks": ""
            },
            "type": "mesh3d"
           }
          ],
          "parcoords": [
           {
            "line": {
             "colorbar": {
              "outlinewidth": 0,
              "ticks": ""
             }
            },
            "type": "parcoords"
           }
          ],
          "pie": [
           {
            "automargin": true,
            "type": "pie"
           }
          ],
          "scatter": [
           {
            "fillpattern": {
             "fillmode": "overlay",
             "size": 10,
             "solidity": 0.2
            },
            "type": "scatter"
           }
          ],
          "scatter3d": [
           {
            "line": {
             "colorbar": {
              "outlinewidth": 0,
              "ticks": ""
             }
            },
            "marker": {
             "colorbar": {
              "outlinewidth": 0,
              "ticks": ""
             }
            },
            "type": "scatter3d"
           }
          ],
          "scattercarpet": [
           {
            "marker": {
             "colorbar": {
              "outlinewidth": 0,
              "ticks": ""
             }
            },
            "type": "scattercarpet"
           }
          ],
          "scattergeo": [
           {
            "marker": {
             "colorbar": {
              "outlinewidth": 0,
              "ticks": ""
             }
            },
            "type": "scattergeo"
           }
          ],
          "scattergl": [
           {
            "marker": {
             "colorbar": {
              "outlinewidth": 0,
              "ticks": ""
             }
            },
            "type": "scattergl"
           }
          ],
          "scattermap": [
           {
            "marker": {
             "colorbar": {
              "outlinewidth": 0,
              "ticks": ""
             }
            },
            "type": "scattermap"
           }
          ],
          "scattermapbox": [
           {
            "marker": {
             "colorbar": {
              "outlinewidth": 0,
              "ticks": ""
             }
            },
            "type": "scattermapbox"
           }
          ],
          "scatterpolar": [
           {
            "marker": {
             "colorbar": {
              "outlinewidth": 0,
              "ticks": ""
             }
            },
            "type": "scatterpolar"
           }
          ],
          "scatterpolargl": [
           {
            "marker": {
             "colorbar": {
              "outlinewidth": 0,
              "ticks": ""
             }
            },
            "type": "scatterpolargl"
           }
          ],
          "scatterternary": [
           {
            "marker": {
             "colorbar": {
              "outlinewidth": 0,
              "ticks": ""
             }
            },
            "type": "scatterternary"
           }
          ],
          "surface": [
           {
            "colorbar": {
             "outlinewidth": 0,
             "ticks": ""
            },
            "colorscale": [
             [
              0,
              "#0d0887"
             ],
             [
              0.1111111111111111,
              "#46039f"
             ],
             [
              0.2222222222222222,
              "#7201a8"
             ],
             [
              0.3333333333333333,
              "#9c179e"
             ],
             [
              0.4444444444444444,
              "#bd3786"
             ],
             [
              0.5555555555555556,
              "#d8576b"
             ],
             [
              0.6666666666666666,
              "#ed7953"
             ],
             [
              0.7777777777777778,
              "#fb9f3a"
             ],
             [
              0.8888888888888888,
              "#fdca26"
             ],
             [
              1,
              "#f0f921"
             ]
            ],
            "type": "surface"
           }
          ],
          "table": [
           {
            "cells": {
             "fill": {
              "color": "#EBF0F8"
             },
             "line": {
              "color": "white"
             }
            },
            "header": {
             "fill": {
              "color": "#C8D4E3"
             },
             "line": {
              "color": "white"
             }
            },
            "type": "table"
           }
          ]
         },
         "layout": {
          "annotationdefaults": {
           "arrowcolor": "#2a3f5f",
           "arrowhead": 0,
           "arrowwidth": 1
          },
          "autotypenumbers": "strict",
          "coloraxis": {
           "colorbar": {
            "outlinewidth": 0,
            "ticks": ""
           }
          },
          "colorscale": {
           "diverging": [
            [
             0,
             "#8e0152"
            ],
            [
             0.1,
             "#c51b7d"
            ],
            [
             0.2,
             "#de77ae"
            ],
            [
             0.3,
             "#f1b6da"
            ],
            [
             0.4,
             "#fde0ef"
            ],
            [
             0.5,
             "#f7f7f7"
            ],
            [
             0.6,
             "#e6f5d0"
            ],
            [
             0.7,
             "#b8e186"
            ],
            [
             0.8,
             "#7fbc41"
            ],
            [
             0.9,
             "#4d9221"
            ],
            [
             1,
             "#276419"
            ]
           ],
           "sequential": [
            [
             0,
             "#0d0887"
            ],
            [
             0.1111111111111111,
             "#46039f"
            ],
            [
             0.2222222222222222,
             "#7201a8"
            ],
            [
             0.3333333333333333,
             "#9c179e"
            ],
            [
             0.4444444444444444,
             "#bd3786"
            ],
            [
             0.5555555555555556,
             "#d8576b"
            ],
            [
             0.6666666666666666,
             "#ed7953"
            ],
            [
             0.7777777777777778,
             "#fb9f3a"
            ],
            [
             0.8888888888888888,
             "#fdca26"
            ],
            [
             1,
             "#f0f921"
            ]
           ],
           "sequentialminus": [
            [
             0,
             "#0d0887"
            ],
            [
             0.1111111111111111,
             "#46039f"
            ],
            [
             0.2222222222222222,
             "#7201a8"
            ],
            [
             0.3333333333333333,
             "#9c179e"
            ],
            [
             0.4444444444444444,
             "#bd3786"
            ],
            [
             0.5555555555555556,
             "#d8576b"
            ],
            [
             0.6666666666666666,
             "#ed7953"
            ],
            [
             0.7777777777777778,
             "#fb9f3a"
            ],
            [
             0.8888888888888888,
             "#fdca26"
            ],
            [
             1,
             "#f0f921"
            ]
           ]
          },
          "colorway": [
           "#636efa",
           "#EF553B",
           "#00cc96",
           "#ab63fa",
           "#FFA15A",
           "#19d3f3",
           "#FF6692",
           "#B6E880",
           "#FF97FF",
           "#FECB52"
          ],
          "font": {
           "color": "#2a3f5f"
          },
          "geo": {
           "bgcolor": "white",
           "lakecolor": "white",
           "landcolor": "#E5ECF6",
           "showlakes": true,
           "showland": true,
           "subunitcolor": "white"
          },
          "hoverlabel": {
           "align": "left"
          },
          "hovermode": "closest",
          "mapbox": {
           "style": "light"
          },
          "paper_bgcolor": "white",
          "plot_bgcolor": "#E5ECF6",
          "polar": {
           "angularaxis": {
            "gridcolor": "white",
            "linecolor": "white",
            "ticks": ""
           },
           "bgcolor": "#E5ECF6",
           "radialaxis": {
            "gridcolor": "white",
            "linecolor": "white",
            "ticks": ""
           }
          },
          "scene": {
           "xaxis": {
            "backgroundcolor": "#E5ECF6",
            "gridcolor": "white",
            "gridwidth": 2,
            "linecolor": "white",
            "showbackground": true,
            "ticks": "",
            "zerolinecolor": "white"
           },
           "yaxis": {
            "backgroundcolor": "#E5ECF6",
            "gridcolor": "white",
            "gridwidth": 2,
            "linecolor": "white",
            "showbackground": true,
            "ticks": "",
            "zerolinecolor": "white"
           },
           "zaxis": {
            "backgroundcolor": "#E5ECF6",
            "gridcolor": "white",
            "gridwidth": 2,
            "linecolor": "white",
            "showbackground": true,
            "ticks": "",
            "zerolinecolor": "white"
           }
          },
          "shapedefaults": {
           "line": {
            "color": "#2a3f5f"
           }
          },
          "ternary": {
           "aaxis": {
            "gridcolor": "white",
            "linecolor": "white",
            "ticks": ""
           },
           "baxis": {
            "gridcolor": "white",
            "linecolor": "white",
            "ticks": ""
           },
           "bgcolor": "#E5ECF6",
           "caxis": {
            "gridcolor": "white",
            "linecolor": "white",
            "ticks": ""
           }
          },
          "title": {
           "x": 0.05
          },
          "xaxis": {
           "automargin": true,
           "gridcolor": "white",
           "linecolor": "white",
           "ticks": "",
           "title": {
            "standoff": 15
           },
           "zerolinecolor": "white",
           "zerolinewidth": 2
          },
          "yaxis": {
           "automargin": true,
           "gridcolor": "white",
           "linecolor": "white",
           "ticks": "",
           "title": {
            "standoff": 15
           },
           "zerolinecolor": "white",
           "zerolinewidth": 2
          }
         }
        },
        "title": {
         "text": "📊 LinkNYC True Engagement Funnel: Activity → Retention"
        }
       }
      }
     },
     "metadata": {},
     "output_type": "display_data"
    }
   ],
   "source": [
    "import plotly.graph_objects as go\n",
    "\n",
    "fig = go.Figure(go.Funnel(\n",
    "    y=funnel_df[\"Stage\"],\n",
    "    x=funnel_df[\"Count\"],\n",
    "    textinfo=\"value+percent previous+percent initial\",\n",
    "    marker=dict(\n",
    "        color=[\"#6DCFF6\",\"#4A90E2\",\"#355070\",\"#6D597A\",\"#B56576\"],\n",
    "        line=dict(width=1,color=\"white\")\n",
    "    )\n",
    "))\n",
    "fig.update_layout(\n",
    "    title=\"📊 LinkNYC True Engagement Funnel: Activity → Retention\",\n",
    "    plot_bgcolor=\"white\",\n",
    "    paper_bgcolor=\"white\",\n",
    "    height=520\n",
    ")\n",
    "fig.show()\n"
   ]
  },
  {
   "cell_type": "markdown",
   "id": "18cd4b6b",
   "metadata": {},
   "source": [
    "# Feature Engineering"
   ]
  },
  {
   "cell_type": "code",
   "execution_count": null,
   "id": "7b66d026",
   "metadata": {},
   "outputs": [],
   "source": [
    "# best weeks to invest in ads"
   ]
  }
 ],
 "metadata": {
  "kernelspec": {
   "display_name": "base",
   "language": "python",
   "name": "python3"
  },
  "language_info": {
   "codemirror_mode": {
    "name": "ipython",
    "version": 3
   },
   "file_extension": ".py",
   "mimetype": "text/x-python",
   "name": "python",
   "nbconvert_exporter": "python",
   "pygments_lexer": "ipython3",
   "version": "3.12.9"
  }
 },
 "nbformat": 4,
 "nbformat_minor": 5
}
