{
 "cells": [
  {
   "cell_type": "code",
   "execution_count": 40,
   "id": "ef485ab1",
   "metadata": {},
   "outputs": [],
   "source": [
    "import pandas as pd \n",
    "import numpy as np \n",
    "import matplotlib.pyplot as plt    \n",
    "import plotly.express as px\n",
    "from datetime import datetime, timedelta\n",
    "import plotly.graph_objects as go\n",
    "\n"
   ]
  },
  {
   "cell_type": "code",
   "execution_count": 41,
   "id": "c483d376",
   "metadata": {},
   "outputs": [],
   "source": [
    "weekly_path = '/Users/Marcy_Student/Desktop/Exercises/Python/MOD5PROJECT/data/LinkNYC_Weekly_Usage_cleaned_20251008.csv'"
   ]
  },
  {
   "cell_type": "code",
   "execution_count": 42,
   "id": "01dae2f0",
   "metadata": {},
   "outputs": [],
   "source": [
    "df = pd.read_csv(weekly_path)"
   ]
  },
  {
   "cell_type": "code",
   "execution_count": 43,
   "id": "83262d50",
   "metadata": {},
   "outputs": [
    {
     "data": {
      "text/html": [
       "<div>\n",
       "<style scoped>\n",
       "    .dataframe tbody tr th:only-of-type {\n",
       "        vertical-align: middle;\n",
       "    }\n",
       "\n",
       "    .dataframe tbody tr th {\n",
       "        vertical-align: top;\n",
       "    }\n",
       "\n",
       "    .dataframe thead th {\n",
       "        text-align: right;\n",
       "    }\n",
       "</style>\n",
       "<table border=\"1\" class=\"dataframe\">\n",
       "  <thead>\n",
       "    <tr style=\"text-align: right;\">\n",
       "      <th></th>\n",
       "      <th>Unnamed: 0</th>\n",
       "      <th>report_ending_weekly_starting</th>\n",
       "      <th>number_of_sessions</th>\n",
       "      <th>average_session_length</th>\n",
       "      <th>number_of_unique_clients</th>\n",
       "      <th>tb_downloaded</th>\n",
       "      <th>tb_uploaded</th>\n",
       "      <th>cumulative_bandwidth</th>\n",
       "      <th>cumulative_sessions</th>\n",
       "      <th>cumulative_subscribers</th>\n",
       "      <th>sessions_per_user</th>\n",
       "      <th>GB_per_session</th>\n",
       "      <th>log_number_of_sessions</th>\n",
       "      <th>log_number_of_unique_clients</th>\n",
       "      <th>log_tb_downloaded</th>\n",
       "      <th>month</th>\n",
       "    </tr>\n",
       "  </thead>\n",
       "  <tbody>\n",
       "    <tr>\n",
       "      <th>0</th>\n",
       "      <td>0</td>\n",
       "      <td>2020-01-05</td>\n",
       "      <td>23086410</td>\n",
       "      <td>00:04:07</td>\n",
       "      <td>683250</td>\n",
       "      <td>121.01</td>\n",
       "      <td>12.67</td>\n",
       "      <td>14353.83</td>\n",
       "      <td>2251215052</td>\n",
       "      <td>8461839</td>\n",
       "      <td>33.789111</td>\n",
       "      <td>0.005790</td>\n",
       "      <td>16.954755</td>\n",
       "      <td>13.434616</td>\n",
       "      <td>4.795873</td>\n",
       "      <td>1</td>\n",
       "    </tr>\n",
       "    <tr>\n",
       "      <th>1</th>\n",
       "      <td>1</td>\n",
       "      <td>2020-01-12</td>\n",
       "      <td>23584159</td>\n",
       "      <td>00:04:07</td>\n",
       "      <td>640118</td>\n",
       "      <td>116.52</td>\n",
       "      <td>11.14</td>\n",
       "      <td>14501.59</td>\n",
       "      <td>2284581863</td>\n",
       "      <td>8502485</td>\n",
       "      <td>36.843455</td>\n",
       "      <td>0.005413</td>\n",
       "      <td>16.976086</td>\n",
       "      <td>13.369408</td>\n",
       "      <td>4.758063</td>\n",
       "      <td>1</td>\n",
       "    </tr>\n",
       "    <tr>\n",
       "      <th>2</th>\n",
       "      <td>2</td>\n",
       "      <td>2020-01-19</td>\n",
       "      <td>22004022</td>\n",
       "      <td>00:04:07</td>\n",
       "      <td>592715</td>\n",
       "      <td>114.50</td>\n",
       "      <td>10.52</td>\n",
       "      <td>14626.62</td>\n",
       "      <td>2306585885</td>\n",
       "      <td>8536567</td>\n",
       "      <td>37.124119</td>\n",
       "      <td>0.005682</td>\n",
       "      <td>16.906736</td>\n",
       "      <td>13.292469</td>\n",
       "      <td>4.740575</td>\n",
       "      <td>1</td>\n",
       "    </tr>\n",
       "    <tr>\n",
       "      <th>3</th>\n",
       "      <td>3</td>\n",
       "      <td>2020-01-26</td>\n",
       "      <td>20245042</td>\n",
       "      <td>00:04:15</td>\n",
       "      <td>602685</td>\n",
       "      <td>118.05</td>\n",
       "      <td>10.13</td>\n",
       "      <td>14754.79</td>\n",
       "      <td>2326830927</td>\n",
       "      <td>8571523</td>\n",
       "      <td>33.591415</td>\n",
       "      <td>0.006331</td>\n",
       "      <td>16.823420</td>\n",
       "      <td>13.309150</td>\n",
       "      <td>4.771108</td>\n",
       "      <td>1</td>\n",
       "    </tr>\n",
       "    <tr>\n",
       "      <th>4</th>\n",
       "      <td>4</td>\n",
       "      <td>2020-02-02</td>\n",
       "      <td>22356460</td>\n",
       "      <td>00:04:11</td>\n",
       "      <td>617337</td>\n",
       "      <td>120.69</td>\n",
       "      <td>10.94</td>\n",
       "      <td>14886.42</td>\n",
       "      <td>2349187387</td>\n",
       "      <td>8615640</td>\n",
       "      <td>36.214353</td>\n",
       "      <td>0.005888</td>\n",
       "      <td>16.922626</td>\n",
       "      <td>13.333170</td>\n",
       "      <td>4.793225</td>\n",
       "      <td>2</td>\n",
       "    </tr>\n",
       "  </tbody>\n",
       "</table>\n",
       "</div>"
      ],
      "text/plain": [
       "   Unnamed: 0 report_ending_weekly_starting  number_of_sessions  \\\n",
       "0           0                    2020-01-05            23086410   \n",
       "1           1                    2020-01-12            23584159   \n",
       "2           2                    2020-01-19            22004022   \n",
       "3           3                    2020-01-26            20245042   \n",
       "4           4                    2020-02-02            22356460   \n",
       "\n",
       "  average_session_length  number_of_unique_clients  tb_downloaded  \\\n",
       "0               00:04:07                    683250         121.01   \n",
       "1               00:04:07                    640118         116.52   \n",
       "2               00:04:07                    592715         114.50   \n",
       "3               00:04:15                    602685         118.05   \n",
       "4               00:04:11                    617337         120.69   \n",
       "\n",
       "   tb_uploaded  cumulative_bandwidth  cumulative_sessions  \\\n",
       "0        12.67              14353.83           2251215052   \n",
       "1        11.14              14501.59           2284581863   \n",
       "2        10.52              14626.62           2306585885   \n",
       "3        10.13              14754.79           2326830927   \n",
       "4        10.94              14886.42           2349187387   \n",
       "\n",
       "   cumulative_subscribers  sessions_per_user  GB_per_session  \\\n",
       "0                 8461839          33.789111        0.005790   \n",
       "1                 8502485          36.843455        0.005413   \n",
       "2                 8536567          37.124119        0.005682   \n",
       "3                 8571523          33.591415        0.006331   \n",
       "4                 8615640          36.214353        0.005888   \n",
       "\n",
       "   log_number_of_sessions  log_number_of_unique_clients  log_tb_downloaded  \\\n",
       "0               16.954755                     13.434616           4.795873   \n",
       "1               16.976086                     13.369408           4.758063   \n",
       "2               16.906736                     13.292469           4.740575   \n",
       "3               16.823420                     13.309150           4.771108   \n",
       "4               16.922626                     13.333170           4.793225   \n",
       "\n",
       "   month  \n",
       "0      1  \n",
       "1      1  \n",
       "2      1  \n",
       "3      1  \n",
       "4      2  "
      ]
     },
     "execution_count": 43,
     "metadata": {},
     "output_type": "execute_result"
    }
   ],
   "source": [
    "df.head()"
   ]
  },
  {
   "cell_type": "code",
   "execution_count": 44,
   "id": "8ca36988",
   "metadata": {},
   "outputs": [],
   "source": [
    "df = df.drop('Unnamed: 0', axis=1)"
   ]
  },
  {
   "cell_type": "code",
   "execution_count": 45,
   "id": "94136c4d",
   "metadata": {},
   "outputs": [
    {
     "data": {
      "text/html": [
       "<div>\n",
       "<style scoped>\n",
       "    .dataframe tbody tr th:only-of-type {\n",
       "        vertical-align: middle;\n",
       "    }\n",
       "\n",
       "    .dataframe tbody tr th {\n",
       "        vertical-align: top;\n",
       "    }\n",
       "\n",
       "    .dataframe thead th {\n",
       "        text-align: right;\n",
       "    }\n",
       "</style>\n",
       "<table border=\"1\" class=\"dataframe\">\n",
       "  <thead>\n",
       "    <tr style=\"text-align: right;\">\n",
       "      <th></th>\n",
       "      <th>report_ending_weekly_starting</th>\n",
       "      <th>number_of_sessions</th>\n",
       "      <th>average_session_length</th>\n",
       "      <th>number_of_unique_clients</th>\n",
       "      <th>tb_downloaded</th>\n",
       "      <th>tb_uploaded</th>\n",
       "      <th>cumulative_bandwidth</th>\n",
       "      <th>cumulative_sessions</th>\n",
       "      <th>cumulative_subscribers</th>\n",
       "      <th>sessions_per_user</th>\n",
       "      <th>GB_per_session</th>\n",
       "      <th>log_number_of_sessions</th>\n",
       "      <th>log_number_of_unique_clients</th>\n",
       "      <th>log_tb_downloaded</th>\n",
       "      <th>month</th>\n",
       "    </tr>\n",
       "  </thead>\n",
       "  <tbody>\n",
       "    <tr>\n",
       "      <th>0</th>\n",
       "      <td>2020-01-05</td>\n",
       "      <td>23086410</td>\n",
       "      <td>00:04:07</td>\n",
       "      <td>683250</td>\n",
       "      <td>121.01</td>\n",
       "      <td>12.67</td>\n",
       "      <td>14353.83</td>\n",
       "      <td>2251215052</td>\n",
       "      <td>8461839</td>\n",
       "      <td>33.789111</td>\n",
       "      <td>0.005790</td>\n",
       "      <td>16.954755</td>\n",
       "      <td>13.434616</td>\n",
       "      <td>4.795873</td>\n",
       "      <td>1</td>\n",
       "    </tr>\n",
       "    <tr>\n",
       "      <th>1</th>\n",
       "      <td>2020-01-12</td>\n",
       "      <td>23584159</td>\n",
       "      <td>00:04:07</td>\n",
       "      <td>640118</td>\n",
       "      <td>116.52</td>\n",
       "      <td>11.14</td>\n",
       "      <td>14501.59</td>\n",
       "      <td>2284581863</td>\n",
       "      <td>8502485</td>\n",
       "      <td>36.843455</td>\n",
       "      <td>0.005413</td>\n",
       "      <td>16.976086</td>\n",
       "      <td>13.369408</td>\n",
       "      <td>4.758063</td>\n",
       "      <td>1</td>\n",
       "    </tr>\n",
       "    <tr>\n",
       "      <th>2</th>\n",
       "      <td>2020-01-19</td>\n",
       "      <td>22004022</td>\n",
       "      <td>00:04:07</td>\n",
       "      <td>592715</td>\n",
       "      <td>114.50</td>\n",
       "      <td>10.52</td>\n",
       "      <td>14626.62</td>\n",
       "      <td>2306585885</td>\n",
       "      <td>8536567</td>\n",
       "      <td>37.124119</td>\n",
       "      <td>0.005682</td>\n",
       "      <td>16.906736</td>\n",
       "      <td>13.292469</td>\n",
       "      <td>4.740575</td>\n",
       "      <td>1</td>\n",
       "    </tr>\n",
       "    <tr>\n",
       "      <th>3</th>\n",
       "      <td>2020-01-26</td>\n",
       "      <td>20245042</td>\n",
       "      <td>00:04:15</td>\n",
       "      <td>602685</td>\n",
       "      <td>118.05</td>\n",
       "      <td>10.13</td>\n",
       "      <td>14754.79</td>\n",
       "      <td>2326830927</td>\n",
       "      <td>8571523</td>\n",
       "      <td>33.591415</td>\n",
       "      <td>0.006331</td>\n",
       "      <td>16.823420</td>\n",
       "      <td>13.309150</td>\n",
       "      <td>4.771108</td>\n",
       "      <td>1</td>\n",
       "    </tr>\n",
       "    <tr>\n",
       "      <th>4</th>\n",
       "      <td>2020-02-02</td>\n",
       "      <td>22356460</td>\n",
       "      <td>00:04:11</td>\n",
       "      <td>617337</td>\n",
       "      <td>120.69</td>\n",
       "      <td>10.94</td>\n",
       "      <td>14886.42</td>\n",
       "      <td>2349187387</td>\n",
       "      <td>8615640</td>\n",
       "      <td>36.214353</td>\n",
       "      <td>0.005888</td>\n",
       "      <td>16.922626</td>\n",
       "      <td>13.333170</td>\n",
       "      <td>4.793225</td>\n",
       "      <td>2</td>\n",
       "    </tr>\n",
       "  </tbody>\n",
       "</table>\n",
       "</div>"
      ],
      "text/plain": [
       "  report_ending_weekly_starting  number_of_sessions average_session_length  \\\n",
       "0                    2020-01-05            23086410               00:04:07   \n",
       "1                    2020-01-12            23584159               00:04:07   \n",
       "2                    2020-01-19            22004022               00:04:07   \n",
       "3                    2020-01-26            20245042               00:04:15   \n",
       "4                    2020-02-02            22356460               00:04:11   \n",
       "\n",
       "   number_of_unique_clients  tb_downloaded  tb_uploaded  cumulative_bandwidth  \\\n",
       "0                    683250         121.01        12.67              14353.83   \n",
       "1                    640118         116.52        11.14              14501.59   \n",
       "2                    592715         114.50        10.52              14626.62   \n",
       "3                    602685         118.05        10.13              14754.79   \n",
       "4                    617337         120.69        10.94              14886.42   \n",
       "\n",
       "   cumulative_sessions  cumulative_subscribers  sessions_per_user  \\\n",
       "0           2251215052                 8461839          33.789111   \n",
       "1           2284581863                 8502485          36.843455   \n",
       "2           2306585885                 8536567          37.124119   \n",
       "3           2326830927                 8571523          33.591415   \n",
       "4           2349187387                 8615640          36.214353   \n",
       "\n",
       "   GB_per_session  log_number_of_sessions  log_number_of_unique_clients  \\\n",
       "0        0.005790               16.954755                     13.434616   \n",
       "1        0.005413               16.976086                     13.369408   \n",
       "2        0.005682               16.906736                     13.292469   \n",
       "3        0.006331               16.823420                     13.309150   \n",
       "4        0.005888               16.922626                     13.333170   \n",
       "\n",
       "   log_tb_downloaded  month  \n",
       "0           4.795873      1  \n",
       "1           4.758063      1  \n",
       "2           4.740575      1  \n",
       "3           4.771108      1  \n",
       "4           4.793225      2  "
      ]
     },
     "execution_count": 45,
     "metadata": {},
     "output_type": "execute_result"
    }
   ],
   "source": [
    "# Identify the date column 'report_ending_weekly_starting'\n",
    "# change the date colum to datetime format\n",
    "# Use conservative parsing with errors='coerce' so bad rows become NaT\n",
    "date_col = None\n",
    "for c in df.columns:\n",
    "    if 'week' in c.lower() or 'date' in c.lower():\n",
    "        date_col = c\n",
    "        break\n",
    "\n",
    "df[date_col] = pd.to_datetime(df[date_col], errors='coerce')\n",
    "df = df.sort_values(date_col).reset_index(drop=True)\n",
    "df.head()"
   ]
  },
  {
   "cell_type": "markdown",
   "id": "1334c699",
   "metadata": {},
   "source": [
    "### Let's define thresholds & derived columns\n"
   ]
  },
  {
   "cell_type": "code",
   "execution_count": 46,
   "id": "ca25876e",
   "metadata": {},
   "outputs": [],
   "source": [
    "ENGAGED_GB_PER_SESSION = 0.035  # GB per session threshold for \"engaged\" / high-attention\n",
    "# Activation thresholds: let's use 75th percentile of unique clients and sessions (volume-oriented)\n",
    "users_75 = int(df['number_of_unique_clients'].quantile(0.75))\n",
    "sessions_75 = int(df['number_of_sessions'].quantile(0.75))"
   ]
  },
  {
   "cell_type": "code",
   "execution_count": 47,
   "id": "6c239be5",
   "metadata": {},
   "outputs": [
    {
     "name": "stdout",
     "output_type": "stream",
     "text": [
      "Chosen engaged threshold (GB/session): 0.035\n",
      "Activation thresholds (75th pct): users >= 323924, sessions >= 5632312\n"
     ]
    }
   ],
   "source": [
    "print(f\"Chosen engaged threshold (GB/session): {ENGAGED_GB_PER_SESSION}\")\n",
    "print(f\"Activation thresholds (75th pct): users >= {users_75}, sessions >= {sessions_75}\")"
   ]
  },
  {
   "cell_type": "markdown",
   "id": "fbb3604d",
   "metadata": {},
   "source": [
    "#### Let's create new fields (`gb_used`, `heavy_usage_week`, `activated_week`) from the data:\n",
    "- gb_used (week-level total GB) = GB_per_session * number_of_sessions\n",
    "- heavy_usage_week (binary): GB_per_session >= ENGAGED_GB_PER_SESSION\n",
    "- So a week is activated if both volume thresholds met"
   ]
  },
  {
   "cell_type": "code",
   "execution_count": 48,
   "id": "6d7c07f7",
   "metadata": {},
   "outputs": [],
   "source": [
    "df['gb_used'] = df['GB_per_session'] * df['number_of_sessions']\n",
    "df['heavy_usage_week'] = (df['GB_per_session'] >= ENGAGED_GB_PER_SESSION).astype(int)\n",
    "df['activated_week'] = ((df['number_of_unique_clients'] >= users_75) &\n",
    "                        (df['number_of_sessions'] >= sessions_75)).astype(int)"
   ]
  },
  {
   "cell_type": "code",
   "execution_count": 49,
   "id": "6097a301",
   "metadata": {},
   "outputs": [],
   "source": [
    "# equivalent count of engaged sessions (divide total GB by threshold).\n",
    "df['engaged_session_equiv'] = df['gb_used'] / ENGAGED_GB_PER_SESSION"
   ]
  },
  {
   "cell_type": "code",
   "execution_count": 50,
   "id": "e842bc5c",
   "metadata": {},
   "outputs": [],
   "source": [
    "# how many engaged-equivalent sessions appear again next week?\n",
    "df['engaged_next_week_equiv'] = df['engaged_session_equiv'].shift(-1)\n",
    "df['repeat_equiv'] = df[['engaged_session_equiv', 'engaged_next_week_equiv']].min(axis=1)"
   ]
  },
  {
   "cell_type": "markdown",
   "id": "0130c422",
   "metadata": {},
   "source": [
    "#### Interpretations:\n",
    "- engaged_session_equiv is an estimate not a count of sessions >= threshold (we don't have per-session sizes).\n",
    "- repeat_equiv = min(current,next) is a conservative lower-bound proxy for persisted engaged volume."
   ]
  },
  {
   "cell_type": "markdown",
   "id": "9e89702c",
   "metadata": {},
   "source": [
    "### Cohorts Analysis & retention (weekly cohorts)\n",
    "- Our cohort start where heavy_usage_week == 1 (Links 5G)"
   ]
  },
  {
   "cell_type": "code",
   "execution_count": 51,
   "id": "5bb409c2",
   "metadata": {},
   "outputs": [],
   "source": [
    "# Step 1: let't filter the data\n",
    "cohort_starts = df.loc[df['heavy_usage_week'] == 1, date_col].sort_values().unique()"
   ]
  },
  {
   "cell_type": "code",
   "execution_count": 52,
   "id": "a8cf0c0e",
   "metadata": {},
   "outputs": [
    {
     "data": {
      "text/plain": [
       "<DatetimeArray>\n",
       "['2022-05-08 00:00:00', '2022-05-15 00:00:00', '2022-05-22 00:00:00',\n",
       " '2022-05-30 00:00:00', '2022-06-06 00:00:00', '2022-06-13 00:00:00',\n",
       " '2022-06-26 00:00:00', '2022-07-03 00:00:00', '2022-07-10 00:00:00',\n",
       " '2022-08-14 00:00:00', '2022-11-27 00:00:00', '2023-01-15 00:00:00',\n",
       " '2023-01-22 00:00:00', '2023-01-29 00:00:00', '2023-02-05 00:00:00',\n",
       " '2023-02-12 00:00:00', '2023-02-19 00:00:00', '2023-02-26 00:00:00',\n",
       " '2023-03-05 00:00:00', '2023-03-12 00:00:00', '2023-03-19 00:00:00',\n",
       " '2023-03-26 00:00:00', '2023-06-11 00:00:00', '2023-07-09 00:00:00',\n",
       " '2023-07-23 00:00:00', '2023-07-30 00:00:00', '2023-08-06 00:00:00',\n",
       " '2023-08-27 00:00:00', '2023-10-01 00:00:00', '2023-11-19 00:00:00',\n",
       " '2023-11-26 00:00:00', '2024-01-14 00:00:00', '2024-01-21 00:00:00',\n",
       " '2024-01-28 00:00:00', '2024-02-04 00:00:00', '2024-02-11 00:00:00',\n",
       " '2024-02-18 00:00:00', '2024-02-25 00:00:00', '2024-03-03 00:00:00',\n",
       " '2024-03-10 00:00:00', '2024-03-17 00:00:00', '2024-03-24 00:00:00',\n",
       " '2024-03-31 00:00:00', '2024-04-07 00:00:00', '2024-04-14 00:00:00',\n",
       " '2024-04-21 00:00:00', '2024-04-28 00:00:00', '2024-06-02 00:00:00',\n",
       " '2024-06-09 00:00:00', '2024-09-22 00:00:00', '2025-04-20 00:00:00',\n",
       " '2025-04-27 00:00:00', '2025-05-04 00:00:00', '2025-05-11 00:00:00',\n",
       " '2025-05-18 00:00:00', '2025-05-25 00:00:00', '2025-06-01 00:00:00',\n",
       " '2025-06-08 00:00:00', '2025-06-15 00:00:00', '2025-06-22 00:00:00',\n",
       " '2025-06-29 00:00:00', '2025-07-06 00:00:00', '2025-07-13 00:00:00',\n",
       " '2025-07-20 00:00:00', '2025-07-27 00:00:00', '2025-08-03 00:00:00',\n",
       " '2025-08-10 00:00:00', '2025-08-17 00:00:00', '2025-08-24 00:00:00',\n",
       " '2025-08-31 00:00:00', '2025-09-07 00:00:00', '2025-09-14 00:00:00',\n",
       " '2025-09-21 00:00:00', '2025-09-28 00:00:00']\n",
       "Length: 74, dtype: datetime64[ns]"
      ]
     },
     "execution_count": 52,
     "metadata": {},
     "output_type": "execute_result"
    }
   ],
   "source": [
    "cohort_starts"
   ]
  },
  {
   "cell_type": "code",
   "execution_count": 54,
   "id": "18f6311d",
   "metadata": {},
   "outputs": [],
   "source": [
    "# Build cohort (one row per cohort start; columns W0, W1, W2, W3, W4)\n",
    "cohort_rows = [] # an empty list to store the result where each row will be a dictionnary\n",
    "for cw in cohort_starts:\n",
    "    row = {'cohort_week': cw} # a dictionnary that hold each week\n",
    "    for _ in range(0,5):  # W0..W4\n",
    "        t = cw + pd.Timedelta(7*_, unit='d')\n",
    "        selection = df[df[date_col] == t]\n",
    "        row[f'W{_}'] = int(selection['heavy_usage_week'].iloc[0]) if not selection.empty else 0\n",
    "    cohort_rows.append(row)"
   ]
  },
  {
   "cell_type": "code",
   "execution_count": 55,
   "id": "d0fbb30e",
   "metadata": {},
   "outputs": [],
   "source": [
    "cohort_df = pd.DataFrame(cohort_rows).set_index('cohort_week')"
   ]
  },
  {
   "cell_type": "code",
   "execution_count": 56,
   "id": "531f7f38",
   "metadata": {},
   "outputs": [
    {
     "data": {
      "text/html": [
       "<div>\n",
       "<style scoped>\n",
       "    .dataframe tbody tr th:only-of-type {\n",
       "        vertical-align: middle;\n",
       "    }\n",
       "\n",
       "    .dataframe tbody tr th {\n",
       "        vertical-align: top;\n",
       "    }\n",
       "\n",
       "    .dataframe thead th {\n",
       "        text-align: right;\n",
       "    }\n",
       "</style>\n",
       "<table border=\"1\" class=\"dataframe\">\n",
       "  <thead>\n",
       "    <tr style=\"text-align: right;\">\n",
       "      <th></th>\n",
       "      <th>W0</th>\n",
       "      <th>W1</th>\n",
       "      <th>W2</th>\n",
       "      <th>W3</th>\n",
       "      <th>W4</th>\n",
       "    </tr>\n",
       "    <tr>\n",
       "      <th>cohort_week</th>\n",
       "      <th></th>\n",
       "      <th></th>\n",
       "      <th></th>\n",
       "      <th></th>\n",
       "      <th></th>\n",
       "    </tr>\n",
       "  </thead>\n",
       "  <tbody>\n",
       "    <tr>\n",
       "      <th>2022-05-08</th>\n",
       "      <td>1</td>\n",
       "      <td>1</td>\n",
       "      <td>1</td>\n",
       "      <td>0</td>\n",
       "      <td>0</td>\n",
       "    </tr>\n",
       "    <tr>\n",
       "      <th>2022-05-15</th>\n",
       "      <td>1</td>\n",
       "      <td>1</td>\n",
       "      <td>0</td>\n",
       "      <td>0</td>\n",
       "      <td>0</td>\n",
       "    </tr>\n",
       "    <tr>\n",
       "      <th>2022-05-22</th>\n",
       "      <td>1</td>\n",
       "      <td>0</td>\n",
       "      <td>0</td>\n",
       "      <td>0</td>\n",
       "      <td>0</td>\n",
       "    </tr>\n",
       "    <tr>\n",
       "      <th>2022-05-30</th>\n",
       "      <td>1</td>\n",
       "      <td>1</td>\n",
       "      <td>1</td>\n",
       "      <td>0</td>\n",
       "      <td>0</td>\n",
       "    </tr>\n",
       "    <tr>\n",
       "      <th>2022-06-06</th>\n",
       "      <td>1</td>\n",
       "      <td>1</td>\n",
       "      <td>0</td>\n",
       "      <td>0</td>\n",
       "      <td>0</td>\n",
       "    </tr>\n",
       "    <tr>\n",
       "      <th>...</th>\n",
       "      <td>...</td>\n",
       "      <td>...</td>\n",
       "      <td>...</td>\n",
       "      <td>...</td>\n",
       "      <td>...</td>\n",
       "    </tr>\n",
       "    <tr>\n",
       "      <th>2025-08-31</th>\n",
       "      <td>1</td>\n",
       "      <td>1</td>\n",
       "      <td>1</td>\n",
       "      <td>1</td>\n",
       "      <td>1</td>\n",
       "    </tr>\n",
       "    <tr>\n",
       "      <th>2025-09-07</th>\n",
       "      <td>1</td>\n",
       "      <td>1</td>\n",
       "      <td>1</td>\n",
       "      <td>1</td>\n",
       "      <td>0</td>\n",
       "    </tr>\n",
       "    <tr>\n",
       "      <th>2025-09-14</th>\n",
       "      <td>1</td>\n",
       "      <td>1</td>\n",
       "      <td>1</td>\n",
       "      <td>0</td>\n",
       "      <td>0</td>\n",
       "    </tr>\n",
       "    <tr>\n",
       "      <th>2025-09-21</th>\n",
       "      <td>1</td>\n",
       "      <td>1</td>\n",
       "      <td>0</td>\n",
       "      <td>0</td>\n",
       "      <td>0</td>\n",
       "    </tr>\n",
       "    <tr>\n",
       "      <th>2025-09-28</th>\n",
       "      <td>1</td>\n",
       "      <td>0</td>\n",
       "      <td>0</td>\n",
       "      <td>0</td>\n",
       "      <td>0</td>\n",
       "    </tr>\n",
       "  </tbody>\n",
       "</table>\n",
       "<p>74 rows × 5 columns</p>\n",
       "</div>"
      ],
      "text/plain": [
       "             W0  W1  W2  W3  W4\n",
       "cohort_week                    \n",
       "2022-05-08    1   1   1   0   0\n",
       "2022-05-15    1   1   0   0   0\n",
       "2022-05-22    1   0   0   0   0\n",
       "2022-05-30    1   1   1   0   0\n",
       "2022-06-06    1   1   0   0   0\n",
       "...          ..  ..  ..  ..  ..\n",
       "2025-08-31    1   1   1   1   1\n",
       "2025-09-07    1   1   1   1   0\n",
       "2025-09-14    1   1   1   0   0\n",
       "2025-09-21    1   1   0   0   0\n",
       "2025-09-28    1   0   0   0   0\n",
       "\n",
       "[74 rows x 5 columns]"
      ]
     },
     "execution_count": 56,
     "metadata": {},
     "output_type": "execute_result"
    }
   ],
   "source": [
    "cohort_df"
   ]
  },
  {
   "cell_type": "code",
   "execution_count": 57,
   "id": "897ef1cd",
   "metadata": {},
   "outputs": [
    {
     "name": "stdout",
     "output_type": "stream",
     "text": [
      "W0->W1 retention: 78.378%\n",
      "W0->W4 return: 82.432%\n"
     ]
    }
   ],
   "source": [
    "# Compute retention rates (for cohorts that start heavy: W0=1)\n",
    "w1_rate = cohort_df['W1'].mean()\n",
    "w4_rate = cohort_df[['W1','W2','W3','W4']].max(axis=1).mean()  # any heavy week within 4 weeks\n",
    "print(f\"W0->W1 retention: {w1_rate:.3%}\")\n",
    "print(f\"W0->W4 return: {w4_rate:.3%}\")"
   ]
  },
  {
   "cell_type": "markdown",
   "id": "f6552d71",
   "metadata": {},
   "source": [
    "Let's the heat map to visualize the retention rate"
   ]
  },
  {
   "cell_type": "code",
   "execution_count": 58,
   "id": "9bba5500",
   "metadata": {},
   "outputs": [],
   "source": [
    "heat = cohort_df[['W0','W1','W2','W3','W4']].astype(int).T\n",
    "fig_heat = px.imshow(heat, labels=dict(x=\"cohort week\", y=\"weeks offset (W0 to W4)\"),\n",
    "                    x=[str(d.date()) for d in heat.columns], y=heat.index,\n",
    "                    title=\"Cohort heatmap\", text_auto=True)"
   ]
  },
  {
   "cell_type": "code",
   "execution_count": 59,
   "id": "6e63396a",
   "metadata": {},
   "outputs": [
    {
     "data": {
      "application/vnd.plotly.v1+json": {
       "config": {
        "plotlyServerURL": "https://plot.ly"
       },
       "data": [
        {
         "coloraxis": "coloraxis",
         "hovertemplate": "cohort week: %{x}<br>weeks offset (W0 to W4): %{y}<br>color: %{z}<extra></extra>",
         "name": "0",
         "texttemplate": "%{z}",
         "type": "heatmap",
         "x": [
          "2022-05-08",
          "2022-05-15",
          "2022-05-22",
          "2022-05-30",
          "2022-06-06",
          "2022-06-13",
          "2022-06-26",
          "2022-07-03",
          "2022-07-10",
          "2022-08-14",
          "2022-11-27",
          "2023-01-15",
          "2023-01-22",
          "2023-01-29",
          "2023-02-05",
          "2023-02-12",
          "2023-02-19",
          "2023-02-26",
          "2023-03-05",
          "2023-03-12",
          "2023-03-19",
          "2023-03-26",
          "2023-06-11",
          "2023-07-09",
          "2023-07-23",
          "2023-07-30",
          "2023-08-06",
          "2023-08-27",
          "2023-10-01",
          "2023-11-19",
          "2023-11-26",
          "2024-01-14",
          "2024-01-21",
          "2024-01-28",
          "2024-02-04",
          "2024-02-11",
          "2024-02-18",
          "2024-02-25",
          "2024-03-03",
          "2024-03-10",
          "2024-03-17",
          "2024-03-24",
          "2024-03-31",
          "2024-04-07",
          "2024-04-14",
          "2024-04-21",
          "2024-04-28",
          "2024-06-02",
          "2024-06-09",
          "2024-09-22",
          "2025-04-20",
          "2025-04-27",
          "2025-05-04",
          "2025-05-11",
          "2025-05-18",
          "2025-05-25",
          "2025-06-01",
          "2025-06-08",
          "2025-06-15",
          "2025-06-22",
          "2025-06-29",
          "2025-07-06",
          "2025-07-13",
          "2025-07-20",
          "2025-07-27",
          "2025-08-03",
          "2025-08-10",
          "2025-08-17",
          "2025-08-24",
          "2025-08-31",
          "2025-09-07",
          "2025-09-14",
          "2025-09-21",
          "2025-09-28"
         ],
         "xaxis": "x",
         "y": [
          "W0",
          "W1",
          "W2",
          "W3",
          "W4"
         ],
         "yaxis": "y",
         "z": {
          "bdata": "AQEBAQEBAQEBAQEBAQEBAQEBAQEBAQEBAQEBAQEBAQEBAQEBAQEBAQEBAQEBAQEBAQEBAQEBAQEBAQEBAQEBAQEBAQEBAQEBAQEBAQABAQABAQAAAAEBAQEBAQEBAQEAAAABAQAAAAEAAQEBAQEBAQEBAQEBAQEBAAEAAAEBAQEBAQEBAQEBAQEBAQEBAQEBAQEBAAEAAAEAAAEAAAAAAQEBAQEBAQEBAAAAAQEAAAAAAAABAQEBAQEBAQEBAQEBAQAAAAAAAQEBAQEBAQEBAQEBAQEBAQEBAQEBAQAAAAAAAAAAAAAAAAABAQEBAQEBAQAAAAABAAABAAAAAAEBAQEBAQEBAQEBAQEAAAAAAAABAQEBAQEBAQEBAQEBAQEBAQEBAQEAAAAAAAAAAAAAAAAAAAEBAQEBAQEAAAAAAQEAAQAAAAAAAQEBAQEBAQEBAQEBAAAAAAAAAAEBAQEBAQEBAQEBAQEBAQEBAQEBAAAAAA==",
          "dtype": "i1",
          "shape": "5, 74"
         }
        }
       ],
       "layout": {
        "coloraxis": {
         "colorscale": [
          [
           0,
           "#0d0887"
          ],
          [
           0.1111111111111111,
           "#46039f"
          ],
          [
           0.2222222222222222,
           "#7201a8"
          ],
          [
           0.3333333333333333,
           "#9c179e"
          ],
          [
           0.4444444444444444,
           "#bd3786"
          ],
          [
           0.5555555555555556,
           "#d8576b"
          ],
          [
           0.6666666666666666,
           "#ed7953"
          ],
          [
           0.7777777777777778,
           "#fb9f3a"
          ],
          [
           0.8888888888888888,
           "#fdca26"
          ],
          [
           1,
           "#f0f921"
          ]
         ]
        },
        "template": {
         "data": {
          "bar": [
           {
            "error_x": {
             "color": "#2a3f5f"
            },
            "error_y": {
             "color": "#2a3f5f"
            },
            "marker": {
             "line": {
              "color": "#E5ECF6",
              "width": 0.5
             },
             "pattern": {
              "fillmode": "overlay",
              "size": 10,
              "solidity": 0.2
             }
            },
            "type": "bar"
           }
          ],
          "barpolar": [
           {
            "marker": {
             "line": {
              "color": "#E5ECF6",
              "width": 0.5
             },
             "pattern": {
              "fillmode": "overlay",
              "size": 10,
              "solidity": 0.2
             }
            },
            "type": "barpolar"
           }
          ],
          "carpet": [
           {
            "aaxis": {
             "endlinecolor": "#2a3f5f",
             "gridcolor": "white",
             "linecolor": "white",
             "minorgridcolor": "white",
             "startlinecolor": "#2a3f5f"
            },
            "baxis": {
             "endlinecolor": "#2a3f5f",
             "gridcolor": "white",
             "linecolor": "white",
             "minorgridcolor": "white",
             "startlinecolor": "#2a3f5f"
            },
            "type": "carpet"
           }
          ],
          "choropleth": [
           {
            "colorbar": {
             "outlinewidth": 0,
             "ticks": ""
            },
            "type": "choropleth"
           }
          ],
          "contour": [
           {
            "colorbar": {
             "outlinewidth": 0,
             "ticks": ""
            },
            "colorscale": [
             [
              0,
              "#0d0887"
             ],
             [
              0.1111111111111111,
              "#46039f"
             ],
             [
              0.2222222222222222,
              "#7201a8"
             ],
             [
              0.3333333333333333,
              "#9c179e"
             ],
             [
              0.4444444444444444,
              "#bd3786"
             ],
             [
              0.5555555555555556,
              "#d8576b"
             ],
             [
              0.6666666666666666,
              "#ed7953"
             ],
             [
              0.7777777777777778,
              "#fb9f3a"
             ],
             [
              0.8888888888888888,
              "#fdca26"
             ],
             [
              1,
              "#f0f921"
             ]
            ],
            "type": "contour"
           }
          ],
          "contourcarpet": [
           {
            "colorbar": {
             "outlinewidth": 0,
             "ticks": ""
            },
            "type": "contourcarpet"
           }
          ],
          "heatmap": [
           {
            "colorbar": {
             "outlinewidth": 0,
             "ticks": ""
            },
            "colorscale": [
             [
              0,
              "#0d0887"
             ],
             [
              0.1111111111111111,
              "#46039f"
             ],
             [
              0.2222222222222222,
              "#7201a8"
             ],
             [
              0.3333333333333333,
              "#9c179e"
             ],
             [
              0.4444444444444444,
              "#bd3786"
             ],
             [
              0.5555555555555556,
              "#d8576b"
             ],
             [
              0.6666666666666666,
              "#ed7953"
             ],
             [
              0.7777777777777778,
              "#fb9f3a"
             ],
             [
              0.8888888888888888,
              "#fdca26"
             ],
             [
              1,
              "#f0f921"
             ]
            ],
            "type": "heatmap"
           }
          ],
          "histogram": [
           {
            "marker": {
             "pattern": {
              "fillmode": "overlay",
              "size": 10,
              "solidity": 0.2
             }
            },
            "type": "histogram"
           }
          ],
          "histogram2d": [
           {
            "colorbar": {
             "outlinewidth": 0,
             "ticks": ""
            },
            "colorscale": [
             [
              0,
              "#0d0887"
             ],
             [
              0.1111111111111111,
              "#46039f"
             ],
             [
              0.2222222222222222,
              "#7201a8"
             ],
             [
              0.3333333333333333,
              "#9c179e"
             ],
             [
              0.4444444444444444,
              "#bd3786"
             ],
             [
              0.5555555555555556,
              "#d8576b"
             ],
             [
              0.6666666666666666,
              "#ed7953"
             ],
             [
              0.7777777777777778,
              "#fb9f3a"
             ],
             [
              0.8888888888888888,
              "#fdca26"
             ],
             [
              1,
              "#f0f921"
             ]
            ],
            "type": "histogram2d"
           }
          ],
          "histogram2dcontour": [
           {
            "colorbar": {
             "outlinewidth": 0,
             "ticks": ""
            },
            "colorscale": [
             [
              0,
              "#0d0887"
             ],
             [
              0.1111111111111111,
              "#46039f"
             ],
             [
              0.2222222222222222,
              "#7201a8"
             ],
             [
              0.3333333333333333,
              "#9c179e"
             ],
             [
              0.4444444444444444,
              "#bd3786"
             ],
             [
              0.5555555555555556,
              "#d8576b"
             ],
             [
              0.6666666666666666,
              "#ed7953"
             ],
             [
              0.7777777777777778,
              "#fb9f3a"
             ],
             [
              0.8888888888888888,
              "#fdca26"
             ],
             [
              1,
              "#f0f921"
             ]
            ],
            "type": "histogram2dcontour"
           }
          ],
          "mesh3d": [
           {
            "colorbar": {
             "outlinewidth": 0,
             "ticks": ""
            },
            "type": "mesh3d"
           }
          ],
          "parcoords": [
           {
            "line": {
             "colorbar": {
              "outlinewidth": 0,
              "ticks": ""
             }
            },
            "type": "parcoords"
           }
          ],
          "pie": [
           {
            "automargin": true,
            "type": "pie"
           }
          ],
          "scatter": [
           {
            "fillpattern": {
             "fillmode": "overlay",
             "size": 10,
             "solidity": 0.2
            },
            "type": "scatter"
           }
          ],
          "scatter3d": [
           {
            "line": {
             "colorbar": {
              "outlinewidth": 0,
              "ticks": ""
             }
            },
            "marker": {
             "colorbar": {
              "outlinewidth": 0,
              "ticks": ""
             }
            },
            "type": "scatter3d"
           }
          ],
          "scattercarpet": [
           {
            "marker": {
             "colorbar": {
              "outlinewidth": 0,
              "ticks": ""
             }
            },
            "type": "scattercarpet"
           }
          ],
          "scattergeo": [
           {
            "marker": {
             "colorbar": {
              "outlinewidth": 0,
              "ticks": ""
             }
            },
            "type": "scattergeo"
           }
          ],
          "scattergl": [
           {
            "marker": {
             "colorbar": {
              "outlinewidth": 0,
              "ticks": ""
             }
            },
            "type": "scattergl"
           }
          ],
          "scattermap": [
           {
            "marker": {
             "colorbar": {
              "outlinewidth": 0,
              "ticks": ""
             }
            },
            "type": "scattermap"
           }
          ],
          "scattermapbox": [
           {
            "marker": {
             "colorbar": {
              "outlinewidth": 0,
              "ticks": ""
             }
            },
            "type": "scattermapbox"
           }
          ],
          "scatterpolar": [
           {
            "marker": {
             "colorbar": {
              "outlinewidth": 0,
              "ticks": ""
             }
            },
            "type": "scatterpolar"
           }
          ],
          "scatterpolargl": [
           {
            "marker": {
             "colorbar": {
              "outlinewidth": 0,
              "ticks": ""
             }
            },
            "type": "scatterpolargl"
           }
          ],
          "scatterternary": [
           {
            "marker": {
             "colorbar": {
              "outlinewidth": 0,
              "ticks": ""
             }
            },
            "type": "scatterternary"
           }
          ],
          "surface": [
           {
            "colorbar": {
             "outlinewidth": 0,
             "ticks": ""
            },
            "colorscale": [
             [
              0,
              "#0d0887"
             ],
             [
              0.1111111111111111,
              "#46039f"
             ],
             [
              0.2222222222222222,
              "#7201a8"
             ],
             [
              0.3333333333333333,
              "#9c179e"
             ],
             [
              0.4444444444444444,
              "#bd3786"
             ],
             [
              0.5555555555555556,
              "#d8576b"
             ],
             [
              0.6666666666666666,
              "#ed7953"
             ],
             [
              0.7777777777777778,
              "#fb9f3a"
             ],
             [
              0.8888888888888888,
              "#fdca26"
             ],
             [
              1,
              "#f0f921"
             ]
            ],
            "type": "surface"
           }
          ],
          "table": [
           {
            "cells": {
             "fill": {
              "color": "#EBF0F8"
             },
             "line": {
              "color": "white"
             }
            },
            "header": {
             "fill": {
              "color": "#C8D4E3"
             },
             "line": {
              "color": "white"
             }
            },
            "type": "table"
           }
          ]
         },
         "layout": {
          "annotationdefaults": {
           "arrowcolor": "#2a3f5f",
           "arrowhead": 0,
           "arrowwidth": 1
          },
          "autotypenumbers": "strict",
          "coloraxis": {
           "colorbar": {
            "outlinewidth": 0,
            "ticks": ""
           }
          },
          "colorscale": {
           "diverging": [
            [
             0,
             "#8e0152"
            ],
            [
             0.1,
             "#c51b7d"
            ],
            [
             0.2,
             "#de77ae"
            ],
            [
             0.3,
             "#f1b6da"
            ],
            [
             0.4,
             "#fde0ef"
            ],
            [
             0.5,
             "#f7f7f7"
            ],
            [
             0.6,
             "#e6f5d0"
            ],
            [
             0.7,
             "#b8e186"
            ],
            [
             0.8,
             "#7fbc41"
            ],
            [
             0.9,
             "#4d9221"
            ],
            [
             1,
             "#276419"
            ]
           ],
           "sequential": [
            [
             0,
             "#0d0887"
            ],
            [
             0.1111111111111111,
             "#46039f"
            ],
            [
             0.2222222222222222,
             "#7201a8"
            ],
            [
             0.3333333333333333,
             "#9c179e"
            ],
            [
             0.4444444444444444,
             "#bd3786"
            ],
            [
             0.5555555555555556,
             "#d8576b"
            ],
            [
             0.6666666666666666,
             "#ed7953"
            ],
            [
             0.7777777777777778,
             "#fb9f3a"
            ],
            [
             0.8888888888888888,
             "#fdca26"
            ],
            [
             1,
             "#f0f921"
            ]
           ],
           "sequentialminus": [
            [
             0,
             "#0d0887"
            ],
            [
             0.1111111111111111,
             "#46039f"
            ],
            [
             0.2222222222222222,
             "#7201a8"
            ],
            [
             0.3333333333333333,
             "#9c179e"
            ],
            [
             0.4444444444444444,
             "#bd3786"
            ],
            [
             0.5555555555555556,
             "#d8576b"
            ],
            [
             0.6666666666666666,
             "#ed7953"
            ],
            [
             0.7777777777777778,
             "#fb9f3a"
            ],
            [
             0.8888888888888888,
             "#fdca26"
            ],
            [
             1,
             "#f0f921"
            ]
           ]
          },
          "colorway": [
           "#636efa",
           "#EF553B",
           "#00cc96",
           "#ab63fa",
           "#FFA15A",
           "#19d3f3",
           "#FF6692",
           "#B6E880",
           "#FF97FF",
           "#FECB52"
          ],
          "font": {
           "color": "#2a3f5f"
          },
          "geo": {
           "bgcolor": "white",
           "lakecolor": "white",
           "landcolor": "#E5ECF6",
           "showlakes": true,
           "showland": true,
           "subunitcolor": "white"
          },
          "hoverlabel": {
           "align": "left"
          },
          "hovermode": "closest",
          "mapbox": {
           "style": "light"
          },
          "paper_bgcolor": "white",
          "plot_bgcolor": "#E5ECF6",
          "polar": {
           "angularaxis": {
            "gridcolor": "white",
            "linecolor": "white",
            "ticks": ""
           },
           "bgcolor": "#E5ECF6",
           "radialaxis": {
            "gridcolor": "white",
            "linecolor": "white",
            "ticks": ""
           }
          },
          "scene": {
           "xaxis": {
            "backgroundcolor": "#E5ECF6",
            "gridcolor": "white",
            "gridwidth": 2,
            "linecolor": "white",
            "showbackground": true,
            "ticks": "",
            "zerolinecolor": "white"
           },
           "yaxis": {
            "backgroundcolor": "#E5ECF6",
            "gridcolor": "white",
            "gridwidth": 2,
            "linecolor": "white",
            "showbackground": true,
            "ticks": "",
            "zerolinecolor": "white"
           },
           "zaxis": {
            "backgroundcolor": "#E5ECF6",
            "gridcolor": "white",
            "gridwidth": 2,
            "linecolor": "white",
            "showbackground": true,
            "ticks": "",
            "zerolinecolor": "white"
           }
          },
          "shapedefaults": {
           "line": {
            "color": "#2a3f5f"
           }
          },
          "ternary": {
           "aaxis": {
            "gridcolor": "white",
            "linecolor": "white",
            "ticks": ""
           },
           "baxis": {
            "gridcolor": "white",
            "linecolor": "white",
            "ticks": ""
           },
           "bgcolor": "#E5ECF6",
           "caxis": {
            "gridcolor": "white",
            "linecolor": "white",
            "ticks": ""
           }
          },
          "title": {
           "x": 0.05
          },
          "xaxis": {
           "automargin": true,
           "gridcolor": "white",
           "linecolor": "white",
           "ticks": "",
           "title": {
            "standoff": 15
           },
           "zerolinecolor": "white",
           "zerolinewidth": 2
          },
          "yaxis": {
           "automargin": true,
           "gridcolor": "white",
           "linecolor": "white",
           "ticks": "",
           "title": {
            "standoff": 15
           },
           "zerolinecolor": "white",
           "zerolinewidth": 2
          }
         }
        },
        "title": {
         "text": "Cohort heatmap"
        },
        "xaxis": {
         "anchor": "y",
         "constrain": "domain",
         "domain": [
          0,
          1
         ],
         "scaleanchor": "y",
         "title": {
          "text": "cohort week"
         }
        },
        "yaxis": {
         "anchor": "x",
         "autorange": "reversed",
         "constrain": "domain",
         "domain": [
          0,
          1
         ],
         "title": {
          "text": "weeks offset (W0 to W4)"
         }
        }
       }
      }
     },
     "metadata": {},
     "output_type": "display_data"
    }
   ],
   "source": [
    "fig_heat"
   ]
  },
  {
   "cell_type": "markdown",
   "id": "487bb981",
   "metadata": {},
   "source": [
    "## 2) RFM and Segmentation"
   ]
  },
  {
   "cell_type": "code",
   "execution_count": 60,
   "id": "938f7a17",
   "metadata": {},
   "outputs": [],
   "source": [
    "WINDOW_WEEKS = 12 #we will segement on an intervalle of 12 weeks\n",
    "rfm_records = [] # empty list to hold the each rfm row on the 12 weeks window\n",
    "df_sorted = df.sort_values(date_col).reset_index(drop=True)"
   ]
  },
  {
   "cell_type": "code",
   "execution_count": 61,
   "id": "0c128e10",
   "metadata": {},
   "outputs": [
    {
     "data": {
      "text/html": [
       "<div>\n",
       "<style scoped>\n",
       "    .dataframe tbody tr th:only-of-type {\n",
       "        vertical-align: middle;\n",
       "    }\n",
       "\n",
       "    .dataframe tbody tr th {\n",
       "        vertical-align: top;\n",
       "    }\n",
       "\n",
       "    .dataframe thead th {\n",
       "        text-align: right;\n",
       "    }\n",
       "</style>\n",
       "<table border=\"1\" class=\"dataframe\">\n",
       "  <thead>\n",
       "    <tr style=\"text-align: right;\">\n",
       "      <th></th>\n",
       "      <th>report_ending_weekly_starting</th>\n",
       "      <th>number_of_sessions</th>\n",
       "      <th>average_session_length</th>\n",
       "      <th>number_of_unique_clients</th>\n",
       "      <th>tb_downloaded</th>\n",
       "      <th>tb_uploaded</th>\n",
       "      <th>cumulative_bandwidth</th>\n",
       "      <th>cumulative_sessions</th>\n",
       "      <th>cumulative_subscribers</th>\n",
       "      <th>sessions_per_user</th>\n",
       "      <th>...</th>\n",
       "      <th>log_number_of_sessions</th>\n",
       "      <th>log_number_of_unique_clients</th>\n",
       "      <th>log_tb_downloaded</th>\n",
       "      <th>month</th>\n",
       "      <th>gb_used</th>\n",
       "      <th>heavy_usage_week</th>\n",
       "      <th>activated_week</th>\n",
       "      <th>engaged_session_equiv</th>\n",
       "      <th>engaged_next_week_equiv</th>\n",
       "      <th>repeat_equiv</th>\n",
       "    </tr>\n",
       "  </thead>\n",
       "  <tbody>\n",
       "    <tr>\n",
       "      <th>0</th>\n",
       "      <td>2020-01-05</td>\n",
       "      <td>23086410</td>\n",
       "      <td>00:04:07</td>\n",
       "      <td>683250</td>\n",
       "      <td>121.01</td>\n",
       "      <td>12.67</td>\n",
       "      <td>14353.83</td>\n",
       "      <td>2251215052</td>\n",
       "      <td>8461839</td>\n",
       "      <td>33.789111</td>\n",
       "      <td>...</td>\n",
       "      <td>16.954755</td>\n",
       "      <td>13.434616</td>\n",
       "      <td>4.795873</td>\n",
       "      <td>1</td>\n",
       "      <td>133680.0</td>\n",
       "      <td>0</td>\n",
       "      <td>1</td>\n",
       "      <td>3.819429e+06</td>\n",
       "      <td>3.647429e+06</td>\n",
       "      <td>3.647429e+06</td>\n",
       "    </tr>\n",
       "    <tr>\n",
       "      <th>1</th>\n",
       "      <td>2020-01-12</td>\n",
       "      <td>23584159</td>\n",
       "      <td>00:04:07</td>\n",
       "      <td>640118</td>\n",
       "      <td>116.52</td>\n",
       "      <td>11.14</td>\n",
       "      <td>14501.59</td>\n",
       "      <td>2284581863</td>\n",
       "      <td>8502485</td>\n",
       "      <td>36.843455</td>\n",
       "      <td>...</td>\n",
       "      <td>16.976086</td>\n",
       "      <td>13.369408</td>\n",
       "      <td>4.758063</td>\n",
       "      <td>1</td>\n",
       "      <td>127660.0</td>\n",
       "      <td>0</td>\n",
       "      <td>1</td>\n",
       "      <td>3.647429e+06</td>\n",
       "      <td>3.572000e+06</td>\n",
       "      <td>3.572000e+06</td>\n",
       "    </tr>\n",
       "    <tr>\n",
       "      <th>2</th>\n",
       "      <td>2020-01-19</td>\n",
       "      <td>22004022</td>\n",
       "      <td>00:04:07</td>\n",
       "      <td>592715</td>\n",
       "      <td>114.50</td>\n",
       "      <td>10.52</td>\n",
       "      <td>14626.62</td>\n",
       "      <td>2306585885</td>\n",
       "      <td>8536567</td>\n",
       "      <td>37.124119</td>\n",
       "      <td>...</td>\n",
       "      <td>16.906736</td>\n",
       "      <td>13.292469</td>\n",
       "      <td>4.740575</td>\n",
       "      <td>1</td>\n",
       "      <td>125020.0</td>\n",
       "      <td>0</td>\n",
       "      <td>1</td>\n",
       "      <td>3.572000e+06</td>\n",
       "      <td>3.662286e+06</td>\n",
       "      <td>3.572000e+06</td>\n",
       "    </tr>\n",
       "    <tr>\n",
       "      <th>3</th>\n",
       "      <td>2020-01-26</td>\n",
       "      <td>20245042</td>\n",
       "      <td>00:04:15</td>\n",
       "      <td>602685</td>\n",
       "      <td>118.05</td>\n",
       "      <td>10.13</td>\n",
       "      <td>14754.79</td>\n",
       "      <td>2326830927</td>\n",
       "      <td>8571523</td>\n",
       "      <td>33.591415</td>\n",
       "      <td>...</td>\n",
       "      <td>16.823420</td>\n",
       "      <td>13.309150</td>\n",
       "      <td>4.771108</td>\n",
       "      <td>1</td>\n",
       "      <td>128180.0</td>\n",
       "      <td>0</td>\n",
       "      <td>1</td>\n",
       "      <td>3.662286e+06</td>\n",
       "      <td>3.760857e+06</td>\n",
       "      <td>3.662286e+06</td>\n",
       "    </tr>\n",
       "    <tr>\n",
       "      <th>4</th>\n",
       "      <td>2020-02-02</td>\n",
       "      <td>22356460</td>\n",
       "      <td>00:04:11</td>\n",
       "      <td>617337</td>\n",
       "      <td>120.69</td>\n",
       "      <td>10.94</td>\n",
       "      <td>14886.42</td>\n",
       "      <td>2349187387</td>\n",
       "      <td>8615640</td>\n",
       "      <td>36.214353</td>\n",
       "      <td>...</td>\n",
       "      <td>16.922626</td>\n",
       "      <td>13.333170</td>\n",
       "      <td>4.793225</td>\n",
       "      <td>2</td>\n",
       "      <td>131630.0</td>\n",
       "      <td>0</td>\n",
       "      <td>1</td>\n",
       "      <td>3.760857e+06</td>\n",
       "      <td>3.773714e+06</td>\n",
       "      <td>3.760857e+06</td>\n",
       "    </tr>\n",
       "  </tbody>\n",
       "</table>\n",
       "<p>5 rows × 21 columns</p>\n",
       "</div>"
      ],
      "text/plain": [
       "  report_ending_weekly_starting  number_of_sessions average_session_length  \\\n",
       "0                    2020-01-05            23086410               00:04:07   \n",
       "1                    2020-01-12            23584159               00:04:07   \n",
       "2                    2020-01-19            22004022               00:04:07   \n",
       "3                    2020-01-26            20245042               00:04:15   \n",
       "4                    2020-02-02            22356460               00:04:11   \n",
       "\n",
       "   number_of_unique_clients  tb_downloaded  tb_uploaded  cumulative_bandwidth  \\\n",
       "0                    683250         121.01        12.67              14353.83   \n",
       "1                    640118         116.52        11.14              14501.59   \n",
       "2                    592715         114.50        10.52              14626.62   \n",
       "3                    602685         118.05        10.13              14754.79   \n",
       "4                    617337         120.69        10.94              14886.42   \n",
       "\n",
       "   cumulative_sessions  cumulative_subscribers  sessions_per_user  ...  \\\n",
       "0           2251215052                 8461839          33.789111  ...   \n",
       "1           2284581863                 8502485          36.843455  ...   \n",
       "2           2306585885                 8536567          37.124119  ...   \n",
       "3           2326830927                 8571523          33.591415  ...   \n",
       "4           2349187387                 8615640          36.214353  ...   \n",
       "\n",
       "   log_number_of_sessions  log_number_of_unique_clients  log_tb_downloaded  \\\n",
       "0               16.954755                     13.434616           4.795873   \n",
       "1               16.976086                     13.369408           4.758063   \n",
       "2               16.906736                     13.292469           4.740575   \n",
       "3               16.823420                     13.309150           4.771108   \n",
       "4               16.922626                     13.333170           4.793225   \n",
       "\n",
       "   month   gb_used  heavy_usage_week  activated_week  engaged_session_equiv  \\\n",
       "0      1  133680.0                 0               1           3.819429e+06   \n",
       "1      1  127660.0                 0               1           3.647429e+06   \n",
       "2      1  125020.0                 0               1           3.572000e+06   \n",
       "3      1  128180.0                 0               1           3.662286e+06   \n",
       "4      2  131630.0                 0               1           3.760857e+06   \n",
       "\n",
       "   engaged_next_week_equiv  repeat_equiv  \n",
       "0             3.647429e+06  3.647429e+06  \n",
       "1             3.572000e+06  3.572000e+06  \n",
       "2             3.662286e+06  3.572000e+06  \n",
       "3             3.760857e+06  3.662286e+06  \n",
       "4             3.773714e+06  3.760857e+06  \n",
       "\n",
       "[5 rows x 21 columns]"
      ]
     },
     "execution_count": 61,
     "metadata": {},
     "output_type": "execute_result"
    }
   ],
   "source": [
    "df_sorted.head()"
   ]
  },
  {
   "cell_type": "code",
   "execution_count": 62,
   "id": "09de0062",
   "metadata": {},
   "outputs": [],
   "source": [
    "# For each week (as_of_week), compute R, F, M on prior WINDOW_WEEKS inclusive of that week\n",
    "for idx, row in df_sorted.iterrows():\n",
    "    as_of_week = row[date_col]\n",
    "    start = as_of_week - pd.Timedelta(7*(WINDOW_WEEKS - 1), unit='d')\n",
    "    window = df_sorted[(df_sorted[date_col] >= start) & (df_sorted[date_col] <= as_of_week)]\n",
    "    if window.empty:\n",
    "        continue\n",
    "    # Recency: weeks since last heavy week in window (smaller = better). \n",
    "    heavy_weeks = window.loc[window['heavy_usage_week'] == 1, date_col]\n",
    "    if heavy_weeks.empty:\n",
    "        recency_weeks = np.nan\n",
    "    else:\n",
    "        recency_weeks = (as_of_week - heavy_weeks.max()).days / 7.0\n",
    "    frequency = int(window['heavy_usage_week'].sum())  # count of heavy weeks in window\n",
    "    monetary = float(window['gb_used'].sum())         # total GB in window (proxy)\n",
    "    rfm_records.append({\n",
    "        'as_of_week': as_of_week,\n",
    "        'recency_weeks': recency_weeks,\n",
    "        'frequency': frequency,\n",
    "        'monetary_gb': monetary\n",
    "    })"
   ]
  },
  {
   "cell_type": "code",
   "execution_count": 63,
   "id": "38d12e34",
   "metadata": {},
   "outputs": [],
   "source": [
    "#let's create a dataframe of RFM\n",
    "rfm_df = pd.DataFrame(rfm_records).dropna().reset_index(drop=True)"
   ]
  },
  {
   "cell_type": "code",
   "execution_count": 64,
   "id": "8b019a13",
   "metadata": {},
   "outputs": [
    {
     "data": {
      "text/html": [
       "<div>\n",
       "<style scoped>\n",
       "    .dataframe tbody tr th:only-of-type {\n",
       "        vertical-align: middle;\n",
       "    }\n",
       "\n",
       "    .dataframe tbody tr th {\n",
       "        vertical-align: top;\n",
       "    }\n",
       "\n",
       "    .dataframe thead th {\n",
       "        text-align: right;\n",
       "    }\n",
       "</style>\n",
       "<table border=\"1\" class=\"dataframe\">\n",
       "  <thead>\n",
       "    <tr style=\"text-align: right;\">\n",
       "      <th></th>\n",
       "      <th>as_of_week</th>\n",
       "      <th>recency_weeks</th>\n",
       "      <th>frequency</th>\n",
       "      <th>monetary_gb</th>\n",
       "    </tr>\n",
       "  </thead>\n",
       "  <tbody>\n",
       "    <tr>\n",
       "      <th>0</th>\n",
       "      <td>2022-05-08</td>\n",
       "      <td>0.0</td>\n",
       "      <td>1</td>\n",
       "      <td>1403470.0</td>\n",
       "    </tr>\n",
       "    <tr>\n",
       "      <th>1</th>\n",
       "      <td>2022-05-15</td>\n",
       "      <td>0.0</td>\n",
       "      <td>2</td>\n",
       "      <td>1380980.0</td>\n",
       "    </tr>\n",
       "    <tr>\n",
       "      <th>2</th>\n",
       "      <td>2022-05-22</td>\n",
       "      <td>0.0</td>\n",
       "      <td>3</td>\n",
       "      <td>1357200.0</td>\n",
       "    </tr>\n",
       "    <tr>\n",
       "      <th>3</th>\n",
       "      <td>2022-05-30</td>\n",
       "      <td>0.0</td>\n",
       "      <td>4</td>\n",
       "      <td>1219580.0</td>\n",
       "    </tr>\n",
       "    <tr>\n",
       "      <th>4</th>\n",
       "      <td>2022-06-06</td>\n",
       "      <td>0.0</td>\n",
       "      <td>5</td>\n",
       "      <td>1193550.0</td>\n",
       "    </tr>\n",
       "  </tbody>\n",
       "</table>\n",
       "</div>"
      ],
      "text/plain": [
       "  as_of_week  recency_weeks  frequency  monetary_gb\n",
       "0 2022-05-08            0.0          1    1403470.0\n",
       "1 2022-05-15            0.0          2    1380980.0\n",
       "2 2022-05-22            0.0          3    1357200.0\n",
       "3 2022-05-30            0.0          4    1219580.0\n",
       "4 2022-06-06            0.0          5    1193550.0"
      ]
     },
     "execution_count": 64,
     "metadata": {},
     "output_type": "execute_result"
    }
   ],
   "source": [
    "rfm_df.head()"
   ]
  },
  {
   "cell_type": "code",
   "execution_count": 65,
   "id": "bf828a8c",
   "metadata": {},
   "outputs": [],
   "source": [
    "# Convert to quartile scores:\n",
    "rfm_df['R_score'] = pd.qcut(rfm_df['recency_weeks'].rank(method='first'), 4, labels=[4,3,2,1]).astype(int)\n",
    "rfm_df['F_score'] = pd.qcut(rfm_df['frequency'].rank(method='first'), 4, labels=[1,2,3,4]).astype(int)\n",
    "rfm_df['M_score'] = pd.qcut(rfm_df['monetary_gb'].rank(method='first'), 4, labels=[1,2,3,4]).astype(int)\n",
    "rfm_df['RFM'] = rfm_df['R_score'].astype(str) + rfm_df['F_score'].astype(str) + rfm_df['M_score'].astype(str)"
   ]
  },
  {
   "cell_type": "code",
   "execution_count": 66,
   "id": "3708d3f9",
   "metadata": {},
   "outputs": [
    {
     "data": {
      "text/html": [
       "<div>\n",
       "<style scoped>\n",
       "    .dataframe tbody tr th:only-of-type {\n",
       "        vertical-align: middle;\n",
       "    }\n",
       "\n",
       "    .dataframe tbody tr th {\n",
       "        vertical-align: top;\n",
       "    }\n",
       "\n",
       "    .dataframe thead th {\n",
       "        text-align: right;\n",
       "    }\n",
       "</style>\n",
       "<table border=\"1\" class=\"dataframe\">\n",
       "  <thead>\n",
       "    <tr style=\"text-align: right;\">\n",
       "      <th></th>\n",
       "      <th>as_of_week</th>\n",
       "      <th>recency_weeks</th>\n",
       "      <th>frequency</th>\n",
       "      <th>monetary_gb</th>\n",
       "      <th>R_score</th>\n",
       "      <th>F_score</th>\n",
       "      <th>M_score</th>\n",
       "      <th>RFM</th>\n",
       "    </tr>\n",
       "  </thead>\n",
       "  <tbody>\n",
       "    <tr>\n",
       "      <th>0</th>\n",
       "      <td>2022-05-08</td>\n",
       "      <td>0.0</td>\n",
       "      <td>1</td>\n",
       "      <td>1403470.0</td>\n",
       "      <td>4</td>\n",
       "      <td>1</td>\n",
       "      <td>1</td>\n",
       "      <td>411</td>\n",
       "    </tr>\n",
       "    <tr>\n",
       "      <th>1</th>\n",
       "      <td>2022-05-15</td>\n",
       "      <td>0.0</td>\n",
       "      <td>2</td>\n",
       "      <td>1380980.0</td>\n",
       "      <td>4</td>\n",
       "      <td>1</td>\n",
       "      <td>1</td>\n",
       "      <td>411</td>\n",
       "    </tr>\n",
       "    <tr>\n",
       "      <th>2</th>\n",
       "      <td>2022-05-22</td>\n",
       "      <td>0.0</td>\n",
       "      <td>3</td>\n",
       "      <td>1357200.0</td>\n",
       "      <td>4</td>\n",
       "      <td>2</td>\n",
       "      <td>1</td>\n",
       "      <td>421</td>\n",
       "    </tr>\n",
       "    <tr>\n",
       "      <th>3</th>\n",
       "      <td>2022-05-30</td>\n",
       "      <td>0.0</td>\n",
       "      <td>4</td>\n",
       "      <td>1219580.0</td>\n",
       "      <td>4</td>\n",
       "      <td>2</td>\n",
       "      <td>1</td>\n",
       "      <td>421</td>\n",
       "    </tr>\n",
       "    <tr>\n",
       "      <th>4</th>\n",
       "      <td>2022-06-06</td>\n",
       "      <td>0.0</td>\n",
       "      <td>5</td>\n",
       "      <td>1193550.0</td>\n",
       "      <td>4</td>\n",
       "      <td>2</td>\n",
       "      <td>1</td>\n",
       "      <td>421</td>\n",
       "    </tr>\n",
       "  </tbody>\n",
       "</table>\n",
       "</div>"
      ],
      "text/plain": [
       "  as_of_week  recency_weeks  frequency  monetary_gb  R_score  F_score  \\\n",
       "0 2022-05-08            0.0          1    1403470.0        4        1   \n",
       "1 2022-05-15            0.0          2    1380980.0        4        1   \n",
       "2 2022-05-22            0.0          3    1357200.0        4        2   \n",
       "3 2022-05-30            0.0          4    1219580.0        4        2   \n",
       "4 2022-06-06            0.0          5    1193550.0        4        2   \n",
       "\n",
       "   M_score  RFM  \n",
       "0        1  411  \n",
       "1        1  411  \n",
       "2        1  421  \n",
       "3        1  421  \n",
       "4        1  421  "
      ]
     },
     "execution_count": 66,
     "metadata": {},
     "output_type": "execute_result"
    }
   ],
   "source": [
    "rfm_df.head()"
   ]
  },
  {
   "cell_type": "code",
   "execution_count": 67,
   "id": "9ce02ddc",
   "metadata": {},
   "outputs": [],
   "source": [
    "# Segmentation rules\n",
    "# le't create a simple function to apply \n",
    "def rfm_segment(r):\n",
    "    if r['R_score'] >= 3 and r['F_score'] >= 3 and r['M_score'] >= 3:\n",
    "        return 'Champions'\n",
    "    if r['R_score'] <= 2 and r['F_score'] <= 2 and r['M_score'] <= 2:\n",
    "        return 'Dormant'\n",
    "    if r['F_score'] >= 3:\n",
    "        return 'Frequent'\n",
    "    if r['R_score'] <= 2 and r['F_score'] <= 2:\n",
    "        return 'At-Risk'\n",
    "    return 'Other'"
   ]
  },
  {
   "cell_type": "code",
   "execution_count": 68,
   "id": "493f93bd",
   "metadata": {},
   "outputs": [],
   "source": [
    "rfm_df['segment'] = rfm_df.apply(rfm_segment, axis=1)"
   ]
  },
  {
   "cell_type": "code",
   "execution_count": 80,
   "id": "c04bb1da",
   "metadata": {},
   "outputs": [
    {
     "data": {
      "text/html": [
       "<div>\n",
       "<style scoped>\n",
       "    .dataframe tbody tr th:only-of-type {\n",
       "        vertical-align: middle;\n",
       "    }\n",
       "\n",
       "    .dataframe tbody tr th {\n",
       "        vertical-align: top;\n",
       "    }\n",
       "\n",
       "    .dataframe thead th {\n",
       "        text-align: right;\n",
       "    }\n",
       "</style>\n",
       "<table border=\"1\" class=\"dataframe\">\n",
       "  <thead>\n",
       "    <tr style=\"text-align: right;\">\n",
       "      <th></th>\n",
       "      <th>as_of_week</th>\n",
       "      <th>recency_weeks</th>\n",
       "      <th>frequency</th>\n",
       "      <th>monetary_gb</th>\n",
       "      <th>R_score</th>\n",
       "      <th>F_score</th>\n",
       "      <th>M_score</th>\n",
       "      <th>RFM</th>\n",
       "      <th>segment</th>\n",
       "    </tr>\n",
       "  </thead>\n",
       "  <tbody>\n",
       "    <tr>\n",
       "      <th>0</th>\n",
       "      <td>2022-05-08</td>\n",
       "      <td>0.000000</td>\n",
       "      <td>1</td>\n",
       "      <td>1403470.0</td>\n",
       "      <td>4</td>\n",
       "      <td>1</td>\n",
       "      <td>1</td>\n",
       "      <td>411</td>\n",
       "      <td>Other</td>\n",
       "    </tr>\n",
       "    <tr>\n",
       "      <th>1</th>\n",
       "      <td>2022-05-15</td>\n",
       "      <td>0.000000</td>\n",
       "      <td>2</td>\n",
       "      <td>1380980.0</td>\n",
       "      <td>4</td>\n",
       "      <td>1</td>\n",
       "      <td>1</td>\n",
       "      <td>411</td>\n",
       "      <td>Other</td>\n",
       "    </tr>\n",
       "    <tr>\n",
       "      <th>2</th>\n",
       "      <td>2022-05-22</td>\n",
       "      <td>0.000000</td>\n",
       "      <td>3</td>\n",
       "      <td>1357200.0</td>\n",
       "      <td>4</td>\n",
       "      <td>2</td>\n",
       "      <td>1</td>\n",
       "      <td>421</td>\n",
       "      <td>Other</td>\n",
       "    </tr>\n",
       "    <tr>\n",
       "      <th>3</th>\n",
       "      <td>2022-05-30</td>\n",
       "      <td>0.000000</td>\n",
       "      <td>4</td>\n",
       "      <td>1219580.0</td>\n",
       "      <td>4</td>\n",
       "      <td>2</td>\n",
       "      <td>1</td>\n",
       "      <td>421</td>\n",
       "      <td>Other</td>\n",
       "    </tr>\n",
       "    <tr>\n",
       "      <th>4</th>\n",
       "      <td>2022-06-06</td>\n",
       "      <td>0.000000</td>\n",
       "      <td>5</td>\n",
       "      <td>1193550.0</td>\n",
       "      <td>4</td>\n",
       "      <td>2</td>\n",
       "      <td>1</td>\n",
       "      <td>421</td>\n",
       "      <td>Other</td>\n",
       "    </tr>\n",
       "    <tr>\n",
       "      <th>5</th>\n",
       "      <td>2022-06-13</td>\n",
       "      <td>0.000000</td>\n",
       "      <td>6</td>\n",
       "      <td>1173860.0</td>\n",
       "      <td>4</td>\n",
       "      <td>3</td>\n",
       "      <td>1</td>\n",
       "      <td>431</td>\n",
       "      <td>Frequent</td>\n",
       "    </tr>\n",
       "    <tr>\n",
       "      <th>6</th>\n",
       "      <td>2022-06-19</td>\n",
       "      <td>0.857143</td>\n",
       "      <td>6</td>\n",
       "      <td>1279840.0</td>\n",
       "      <td>3</td>\n",
       "      <td>3</td>\n",
       "      <td>1</td>\n",
       "      <td>331</td>\n",
       "      <td>Frequent</td>\n",
       "    </tr>\n",
       "  </tbody>\n",
       "</table>\n",
       "</div>"
      ],
      "text/plain": [
       "  as_of_week  recency_weeks  frequency  monetary_gb  R_score  F_score  \\\n",
       "0 2022-05-08       0.000000          1    1403470.0        4        1   \n",
       "1 2022-05-15       0.000000          2    1380980.0        4        1   \n",
       "2 2022-05-22       0.000000          3    1357200.0        4        2   \n",
       "3 2022-05-30       0.000000          4    1219580.0        4        2   \n",
       "4 2022-06-06       0.000000          5    1193550.0        4        2   \n",
       "5 2022-06-13       0.000000          6    1173860.0        4        3   \n",
       "6 2022-06-19       0.857143          6    1279840.0        3        3   \n",
       "\n",
       "   M_score  RFM   segment  \n",
       "0        1  411     Other  \n",
       "1        1  411     Other  \n",
       "2        1  421     Other  \n",
       "3        1  421     Other  \n",
       "4        1  421     Other  \n",
       "5        1  431  Frequent  \n",
       "6        1  331  Frequent  "
      ]
     },
     "execution_count": 80,
     "metadata": {},
     "output_type": "execute_result"
    }
   ],
   "source": [
    "rfm_df.head(7)"
   ]
  },
  {
   "cell_type": "code",
   "execution_count": 70,
   "id": "f4519038",
   "metadata": {},
   "outputs": [],
   "source": [
    "# Visual: Frequency vs Monetary, sized by Recency score, colored by segment\n",
    "fig_rfm = px.scatter(rfm_df, x='frequency', y='monetary_gb', size='R_score', color='segment',\n",
    "                        hover_data=['as_of_week', 'recency_weeks', 'RFM'],\n",
    "                        title=f\"RFM scatter (rolling {WINDOW_WEEKS}-week window)\")"
   ]
  },
  {
   "cell_type": "code",
   "execution_count": 71,
   "id": "461317f2",
   "metadata": {},
   "outputs": [
    {
     "data": {
      "application/vnd.plotly.v1+json": {
       "config": {
        "plotlyServerURL": "https://plot.ly"
       },
       "data": [
        {
         "customdata": [
          [
           "2022-05-08T00:00:00",
           0,
           "411"
          ],
          [
           "2022-05-15T00:00:00",
           0,
           "411"
          ],
          [
           "2022-05-22T00:00:00",
           0,
           "421"
          ],
          [
           "2022-05-30T00:00:00",
           0,
           "421"
          ],
          [
           "2022-06-06T00:00:00",
           0,
           "421"
          ],
          [
           "2022-11-27T00:00:00",
           0,
           "412"
          ],
          [
           "2023-01-15T00:00:00",
           0,
           "412"
          ],
          [
           "2023-01-22T00:00:00",
           0,
           "422"
          ],
          [
           "2023-01-29T00:00:00",
           0,
           "422"
          ],
          [
           "2023-02-05T00:00:00",
           0,
           "422"
          ],
          [
           "2023-06-11T00:00:00",
           0,
           "413"
          ],
          [
           "2023-07-09T00:00:00",
           0,
           "413"
          ],
          [
           "2023-07-23T00:00:00",
           0,
           "423"
          ],
          [
           "2023-07-30T00:00:00",
           0,
           "423"
          ],
          [
           "2023-11-19T00:00:00",
           0,
           "424"
          ],
          [
           "2023-11-26T00:00:00",
           0,
           "424"
          ],
          [
           "2024-01-14T00:00:00",
           0,
           "424"
          ],
          [
           "2024-01-21T00:00:00",
           0,
           "423"
          ],
          [
           "2024-09-22T00:00:00",
           0,
           "313"
          ],
          [
           "2025-04-20T00:00:00",
           0,
           "311"
          ],
          [
           "2025-04-27T00:00:00",
           0,
           "321"
          ],
          [
           "2025-05-04T00:00:00",
           0,
           "321"
          ],
          [
           "2025-05-11T00:00:00",
           0,
           "321"
          ]
         ],
         "hovertemplate": "segment=Other<br>frequency=%{x}<br>monetary_gb=%{y}<br>R_score=%{marker.size}<br>as_of_week=%{customdata[0]}<br>recency_weeks=%{customdata[1]}<br>RFM=%{customdata[2]}<extra></extra>",
         "legendgroup": "Other",
         "marker": {
          "color": "#636efa",
          "size": {
           "bdata": "BAQEBAQEBAQEBAQEBAQEBAQEAwMDAwM=",
           "dtype": "i1"
          },
          "sizemode": "area",
          "sizeref": 0.01,
          "symbol": "circle"
         },
         "mode": "markers",
         "name": "Other",
         "orientation": "v",
         "showlegend": true,
         "type": "scatter",
         "x": {
          "bdata": "AQIDBAUBAgMEBQICAwQCAwMEAQECAwQ=",
          "dtype": "i1"
         },
         "xaxis": "x",
         "y": {
          "bdata": "+P///01qNUH4////cxI1Qfj///+PtTRB+v////ubMkH6////TTYyQfX///9brTlB9////3eCOUH3////T4I5Qff////XcjlB9////99gOUH4////2849Qfn////TbD5B+v///yOBPkH5////Y30+Qfj////UpkBB+f///yKGQEH6////+itAQfb///+b/T9B9P///82aPkH4////O9o2Qfn///+rIzdB+f///0N3N0H5////HbE3QQ==",
          "dtype": "f8"
         },
         "yaxis": "y"
        },
        {
         "customdata": [
          [
           "2022-06-13T00:00:00",
           0,
           "431"
          ],
          [
           "2022-06-19T00:00:00",
           0.8571428571428571,
           "331"
          ],
          [
           "2022-06-26T00:00:00",
           0,
           "431"
          ],
          [
           "2022-07-03T00:00:00",
           0,
           "431"
          ],
          [
           "2022-07-10T00:00:00",
           0,
           "441"
          ],
          [
           "2022-07-17T00:00:00",
           1,
           "341"
          ],
          [
           "2022-07-24T00:00:00",
           2,
           "241"
          ],
          [
           "2022-07-31T00:00:00",
           3,
           "231"
          ],
          [
           "2022-08-07T00:00:00",
           4,
           "231"
          ],
          [
           "2022-08-14T00:00:00",
           0,
           "431"
          ],
          [
           "2022-08-21T00:00:00",
           1,
           "331"
          ],
          [
           "2023-02-12T00:00:00",
           0,
           "432"
          ],
          [
           "2023-02-19T00:00:00",
           0,
           "432"
          ],
          [
           "2023-02-26T00:00:00",
           0,
           "432"
          ],
          [
           "2023-03-05T00:00:00",
           0,
           "432"
          ],
          [
           "2023-03-12T00:00:00",
           0,
           "442"
          ],
          [
           "2023-03-19T00:00:00",
           0,
           "442"
          ],
          [
           "2023-03-26T00:00:00",
           0,
           "442"
          ],
          [
           "2023-04-02T00:00:00",
           1,
           "242"
          ],
          [
           "2023-04-09T00:00:00",
           2,
           "242"
          ],
          [
           "2023-04-16T00:00:00",
           3,
           "242"
          ],
          [
           "2023-04-23T00:00:00",
           4,
           "232"
          ],
          [
           "2023-04-30T00:00:00",
           5,
           "132"
          ],
          [
           "2023-05-07T00:00:00",
           6,
           "132"
          ],
          [
           "2023-08-13T00:00:00",
           1,
           "233"
          ],
          [
           "2023-08-20T00:00:00",
           2,
           "233"
          ],
          [
           "2023-09-03T00:00:00",
           1,
           "233"
          ],
          [
           "2023-09-10T00:00:00",
           2,
           "233"
          ],
          [
           "2023-09-17T00:00:00",
           3,
           "234"
          ],
          [
           "2023-09-24T00:00:00",
           4,
           "134"
          ],
          [
           "2023-10-08T00:00:00",
           1,
           "234"
          ],
          [
           "2024-05-05T00:00:00",
           1,
           "244"
          ],
          [
           "2024-05-12T00:00:00",
           2,
           "244"
          ],
          [
           "2024-05-19T00:00:00",
           3,
           "244"
          ],
          [
           "2024-05-26T00:00:00",
           4,
           "134"
          ],
          [
           "2024-06-19T00:00:00",
           1.4285714285714286,
           "234"
          ],
          [
           "2024-06-23T00:00:00",
           2,
           "234"
          ],
          [
           "2024-06-30T00:00:00",
           3,
           "234"
          ],
          [
           "2025-05-18T00:00:00",
           0,
           "331"
          ],
          [
           "2025-05-25T00:00:00",
           0,
           "331"
          ],
          [
           "2025-06-01T00:00:00",
           0,
           "331"
          ],
          [
           "2025-06-08T00:00:00",
           0,
           "342"
          ],
          [
           "2025-06-15T00:00:00",
           0,
           "342"
          ],
          [
           "2025-06-22T00:00:00",
           0,
           "342"
          ],
          [
           "2025-06-29T00:00:00",
           0,
           "341"
          ],
          [
           "2025-07-06T00:00:00",
           0,
           "341"
          ],
          [
           "2025-07-13T00:00:00",
           0,
           "341"
          ],
          [
           "2025-07-20T00:00:00",
           0,
           "341"
          ],
          [
           "2025-07-27T00:00:00",
           0,
           "341"
          ],
          [
           "2025-08-03T00:00:00",
           0,
           "341"
          ],
          [
           "2025-08-10T00:00:00",
           0,
           "341"
          ],
          [
           "2025-08-17T00:00:00",
           0,
           "341"
          ],
          [
           "2025-08-24T00:00:00",
           0,
           "341"
          ],
          [
           "2025-08-31T00:00:00",
           0,
           "342"
          ],
          [
           "2025-09-07T00:00:00",
           0,
           "342"
          ],
          [
           "2025-09-14T00:00:00",
           0,
           "342"
          ],
          [
           "2025-09-21T00:00:00",
           0,
           "342"
          ],
          [
           "2025-09-28T00:00:00",
           0,
           "342"
          ]
         ],
         "hovertemplate": "segment=Frequent<br>frequency=%{x}<br>monetary_gb=%{y}<br>R_score=%{marker.size}<br>as_of_week=%{customdata[0]}<br>recency_weeks=%{customdata[1]}<br>RFM=%{customdata[2]}<extra></extra>",
         "legendgroup": "Frequent",
         "marker": {
          "color": "#EF553B",
          "size": {
           "bdata": "BAMEBAQDAgICBAMEBAQEBAQEAgICAgEBAgICAgIBAgICAgECAgIDAwMDAwMDAwMDAwMDAwMDAwMDAw==",
           "dtype": "i1"
          },
          "sizemode": "area",
          "sizeref": 0.01,
          "symbol": "circle"
         },
         "mode": "markers",
         "name": "Frequent",
         "orientation": "v",
         "showlegend": true,
         "type": "scatter",
         "x": {
          "bdata": "BgYHCAkJCQgHBwYGBgcICQoLCwoJCAcGBQUFBQUFBQsKCQgGBgUFBgcICQoLDAwMDAwMDAwMDAwMDA==",
          "dtype": "i1"
         },
         "xaxis": "x",
         "y": {
          "bdata": "+////2PpMUH7////X4czQfv///+RXzNB+v///98gM0H6////d7syQfr///83ZTJB+v///zX4MkH6////j5gzQfv///99GDRB+v///8GrNEH6////1+A0Qfj///8VlDlB9////13OOUH4////TfI5Qfj///8HJDpB9////1tmOkH4////A9I6Qfj///9lKTtB+v///9lzO0H2////G8M7Qff///8LGTxB9////9tmPEH3////mbw8Qff///9V5zxB9v///08dP0H2////jVc/QfX////zzT9B9f///znnP0H6////kRJAQfr///9jIkBB9////7dGQEH7////NrtCQfr////HQkNB+f///721Q0H4////F0dEQfn///+LokJB+f////DIQ0H5////OCdDQfn///8x6DdB+f////3kN0H4////VR44Qfj///9tODhB+P///3dbOEH4////1Vw4Qff///+3GzhB9////ykEOEH5////SQI4Qfj///8j5zdB9////5fXN0H4////bd43Qfj///+3BzhB+P///9EpOEH3////HzY4Qfj///+BWzhB+f///z+EOEH4////D9c4Qfr///+PYDlB+f///3HsOUE=",
          "dtype": "f8"
         },
         "yaxis": "y"
        },
        {
         "customdata": [
          [
           "2022-08-28T00:00:00",
           2,
           "221"
          ],
          [
           "2022-09-04T00:00:00",
           3,
           "221"
          ],
          [
           "2022-09-11T00:00:00",
           4,
           "221"
          ],
          [
           "2022-09-18T00:00:00",
           5,
           "121"
          ],
          [
           "2022-09-25T00:00:00",
           6,
           "111"
          ],
          [
           "2022-10-02T00:00:00",
           7,
           "111"
          ],
          [
           "2022-10-09T00:00:00",
           8,
           "111"
          ],
          [
           "2022-10-16T00:00:00",
           9,
           "112"
          ],
          [
           "2022-10-23T00:00:00",
           10,
           "112"
          ],
          [
           "2022-10-30T00:00:00",
           11,
           "112"
          ],
          [
           "2022-12-04T00:00:00",
           1,
           "212"
          ],
          [
           "2022-12-11T00:00:00",
           2,
           "212"
          ],
          [
           "2022-12-18T00:00:00",
           3,
           "212"
          ],
          [
           "2022-12-25T00:00:00",
           4,
           "212"
          ],
          [
           "2023-01-01T00:00:00",
           5,
           "112"
          ],
          [
           "2023-01-08T00:00:00",
           6,
           "112"
          ],
          [
           "2023-05-14T00:00:00",
           7,
           "122"
          ],
          [
           "2024-08-18T00:00:00",
           10,
           "122"
          ],
          [
           "2024-08-25T00:00:00",
           11,
           "112"
          ]
         ],
         "hovertemplate": "segment=Dormant<br>frequency=%{x}<br>monetary_gb=%{y}<br>R_score=%{marker.size}<br>as_of_week=%{customdata[0]}<br>recency_weeks=%{customdata[1]}<br>RFM=%{customdata[2]}<extra></extra>",
         "legendgroup": "Dormant",
         "marker": {
          "color": "#00cc96",
          "size": {
           "bdata": "AgICAQEBAQEBAQICAgIBAQEBAQ==",
           "dtype": "i1"
          },
          "sizemode": "area",
          "sizeref": 0.01,
          "symbol": "circle"
         },
         "mode": "markers",
         "name": "Dormant",
         "orientation": "v",
         "showlegend": true,
         "type": "scatter",
         "x": {
          "bdata": "BQQEAwIBAQEBAQEBAQEBAQUCAQ==",
          "dtype": "i1"
         },
         "xaxis": "x",
         "y": {
          "bdata": "+P///+9oNUH3////6/M1QfX///87ijZB9////4/5NkH2////91k3Qfb///8LkTdB9v///xv5N0H0////81c4QfT///9vqThB8////2H4OEH2////S6k5QfX///+przlB9v///+eoOUH2////B505Qfb///8PizlB9////8OBOUH3////Wwk9QfT///+vtTxB9P///98lPUE=",
          "dtype": "f8"
         },
         "yaxis": "y"
        },
        {
         "customdata": [
          [
           "2023-05-21T00:00:00",
           8,
           "123"
          ],
          [
           "2023-05-28T00:00:00",
           9,
           "123"
          ],
          [
           "2023-06-04T00:00:00",
           10,
           "113"
          ],
          [
           "2023-06-18T00:00:00",
           1,
           "213"
          ],
          [
           "2023-06-25T00:00:00",
           2,
           "213"
          ],
          [
           "2023-07-02T00:00:00",
           3,
           "213"
          ],
          [
           "2023-07-16T00:00:00",
           1,
           "213"
          ],
          [
           "2023-10-15T00:00:00",
           2,
           "224"
          ],
          [
           "2023-10-22T00:00:00",
           3,
           "224"
          ],
          [
           "2023-10-29T00:00:00",
           4,
           "114"
          ],
          [
           "2023-11-05T00:00:00",
           5,
           "114"
          ],
          [
           "2023-11-12T00:00:00",
           6,
           "124"
          ],
          [
           "2023-12-03T00:00:00",
           1,
           "224"
          ],
          [
           "2023-12-10T00:00:00",
           2,
           "224"
          ],
          [
           "2023-12-17T00:00:00",
           3,
           "224"
          ],
          [
           "2023-12-24T00:00:00",
           4,
           "124"
          ],
          [
           "2023-12-31T00:00:00",
           5,
           "124"
          ],
          [
           "2024-01-07T00:00:00",
           6,
           "124"
          ],
          [
           "2024-07-07T00:00:00",
           4,
           "124"
          ],
          [
           "2024-07-14T00:00:00",
           5,
           "124"
          ],
          [
           "2024-07-21T00:00:00",
           6,
           "124"
          ],
          [
           "2024-07-28T00:00:00",
           7,
           "124"
          ],
          [
           "2024-08-04T00:00:00",
           8,
           "123"
          ],
          [
           "2024-08-11T00:00:00",
           9,
           "123"
          ],
          [
           "2024-09-29T00:00:00",
           1,
           "213"
          ],
          [
           "2024-10-06T00:00:00",
           2,
           "213"
          ],
          [
           "2024-10-13T00:00:00",
           3,
           "213"
          ],
          [
           "2024-10-20T00:00:00",
           4,
           "113"
          ],
          [
           "2024-10-27T00:00:00",
           5,
           "113"
          ],
          [
           "2024-11-03T00:00:00",
           6,
           "113"
          ],
          [
           "2024-11-10T00:00:00",
           7,
           "113"
          ],
          [
           "2024-11-17T00:00:00",
           8,
           "113"
          ],
          [
           "2024-11-24T00:00:00",
           9,
           "113"
          ],
          [
           "2024-12-01T00:00:00",
           10,
           "113"
          ],
          [
           "2024-12-08T00:00:00",
           11,
           "113"
          ]
         ],
         "hovertemplate": "segment=At-Risk<br>frequency=%{x}<br>monetary_gb=%{y}<br>R_score=%{marker.size}<br>as_of_week=%{customdata[0]}<br>recency_weeks=%{customdata[1]}<br>RFM=%{customdata[2]}<extra></extra>",
         "legendgroup": "At-Risk",
         "marker": {
          "color": "#ab63fa",
          "size": {
           "bdata": "AQEBAgICAgICAQEBAgICAQEBAQEBAQEBAgICAQEBAQEBAQE=",
           "dtype": "i1"
          },
          "sizemode": "area",
          "sizeref": 0.01,
          "symbol": "circle"
         },
         "mode": "markers",
         "name": "At-Risk",
         "orientation": "v",
         "showlegend": true,
         "type": "scatter",
         "x": {
          "bdata": "BAMCAQEBAgQDAgICAwMDAgICBAMCAgICAQEBAQEBAQEBAQE=",
          "dtype": "i1"
         },
         "xaxis": "x",
         "y": {
          "bdata": "9f///3UrPUH3////2U49Qfb///9Vgj1B9////+8KPkH3////TT4+Qfj///8PaD5B+f///zWIPkH4////73JAQfj///+TkkBB+P///0uUQEH4////dpFAQfj////Bm0BB+P///4aBQEH4////x3xAQfj///9Le0BB+f///y12QEH5/////1NAQfn////3M0BB+P///7crQkH4////mq1BQfj///8mIkFB+P///4aQQEHx////A+s/QfP////ngD5B9P///53KPkH0////PQc/QfP///9rKT9B9P///3EeP0Hy////tTQ/QfL///+VbT9B9P///0OcP0Hy////PWs/QfT////5BD9B8v///3F0PkH0////x789QQ==",
          "dtype": "f8"
         },
         "yaxis": "y"
        },
        {
         "customdata": [
          [
           "2023-08-06T00:00:00",
           0,
           "433"
          ],
          [
           "2023-08-27T00:00:00",
           0,
           "433"
          ],
          [
           "2023-10-01T00:00:00",
           0,
           "434"
          ],
          [
           "2024-01-28T00:00:00",
           0,
           "433"
          ],
          [
           "2024-02-04T00:00:00",
           0,
           "433"
          ],
          [
           "2024-02-11T00:00:00",
           0,
           "433"
          ],
          [
           "2024-02-18T00:00:00",
           0,
           "433"
          ],
          [
           "2024-02-25T00:00:00",
           0,
           "434"
          ],
          [
           "2024-03-03T00:00:00",
           0,
           "434"
          ],
          [
           "2024-03-10T00:00:00",
           0,
           "344"
          ],
          [
           "2024-03-17T00:00:00",
           0,
           "343"
          ],
          [
           "2024-03-24T00:00:00",
           0,
           "343"
          ],
          [
           "2024-03-31T00:00:00",
           0,
           "344"
          ],
          [
           "2024-04-07T00:00:00",
           0,
           "344"
          ],
          [
           "2024-04-14T00:00:00",
           0,
           "344"
          ],
          [
           "2024-04-21T00:00:00",
           0,
           "344"
          ],
          [
           "2024-04-28T00:00:00",
           0,
           "344"
          ],
          [
           "2024-06-02T00:00:00",
           0,
           "344"
          ],
          [
           "2024-06-09T00:00:00",
           0,
           "344"
          ]
         ],
         "hovertemplate": "segment=Champions<br>frequency=%{x}<br>monetary_gb=%{y}<br>R_score=%{marker.size}<br>as_of_week=%{customdata[0]}<br>recency_weeks=%{customdata[1]}<br>RFM=%{customdata[2]}<extra></extra>",
         "legendgroup": "Champions",
         "marker": {
          "color": "#FFA15A",
          "size": {
           "bdata": "BAQEBAQEBAQEAwMDAwMDAwMDAw==",
           "dtype": "i1"
          },
          "sizemode": "area",
          "sizeref": 0.01,
          "symbol": "circle"
         },
         "mode": "markers",
         "name": "Champions",
         "orientation": "v",
         "showlegend": true,
         "type": "scatter",
         "x": {
          "bdata": "BQYFBQYGBgcICQoLDAwMDAwICA==",
          "dtype": "i1"
         },
         "xaxis": "x",
         "y": {
          "bdata": "9////3HOPkH0/////5k/Qfn///8UK0BB9////+/5P0H3////k/Y/Qfb////D+D9B/P///0gQQEH8////jzdAQfz///+4WUBB/P////1uQEH4////Q78/Qfn///936j9B/P///840QEH7////HbhAQfv////FoEFB+////130QUH7////FVVCQfj///9q6kNB9////1dSREE=",
          "dtype": "f8"
         },
         "yaxis": "y"
        }
       ],
       "layout": {
        "legend": {
         "itemsizing": "constant",
         "title": {
          "text": "segment"
         },
         "tracegroupgap": 0
        },
        "template": {
         "data": {
          "bar": [
           {
            "error_x": {
             "color": "#2a3f5f"
            },
            "error_y": {
             "color": "#2a3f5f"
            },
            "marker": {
             "line": {
              "color": "#E5ECF6",
              "width": 0.5
             },
             "pattern": {
              "fillmode": "overlay",
              "size": 10,
              "solidity": 0.2
             }
            },
            "type": "bar"
           }
          ],
          "barpolar": [
           {
            "marker": {
             "line": {
              "color": "#E5ECF6",
              "width": 0.5
             },
             "pattern": {
              "fillmode": "overlay",
              "size": 10,
              "solidity": 0.2
             }
            },
            "type": "barpolar"
           }
          ],
          "carpet": [
           {
            "aaxis": {
             "endlinecolor": "#2a3f5f",
             "gridcolor": "white",
             "linecolor": "white",
             "minorgridcolor": "white",
             "startlinecolor": "#2a3f5f"
            },
            "baxis": {
             "endlinecolor": "#2a3f5f",
             "gridcolor": "white",
             "linecolor": "white",
             "minorgridcolor": "white",
             "startlinecolor": "#2a3f5f"
            },
            "type": "carpet"
           }
          ],
          "choropleth": [
           {
            "colorbar": {
             "outlinewidth": 0,
             "ticks": ""
            },
            "type": "choropleth"
           }
          ],
          "contour": [
           {
            "colorbar": {
             "outlinewidth": 0,
             "ticks": ""
            },
            "colorscale": [
             [
              0,
              "#0d0887"
             ],
             [
              0.1111111111111111,
              "#46039f"
             ],
             [
              0.2222222222222222,
              "#7201a8"
             ],
             [
              0.3333333333333333,
              "#9c179e"
             ],
             [
              0.4444444444444444,
              "#bd3786"
             ],
             [
              0.5555555555555556,
              "#d8576b"
             ],
             [
              0.6666666666666666,
              "#ed7953"
             ],
             [
              0.7777777777777778,
              "#fb9f3a"
             ],
             [
              0.8888888888888888,
              "#fdca26"
             ],
             [
              1,
              "#f0f921"
             ]
            ],
            "type": "contour"
           }
          ],
          "contourcarpet": [
           {
            "colorbar": {
             "outlinewidth": 0,
             "ticks": ""
            },
            "type": "contourcarpet"
           }
          ],
          "heatmap": [
           {
            "colorbar": {
             "outlinewidth": 0,
             "ticks": ""
            },
            "colorscale": [
             [
              0,
              "#0d0887"
             ],
             [
              0.1111111111111111,
              "#46039f"
             ],
             [
              0.2222222222222222,
              "#7201a8"
             ],
             [
              0.3333333333333333,
              "#9c179e"
             ],
             [
              0.4444444444444444,
              "#bd3786"
             ],
             [
              0.5555555555555556,
              "#d8576b"
             ],
             [
              0.6666666666666666,
              "#ed7953"
             ],
             [
              0.7777777777777778,
              "#fb9f3a"
             ],
             [
              0.8888888888888888,
              "#fdca26"
             ],
             [
              1,
              "#f0f921"
             ]
            ],
            "type": "heatmap"
           }
          ],
          "histogram": [
           {
            "marker": {
             "pattern": {
              "fillmode": "overlay",
              "size": 10,
              "solidity": 0.2
             }
            },
            "type": "histogram"
           }
          ],
          "histogram2d": [
           {
            "colorbar": {
             "outlinewidth": 0,
             "ticks": ""
            },
            "colorscale": [
             [
              0,
              "#0d0887"
             ],
             [
              0.1111111111111111,
              "#46039f"
             ],
             [
              0.2222222222222222,
              "#7201a8"
             ],
             [
              0.3333333333333333,
              "#9c179e"
             ],
             [
              0.4444444444444444,
              "#bd3786"
             ],
             [
              0.5555555555555556,
              "#d8576b"
             ],
             [
              0.6666666666666666,
              "#ed7953"
             ],
             [
              0.7777777777777778,
              "#fb9f3a"
             ],
             [
              0.8888888888888888,
              "#fdca26"
             ],
             [
              1,
              "#f0f921"
             ]
            ],
            "type": "histogram2d"
           }
          ],
          "histogram2dcontour": [
           {
            "colorbar": {
             "outlinewidth": 0,
             "ticks": ""
            },
            "colorscale": [
             [
              0,
              "#0d0887"
             ],
             [
              0.1111111111111111,
              "#46039f"
             ],
             [
              0.2222222222222222,
              "#7201a8"
             ],
             [
              0.3333333333333333,
              "#9c179e"
             ],
             [
              0.4444444444444444,
              "#bd3786"
             ],
             [
              0.5555555555555556,
              "#d8576b"
             ],
             [
              0.6666666666666666,
              "#ed7953"
             ],
             [
              0.7777777777777778,
              "#fb9f3a"
             ],
             [
              0.8888888888888888,
              "#fdca26"
             ],
             [
              1,
              "#f0f921"
             ]
            ],
            "type": "histogram2dcontour"
           }
          ],
          "mesh3d": [
           {
            "colorbar": {
             "outlinewidth": 0,
             "ticks": ""
            },
            "type": "mesh3d"
           }
          ],
          "parcoords": [
           {
            "line": {
             "colorbar": {
              "outlinewidth": 0,
              "ticks": ""
             }
            },
            "type": "parcoords"
           }
          ],
          "pie": [
           {
            "automargin": true,
            "type": "pie"
           }
          ],
          "scatter": [
           {
            "fillpattern": {
             "fillmode": "overlay",
             "size": 10,
             "solidity": 0.2
            },
            "type": "scatter"
           }
          ],
          "scatter3d": [
           {
            "line": {
             "colorbar": {
              "outlinewidth": 0,
              "ticks": ""
             }
            },
            "marker": {
             "colorbar": {
              "outlinewidth": 0,
              "ticks": ""
             }
            },
            "type": "scatter3d"
           }
          ],
          "scattercarpet": [
           {
            "marker": {
             "colorbar": {
              "outlinewidth": 0,
              "ticks": ""
             }
            },
            "type": "scattercarpet"
           }
          ],
          "scattergeo": [
           {
            "marker": {
             "colorbar": {
              "outlinewidth": 0,
              "ticks": ""
             }
            },
            "type": "scattergeo"
           }
          ],
          "scattergl": [
           {
            "marker": {
             "colorbar": {
              "outlinewidth": 0,
              "ticks": ""
             }
            },
            "type": "scattergl"
           }
          ],
          "scattermap": [
           {
            "marker": {
             "colorbar": {
              "outlinewidth": 0,
              "ticks": ""
             }
            },
            "type": "scattermap"
           }
          ],
          "scattermapbox": [
           {
            "marker": {
             "colorbar": {
              "outlinewidth": 0,
              "ticks": ""
             }
            },
            "type": "scattermapbox"
           }
          ],
          "scatterpolar": [
           {
            "marker": {
             "colorbar": {
              "outlinewidth": 0,
              "ticks": ""
             }
            },
            "type": "scatterpolar"
           }
          ],
          "scatterpolargl": [
           {
            "marker": {
             "colorbar": {
              "outlinewidth": 0,
              "ticks": ""
             }
            },
            "type": "scatterpolargl"
           }
          ],
          "scatterternary": [
           {
            "marker": {
             "colorbar": {
              "outlinewidth": 0,
              "ticks": ""
             }
            },
            "type": "scatterternary"
           }
          ],
          "surface": [
           {
            "colorbar": {
             "outlinewidth": 0,
             "ticks": ""
            },
            "colorscale": [
             [
              0,
              "#0d0887"
             ],
             [
              0.1111111111111111,
              "#46039f"
             ],
             [
              0.2222222222222222,
              "#7201a8"
             ],
             [
              0.3333333333333333,
              "#9c179e"
             ],
             [
              0.4444444444444444,
              "#bd3786"
             ],
             [
              0.5555555555555556,
              "#d8576b"
             ],
             [
              0.6666666666666666,
              "#ed7953"
             ],
             [
              0.7777777777777778,
              "#fb9f3a"
             ],
             [
              0.8888888888888888,
              "#fdca26"
             ],
             [
              1,
              "#f0f921"
             ]
            ],
            "type": "surface"
           }
          ],
          "table": [
           {
            "cells": {
             "fill": {
              "color": "#EBF0F8"
             },
             "line": {
              "color": "white"
             }
            },
            "header": {
             "fill": {
              "color": "#C8D4E3"
             },
             "line": {
              "color": "white"
             }
            },
            "type": "table"
           }
          ]
         },
         "layout": {
          "annotationdefaults": {
           "arrowcolor": "#2a3f5f",
           "arrowhead": 0,
           "arrowwidth": 1
          },
          "autotypenumbers": "strict",
          "coloraxis": {
           "colorbar": {
            "outlinewidth": 0,
            "ticks": ""
           }
          },
          "colorscale": {
           "diverging": [
            [
             0,
             "#8e0152"
            ],
            [
             0.1,
             "#c51b7d"
            ],
            [
             0.2,
             "#de77ae"
            ],
            [
             0.3,
             "#f1b6da"
            ],
            [
             0.4,
             "#fde0ef"
            ],
            [
             0.5,
             "#f7f7f7"
            ],
            [
             0.6,
             "#e6f5d0"
            ],
            [
             0.7,
             "#b8e186"
            ],
            [
             0.8,
             "#7fbc41"
            ],
            [
             0.9,
             "#4d9221"
            ],
            [
             1,
             "#276419"
            ]
           ],
           "sequential": [
            [
             0,
             "#0d0887"
            ],
            [
             0.1111111111111111,
             "#46039f"
            ],
            [
             0.2222222222222222,
             "#7201a8"
            ],
            [
             0.3333333333333333,
             "#9c179e"
            ],
            [
             0.4444444444444444,
             "#bd3786"
            ],
            [
             0.5555555555555556,
             "#d8576b"
            ],
            [
             0.6666666666666666,
             "#ed7953"
            ],
            [
             0.7777777777777778,
             "#fb9f3a"
            ],
            [
             0.8888888888888888,
             "#fdca26"
            ],
            [
             1,
             "#f0f921"
            ]
           ],
           "sequentialminus": [
            [
             0,
             "#0d0887"
            ],
            [
             0.1111111111111111,
             "#46039f"
            ],
            [
             0.2222222222222222,
             "#7201a8"
            ],
            [
             0.3333333333333333,
             "#9c179e"
            ],
            [
             0.4444444444444444,
             "#bd3786"
            ],
            [
             0.5555555555555556,
             "#d8576b"
            ],
            [
             0.6666666666666666,
             "#ed7953"
            ],
            [
             0.7777777777777778,
             "#fb9f3a"
            ],
            [
             0.8888888888888888,
             "#fdca26"
            ],
            [
             1,
             "#f0f921"
            ]
           ]
          },
          "colorway": [
           "#636efa",
           "#EF553B",
           "#00cc96",
           "#ab63fa",
           "#FFA15A",
           "#19d3f3",
           "#FF6692",
           "#B6E880",
           "#FF97FF",
           "#FECB52"
          ],
          "font": {
           "color": "#2a3f5f"
          },
          "geo": {
           "bgcolor": "white",
           "lakecolor": "white",
           "landcolor": "#E5ECF6",
           "showlakes": true,
           "showland": true,
           "subunitcolor": "white"
          },
          "hoverlabel": {
           "align": "left"
          },
          "hovermode": "closest",
          "mapbox": {
           "style": "light"
          },
          "paper_bgcolor": "white",
          "plot_bgcolor": "#E5ECF6",
          "polar": {
           "angularaxis": {
            "gridcolor": "white",
            "linecolor": "white",
            "ticks": ""
           },
           "bgcolor": "#E5ECF6",
           "radialaxis": {
            "gridcolor": "white",
            "linecolor": "white",
            "ticks": ""
           }
          },
          "scene": {
           "xaxis": {
            "backgroundcolor": "#E5ECF6",
            "gridcolor": "white",
            "gridwidth": 2,
            "linecolor": "white",
            "showbackground": true,
            "ticks": "",
            "zerolinecolor": "white"
           },
           "yaxis": {
            "backgroundcolor": "#E5ECF6",
            "gridcolor": "white",
            "gridwidth": 2,
            "linecolor": "white",
            "showbackground": true,
            "ticks": "",
            "zerolinecolor": "white"
           },
           "zaxis": {
            "backgroundcolor": "#E5ECF6",
            "gridcolor": "white",
            "gridwidth": 2,
            "linecolor": "white",
            "showbackground": true,
            "ticks": "",
            "zerolinecolor": "white"
           }
          },
          "shapedefaults": {
           "line": {
            "color": "#2a3f5f"
           }
          },
          "ternary": {
           "aaxis": {
            "gridcolor": "white",
            "linecolor": "white",
            "ticks": ""
           },
           "baxis": {
            "gridcolor": "white",
            "linecolor": "white",
            "ticks": ""
           },
           "bgcolor": "#E5ECF6",
           "caxis": {
            "gridcolor": "white",
            "linecolor": "white",
            "ticks": ""
           }
          },
          "title": {
           "x": 0.05
          },
          "xaxis": {
           "automargin": true,
           "gridcolor": "white",
           "linecolor": "white",
           "ticks": "",
           "title": {
            "standoff": 15
           },
           "zerolinecolor": "white",
           "zerolinewidth": 2
          },
          "yaxis": {
           "automargin": true,
           "gridcolor": "white",
           "linecolor": "white",
           "ticks": "",
           "title": {
            "standoff": 15
           },
           "zerolinecolor": "white",
           "zerolinewidth": 2
          }
         }
        },
        "title": {
         "text": "RFM scatter (rolling 12-week window)"
        },
        "xaxis": {
         "anchor": "y",
         "domain": [
          0,
          1
         ],
         "title": {
          "text": "frequency"
         }
        },
        "yaxis": {
         "anchor": "x",
         "domain": [
          0,
          1
         ],
         "title": {
          "text": "monetary_gb"
         }
        }
       }
      }
     },
     "metadata": {},
     "output_type": "display_data"
    }
   ],
   "source": [
    "fig_rfm"
   ]
  },
  {
   "cell_type": "markdown",
   "id": "69dd9bf7",
   "metadata": {},
   "source": [
    "\n",
    "### Interpretation & ROI:\n",
    "- `Champions` are high recency/frequency/monetary -> best immediate ROI for premium sponsorships.\n",
    "-  `Frequent` are reliable reach; \n",
    "- `At-Risk` or `Dormant` are candidate equity or infrastructure checks."
   ]
  },
  {
   "cell_type": "markdown",
   "id": "babe2fa5",
   "metadata": {},
   "source": [
    "# Cohorts & Retention\n",
    "- Cohorts built by week of first heavy_usage_week (the week where GB_per_session >= 0.035).\n",
    "- For each cohort , I tracked W0 to W4 whether the week had heavy usage.\n",
    "#### Retention results (city-level weekly cohorts)\n",
    "\n",
    "- Number of cohorts that started with a heavy week: 74\n",
    "- W0 → W1 retention (heavy weeks): 0.784 (78.4% of heavy-week cohorts had a heavy week the next calendar week)\n",
    "- W0 → W4 return (had any heavy week in next 4 weeks): 0.824 (82.4%)\n",
    "\n",
    "### Ethics & Equity (embedded)\n",
    "Risk: if the City optimizes purely for high-yield kiosks (high GB/session or high sessions), investments and ad revenue will concentrate in already-well-served neighborhoods widening the digital divide.\n",
    "- Measurement / bias: low usage areas are in risk of being labeled “low ROI”.\n",
    "\n",
    "# RFM segmentation & ROI\n",
    "Rolling 12-week window at city-level\n",
    "- R (Recency): weeks since last heavy_usage_week within the rolling window. Lower recency → better score.\n",
    "- F (Frequency): count of heavy_usage_week in the rolling 12-weeks window.\n",
    "- M (Monetary proxy): total GB in the rolling 12-week window.\n",
    "#### Scoring & segments\n",
    "- Each of R, F, M is converted to quartile scores (1–4).\n",
    "- Simple segmentation rules (examples used):\n",
    " - Champions: R ≥3, F ≥3, M ≥3 (top quartiles on all)\n",
    " - Dormant: low on all three\n",
    " - Frequent: high F\n",
    " - At-Risk: older recency & low frequency\n",
    "\n",
    "#### Results\n",
    "- Rows computed 154 as-of-week RFM observations\n",
    "### RFM --> ROI\n",
    "- Champions: best immediate ROI candidates for premium sponsorships (recent, frequent heavy usage, and lots of GB → higher attention/video-friendly).\n",
    "- Frequent: dependable reach; good for mid-tier campaigns with frequency caps.\n",
    "- At-Risk/Dormant: consider infrastructure checks, outreach, or equity programs rather than immediate monetization.\n",
    "### Assumptions\n",
    "- Monetary (GB) is a proxy for attention — higher GB usually correlates with longer viewing/interaction time but is not a perfect substitute for ad impressions or viewability metrics.\n",
    "\n",
    "\n",
    "\n"
   ]
  }
 ],
 "metadata": {
  "kernelspec": {
   "display_name": "data-analysis-env",
   "language": "python",
   "name": "python3"
  },
  "language_info": {
   "codemirror_mode": {
    "name": "ipython",
    "version": 3
   },
   "file_extension": ".py",
   "mimetype": "text/x-python",
   "name": "python",
   "nbconvert_exporter": "python",
   "pygments_lexer": "ipython3",
   "version": "3.9.22"
  }
 },
 "nbformat": 4,
 "nbformat_minor": 5
}
