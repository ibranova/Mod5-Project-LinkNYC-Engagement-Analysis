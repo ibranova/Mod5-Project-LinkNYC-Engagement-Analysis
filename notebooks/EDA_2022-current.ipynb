{
 "cells": [
  {
   "cell_type": "markdown",
   "id": "ae8985dd",
   "metadata": {},
   "source": [
    "### Import of necessary libraries for the analysis"
   ]
  },
  {
   "cell_type": "code",
   "execution_count": 69,
   "id": "49abb030",
   "metadata": {},
   "outputs": [],
   "source": [
    "import pandas as pd\n",
    "import numpy as np\n",
    "import matplotlib as plt\n",
    "import datetime as date"
   ]
  },
  {
   "cell_type": "code",
   "execution_count": 70,
   "id": "6b6445ed",
   "metadata": {},
   "outputs": [],
   "source": [
    "df_weekly = pd.read_csv('/Users/Marcy_Student/Desktop/Marcy_Projects/Mod5-Project-LinkNYC-Engagement-Analysis/data/raw/LinkNYC_Weekly_Usage__Updated__20251008.csv')"
   ]
  },
  {
   "cell_type": "code",
   "execution_count": 71,
   "id": "ed11789c",
   "metadata": {},
   "outputs": [
    {
     "data": {
      "text/html": [
       "<div>\n",
       "<style scoped>\n",
       "    .dataframe tbody tr th:only-of-type {\n",
       "        vertical-align: middle;\n",
       "    }\n",
       "\n",
       "    .dataframe tbody tr th {\n",
       "        vertical-align: top;\n",
       "    }\n",
       "\n",
       "    .dataframe thead th {\n",
       "        text-align: right;\n",
       "    }\n",
       "</style>\n",
       "<table border=\"1\" class=\"dataframe\">\n",
       "  <thead>\n",
       "    <tr style=\"text-align: right;\">\n",
       "      <th></th>\n",
       "      <th>Report Ending (weekly starting on Sundays)</th>\n",
       "      <th>Number of Sessions</th>\n",
       "      <th>Average Session Length</th>\n",
       "      <th>Number of Unique Clients</th>\n",
       "      <th>TB Downloaded</th>\n",
       "      <th>TB Uploaded</th>\n",
       "      <th>Cumulative Bandwidth Utilization To Date (TB)</th>\n",
       "      <th>Cumulative Sessions To Date</th>\n",
       "      <th>Cumulative Subscribers To Date</th>\n",
       "    </tr>\n",
       "  </thead>\n",
       "  <tbody>\n",
       "    <tr>\n",
       "      <th>0</th>\n",
       "      <td>01/05/2020</td>\n",
       "      <td>23086410</td>\n",
       "      <td>00:04:07</td>\n",
       "      <td>683250</td>\n",
       "      <td>121.01</td>\n",
       "      <td>12.67</td>\n",
       "      <td>14353.83</td>\n",
       "      <td>2251215052</td>\n",
       "      <td>8461839</td>\n",
       "    </tr>\n",
       "    <tr>\n",
       "      <th>1</th>\n",
       "      <td>01/12/2020</td>\n",
       "      <td>23584159</td>\n",
       "      <td>00:04:07</td>\n",
       "      <td>640118</td>\n",
       "      <td>116.52</td>\n",
       "      <td>11.14</td>\n",
       "      <td>14501.59</td>\n",
       "      <td>2284581863</td>\n",
       "      <td>8502485</td>\n",
       "    </tr>\n",
       "    <tr>\n",
       "      <th>2</th>\n",
       "      <td>01/19/2020</td>\n",
       "      <td>22004022</td>\n",
       "      <td>00:04:07</td>\n",
       "      <td>592715</td>\n",
       "      <td>114.50</td>\n",
       "      <td>10.52</td>\n",
       "      <td>14626.62</td>\n",
       "      <td>2306585885</td>\n",
       "      <td>8536567</td>\n",
       "    </tr>\n",
       "    <tr>\n",
       "      <th>3</th>\n",
       "      <td>01/26/2020</td>\n",
       "      <td>20245042</td>\n",
       "      <td>00:04:15</td>\n",
       "      <td>602685</td>\n",
       "      <td>118.05</td>\n",
       "      <td>10.13</td>\n",
       "      <td>14754.79</td>\n",
       "      <td>2326830927</td>\n",
       "      <td>8571523</td>\n",
       "    </tr>\n",
       "    <tr>\n",
       "      <th>4</th>\n",
       "      <td>02/02/2020</td>\n",
       "      <td>22356460</td>\n",
       "      <td>00:04:11</td>\n",
       "      <td>617337</td>\n",
       "      <td>120.69</td>\n",
       "      <td>10.94</td>\n",
       "      <td>14886.42</td>\n",
       "      <td>2349187387</td>\n",
       "      <td>8615640</td>\n",
       "    </tr>\n",
       "  </tbody>\n",
       "</table>\n",
       "</div>"
      ],
      "text/plain": [
       "  Report Ending (weekly starting on Sundays)  Number of Sessions  \\\n",
       "0                                 01/05/2020            23086410   \n",
       "1                                 01/12/2020            23584159   \n",
       "2                                 01/19/2020            22004022   \n",
       "3                                 01/26/2020            20245042   \n",
       "4                                 02/02/2020            22356460   \n",
       "\n",
       "  Average Session Length  Number of Unique Clients  TB Downloaded  \\\n",
       "0               00:04:07                    683250         121.01   \n",
       "1               00:04:07                    640118         116.52   \n",
       "2               00:04:07                    592715         114.50   \n",
       "3               00:04:15                    602685         118.05   \n",
       "4               00:04:11                    617337         120.69   \n",
       "\n",
       "   TB Uploaded  Cumulative Bandwidth Utilization To Date (TB)  \\\n",
       "0        12.67                                       14353.83   \n",
       "1        11.14                                       14501.59   \n",
       "2        10.52                                       14626.62   \n",
       "3        10.13                                       14754.79   \n",
       "4        10.94                                       14886.42   \n",
       "\n",
       "   Cumulative Sessions To Date  Cumulative Subscribers To Date  \n",
       "0                   2251215052                         8461839  \n",
       "1                   2284581863                         8502485  \n",
       "2                   2306585885                         8536567  \n",
       "3                   2326830927                         8571523  \n",
       "4                   2349187387                         8615640  "
      ]
     },
     "execution_count": 71,
     "metadata": {},
     "output_type": "execute_result"
    }
   ],
   "source": [
    "df_weekly.head()"
   ]
  },
  {
   "cell_type": "code",
   "execution_count": 72,
   "id": "6c0786ab",
   "metadata": {},
   "outputs": [
    {
     "name": "stdout",
     "output_type": "stream",
     "text": [
      "<class 'pandas.core.frame.DataFrame'>\n",
      "RangeIndex: 300 entries, 0 to 299\n",
      "Data columns (total 9 columns):\n",
      " #   Column                                         Non-Null Count  Dtype  \n",
      "---  ------                                         --------------  -----  \n",
      " 0   Report Ending (weekly starting on Sundays)     300 non-null    object \n",
      " 1   Number of Sessions                             300 non-null    int64  \n",
      " 2   Average Session Length                         300 non-null    object \n",
      " 3   Number of Unique Clients                       300 non-null    int64  \n",
      " 4   TB Downloaded                                  300 non-null    float64\n",
      " 5   TB Uploaded                                    300 non-null    float64\n",
      " 6   Cumulative Bandwidth Utilization To Date (TB)  300 non-null    float64\n",
      " 7   Cumulative Sessions To Date                    300 non-null    int64  \n",
      " 8   Cumulative Subscribers To Date                 300 non-null    int64  \n",
      "dtypes: float64(3), int64(4), object(2)\n",
      "memory usage: 21.2+ KB\n"
     ]
    }
   ],
   "source": [
    "df_weekly.info()"
   ]
  },
  {
   "cell_type": "code",
   "execution_count": 73,
   "id": "916b41d5",
   "metadata": {},
   "outputs": [
    {
     "data": {
      "text/plain": [
       "(300, 9)"
      ]
     },
     "execution_count": 73,
     "metadata": {},
     "output_type": "execute_result"
    }
   ],
   "source": [
    "df_weekly.shape"
   ]
  },
  {
   "cell_type": "markdown",
   "id": "5ea838c9",
   "metadata": {},
   "source": [
    "The dataset contains 300 rows and 9 columns"
   ]
  },
  {
   "cell_type": "markdown",
   "id": "eb54436b",
   "metadata": {},
   "source": [
    "Now let's normalize the data\n",
    "- change the column name format to make easier to select each column. "
   ]
  },
  {
   "cell_type": "code",
   "execution_count": 74,
   "id": "e0dd5767",
   "metadata": {},
   "outputs": [],
   "source": [
    "columns_name = ['report_ending_weekly_starting','number_of_sessions',\n",
    "                 'average_session_length', 'number_of_unique_clients',\n",
    "                'tb_downloaded', 'tb_uploaded', 'cumulative_bandwidth',\n",
    "                'cumulative_sessions', 'cumulative_subscribers']"
   ]
  },
  {
   "cell_type": "code",
   "execution_count": 75,
   "id": "9dbc0e63",
   "metadata": {},
   "outputs": [],
   "source": [
    "df_weekly.columns = columns_name"
   ]
  },
  {
   "cell_type": "code",
   "execution_count": 76,
   "id": "7a21bc75",
   "metadata": {},
   "outputs": [
    {
     "data": {
      "text/html": [
       "<div>\n",
       "<style scoped>\n",
       "    .dataframe tbody tr th:only-of-type {\n",
       "        vertical-align: middle;\n",
       "    }\n",
       "\n",
       "    .dataframe tbody tr th {\n",
       "        vertical-align: top;\n",
       "    }\n",
       "\n",
       "    .dataframe thead th {\n",
       "        text-align: right;\n",
       "    }\n",
       "</style>\n",
       "<table border=\"1\" class=\"dataframe\">\n",
       "  <thead>\n",
       "    <tr style=\"text-align: right;\">\n",
       "      <th></th>\n",
       "      <th>report_ending_weekly_starting</th>\n",
       "      <th>number_of_sessions</th>\n",
       "      <th>average_session_length</th>\n",
       "      <th>number_of_unique_clients</th>\n",
       "      <th>tb_downloaded</th>\n",
       "      <th>tb_uploaded</th>\n",
       "      <th>cumulative_bandwidth</th>\n",
       "      <th>cumulative_sessions</th>\n",
       "      <th>cumulative_subscribers</th>\n",
       "    </tr>\n",
       "  </thead>\n",
       "  <tbody>\n",
       "    <tr>\n",
       "      <th>0</th>\n",
       "      <td>01/05/2020</td>\n",
       "      <td>23086410</td>\n",
       "      <td>00:04:07</td>\n",
       "      <td>683250</td>\n",
       "      <td>121.01</td>\n",
       "      <td>12.67</td>\n",
       "      <td>14353.83</td>\n",
       "      <td>2251215052</td>\n",
       "      <td>8461839</td>\n",
       "    </tr>\n",
       "    <tr>\n",
       "      <th>1</th>\n",
       "      <td>01/12/2020</td>\n",
       "      <td>23584159</td>\n",
       "      <td>00:04:07</td>\n",
       "      <td>640118</td>\n",
       "      <td>116.52</td>\n",
       "      <td>11.14</td>\n",
       "      <td>14501.59</td>\n",
       "      <td>2284581863</td>\n",
       "      <td>8502485</td>\n",
       "    </tr>\n",
       "    <tr>\n",
       "      <th>2</th>\n",
       "      <td>01/19/2020</td>\n",
       "      <td>22004022</td>\n",
       "      <td>00:04:07</td>\n",
       "      <td>592715</td>\n",
       "      <td>114.50</td>\n",
       "      <td>10.52</td>\n",
       "      <td>14626.62</td>\n",
       "      <td>2306585885</td>\n",
       "      <td>8536567</td>\n",
       "    </tr>\n",
       "    <tr>\n",
       "      <th>3</th>\n",
       "      <td>01/26/2020</td>\n",
       "      <td>20245042</td>\n",
       "      <td>00:04:15</td>\n",
       "      <td>602685</td>\n",
       "      <td>118.05</td>\n",
       "      <td>10.13</td>\n",
       "      <td>14754.79</td>\n",
       "      <td>2326830927</td>\n",
       "      <td>8571523</td>\n",
       "    </tr>\n",
       "    <tr>\n",
       "      <th>4</th>\n",
       "      <td>02/02/2020</td>\n",
       "      <td>22356460</td>\n",
       "      <td>00:04:11</td>\n",
       "      <td>617337</td>\n",
       "      <td>120.69</td>\n",
       "      <td>10.94</td>\n",
       "      <td>14886.42</td>\n",
       "      <td>2349187387</td>\n",
       "      <td>8615640</td>\n",
       "    </tr>\n",
       "  </tbody>\n",
       "</table>\n",
       "</div>"
      ],
      "text/plain": [
       "  report_ending_weekly_starting  number_of_sessions average_session_length  \\\n",
       "0                    01/05/2020            23086410               00:04:07   \n",
       "1                    01/12/2020            23584159               00:04:07   \n",
       "2                    01/19/2020            22004022               00:04:07   \n",
       "3                    01/26/2020            20245042               00:04:15   \n",
       "4                    02/02/2020            22356460               00:04:11   \n",
       "\n",
       "   number_of_unique_clients  tb_downloaded  tb_uploaded  cumulative_bandwidth  \\\n",
       "0                    683250         121.01        12.67              14353.83   \n",
       "1                    640118         116.52        11.14              14501.59   \n",
       "2                    592715         114.50        10.52              14626.62   \n",
       "3                    602685         118.05        10.13              14754.79   \n",
       "4                    617337         120.69        10.94              14886.42   \n",
       "\n",
       "   cumulative_sessions  cumulative_subscribers  \n",
       "0           2251215052                 8461839  \n",
       "1           2284581863                 8502485  \n",
       "2           2306585885                 8536567  \n",
       "3           2326830927                 8571523  \n",
       "4           2349187387                 8615640  "
      ]
     },
     "execution_count": 76,
     "metadata": {},
     "output_type": "execute_result"
    }
   ],
   "source": [
    "df_weekly.head()"
   ]
  },
  {
   "cell_type": "code",
   "execution_count": 77,
   "id": "f24a150d",
   "metadata": {},
   "outputs": [],
   "source": [
    "df_weekly['report_ending_weekly_starting'] = pd.to_datetime(df_weekly['report_ending_weekly_starting'], errors='coerce')"
   ]
  },
  {
   "cell_type": "code",
   "execution_count": 78,
   "id": "502c031f",
   "metadata": {},
   "outputs": [],
   "source": [
    "df_weekly['cohort'] = df_weekly['report_ending_weekly_starting'].dt.to_period('M')"
   ]
  },
  {
   "cell_type": "code",
   "execution_count": 79,
   "id": "9317fcc3",
   "metadata": {},
   "outputs": [],
   "source": [
    "cohort = df_weekly[df_weekly['cohort'] > '2022-07']"
   ]
  },
  {
   "cell_type": "code",
   "execution_count": 80,
   "id": "77fc03ac",
   "metadata": {},
   "outputs": [
    {
     "data": {
      "text/html": [
       "<div>\n",
       "<style scoped>\n",
       "    .dataframe tbody tr th:only-of-type {\n",
       "        vertical-align: middle;\n",
       "    }\n",
       "\n",
       "    .dataframe tbody tr th {\n",
       "        vertical-align: top;\n",
       "    }\n",
       "\n",
       "    .dataframe thead th {\n",
       "        text-align: right;\n",
       "    }\n",
       "</style>\n",
       "<table border=\"1\" class=\"dataframe\">\n",
       "  <thead>\n",
       "    <tr style=\"text-align: right;\">\n",
       "      <th></th>\n",
       "      <th>report_ending_weekly_starting</th>\n",
       "      <th>number_of_sessions</th>\n",
       "      <th>average_session_length</th>\n",
       "      <th>number_of_unique_clients</th>\n",
       "      <th>tb_downloaded</th>\n",
       "      <th>tb_uploaded</th>\n",
       "      <th>cumulative_bandwidth</th>\n",
       "      <th>cumulative_sessions</th>\n",
       "      <th>cumulative_subscribers</th>\n",
       "      <th>cohort</th>\n",
       "    </tr>\n",
       "  </thead>\n",
       "  <tbody>\n",
       "    <tr>\n",
       "      <th>135</th>\n",
       "      <td>2022-08-07</td>\n",
       "      <td>3668886</td>\n",
       "      <td>00:23:14</td>\n",
       "      <td>208261</td>\n",
       "      <td>106.21</td>\n",
       "      <td>18.23</td>\n",
       "      <td>27244.46</td>\n",
       "      <td>3095068353</td>\n",
       "      <td>11606145</td>\n",
       "      <td>2022-08</td>\n",
       "    </tr>\n",
       "    <tr>\n",
       "      <th>136</th>\n",
       "      <td>2022-08-14</td>\n",
       "      <td>3752859</td>\n",
       "      <td>00:23:40</td>\n",
       "      <td>214463</td>\n",
       "      <td>112.34</td>\n",
       "      <td>19.64</td>\n",
       "      <td>27368.90</td>\n",
       "      <td>3098737239</td>\n",
       "      <td>11655953</td>\n",
       "      <td>2022-08</td>\n",
       "    </tr>\n",
       "    <tr>\n",
       "      <th>137</th>\n",
       "      <td>2022-08-21</td>\n",
       "      <td>3296456</td>\n",
       "      <td>00:23:14</td>\n",
       "      <td>219238</td>\n",
       "      <td>96.87</td>\n",
       "      <td>15.99</td>\n",
       "      <td>27613.74</td>\n",
       "      <td>3105786554</td>\n",
       "      <td>11763607</td>\n",
       "      <td>2022-08</td>\n",
       "    </tr>\n",
       "    <tr>\n",
       "      <th>138</th>\n",
       "      <td>2022-08-28</td>\n",
       "      <td>4047052</td>\n",
       "      <td>00:23:12</td>\n",
       "      <td>226977</td>\n",
       "      <td>116.79</td>\n",
       "      <td>19.69</td>\n",
       "      <td>27750.22</td>\n",
       "      <td>3109833606</td>\n",
       "      <td>11819266</td>\n",
       "      <td>2022-08</td>\n",
       "    </tr>\n",
       "    <tr>\n",
       "      <th>139</th>\n",
       "      <td>2022-09-04</td>\n",
       "      <td>4055208</td>\n",
       "      <td>00:23:15</td>\n",
       "      <td>231135</td>\n",
       "      <td>119.57</td>\n",
       "      <td>20.07</td>\n",
       "      <td>27889.86</td>\n",
       "      <td>3113888814</td>\n",
       "      <td>11873405</td>\n",
       "      <td>2022-09</td>\n",
       "    </tr>\n",
       "  </tbody>\n",
       "</table>\n",
       "</div>"
      ],
      "text/plain": [
       "    report_ending_weekly_starting  number_of_sessions average_session_length  \\\n",
       "135                    2022-08-07             3668886               00:23:14   \n",
       "136                    2022-08-14             3752859               00:23:40   \n",
       "137                    2022-08-21             3296456               00:23:14   \n",
       "138                    2022-08-28             4047052               00:23:12   \n",
       "139                    2022-09-04             4055208               00:23:15   \n",
       "\n",
       "     number_of_unique_clients  tb_downloaded  tb_uploaded  \\\n",
       "135                    208261         106.21        18.23   \n",
       "136                    214463         112.34        19.64   \n",
       "137                    219238          96.87        15.99   \n",
       "138                    226977         116.79        19.69   \n",
       "139                    231135         119.57        20.07   \n",
       "\n",
       "     cumulative_bandwidth  cumulative_sessions  cumulative_subscribers  \\\n",
       "135              27244.46           3095068353                11606145   \n",
       "136              27368.90           3098737239                11655953   \n",
       "137              27613.74           3105786554                11763607   \n",
       "138              27750.22           3109833606                11819266   \n",
       "139              27889.86           3113888814                11873405   \n",
       "\n",
       "      cohort  \n",
       "135  2022-08  \n",
       "136  2022-08  \n",
       "137  2022-08  \n",
       "138  2022-08  \n",
       "139  2022-09  "
      ]
     },
     "execution_count": 80,
     "metadata": {},
     "output_type": "execute_result"
    }
   ],
   "source": [
    "cohort.head()"
   ]
  },
  {
   "cell_type": "markdown",
   "id": "264fffa6",
   "metadata": {},
   "source": [
    "Now let's check for missing data "
   ]
  },
  {
   "cell_type": "code",
   "execution_count": 81,
   "id": "b0ad233c",
   "metadata": {},
   "outputs": [
    {
     "data": {
      "text/plain": [
       "<Axes: >"
      ]
     },
     "execution_count": 81,
     "metadata": {},
     "output_type": "execute_result"
    },
    {
     "data": {
      "image/png": "[encoded data removed]",
      "text/plain": [
       "<Figure size 640x480 with 1 Axes>"
      ]
     },
     "metadata": {},
     "output_type": "display_data"
    }
   ],
   "source": [
    "cohort.isna().sum().plot(kind='bar')\n"
   ]
  },
  {
   "cell_type": "code",
   "execution_count": 82,
   "id": "155d5a77",
   "metadata": {},
   "outputs": [
    {
     "data": {
      "text/plain": [
       "np.int64(0)"
      ]
     },
     "execution_count": 82,
     "metadata": {},
     "output_type": "execute_result"
    }
   ],
   "source": [
    "cohort.duplicated().sum()\n"
   ]
  },
  {
   "cell_type": "markdown",
   "id": "d62a9c29",
   "metadata": {},
   "source": [
    "Perfect, there are no missing and duplicated value in the dataset. "
   ]
  },
  {
   "cell_type": "markdown",
   "id": "6941e30c",
   "metadata": {},
   "source": [
    "Now we are confident that any summary statistique that will result from this date will be accurate, and will not skew our results. "
   ]
  },
  {
   "cell_type": "markdown",
   "id": "ada6b608",
   "metadata": {},
   "source": [
    "Next step, quick summary statistique. "
   ]
  },
  {
   "cell_type": "code",
   "execution_count": 83,
   "id": "46790be9",
   "metadata": {},
   "outputs": [
    {
     "data": {
      "text/html": [
       "<div>\n",
       "<style scoped>\n",
       "    .dataframe tbody tr th:only-of-type {\n",
       "        vertical-align: middle;\n",
       "    }\n",
       "\n",
       "    .dataframe tbody tr th {\n",
       "        vertical-align: top;\n",
       "    }\n",
       "\n",
       "    .dataframe thead th {\n",
       "        text-align: right;\n",
       "    }\n",
       "</style>\n",
       "<table border=\"1\" class=\"dataframe\">\n",
       "  <thead>\n",
       "    <tr style=\"text-align: right;\">\n",
       "      <th></th>\n",
       "      <th>report_ending_weekly_starting</th>\n",
       "      <th>number_of_sessions</th>\n",
       "      <th>number_of_unique_clients</th>\n",
       "      <th>tb_downloaded</th>\n",
       "      <th>tb_uploaded</th>\n",
       "      <th>cumulative_bandwidth</th>\n",
       "      <th>cumulative_sessions</th>\n",
       "      <th>cumulative_subscribers</th>\n",
       "    </tr>\n",
       "  </thead>\n",
       "  <tbody>\n",
       "    <tr>\n",
       "      <th>count</th>\n",
       "      <td>165</td>\n",
       "      <td>1.650000e+02</td>\n",
       "      <td>165.000000</td>\n",
       "      <td>165.000000</td>\n",
       "      <td>165.000000</td>\n",
       "      <td>165.000000</td>\n",
       "      <td>1.650000e+02</td>\n",
       "      <td>1.650000e+02</td>\n",
       "    </tr>\n",
       "    <tr>\n",
       "      <th>mean</th>\n",
       "      <td>2024-03-03 00:26:10.909090816</td>\n",
       "      <td>4.469424e+06</td>\n",
       "      <td>259767.666667</td>\n",
       "      <td>136.053818</td>\n",
       "      <td>21.584848</td>\n",
       "      <td>39830.442667</td>\n",
       "      <td>3.457281e+09</td>\n",
       "      <td>1.542918e+07</td>\n",
       "    </tr>\n",
       "    <tr>\n",
       "      <th>min</th>\n",
       "      <td>2022-08-07 00:00:00</td>\n",
       "      <td>2.588382e+06</td>\n",
       "      <td>132672.000000</td>\n",
       "      <td>82.980000</td>\n",
       "      <td>13.280000</td>\n",
       "      <td>27244.460000</td>\n",
       "      <td>3.095068e+09</td>\n",
       "      <td>1.160614e+07</td>\n",
       "    </tr>\n",
       "    <tr>\n",
       "      <th>25%</th>\n",
       "      <td>2023-05-21 00:00:00</td>\n",
       "      <td>3.802487e+06</td>\n",
       "      <td>229566.000000</td>\n",
       "      <td>118.370000</td>\n",
       "      <td>18.990000</td>\n",
       "      <td>33892.760000</td>\n",
       "      <td>3.288657e+09</td>\n",
       "      <td>1.355120e+07</td>\n",
       "    </tr>\n",
       "    <tr>\n",
       "      <th>50%</th>\n",
       "      <td>2024-03-03 00:00:00</td>\n",
       "      <td>4.387957e+06</td>\n",
       "      <td>251609.000000</td>\n",
       "      <td>134.060000</td>\n",
       "      <td>20.730000</td>\n",
       "      <td>40473.230000</td>\n",
       "      <td>3.475821e+09</td>\n",
       "      <td>1.543872e+07</td>\n",
       "    </tr>\n",
       "    <tr>\n",
       "      <th>75%</th>\n",
       "      <td>2024-12-15 00:00:00</td>\n",
       "      <td>4.978319e+06</td>\n",
       "      <td>297622.000000</td>\n",
       "      <td>149.410000</td>\n",
       "      <td>23.630000</td>\n",
       "      <td>46734.480000</td>\n",
       "      <td>3.655956e+09</td>\n",
       "      <td>1.730408e+07</td>\n",
       "    </tr>\n",
       "    <tr>\n",
       "      <th>max</th>\n",
       "      <td>2025-09-28 00:00:00</td>\n",
       "      <td>7.998999e+06</td>\n",
       "      <td>402345.000000</td>\n",
       "      <td>245.600000</td>\n",
       "      <td>38.410000</td>\n",
       "      <td>52081.130000</td>\n",
       "      <td>3.803278e+09</td>\n",
       "      <td>1.947958e+07</td>\n",
       "    </tr>\n",
       "    <tr>\n",
       "      <th>std</th>\n",
       "      <td>NaN</td>\n",
       "      <td>8.361642e+05</td>\n",
       "      <td>39495.760554</td>\n",
       "      <td>26.194428</td>\n",
       "      <td>4.120660</td>\n",
       "      <td>7718.958856</td>\n",
       "      <td>2.216232e+08</td>\n",
       "      <td>2.236936e+06</td>\n",
       "    </tr>\n",
       "  </tbody>\n",
       "</table>\n",
       "</div>"
      ],
      "text/plain": [
       "       report_ending_weekly_starting  number_of_sessions  \\\n",
       "count                            165        1.650000e+02   \n",
       "mean   2024-03-03 00:26:10.909090816        4.469424e+06   \n",
       "min              2022-08-07 00:00:00        2.588382e+06   \n",
       "25%              2023-05-21 00:00:00        3.802487e+06   \n",
       "50%              2024-03-03 00:00:00        4.387957e+06   \n",
       "75%              2024-12-15 00:00:00        4.978319e+06   \n",
       "max              2025-09-28 00:00:00        7.998999e+06   \n",
       "std                              NaN        8.361642e+05   \n",
       "\n",
       "       number_of_unique_clients  tb_downloaded  tb_uploaded  \\\n",
       "count                165.000000     165.000000   165.000000   \n",
       "mean              259767.666667     136.053818    21.584848   \n",
       "min               132672.000000      82.980000    13.280000   \n",
       "25%               229566.000000     118.370000    18.990000   \n",
       "50%               251609.000000     134.060000    20.730000   \n",
       "75%               297622.000000     149.410000    23.630000   \n",
       "max               402345.000000     245.600000    38.410000   \n",
       "std                39495.760554      26.194428     4.120660   \n",
       "\n",
       "       cumulative_bandwidth  cumulative_sessions  cumulative_subscribers  \n",
       "count            165.000000         1.650000e+02            1.650000e+02  \n",
       "mean           39830.442667         3.457281e+09            1.542918e+07  \n",
       "min            27244.460000         3.095068e+09            1.160614e+07  \n",
       "25%            33892.760000         3.288657e+09            1.355120e+07  \n",
       "50%            40473.230000         3.475821e+09            1.543872e+07  \n",
       "75%            46734.480000         3.655956e+09            1.730408e+07  \n",
       "max            52081.130000         3.803278e+09            1.947958e+07  \n",
       "std             7718.958856         2.216232e+08            2.236936e+06  "
      ]
     },
     "execution_count": 83,
     "metadata": {},
     "output_type": "execute_result"
    }
   ],
   "source": [
    "cohort.describe()"
   ]
  },
  {
   "cell_type": "markdown",
   "id": "7b05a6ee",
   "metadata": {},
   "source": [
    "Let's change `the report ending weekly starting` to datetime"
   ]
  },
  {
   "cell_type": "code",
   "execution_count": 84,
   "id": "20b7ee91",
   "metadata": {},
   "outputs": [
    {
     "name": "stdout",
     "output_type": "stream",
     "text": [
      "<class 'pandas.core.frame.DataFrame'>\n",
      "Index: 165 entries, 135 to 299\n",
      "Data columns (total 10 columns):\n",
      " #   Column                         Non-Null Count  Dtype         \n",
      "---  ------                         --------------  -----         \n",
      " 0   report_ending_weekly_starting  165 non-null    datetime64[ns]\n",
      " 1   number_of_sessions             165 non-null    int64         \n",
      " 2   average_session_length         165 non-null    object        \n",
      " 3   number_of_unique_clients       165 non-null    int64         \n",
      " 4   tb_downloaded                  165 non-null    float64       \n",
      " 5   tb_uploaded                    165 non-null    float64       \n",
      " 6   cumulative_bandwidth           165 non-null    float64       \n",
      " 7   cumulative_sessions            165 non-null    int64         \n",
      " 8   cumulative_subscribers         165 non-null    int64         \n",
      " 9   cohort                         165 non-null    period[M]     \n",
      "dtypes: datetime64[ns](1), float64(3), int64(4), object(1), period[M](1)\n",
      "memory usage: 14.2+ KB\n"
     ]
    }
   ],
   "source": [
    "cohort.info()"
   ]
  },
  {
   "cell_type": "markdown",
   "id": "d90c87ea",
   "metadata": {},
   "source": [
    "Let's create two new series for sessions per users and GB per session to indicates session intensity"
   ]
  },
  {
   "cell_type": "code",
   "execution_count": 85,
   "id": "3995f52c",
   "metadata": {},
   "outputs": [
    {
     "name": "stderr",
     "output_type": "stream",
     "text": [
      "/var/folders/h0/75t8pd8571n2l1zzjcyqp7kh0000gp/T/ipykernel_57904/756953019.py:1: SettingWithCopyWarning: \n",
      "A value is trying to be set on a copy of a slice from a DataFrame.\n",
      "Try using .loc[row_indexer,col_indexer] = value instead\n",
      "\n",
      "See the caveats in the documentation: https://pandas.pydata.org/pandas-docs/stable/user_guide/indexing.html#returning-a-view-versus-a-copy\n",
      "  cohort['sessions_per_user'] = cohort['number_of_sessions'] / cohort['number_of_unique_clients']\n",
      "/var/folders/h0/75t8pd8571n2l1zzjcyqp7kh0000gp/T/ipykernel_57904/756953019.py:2: SettingWithCopyWarning: \n",
      "A value is trying to be set on a copy of a slice from a DataFrame.\n",
      "Try using .loc[row_indexer,col_indexer] = value instead\n",
      "\n",
      "See the caveats in the documentation: https://pandas.pydata.org/pandas-docs/stable/user_guide/indexing.html#returning-a-view-versus-a-copy\n",
      "  cohort['GB_per_session'] = ((cohort['tb_downloaded'] + cohort['tb_uploaded']) / cohort['number_of_sessions']) * 1000\n"
     ]
    }
   ],
   "source": [
    "cohort['sessions_per_user'] = cohort['number_of_sessions'] / cohort['number_of_unique_clients']\n",
    "cohort['GB_per_session'] = ((cohort['tb_downloaded'] + cohort['tb_uploaded']) / cohort['number_of_sessions']) * 1000"
   ]
  },
  {
   "cell_type": "code",
   "execution_count": 86,
   "id": "43c9c04f",
   "metadata": {},
   "outputs": [
    {
     "data": {
      "text/html": [
       "<div>\n",
       "<style scoped>\n",
       "    .dataframe tbody tr th:only-of-type {\n",
       "        vertical-align: middle;\n",
       "    }\n",
       "\n",
       "    .dataframe tbody tr th {\n",
       "        vertical-align: top;\n",
       "    }\n",
       "\n",
       "    .dataframe thead th {\n",
       "        text-align: right;\n",
       "    }\n",
       "</style>\n",
       "<table border=\"1\" class=\"dataframe\">\n",
       "  <thead>\n",
       "    <tr style=\"text-align: right;\">\n",
       "      <th></th>\n",
       "      <th>report_ending_weekly_starting</th>\n",
       "      <th>number_of_sessions</th>\n",
       "      <th>average_session_length</th>\n",
       "      <th>number_of_unique_clients</th>\n",
       "      <th>tb_downloaded</th>\n",
       "      <th>tb_uploaded</th>\n",
       "      <th>cumulative_bandwidth</th>\n",
       "      <th>cumulative_sessions</th>\n",
       "      <th>cumulative_subscribers</th>\n",
       "      <th>cohort</th>\n",
       "      <th>sessions_per_user</th>\n",
       "      <th>GB_per_session</th>\n",
       "    </tr>\n",
       "  </thead>\n",
       "  <tbody>\n",
       "    <tr>\n",
       "      <th>135</th>\n",
       "      <td>2022-08-07</td>\n",
       "      <td>3668886</td>\n",
       "      <td>00:23:14</td>\n",
       "      <td>208261</td>\n",
       "      <td>106.21</td>\n",
       "      <td>18.23</td>\n",
       "      <td>27244.46</td>\n",
       "      <td>3095068353</td>\n",
       "      <td>11606145</td>\n",
       "      <td>2022-08</td>\n",
       "      <td>17.616769</td>\n",
       "      <td>0.033918</td>\n",
       "    </tr>\n",
       "    <tr>\n",
       "      <th>136</th>\n",
       "      <td>2022-08-14</td>\n",
       "      <td>3752859</td>\n",
       "      <td>00:23:40</td>\n",
       "      <td>214463</td>\n",
       "      <td>112.34</td>\n",
       "      <td>19.64</td>\n",
       "      <td>27368.90</td>\n",
       "      <td>3098737239</td>\n",
       "      <td>11655953</td>\n",
       "      <td>2022-08</td>\n",
       "      <td>17.498865</td>\n",
       "      <td>0.035168</td>\n",
       "    </tr>\n",
       "    <tr>\n",
       "      <th>137</th>\n",
       "      <td>2022-08-21</td>\n",
       "      <td>3296456</td>\n",
       "      <td>00:23:14</td>\n",
       "      <td>219238</td>\n",
       "      <td>96.87</td>\n",
       "      <td>15.99</td>\n",
       "      <td>27613.74</td>\n",
       "      <td>3105786554</td>\n",
       "      <td>11763607</td>\n",
       "      <td>2022-08</td>\n",
       "      <td>15.035970</td>\n",
       "      <td>0.034237</td>\n",
       "    </tr>\n",
       "    <tr>\n",
       "      <th>138</th>\n",
       "      <td>2022-08-28</td>\n",
       "      <td>4047052</td>\n",
       "      <td>00:23:12</td>\n",
       "      <td>226977</td>\n",
       "      <td>116.79</td>\n",
       "      <td>19.69</td>\n",
       "      <td>27750.22</td>\n",
       "      <td>3109833606</td>\n",
       "      <td>11819266</td>\n",
       "      <td>2022-08</td>\n",
       "      <td>17.830229</td>\n",
       "      <td>0.033723</td>\n",
       "    </tr>\n",
       "    <tr>\n",
       "      <th>139</th>\n",
       "      <td>2022-09-04</td>\n",
       "      <td>4055208</td>\n",
       "      <td>00:23:15</td>\n",
       "      <td>231135</td>\n",
       "      <td>119.57</td>\n",
       "      <td>20.07</td>\n",
       "      <td>27889.86</td>\n",
       "      <td>3113888814</td>\n",
       "      <td>11873405</td>\n",
       "      <td>2022-09</td>\n",
       "      <td>17.544760</td>\n",
       "      <td>0.034435</td>\n",
       "    </tr>\n",
       "  </tbody>\n",
       "</table>\n",
       "</div>"
      ],
      "text/plain": [
       "    report_ending_weekly_starting  number_of_sessions average_session_length  \\\n",
       "135                    2022-08-07             3668886               00:23:14   \n",
       "136                    2022-08-14             3752859               00:23:40   \n",
       "137                    2022-08-21             3296456               00:23:14   \n",
       "138                    2022-08-28             4047052               00:23:12   \n",
       "139                    2022-09-04             4055208               00:23:15   \n",
       "\n",
       "     number_of_unique_clients  tb_downloaded  tb_uploaded  \\\n",
       "135                    208261         106.21        18.23   \n",
       "136                    214463         112.34        19.64   \n",
       "137                    219238          96.87        15.99   \n",
       "138                    226977         116.79        19.69   \n",
       "139                    231135         119.57        20.07   \n",
       "\n",
       "     cumulative_bandwidth  cumulative_sessions  cumulative_subscribers  \\\n",
       "135              27244.46           3095068353                11606145   \n",
       "136              27368.90           3098737239                11655953   \n",
       "137              27613.74           3105786554                11763607   \n",
       "138              27750.22           3109833606                11819266   \n",
       "139              27889.86           3113888814                11873405   \n",
       "\n",
       "      cohort  sessions_per_user  GB_per_session  \n",
       "135  2022-08          17.616769        0.033918  \n",
       "136  2022-08          17.498865        0.035168  \n",
       "137  2022-08          15.035970        0.034237  \n",
       "138  2022-08          17.830229        0.033723  \n",
       "139  2022-09          17.544760        0.034435  "
      ]
     },
     "execution_count": 86,
     "metadata": {},
     "output_type": "execute_result"
    }
   ],
   "source": [
    "cohort.head()"
   ]
  },
  {
   "cell_type": "markdown",
   "id": "d3665c5d",
   "metadata": {},
   "source": [
    "Now let's identify `Outliers`"
   ]
  },
  {
   "cell_type": "code",
   "execution_count": 87,
   "id": "b9ffc013",
   "metadata": {},
   "outputs": [
    {
     "name": "stdout",
     "output_type": "stream",
     "text": [
      "Outliers: [7011479, 7303526, 7426039, 7998999]\n"
     ]
    },
    {
     "data": {
      "image/png": "[encoded data removed]",
      "text/plain": [
       "<Figure size 800x600 with 1 Axes>"
      ]
     },
     "metadata": {},
     "output_type": "display_data"
    },
    {
     "name": "stdout",
     "output_type": "stream",
     "text": [
      "Outliers: [402345]\n"
     ]
    },
    {
     "data": {
      "image/png": "[encoded data removed]",
      "text/plain": [
       "<Figure size 800x600 with 1 Axes>"
      ]
     },
     "metadata": {},
     "output_type": "display_data"
    },
    {
     "name": "stdout",
     "output_type": "stream",
     "text": [
      "Outliers: [209.27, 245.6, 198.45, 206.64, 213.62, 220.02, 236.58]\n"
     ]
    },
    {
     "data": {
      "image/png": "[encoded data removed]",
      "text/plain": [
       "<Figure size 800x600 with 1 Axes>"
      ]
     },
     "metadata": {},
     "output_type": "display_data"
    },
    {
     "name": "stdout",
     "output_type": "stream",
     "text": [
      "Outliers: []\n"
     ]
    },
    {
     "data": {
      "image/png": "[encoded data removed]",
      "text/plain": [
       "<Figure size 800x600 with 1 Axes>"
      ]
     },
     "metadata": {},
     "output_type": "display_data"
    }
   ],
   "source": [
    "outliers_check = ['number_of_sessions', 'number_of_unique_clients', 'tb_downloaded', 'cumulative_subscribers']\n",
    "for _ in outliers_check:\n",
    "    Q1 = np.percentile(cohort[_], 25)\n",
    "    Q3 = np.percentile(cohort[_], 75)\n",
    "    IQR = Q3 - Q1\n",
    "    lower_bound = Q1 - (1.5 * IQR)\n",
    "    upper_bound = Q3 + (1.5 * IQR)\n",
    "    outliers = [x for x in cohort[_] if x < lower_bound or x > upper_bound]\n",
    "    print(f\"Outliers: {outliers}\")\n",
    "\n",
    "    import matplotlib.pyplot as plt\n",
    "    import seaborn as sns\n",
    "\n",
    "    plt.figure(figsize=(8, 6))\n",
    "    sns.boxplot(data=cohort[_])\n",
    "    plt.title(\"Box Plot with Outliers\")\n",
    "    plt.show()"
   ]
  },
  {
   "cell_type": "markdown",
   "id": "328407b8",
   "metadata": {},
   "source": [
    "As we can see in the graphs, there are a lot of outliers in the number of session per week, unique users and the amount of TB downloaded. Before contuning further let's tranform the data to be normally distributed. "
   ]
  },
  {
   "cell_type": "code",
   "execution_count": 88,
   "id": "0898c58e",
   "metadata": {},
   "outputs": [
    {
     "name": "stderr",
     "output_type": "stream",
     "text": [
      "/var/folders/h0/75t8pd8571n2l1zzjcyqp7kh0000gp/T/ipykernel_57904/2672680916.py:1: SettingWithCopyWarning: \n",
      "A value is trying to be set on a copy of a slice from a DataFrame.\n",
      "Try using .loc[row_indexer,col_indexer] = value instead\n",
      "\n",
      "See the caveats in the documentation: https://pandas.pydata.org/pandas-docs/stable/user_guide/indexing.html#returning-a-view-versus-a-copy\n",
      "  cohort['log_number_of_sessions'] = np.log(cohort['number_of_sessions'])\n",
      "/var/folders/h0/75t8pd8571n2l1zzjcyqp7kh0000gp/T/ipykernel_57904/2672680916.py:2: SettingWithCopyWarning: \n",
      "A value is trying to be set on a copy of a slice from a DataFrame.\n",
      "Try using .loc[row_indexer,col_indexer] = value instead\n",
      "\n",
      "See the caveats in the documentation: https://pandas.pydata.org/pandas-docs/stable/user_guide/indexing.html#returning-a-view-versus-a-copy\n",
      "  cohort['log_number_of_unique_clients'] = np.log(cohort['number_of_unique_clients'])\n",
      "/var/folders/h0/75t8pd8571n2l1zzjcyqp7kh0000gp/T/ipykernel_57904/2672680916.py:3: SettingWithCopyWarning: \n",
      "A value is trying to be set on a copy of a slice from a DataFrame.\n",
      "Try using .loc[row_indexer,col_indexer] = value instead\n",
      "\n",
      "See the caveats in the documentation: https://pandas.pydata.org/pandas-docs/stable/user_guide/indexing.html#returning-a-view-versus-a-copy\n",
      "  cohort['log_tb_downloaded'] = np.log(cohort['tb_downloaded'])\n"
     ]
    }
   ],
   "source": [
    "cohort['log_number_of_sessions'] = np.log(cohort['number_of_sessions'])\n",
    "cohort['log_number_of_unique_clients'] = np.log(cohort['number_of_unique_clients'])\n",
    "cohort['log_tb_downloaded'] = np.log(cohort['tb_downloaded'])"
   ]
  },
  {
   "cell_type": "code",
   "execution_count": 89,
   "id": "e0e7bce1",
   "metadata": {},
   "outputs": [
    {
     "data": {
      "image/png": "[encoded data removed]",
      "text/plain": [
       "<Figure size 1600x900 with 6 Axes>"
      ]
     },
     "metadata": {},
     "output_type": "display_data"
    }
   ],
   "source": [
    "plt.figure(figsize=(16,9))\n",
    "\n",
    "plt.subplot(3, 2, 1)\n",
    "cohort['number_of_sessions'].hist(bins=50)\n",
    "plt.title(\"Original Number of Session\")\n",
    "\n",
    "plt.subplot(3, 2, 2)\n",
    "cohort['log_number_of_sessions'].hist(bins=50)\n",
    "plt.title(\"Log-Transformed\")\n",
    "\n",
    "plt.subplot(3, 2, 3)\n",
    "cohort['number_of_unique_clients'].hist(bins=50)\n",
    "plt.title(\"Original Number of Unique Client\")\n",
    "\n",
    "plt.subplot(3, 2, 4)\n",
    "cohort['log_number_of_unique_clients'].hist(bins=50)\n",
    "plt.title(\"Log-Transformed\")\n",
    "\n",
    "plt.subplot(3, 2, 5)\n",
    "cohort['tb_downloaded'].hist(bins=50)\n",
    "plt.title(\"Original TB Downloaded\")\n",
    "\n",
    "plt.subplot(3, 2, 6)\n",
    "cohort['log_number_of_unique_clients'].hist(bins=50)\n",
    "plt.title(\"Log-Transformed\")\n",
    "\n",
    "plt.tight_layout()\n",
    "plt.show()"
   ]
  },
  {
   "cell_type": "code",
   "execution_count": 90,
   "id": "37ac40b4",
   "metadata": {},
   "outputs": [
    {
     "name": "stderr",
     "output_type": "stream",
     "text": [
      "/var/folders/h0/75t8pd8571n2l1zzjcyqp7kh0000gp/T/ipykernel_57904/2541390615.py:2: SettingWithCopyWarning: \n",
      "A value is trying to be set on a copy of a slice from a DataFrame.\n",
      "Try using .loc[row_indexer,col_indexer] = value instead\n",
      "\n",
      "See the caveats in the documentation: https://pandas.pydata.org/pandas-docs/stable/user_guide/indexing.html#returning-a-view-versus-a-copy\n",
      "  cohort['month'] = cohort['report_ending_weekly_starting'].dt.month\n",
      "/var/folders/h0/75t8pd8571n2l1zzjcyqp7kh0000gp/T/ipykernel_57904/2541390615.py:9: MatplotlibDeprecationWarning: The 'labels' parameter of boxplot() has been renamed 'tick_labels' since Matplotlib 3.9; support for the old name will be dropped in 3.11.\n",
      "  plt.boxplot(data_for_box, labels=[str(m) for m in weeks])\n"
     ]
    },
    {
     "data": {
      "image/png": "[encoded data removed]",
      "text/plain": [
       "<Figure size 1000x400 with 1 Axes>"
      ]
     },
     "metadata": {},
     "output_type": "display_data"
    }
   ],
   "source": [
    "if not cohort.empty:\n",
    "    cohort['month'] = cohort['report_ending_weekly_starting'].dt.month\n",
    "    monthly = cohort.groupby('month').agg(users_median=('number_of_unique_clients','median'), sessions_median=('number_of_sessions','median'), gb_median=('cumulative_bandwidth','median')).reset_index()\n",
    "    # boxplot of sessions by week\n",
    "    weeks = sorted(cohort['month'].unique())\n",
    "    data_for_box = [cohort[cohort['month']==m]['number_of_sessions'].dropna() for m in weeks]\n",
    "    if any(len(x)>0 for x in data_for_box):\n",
    "        plt.figure(figsize=(10,4))\n",
    "        plt.boxplot(data_for_box, labels=[str(m) for m in weeks])\n",
    "        plt.title(\"Weekly sessions distribution by Month\")\n",
    "        plt.xlabel(\"Months\"); plt.ylabel(\"sessions\"); plt.tight_layout(); plt.show()"
   ]
  },
  {
   "cell_type": "code",
   "execution_count": 91,
   "id": "f0e946ed",
   "metadata": {},
   "outputs": [],
   "source": [
    "df_weekly['cohort'] = df_weekly['report_ending_weekly_starting'].dt.to_period('M')"
   ]
  },
  {
   "cell_type": "code",
   "execution_count": 92,
   "id": "44b4af9b",
   "metadata": {},
   "outputs": [
    {
     "data": {
      "text/html": [
       "<div>\n",
       "<style scoped>\n",
       "    .dataframe tbody tr th:only-of-type {\n",
       "        vertical-align: middle;\n",
       "    }\n",
       "\n",
       "    .dataframe tbody tr th {\n",
       "        vertical-align: top;\n",
       "    }\n",
       "\n",
       "    .dataframe thead th {\n",
       "        text-align: right;\n",
       "    }\n",
       "</style>\n",
       "<table border=\"1\" class=\"dataframe\">\n",
       "  <thead>\n",
       "    <tr style=\"text-align: right;\">\n",
       "      <th></th>\n",
       "      <th>report_ending_weekly_starting</th>\n",
       "      <th>number_of_sessions</th>\n",
       "      <th>average_session_length</th>\n",
       "      <th>number_of_unique_clients</th>\n",
       "      <th>tb_downloaded</th>\n",
       "      <th>tb_uploaded</th>\n",
       "      <th>cumulative_bandwidth</th>\n",
       "      <th>cumulative_sessions</th>\n",
       "      <th>cumulative_subscribers</th>\n",
       "      <th>cohort</th>\n",
       "      <th>sessions_per_user</th>\n",
       "      <th>GB_per_session</th>\n",
       "      <th>log_number_of_sessions</th>\n",
       "      <th>log_number_of_unique_clients</th>\n",
       "      <th>log_tb_downloaded</th>\n",
       "      <th>month</th>\n",
       "    </tr>\n",
       "  </thead>\n",
       "  <tbody>\n",
       "    <tr>\n",
       "      <th>135</th>\n",
       "      <td>2022-08-07</td>\n",
       "      <td>3668886</td>\n",
       "      <td>00:23:14</td>\n",
       "      <td>208261</td>\n",
       "      <td>106.21</td>\n",
       "      <td>18.23</td>\n",
       "      <td>27244.46</td>\n",
       "      <td>3095068353</td>\n",
       "      <td>11606145</td>\n",
       "      <td>2022-08</td>\n",
       "      <td>17.616769</td>\n",
       "      <td>0.033918</td>\n",
       "      <td>15.115399</td>\n",
       "      <td>12.246547</td>\n",
       "      <td>4.665418</td>\n",
       "      <td>8</td>\n",
       "    </tr>\n",
       "    <tr>\n",
       "      <th>136</th>\n",
       "      <td>2022-08-14</td>\n",
       "      <td>3752859</td>\n",
       "      <td>00:23:40</td>\n",
       "      <td>214463</td>\n",
       "      <td>112.34</td>\n",
       "      <td>19.64</td>\n",
       "      <td>27368.90</td>\n",
       "      <td>3098737239</td>\n",
       "      <td>11655953</td>\n",
       "      <td>2022-08</td>\n",
       "      <td>17.498865</td>\n",
       "      <td>0.035168</td>\n",
       "      <td>15.138029</td>\n",
       "      <td>12.275893</td>\n",
       "      <td>4.721530</td>\n",
       "      <td>8</td>\n",
       "    </tr>\n",
       "    <tr>\n",
       "      <th>137</th>\n",
       "      <td>2022-08-21</td>\n",
       "      <td>3296456</td>\n",
       "      <td>00:23:14</td>\n",
       "      <td>219238</td>\n",
       "      <td>96.87</td>\n",
       "      <td>15.99</td>\n",
       "      <td>27613.74</td>\n",
       "      <td>3105786554</td>\n",
       "      <td>11763607</td>\n",
       "      <td>2022-08</td>\n",
       "      <td>15.035970</td>\n",
       "      <td>0.034237</td>\n",
       "      <td>15.008359</td>\n",
       "      <td>12.297913</td>\n",
       "      <td>4.573370</td>\n",
       "      <td>8</td>\n",
       "    </tr>\n",
       "    <tr>\n",
       "      <th>138</th>\n",
       "      <td>2022-08-28</td>\n",
       "      <td>4047052</td>\n",
       "      <td>00:23:12</td>\n",
       "      <td>226977</td>\n",
       "      <td>116.79</td>\n",
       "      <td>19.69</td>\n",
       "      <td>27750.22</td>\n",
       "      <td>3109833606</td>\n",
       "      <td>11819266</td>\n",
       "      <td>2022-08</td>\n",
       "      <td>17.830229</td>\n",
       "      <td>0.033723</td>\n",
       "      <td>15.213499</td>\n",
       "      <td>12.332604</td>\n",
       "      <td>4.760377</td>\n",
       "      <td>8</td>\n",
       "    </tr>\n",
       "    <tr>\n",
       "      <th>139</th>\n",
       "      <td>2022-09-04</td>\n",
       "      <td>4055208</td>\n",
       "      <td>00:23:15</td>\n",
       "      <td>231135</td>\n",
       "      <td>119.57</td>\n",
       "      <td>20.07</td>\n",
       "      <td>27889.86</td>\n",
       "      <td>3113888814</td>\n",
       "      <td>11873405</td>\n",
       "      <td>2022-09</td>\n",
       "      <td>17.544760</td>\n",
       "      <td>0.034435</td>\n",
       "      <td>15.215513</td>\n",
       "      <td>12.350757</td>\n",
       "      <td>4.783902</td>\n",
       "      <td>9</td>\n",
       "    </tr>\n",
       "  </tbody>\n",
       "</table>\n",
       "</div>"
      ],
      "text/plain": [
       "    report_ending_weekly_starting  number_of_sessions average_session_length  \\\n",
       "135                    2022-08-07             3668886               00:23:14   \n",
       "136                    2022-08-14             3752859               00:23:40   \n",
       "137                    2022-08-21             3296456               00:23:14   \n",
       "138                    2022-08-28             4047052               00:23:12   \n",
       "139                    2022-09-04             4055208               00:23:15   \n",
       "\n",
       "     number_of_unique_clients  tb_downloaded  tb_uploaded  \\\n",
       "135                    208261         106.21        18.23   \n",
       "136                    214463         112.34        19.64   \n",
       "137                    219238          96.87        15.99   \n",
       "138                    226977         116.79        19.69   \n",
       "139                    231135         119.57        20.07   \n",
       "\n",
       "     cumulative_bandwidth  cumulative_sessions  cumulative_subscribers  \\\n",
       "135              27244.46           3095068353                11606145   \n",
       "136              27368.90           3098737239                11655953   \n",
       "137              27613.74           3105786554                11763607   \n",
       "138              27750.22           3109833606                11819266   \n",
       "139              27889.86           3113888814                11873405   \n",
       "\n",
       "      cohort  sessions_per_user  GB_per_session  log_number_of_sessions  \\\n",
       "135  2022-08          17.616769        0.033918               15.115399   \n",
       "136  2022-08          17.498865        0.035168               15.138029   \n",
       "137  2022-08          15.035970        0.034237               15.008359   \n",
       "138  2022-08          17.830229        0.033723               15.213499   \n",
       "139  2022-09          17.544760        0.034435               15.215513   \n",
       "\n",
       "     log_number_of_unique_clients  log_tb_downloaded  month  \n",
       "135                     12.246547           4.665418      8  \n",
       "136                     12.275893           4.721530      8  \n",
       "137                     12.297913           4.573370      8  \n",
       "138                     12.332604           4.760377      8  \n",
       "139                     12.350757           4.783902      9  "
      ]
     },
     "execution_count": 92,
     "metadata": {},
     "output_type": "execute_result"
    }
   ],
   "source": [
    "cohort.head()"
   ]
  },
  {
   "cell_type": "code",
   "execution_count": 93,
   "id": "042183df",
   "metadata": {},
   "outputs": [],
   "source": [
    "cohort.to_csv('../data/clean/LinkNYC_Weekly_Usage_cleaned_2022-current.csv', index=False)"
   ]
  },
  {
   "cell_type": "markdown",
   "id": "c9e74fa8",
   "metadata": {},
   "source": [
    "### Summary\n",
    "1. Normalize the data\n",
    "    - change the column name format to make easier to select each column.\n",
    "    - check for missing and duplicated data\n",
    "2. `Datetime` normalization\n",
    "    - change the data type to datetime \n",
    "    - Check for missing week bins (gaps in the calendar). Missing weeks make rolling/seasonal calculations biased; I detected gaps during EDA\n",
    "3. created some useful features\n",
    "    - `sessions_per_user = number_of_sessions / number_of_unique_clients`\n",
    "    Why: shows frequency of return/connect per person. High values -> repeated interactions (good for repeated ad exposure).\n",
    "    - `GB_per_session = ((tb_downloaded + tb_uploaded) ÷ number_of_sessions) * 1000`\n",
    "    Why: indicates session intensity or media consumption; if it's higher → stronger ad viewability potential.\n",
    "4. Data quality & outlier handling\n",
    "    - Outliers detected by `IQR` (sessions, users, data)\n",
    "    - Outliers detected in the `number of session per week`, `unique users` and `cumulative_bandwidth`.\n",
    "    - Tranformed the data to be normally distributed.  \n",
    "\n",
    "### What to look for next (Seasonality & patterns)\n",
    "- Expect weekly/seasonal patterns: summer tourism, holiday shopping, weather extremes, and city events are common drivers. Use weekly boxplots to surface recurring seasonality.\n",
    "- Inspect and find recurring peaks\n",
    "### Why these KPIs:\n",
    "- weekly active users is an essential metric to know the audience size by week.\n",
    "- Sessions per user measures repeat engagement and potential repeat ad exposures per person. High value indicates a captive audience and justifies how much to invest for each ad campaign.\n",
    "- GB per session (or average session length) — intensity metric; higher values mean longer or richer interactions (video/audio), which can be marketed to sponsors as deeper engagement."
   ]
  }
 ],
 "metadata": {
  "kernelspec": {
   "display_name": "data-analysis-env",
   "language": "python",
   "name": "python3"
  },
  "language_info": {
   "codemirror_mode": {
    "name": "ipython",
    "version": 3
   },
   "file_extension": ".py",
   "mimetype": "text/x-python",
   "name": "python",
   "nbconvert_exporter": "python",
   "pygments_lexer": "ipython3",
   "version": "3.9.22"
  }
 },
 "nbformat": 4,
 "nbformat_minor": 5
}
